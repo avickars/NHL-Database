{
 "cells": [
  {
   "cell_type": "code",
   "execution_count": 26,
   "id": "conditional-reliance",
   "metadata": {
    "pycharm": {
     "is_executing": true
    }
   },
   "outputs": [],
   "source": [
    "import pandas as pd\n",
    "from SQLCode import DatabaseConnection\n",
    "from SQLCode import DatabaseCredentials as DBC\n",
    "import numpy as np\n",
    "import datetime\n",
    "from datetime import date"
   ]
  },
  {
   "cell_type": "code",
   "execution_count": 27,
   "id": "forward-copper",
   "metadata": {
    "pycharm": {
     "is_executing": true
    }
   },
   "outputs": [],
   "source": [
    "# Opening connection\n",
    "creds = DBC.DataBaseCredentials()\n",
    "conn = DatabaseConnection.sql_connection(creds.server, creds.database, creds.user, creds.password)\n",
    "connection = conn.open()\n",
    "cursor = connection.cursor()"
   ]
  },
  {
   "cell_type": "code",
   "execution_count": 28,
   "id": "weekly-polymer",
   "metadata": {
    "pycharm": {
     "is_executing": true
    }
   },
   "outputs": [],
   "source": [
    "# Getting the most recent run\n",
    "mostRecentRun = pd.read_sql_query(\"select date from script_execution where script = 'get_new_consolidated_gims' order by date desc limit 1\",\n",
    "                                  connection)\n",
    "\n",
    "# If we've never run it before, we start from the beginning\n",
    "if len(mostRecentRun) == 0:\n",
    "    date_time_str = '2000-10-04 01:55:19'\n",
    "    mostRecentRun = datetime.datetime.strptime(date_time_str, \"%Y-%m-%d %H:%M:%S\")\n",
    "    mostRecentRun = mostRecentRun.date()\n",
    "else:\n",
    "    # Otherwise just converting it into sql form\n",
    "    # Converting it from np.datetime64 to datetime\n",
    "    # CITATION: https://stackoverflow.com/questions/13703720/converting-between-datetime-timestamp-and-datetime64\n",
    "    mostRecentRun = (mostRecentRun['date'].values[0] - np.datetime64('1970-01-01T00:00:00Z')) / np.timedelta64(1, 's')\n",
    "    mostRecentRun = datetime.datetime.utcfromtimestamp(mostRecentRun)  # Adding one day on since we already ran it\n",
    "    mostRecentRun = mostRecentRun.date()"
   ]
  },
  {
   "cell_type": "code",
   "execution_count": 29,
   "id": "expensive-detector",
   "metadata": {},
   "outputs": [
    {
     "data": {
      "text/plain": [
       "datetime.date(2000, 10, 4)"
      ]
     },
     "execution_count": 29,
     "metadata": {},
     "output_type": "execute_result"
    }
   ],
   "source": [
    "mostRecentRun"
   ]
  },
  {
   "cell_type": "code",
   "execution_count": 30,
   "id": "neural-worth",
   "metadata": {
    "pycharm": {
     "is_executing": true
    }
   },
   "outputs": [],
   "source": [
    "# Getting all the games we need to get the live data for (i.e. everything from our last run up to games played yesterday)\n",
    "minGameID = pd.read_sql_query(f\"select min(gameID) from schedules where gameDate >= '{mostRecentRun}' and gameDate <'{date.today()}'\", connection).values[0][0]"
   ]
  },
  {
   "cell_type": "code",
   "execution_count": 31,
   "id": "alien-participation",
   "metadata": {
    "pycharm": {
     "is_executing": true
    }
   },
   "outputs": [],
   "source": [
    "# Getting the season mapping\n",
    "SEASON_MAPPING = pd.read_sql_query(\"\"\"\n",
    "select * from season_to_next_season_mapping\n",
    "\"\"\", connection)"
   ]
  },
  {
   "cell_type": "code",
   "execution_count": null,
   "id": "cubic-anniversary",
   "metadata": {
    "pycharm": {
     "is_executing": true
    }
   },
   "outputs": [],
   "source": [
    "# Getting the current season\n",
    "cursor.execute(\"select max(seasonID) from seasons\")\n",
    "CURRENT_SEASON = cursor.fetchall()[0][0]"
   ]
  },
  {
   "cell_type": "code",
   "execution_count": null,
   "id": "expensive-bleeding",
   "metadata": {
    "pycharm": {
     "is_executing": true
    }
   },
   "outputs": [],
   "source": [
    "# Getting the previous_Season\n",
    "PREVIOUS_SEASON = SEASON_MAPPING[SEASON_MAPPING['seasonID'] == CURRENT_SEASON]['previousSeasonID'].values[0]"
   ]
  },
  {
   "cell_type": "code",
   "execution_count": null,
   "id": "subjective-skiing",
   "metadata": {
    "pycharm": {
     "is_executing": true
    }
   },
   "outputs": [],
   "source": [
    "GIM_VALUES = pd.read_sql_query(f\"\"\"\n",
    "select *\n",
    "from (\n",
    "         select GAMES.seasonID,\n",
    "                GAMES.gameID,\n",
    "                GAMES.gameType,\n",
    "                GAMES.teamID,\n",
    "                GAMES.playerID,\n",
    "                IF(GIM.value is null, 0, GIM.value)                                                                               as 'gimForIndvGame',\n",
    "                ROW_NUMBER() over (partition by GAMES.seasonID, GAMES.playerID order by GAMES.gameID)                             as 'gameNumber',\n",
    "                SUM(IF(GIM.value is null, 0, GIM.value)) over (partition by GAMES.seasonID, GAMES.playerID order by GAMES.gameID) as 'gimCumTotal',\n",
    "                AVG(IF(GIM.value is null, 0, GIM.value)) over (partition by GAMES.seasonID, GAMES.playerID order by GAMES.gameID) as 'gimMean'\n",
    "         from (\n",
    "                  select s.seasonID,\n",
    "                         bs.gameID,\n",
    "                         bs.playerID,\n",
    "                         bs.teamID,\n",
    "                         s.gameType\n",
    "                  from box_scores bs\n",
    "                           inner join schedules s on bs.gameID = s.gameID\n",
    "                  where scratched = 0\n",
    "                    and seasonID >= 20102011\n",
    "                    and timeOnIce is not null\n",
    "                    and s.gameType in ('R', 'P')\n",
    "              ) GAMES\n",
    "                  left join\n",
    "              (\n",
    "                  select gim.gameID,\n",
    "                         playerID,\n",
    "                         sum(if(awayTeam = 1, awayProbability, homeProbability)) as 'value'\n",
    "                  from stage_hockey.gim_values gim\n",
    "                  group by gim.gameID, playerID\n",
    "              ) GIM ON GAMES.gameID = GIM.gameID and GAMES.playerID = GIM.playerID\n",
    "         where GAMES.seasonID >= {CURRENT_SEASON}\n",
    "         order by gameID, playerID\n",
    "     ) p \n",
    "     where gameID >= {minGameID}\n",
    "\"\"\", connection)"
   ]
  },
  {
   "cell_type": "code",
   "execution_count": null,
   "id": "removed-pizza",
   "metadata": {
    "pycharm": {
     "is_executing": true
    }
   },
   "outputs": [],
   "source": [
    "POSITIONS = pd.read_sql_query(\"\"\"\n",
    "select playerID,\n",
    "             primaryPositionCode,\n",
    "             row_number() over (partition by playerID order by date desc ) as 'ROW_NUM'\n",
    "      from plays_position\n",
    "      where primaryPositionCode is not null\n",
    "\"\"\", connection)"
   ]
  },
  {
   "cell_type": "code",
   "execution_count": null,
   "id": "permanent-smooth",
   "metadata": {
    "pycharm": {
     "is_executing": true
    }
   },
   "outputs": [],
   "source": [
    "POSITIONS = POSITIONS[POSITIONS['ROW_NUM'] == 1].drop(['ROW_NUM'],axis=1)"
   ]
  },
  {
   "cell_type": "code",
   "execution_count": null,
   "id": "catholic-catch",
   "metadata": {
    "pycharm": {
     "is_executing": true
    }
   },
   "outputs": [],
   "source": [
    "POSITIONS_AVERAGES = pd.read_sql_query(f\"\"\"\n",
    "select * from stage_hockey.gim_position_averages_per_season where seasonID = {PREVIOUS_SEASON}\n",
    "\"\"\", connection)"
   ]
  },
  {
   "cell_type": "code",
   "execution_count": null,
   "id": "rural-tennessee",
   "metadata": {
    "pycharm": {
     "is_executing": true
    }
   },
   "outputs": [],
   "source": [
    "pastGIMValues = pd.read_sql_query(f\"\"\"\n",
    "select * from stage_hockey.gim_by_player_by_season where seasonID = {PREVIOUS_SEASON}\n",
    "\"\"\", connection)"
   ]
  },
  {
   "cell_type": "code",
   "execution_count": null,
   "id": "higher-journal",
   "metadata": {
    "pycharm": {
     "is_executing": true
    }
   },
   "outputs": [],
   "source": [
    "gimValuesAdjusted = pd.merge(GIM_VALUES,\n",
    "         SEASON_MAPPING,\n",
    "         how='inner',on=['seasonID'])"
   ]
  },
  {
   "cell_type": "code",
   "execution_count": null,
   "id": "intermediate-brisbane",
   "metadata": {
    "pycharm": {
     "is_executing": true
    }
   },
   "outputs": [],
   "source": [
    "gimValuesAdjusted = pd.merge(gimValuesAdjusted,\n",
    "         pastGIMValues,\n",
    "         how='left', \n",
    "         left_on=['previousSeasonID','playerID'],\n",
    "         right_on=['seasonID','playerID'],\n",
    "         suffixes=('', '_previous')).drop(['seasonID_previous'],axis=1)"
   ]
  },
  {
   "cell_type": "code",
   "execution_count": null,
   "id": "artistic-preference",
   "metadata": {
    "pycharm": {
     "is_executing": true
    }
   },
   "outputs": [],
   "source": [
    "gimValuesAdjusted = pd.merge(gimValuesAdjusted,POSITIONS,how='inner')"
   ]
  },
  {
   "cell_type": "code",
   "execution_count": null,
   "id": "champion-society",
   "metadata": {
    "pycharm": {
     "is_executing": true
    }
   },
   "outputs": [],
   "source": [
    "gimValuesAdjusted = pd.merge(gimValuesAdjusted,POSITIONS_AVERAGES,how='inner',  \n",
    "         left_on=['previousSeasonID','primaryPositionCode'],\n",
    "                         right_on = ['seasonID','primaryPositionCode'],\n",
    "                         suffixes=('', '_positionalMean')).drop(['primaryPositionCode'],axis=1)"
   ]
  },
  {
   "cell_type": "code",
   "execution_count": null,
   "id": "juvenile-teach",
   "metadata": {
    "pycharm": {
     "is_executing": true
    }
   },
   "outputs": [],
   "source": [
    "gimValuesAdjusted"
   ]
  },
  {
   "cell_type": "code",
   "execution_count": null,
   "id": "becoming-istanbul",
   "metadata": {
    "pycharm": {
     "is_executing": true
    }
   },
   "outputs": [],
   "source": [
    "gimValuesAdjusted['gimMeanAdjusted'] = np.where(gimValuesAdjusted['gameNumber'] >= 20, \n",
    "         gimValuesAdjusted['gimMean'],\n",
    "         np.where(gimValuesAdjusted['gimValueAdjusted'].isna(),\n",
    "                 (gimValuesAdjusted['gameNumber']/20)*gimValuesAdjusted['gimMean'] + (1-gimValuesAdjusted['gameNumber']/20)*gimValuesAdjusted['gimMean_positionalMean'],                 \n",
    "                  (gimValuesAdjusted['gameNumber']/20)*gimValuesAdjusted['gimMean'] + (1-gimValuesAdjusted['gameNumber']/20)*gimValuesAdjusted['gimValueAdjusted']))"
   ]
  },
  {
   "cell_type": "code",
   "execution_count": null,
   "id": "sustained-petroleum",
   "metadata": {
    "pycharm": {
     "is_executing": true
    }
   },
   "outputs": [],
   "source": [
    "gimValuesAdjusted = gimValuesAdjusted.drop(['previousSeasonID', \n",
    "                        'gimValueAdjusted', \n",
    "                        'seasonID_positionalMean',\n",
    "                        'gimMean_positionalMean'],axis=1)"
   ]
  },
  {
   "cell_type": "code",
   "execution_count": null,
   "id": "minute-warning",
   "metadata": {
    "pycharm": {
     "is_executing": true
    }
   },
   "outputs": [],
   "source": [
    "for index, row in gimValuesAdjusted.iterrows():\n",
    "    query = f\"insert into stage_hockey.gim_values_consolidated values({row['seasonID']},{row['gameID']},\\'{row['gameType']}\\',{row['teamID']},{row['playerID']},{row['gimForIndvGame']},{row['gameNumber']},{row['gimCumTotal']},{row['gimMean']},{row['gimMeanAdjusted']})\"\n",
    "    cursor.execute(query)\n",
    "    connection.commit()"
   ]
  },
  {
   "cell_type": "code",
   "execution_count": null,
   "id": "european-forest",
   "metadata": {
    "pycharm": {
     "is_executing": true
    }
   },
   "outputs": [],
   "source": []
  },
  {
   "cell_type": "code",
   "execution_count": null,
   "id": "earned-ecuador",
   "metadata": {
    "pycharm": {
     "is_executing": true
    }
   },
   "outputs": [],
   "source": []
  },
  {
   "cell_type": "code",
   "execution_count": null,
   "id": "intimate-challenge",
   "metadata": {
    "pycharm": {
     "is_executing": true
    }
   },
   "outputs": [],
   "source": []
  },
  {
   "cell_type": "code",
   "execution_count": 32,
   "id": "surrounded-depth",
   "metadata": {
    "pycharm": {
     "is_executing": true
    }
   },
   "outputs": [],
   "source": [
    "conn.close()"
   ]
  },
  {
   "cell_type": "code",
   "execution_count": null,
   "id": "photographic-comparative",
   "metadata": {
    "pycharm": {
     "is_executing": true
    }
   },
   "outputs": [],
   "source": []
  }
 ],
 "metadata": {
  "kernelspec": {
   "display_name": "Python 3",
   "language": "python",
   "name": "python3"
  },
  "language_info": {
   "codemirror_mode": {
    "name": "ipython",
    "version": 3
   },
   "file_extension": ".py",
   "mimetype": "text/x-python",
   "name": "python",
   "nbconvert_exporter": "python",
   "pygments_lexer": "ipython3",
   "version": "3.8.5"
  }
 },
 "nbformat": 4,
 "nbformat_minor": 5
}
