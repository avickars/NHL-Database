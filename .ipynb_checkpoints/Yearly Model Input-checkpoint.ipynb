{
 "cells": [
  {
   "cell_type": "code",
   "execution_count": 6,
   "id": "distributed-invalid",
   "metadata": {},
   "outputs": [],
   "source": [
    "import pandas as pd\n",
    "from SQLCode import DatabaseConnection\n",
    "from SQLCode import DatabaseCredentials as DBC\n",
    "import numpy as np"
   ]
  },
  {
   "cell_type": "code",
   "execution_count": 7,
   "id": "italian-transformation",
   "metadata": {
    "pycharm": {
     "is_executing": true
    }
   },
   "outputs": [],
   "source": [
    "# Opening connection\n",
    "creds = DBC.DataBaseCredentials()\n",
    "conn = DatabaseConnection.sql_connection(creds.server, creds.database, creds.user, creds.password)\n",
    "connection = conn.open()\n",
    "cursor = connection.cursor()"
   ]
  },
  {
   "cell_type": "code",
   "execution_count": 8,
   "id": "double-award",
   "metadata": {
    "pycharm": {
     "is_executing": true
    }
   },
   "outputs": [],
   "source": [
    "# Getting the season mappings\n",
    "SEASON_MAPPING = pd.read_sql_query(\"\"\"\n",
    "select * from season_to_next_season_mapping\n",
    "\"\"\", connection)"
   ]
  },
  {
   "cell_type": "code",
   "execution_count": 9,
   "id": "distant-mercy",
   "metadata": {
    "pycharm": {
     "is_executing": true
    }
   },
   "outputs": [],
   "source": [
    "# Getting the current season\n",
    "cursor.execute(\"select max(seasonID) from seasons\")\n",
    "CURRENT_SEASON = cursor.fetchall()[0][0]"
   ]
  },
  {
   "cell_type": "code",
   "execution_count": 11,
   "id": "interior-turkey",
   "metadata": {},
   "outputs": [
    {
     "data": {
      "text/plain": [
       "20212022"
      ]
     },
     "execution_count": 11,
     "metadata": {},
     "output_type": "execute_result"
    }
   ],
   "source": [
    "CURRENT_SEASON"
   ]
  },
  {
   "cell_type": "code",
   "execution_count": null,
   "id": "filled-campaign",
   "metadata": {},
   "outputs": [],
   "source": []
  },
  {
   "cell_type": "code",
   "execution_count": 10,
   "id": "stone-inside",
   "metadata": {
    "pycharm": {
     "is_executing": true
    }
   },
   "outputs": [
    {
     "ename": "IndexError",
     "evalue": "index 0 is out of bounds for axis 0 with size 0",
     "output_type": "error",
     "traceback": [
      "\u001b[1;31m---------------------------------------------------------------------------\u001b[0m",
      "\u001b[1;31mIndexError\u001b[0m                                Traceback (most recent call last)",
      "\u001b[1;32m<ipython-input-10-705997c72b05>\u001b[0m in \u001b[0;36m<module>\u001b[1;34m\u001b[0m\n\u001b[0;32m      1\u001b[0m \u001b[1;31m# Getting the previous_Season\u001b[0m\u001b[1;33m\u001b[0m\u001b[1;33m\u001b[0m\u001b[1;33m\u001b[0m\u001b[0m\n\u001b[1;32m----> 2\u001b[1;33m \u001b[0mPREVIOUS_SEASON\u001b[0m \u001b[1;33m=\u001b[0m \u001b[0mSEASON_MAPPING\u001b[0m\u001b[1;33m[\u001b[0m\u001b[0mSEASON_MAPPING\u001b[0m\u001b[1;33m[\u001b[0m\u001b[1;34m'seasonID'\u001b[0m\u001b[1;33m]\u001b[0m \u001b[1;33m==\u001b[0m \u001b[0mCURRENT_SEASON\u001b[0m\u001b[1;33m]\u001b[0m\u001b[1;33m[\u001b[0m\u001b[1;34m'previousSeasonID'\u001b[0m\u001b[1;33m]\u001b[0m\u001b[1;33m.\u001b[0m\u001b[0mvalues\u001b[0m\u001b[1;33m[\u001b[0m\u001b[1;36m0\u001b[0m\u001b[1;33m]\u001b[0m\u001b[1;33m\u001b[0m\u001b[1;33m\u001b[0m\u001b[0m\n\u001b[0m",
      "\u001b[1;31mIndexError\u001b[0m: index 0 is out of bounds for axis 0 with size 0"
     ]
    }
   ],
   "source": [
    "# Getting the previous_Season\n",
    "PREVIOUS_SEASON = SEASON_MAPPING[SEASON_MAPPING['seasonID'] == CURRENT_SEASON]['previousSeasonID'].values[0]"
   ]
  },
  {
   "cell_type": "code",
   "execution_count": null,
   "id": "democratic-denial",
   "metadata": {
    "pycharm": {
     "is_executing": true
    }
   },
   "outputs": [],
   "source": [
    "# Selecting GIM for this and last season\n",
    "GIM_VALUES = pd.read_sql_query(f\"\"\"\n",
    "select GAMES.seasonID,\n",
    "       GAMES.gameID,\n",
    "       GAMES.gameType,\n",
    "       GAMES.teamID,\n",
    "       GAMES.playerID,\n",
    "       IF(GIM.value is null, 0, GIM.value) as 'gimForIndvGame',\n",
    "       ROW_NUMBER() over (partition by GAMES.seasonID, GAMES.playerID order by GAMES.gameID) as 'gameNumber',\n",
    "       SUM(IF(GIM.value is null, 0, GIM.value)) over (partition by GAMES.seasonID, GAMES.playerID order by GAMES.gameID) as 'gimCumTotal',\n",
    "       AVG(IF(GIM.value is null, 0, GIM.value)) over (partition by GAMES.seasonID, GAMES.playerID order by GAMES.gameID) as 'gimMean'\n",
    "from (\n",
    "         select s.seasonID,\n",
    "                bs.gameID,\n",
    "                bs.playerID,\n",
    "                bs.teamID,\n",
    "                s.gameType\n",
    "         from box_scores bs\n",
    "                  inner join schedules s on bs.gameID = s.gameID\n",
    "         where scratched = 0 and\n",
    "               seasonID >= 20102011 and\n",
    "               timeOnIce is not null and\n",
    "               s.gameType in ('R')\n",
    "     ) GAMES\n",
    "left join\n",
    "    (\n",
    "        select gim.gameID,\n",
    "               playerID,\n",
    "               sum(if(awayTeam = 1, awayProbability, homeProbability)) as 'value'\n",
    "        from stage_hockey.gim_values gim\n",
    "        group by gim.gameID, playerID\n",
    "    ) GIM ON GAMES.gameID =  GIM.gameID and GAMES.playerID = GIM.playerID\n",
    "where GAMES.seasonID >= {PREVIOUS_SEASON}\n",
    "order by gameID,playerID;\n",
    "\"\"\", connection)"
   ]
  },
  {
   "cell_type": "markdown",
   "id": "bibliographic-hybrid",
   "metadata": {},
   "source": [
    "# Updating GIM Values By Position\n",
    "Adding in last seasons GIM values for each Position"
   ]
  },
  {
   "cell_type": "code",
   "execution_count": null,
   "id": "mature-material",
   "metadata": {
    "pycharm": {
     "is_executing": true
    }
   },
   "outputs": [],
   "source": [
    "# getting each players final gim for the regular season\n",
    "GIM_BY_PLAYER_BY_SEASON = pd.merge(GIM_VALUES[['seasonID','playerID','gameNumber','gimMean']],\n",
    "                                   GIM_VALUES[GIM_VALUES['gameType'] == 'R'][['seasonID','playerID','gameNumber']].groupby(['seasonID','playerID']).max('gameNumber').reset_index(),\n",
    "                                   how='inner',\n",
    "                                   on=['seasonID','playerID','gameNumber'])"
   ]
  },
  {
   "cell_type": "code",
   "execution_count": null,
   "id": "timely-envelope",
   "metadata": {
    "pycharm": {
     "is_executing": true
    }
   },
   "outputs": [],
   "source": [
    "# Getting each players position\n",
    "POSITIONS = pd.read_sql_query(\"\"\"\n",
    "select playerID,\n",
    "             primaryPositionCode,\n",
    "             row_number() over (partition by playerID order by date desc ) as 'ROW_NUM'\n",
    "      from plays_position\n",
    "      where primaryPositionCode is not null\n",
    "\"\"\", connection)"
   ]
  },
  {
   "cell_type": "code",
   "execution_count": null,
   "id": "organized-infrared",
   "metadata": {
    "pycharm": {
     "is_executing": true
    }
   },
   "outputs": [],
   "source": [
    "# Making sure we are using the most recent position info\n",
    "POSITIONS = POSITIONS[POSITIONS['ROW_NUM'] == 1].drop(['ROW_NUM'],axis=1)"
   ]
  },
  {
   "cell_type": "code",
   "execution_count": null,
   "id": "mounted-measure",
   "metadata": {
    "pycharm": {
     "is_executing": true
    }
   },
   "outputs": [],
   "source": [
    "# Getting merging GIM to positions\n",
    "POSITIONS_AVERAGES = pd.merge(GIM_VALUES[['seasonID','playerID','gimMean']],POSITIONS,how='inner')"
   ]
  },
  {
   "cell_type": "code",
   "execution_count": null,
   "id": "organized-difficulty",
   "metadata": {
    "pycharm": {
     "is_executing": true
    }
   },
   "outputs": [],
   "source": [
    "# Getting the averages for eac position/season\n",
    "POSITIONS_AVERAGES = POSITIONS_AVERAGES.drop('playerID',axis=1).groupby(['seasonID','primaryPositionCode']).mean('gimMean').reset_index()"
   ]
  },
  {
   "cell_type": "code",
   "execution_count": null,
   "id": "beneficial-breathing",
   "metadata": {
    "pycharm": {
     "is_executing": true
    }
   },
   "outputs": [],
   "source": [
    "# Inserting this seasons position averages into the table\n",
    "for index, row in POSITIONS_AVERAGES[POSITIONS_AVERAGES['seasonID'] == CURRENT_SEASON].iterrows():\n",
    "    if index % 1000 == 0:\n",
    "        print((index/len(POSITIONS_AVERAGES))*100)\n",
    "    query = f\"insert into stage_hockey.gim_position_averages_per_season values({row['seasonID']},\\'{row['primaryPositionCode']}\\',{row['gimMean']})\"\n",
    "    cursor.execute(query)\n",
    "    connection.commit()"
   ]
  },
  {
   "cell_type": "markdown",
   "id": "located-estonia",
   "metadata": {},
   "source": [
    "# Updating GIM Values By Player for Past Season\n",
    "Adding in last seasons Adjusted GIM values for Player"
   ]
  },
  {
   "cell_type": "code",
   "execution_count": null,
   "id": "advanced-value",
   "metadata": {
    "pycharm": {
     "is_executing": true
    }
   },
   "outputs": [],
   "source": [
    "# Taking this seasons current season and determining the past season\n",
    "pastGIMValues = pd.merge(GIM_BY_PLAYER_BY_SEASON,\n",
    "                             SEASON_MAPPING,\n",
    "                             how = 'inner',\n",
    "                             left_on=['seasonID'],\n",
    "                             right_on = ['seasonID'])"
   ]
  },
  {
   "cell_type": "code",
   "execution_count": null,
   "id": "clinical-server",
   "metadata": {
    "pycharm": {
     "is_executing": true
    }
   },
   "outputs": [],
   "source": [
    "pastGIMValues = pd.merge(pastGIMValues,\n",
    "                             GIM_BY_PLAYER_BY_SEASON,\n",
    "                             how = 'left',\n",
    "                             left_on=['previousSeasonID','playerID'],\n",
    "                             right_on = ['seasonID','playerID'],\n",
    "                             suffixes=('', '_previous'))"
   ]
  },
  {
   "cell_type": "code",
   "execution_count": null,
   "id": "spoken-calvin",
   "metadata": {
    "pycharm": {
     "is_executing": true
    }
   },
   "outputs": [],
   "source": [
    "pastGIMValues = pd.merge(pastGIMValues,POSITIONS,how='inner')"
   ]
  },
  {
   "cell_type": "code",
   "execution_count": null,
   "id": "relevant-large",
   "metadata": {
    "pycharm": {
     "is_executing": true
    }
   },
   "outputs": [],
   "source": [
    "pastGIMValues = pastGIMValues.drop(['seasonID_previous'],axis=1)"
   ]
  },
  {
   "cell_type": "code",
   "execution_count": null,
   "id": "demonstrated-vertical",
   "metadata": {
    "pycharm": {
     "is_executing": true
    }
   },
   "outputs": [],
   "source": [
    "pastGIMValues = pd.merge(pastGIMValues, \n",
    "                         POSITIONS_AVERAGES,\n",
    "                         how='inner',\n",
    "                         left_on=['previousSeasonID','primaryPositionCode'],\n",
    "                         right_on = ['seasonID','primaryPositionCode'],\n",
    "                         suffixes=('', '_positionalMean'))\n",
    "\n",
    "pastGIMValues = pastGIMValues.drop('seasonID_positionalMean',axis=1)"
   ]
  },
  {
   "cell_type": "code",
   "execution_count": null,
   "id": "multiple-status",
   "metadata": {
    "pycharm": {
     "is_executing": true
    }
   },
   "outputs": [],
   "source": [
    "gimValuesMinus2Years = np.where(pastGIMValues['gameNumber_previous'].isna(), \n",
    "                                pastGIMValues['gimMean_positionalMean'],\n",
    "                                np.where(pastGIMValues['gameNumber_previous'] >= 20,\n",
    "                                         pastGIMValues['gimMean_previous'],\n",
    "                                         (pastGIMValues['gameNumber_previous']/20) * pastGIMValues['gimMean_previous'] + (1-pastGIMValues['gameNumber_previous']/20)*pastGIMValues['gimMean_positionalMean']))"
   ]
  },
  {
   "cell_type": "code",
   "execution_count": null,
   "id": "efficient-weekly",
   "metadata": {
    "pycharm": {
     "is_executing": true
    }
   },
   "outputs": [],
   "source": [
    "gimValues = np.where(pastGIMValues['gameNumber'] >= 20, \n",
    "         pastGIMValues['gimMean'],\n",
    "         (pastGIMValues['gameNumber']/20) * pastGIMValues['gimMean'] + (1-pastGIMValues['gameNumber']/20)*gimValuesMinus2Years)"
   ]
  },
  {
   "cell_type": "code",
   "execution_count": null,
   "id": "coastal-joint",
   "metadata": {
    "pycharm": {
     "is_executing": true
    }
   },
   "outputs": [],
   "source": [
    "pastGIMValues = pastGIMValues[['seasonID','playerID']]"
   ]
  },
  {
   "cell_type": "code",
   "execution_count": null,
   "id": "personalized-leadership",
   "metadata": {
    "pycharm": {
     "is_executing": true
    }
   },
   "outputs": [],
   "source": [
    "pastGIMValues['gimValueAdjusted'] = gimValues"
   ]
  },
  {
   "cell_type": "code",
   "execution_count": null,
   "id": "corresponding-pacific",
   "metadata": {
    "pycharm": {
     "is_executing": true
    }
   },
   "outputs": [],
   "source": [
    "for index, row in pastGIMValues.iterrows():\n",
    "    if index % 100 == 0:\n",
    "        print((index/len(POSITIONS_AVERAGES))*100)\n",
    "    query = f\"insert into stage_hockey.gim_by_player_by_season values({row['seasonID']},{row['playerID']},{row['gimValueAdjusted']})\"\n",
    "    cursor.execute(query)\n",
    "    connection.commit()"
   ]
  },
  {
   "cell_type": "code",
   "execution_count": null,
   "id": "electoral-emission",
   "metadata": {
    "pycharm": {
     "is_executing": true
    }
   },
   "outputs": [],
   "source": [
    "conn.close()"
   ]
  },
  {
   "cell_type": "code",
   "execution_count": null,
   "id": "focal-enhancement",
   "metadata": {
    "pycharm": {
     "is_executing": true
    }
   },
   "outputs": [],
   "source": []
  },
  {
   "cell_type": "code",
   "execution_count": null,
   "id": "environmental-professional",
   "metadata": {
    "pycharm": {
     "is_executing": true
    }
   },
   "outputs": [],
   "source": []
  },
  {
   "cell_type": "code",
   "execution_count": null,
   "id": "descending-translator",
   "metadata": {
    "pycharm": {
     "is_executing": true
    }
   },
   "outputs": [],
   "source": []
  }
 ],
 "metadata": {
  "kernelspec": {
   "display_name": "Python 3",
   "language": "python",
   "name": "python3"
  },
  "language_info": {
   "codemirror_mode": {
    "name": "ipython",
    "version": 3
   },
   "file_extension": ".py",
   "mimetype": "text/x-python",
   "name": "python",
   "nbconvert_exporter": "python",
   "pygments_lexer": "ipython3",
   "version": "3.8.5"
  }
 },
 "nbformat": 4,
 "nbformat_minor": 5
}
