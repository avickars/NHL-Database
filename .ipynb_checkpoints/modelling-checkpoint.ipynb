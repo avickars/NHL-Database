{
 "cells": [
  {
   "cell_type": "code",
   "execution_count": 46,
   "metadata": {},
   "outputs": [],
   "source": [
    "from SQLCode import DatabaseConnection\n",
    "from SQLCode import DatabaseCredentials as DBC\n",
    "import pandas as pd\n",
    "import numpy as np\n",
    "\n",
    "from sklearn.model_selection import train_test_split\n",
    "from sklearn import preprocessing\n",
    "from sklearn.svm import SVC\n",
    "from sklearn import svm\n",
    "from sklearn import metrics\n",
    "from sklearn.model_selection import cross_val_score\n",
    "from sklearn.model_selection import GridSearchCV\n",
    "from sklearn.metrics import classification_report, confusion_matrix  "
   ]
  },
  {
   "cell_type": "code",
   "execution_count": 47,
   "metadata": {},
   "outputs": [],
   "source": [
    "# Opening connection\n",
    "creds = DBC.DataBaseCredentials()\n",
    "conn = DatabaseConnection.sql_connection(creds.server, creds.database, creds.user, creds.password)\n",
    "connection = conn.open()\n",
    "cursor = connection.cursor()"
   ]
  },
  {
   "cell_type": "markdown",
   "metadata": {},
   "source": [
    "# Loading Data"
   ]
  },
  {
   "cell_type": "code",
   "execution_count": 48,
   "metadata": {},
   "outputs": [],
   "source": [
    "GIM_VALUES = pd.read_sql_query(\"select * from stage_hockey.gim_values_consolidated\",\n",
    "                                  connection)"
   ]
  },
  {
   "cell_type": "code",
   "execution_count": 49,
   "metadata": {},
   "outputs": [],
   "source": [
    "GIM_VALUES = GIM_VALUES.sort_values(['seasonID','gameID']) "
   ]
  },
  {
   "cell_type": "code",
   "execution_count": 50,
   "metadata": {},
   "outputs": [],
   "source": [
    "TEAM_STATS = pd.read_sql_query(\"select * from stage_hockey.game_prediction_team_stats\",\n",
    "                                  connection)"
   ]
  },
  {
   "cell_type": "code",
   "execution_count": 51,
   "metadata": {},
   "outputs": [],
   "source": [
    "POSITION_AVERAGES = pd.read_sql_query(\"select * from stage_hockey.gim_position_averages_per_season\",\n",
    "                                  connection)"
   ]
  },
  {
   "cell_type": "code",
   "execution_count": 52,
   "metadata": {},
   "outputs": [],
   "source": [
    "# Getting each players position\n",
    "POSITIONS = pd.read_sql_query(\"\"\"\n",
    "select playerID,\n",
    "             primaryPositionCode,\n",
    "             row_number() over (partition by playerID order by date desc ) as 'ROW_NUM'\n",
    "      from plays_position\n",
    "      where primaryPositionCode is not null\n",
    "\"\"\", connection)\n",
    "POSITIONS = POSITIONS[POSITIONS['ROW_NUM'] == 1].drop(['ROW_NUM'], axis=1)"
   ]
  },
  {
   "cell_type": "code",
   "execution_count": 53,
   "metadata": {},
   "outputs": [],
   "source": [
    "BOXSCORES = pd.read_sql_query(\"\"\"\n",
    "select bs.* from stage_hockey.boxscores bs\n",
    "inner join schedules s on bs.gameID = s.gameID\n",
    "where seasonID >= 20142015 and gameType in ('R','P')\"\"\",\n",
    "                                  connection)"
   ]
  },
  {
   "cell_type": "code",
   "execution_count": 54,
   "metadata": {},
   "outputs": [],
   "source": [
    "SCHEDULES = pd.read_sql_query(\"\"\"\n",
    "select s.*,\n",
    "       ROW_NUMBER() over (PARTITION BY HOME_TEAMS.seasonID, HOME_TEAMS.teamID ORDER BY HOME_TEAMS.gameID) as 'homeTeamGameNumber',\n",
    "        ROW_NUMBER() over (PARTITION BY AWAY_TEAMS.seasonID, AWAY_TEAMS.teamID ORDER BY AWAY_TEAMS.gameID) as 'awayTeamGameNumber'\n",
    "from schedules s\n",
    "inner join\n",
    "    (\n",
    "        select s.seasonID,\n",
    "               gameID,\n",
    "               homeTeamID as 'teamID',\n",
    "               s.gameDate,\n",
    "               s.gameType\n",
    "        from schedules s\n",
    "        where seasonID>=20142015 and\n",
    "              gameType in ('R','P')\n",
    "        union\n",
    "        select seasonID,\n",
    "               gameID,\n",
    "               awayTeamID as 'teamID',\n",
    "               s.gameDate,\n",
    "               s.gameType\n",
    "        from schedules s\n",
    "        where seasonID>=20142015 and\n",
    "              gameType in ('R','P')\n",
    "     ) HOME_TEAMS ON HOME_TEAMS.teamID = s.homeTeamID and HOME_TEAMS.gameID = s.gameID\n",
    "inner join\n",
    "    (\n",
    "        select s.seasonID,\n",
    "               gameID,\n",
    "               homeTeamID as 'teamID',\n",
    "               s.gameDate,\n",
    "               s.gameType\n",
    "        from schedules s\n",
    "        where seasonID>=20142015 and\n",
    "              gameType in ('R','P')\n",
    "        union\n",
    "        select seasonID,\n",
    "               gameID,\n",
    "               awayTeamID as 'teamID',\n",
    "               s.gameDate,\n",
    "               s.gameType\n",
    "        from schedules s\n",
    "        where seasonID>=20142015 and\n",
    "              gameType in ('R','P')\n",
    "     ) AWAY_TEAMS ON AWAY_TEAMS.teamID = s.homeTeamID and AWAY_TEAMS.gameID = s.gameID\n",
    "\"\"\",\n",
    "                                  connection)"
   ]
  },
  {
   "cell_type": "code",
   "execution_count": 55,
   "metadata": {},
   "outputs": [],
   "source": [
    "seasonMapping = pd.read_sql_query(\"select * from season_to_next_season_mapping\",\n",
    "                                  connection)"
   ]
  },
  {
   "cell_type": "code",
   "execution_count": 56,
   "metadata": {},
   "outputs": [],
   "source": [
    "gameOutcome = pd.read_sql_query(\"\"\"\n",
    "select GOALS.gameID,\n",
    "       homeTeamID,\n",
    "       IFNULL(sum(case when teamID=homeTeamID then numGoals end), 0) as 'homeTeamGoals',\n",
    "       awayTeamID,\n",
    "       IFNULL(sum(case when teamID=awayTeamID then numGoals end), 0) as 'awayTeamGoals'\n",
    "from\n",
    "     (\n",
    "         select count(*) as 'numGoals',\n",
    "                teamID,\n",
    "                s.homeTeamID,\n",
    "                s.awayTeamID,\n",
    "                s.gameID\n",
    "         from live_feed lf\n",
    "                  inner join schedules s on lf.gameID = s.gameID and lf.teamID\n",
    "         where s.seasonID >= 20142015\n",
    "           and eventTypeID = 'GOAL'\n",
    "           and playerType = 'Scorer'\n",
    "         group by lf.gameID, lf.teamID\n",
    "     ) GOALS\n",
    "group by gameID;\n",
    "\"\"\",\n",
    "                                  connection)"
   ]
  },
  {
   "cell_type": "markdown",
   "metadata": {},
   "source": [
    "# Players Last Game"
   ]
  },
  {
   "cell_type": "code",
   "execution_count": 57,
   "metadata": {},
   "outputs": [
    {
     "name": "stdout",
     "output_type": "stream",
     "text": [
      "0 %\n",
      "2 %\n",
      "5 %\n",
      "8 %\n",
      "11 %\n",
      "14 %\n",
      "17 %\n",
      "20 %\n",
      "23 %\n",
      "26 %\n",
      "29 %\n",
      "32 %\n",
      "35 %\n",
      "38 %\n",
      "41 %\n",
      "44 %\n",
      "47 %\n",
      "50 %\n",
      "53 %\n",
      "56 %\n",
      "59 %\n",
      "62 %\n",
      "65 %\n",
      "68 %\n",
      "71 %\n",
      "74 %\n",
      "77 %\n",
      "80 %\n",
      "83 %\n",
      "86 %\n",
      "89 %\n",
      "91 %\n",
      "94 %\n",
      "97 %\n"
     ]
    }
   ],
   "source": [
    "GIM = []\n",
    "for index, player in BOXSCORES.iterrows():\n",
    "    if index % 10000 == 0:\n",
    "        print(int((index/len(BOXSCORES))*100),'%')\n",
    "    previousGame = GIM_VALUES[(GIM_VALUES['gameID'] < player['gameID']) & (GIM_VALUES['playerID'] == player['playerID'])]\n",
    "    \n",
    "    if len(previousGame) == 0:\n",
    "        GIM.append(np.nan)\n",
    "    else:\n",
    "        GIM.append(previousGame.iloc[-1,9])\n",
    "BOXSCORES['GIM_VALUE'] = GIM\n",
    "\n",
    "BOXSCORES = pd.merge(BOXSCORES, POSITIONS)\n",
    "BOXSCORES = pd.merge(BOXSCORES,POSITION_AVERAGES)\n",
    "BOXSCORES['GIM_VALUE'] = np.where(BOXSCORES['GIM_VALUE'].isna(),BOXSCORES['gimMean'], BOXSCORES['GIM_VALUE'])\n",
    "BOXSCORES.to_csv('Data/boxscoreAndGIM_P.csv')\n",
    "# BOXSCORES  = pd.read_csv('Data/boxscoreAndGIM_P.csv')"
   ]
  },
  {
   "cell_type": "code",
   "execution_count": 13,
   "metadata": {},
   "outputs": [
    {
     "data": {
      "text/html": [
       "<div>\n",
       "<style scoped>\n",
       "    .dataframe tbody tr th:only-of-type {\n",
       "        vertical-align: middle;\n",
       "    }\n",
       "\n",
       "    .dataframe tbody tr th {\n",
       "        vertical-align: top;\n",
       "    }\n",
       "\n",
       "    .dataframe thead th {\n",
       "        text-align: right;\n",
       "    }\n",
       "</style>\n",
       "<table border=\"1\" class=\"dataframe\">\n",
       "  <thead>\n",
       "    <tr style=\"text-align: right;\">\n",
       "      <th></th>\n",
       "      <th>teamID</th>\n",
       "      <th>playerID</th>\n",
       "      <th>scratched</th>\n",
       "      <th>gameID</th>\n",
       "      <th>GIM_VALUE</th>\n",
       "      <th>primaryPositionCode</th>\n",
       "      <th>seasonID</th>\n",
       "      <th>gimMean</th>\n",
       "    </tr>\n",
       "  </thead>\n",
       "  <tbody>\n",
       "    <tr>\n",
       "      <th>0</th>\n",
       "      <td>8</td>\n",
       "      <td>8467334</td>\n",
       "      <td>0</td>\n",
       "      <td>2014020001</td>\n",
       "      <td>0.105070</td>\n",
       "      <td>C</td>\n",
       "      <td>20102011</td>\n",
       "      <td>0.230152</td>\n",
       "    </tr>\n",
       "    <tr>\n",
       "      <th>1</th>\n",
       "      <td>8</td>\n",
       "      <td>8467334</td>\n",
       "      <td>0</td>\n",
       "      <td>2014020001</td>\n",
       "      <td>0.105070</td>\n",
       "      <td>C</td>\n",
       "      <td>20112012</td>\n",
       "      <td>0.224092</td>\n",
       "    </tr>\n",
       "    <tr>\n",
       "      <th>2</th>\n",
       "      <td>8</td>\n",
       "      <td>8467334</td>\n",
       "      <td>0</td>\n",
       "      <td>2014020001</td>\n",
       "      <td>0.105070</td>\n",
       "      <td>C</td>\n",
       "      <td>20122013</td>\n",
       "      <td>0.228974</td>\n",
       "    </tr>\n",
       "    <tr>\n",
       "      <th>3</th>\n",
       "      <td>8</td>\n",
       "      <td>8467334</td>\n",
       "      <td>0</td>\n",
       "      <td>2014020001</td>\n",
       "      <td>0.105070</td>\n",
       "      <td>C</td>\n",
       "      <td>20132014</td>\n",
       "      <td>0.233796</td>\n",
       "    </tr>\n",
       "    <tr>\n",
       "      <th>4</th>\n",
       "      <td>8</td>\n",
       "      <td>8467334</td>\n",
       "      <td>0</td>\n",
       "      <td>2014020001</td>\n",
       "      <td>0.105070</td>\n",
       "      <td>C</td>\n",
       "      <td>20142015</td>\n",
       "      <td>0.221565</td>\n",
       "    </tr>\n",
       "    <tr>\n",
       "      <th>...</th>\n",
       "      <td>...</td>\n",
       "      <td>...</td>\n",
       "      <td>...</td>\n",
       "      <td>...</td>\n",
       "      <td>...</td>\n",
       "      <td>...</td>\n",
       "      <td>...</td>\n",
       "      <td>...</td>\n",
       "    </tr>\n",
       "    <tr>\n",
       "      <th>3706533</th>\n",
       "      <td>7</td>\n",
       "      <td>8475920</td>\n",
       "      <td>0</td>\n",
       "      <td>2020020858</td>\n",
       "      <td>0.004342</td>\n",
       "      <td>G</td>\n",
       "      <td>20162017</td>\n",
       "      <td>0.005489</td>\n",
       "    </tr>\n",
       "    <tr>\n",
       "      <th>3706534</th>\n",
       "      <td>7</td>\n",
       "      <td>8475920</td>\n",
       "      <td>0</td>\n",
       "      <td>2020020858</td>\n",
       "      <td>0.004342</td>\n",
       "      <td>G</td>\n",
       "      <td>20172018</td>\n",
       "      <td>0.005927</td>\n",
       "    </tr>\n",
       "    <tr>\n",
       "      <th>3706535</th>\n",
       "      <td>7</td>\n",
       "      <td>8475920</td>\n",
       "      <td>0</td>\n",
       "      <td>2020020858</td>\n",
       "      <td>0.004342</td>\n",
       "      <td>G</td>\n",
       "      <td>20182019</td>\n",
       "      <td>0.006618</td>\n",
       "    </tr>\n",
       "    <tr>\n",
       "      <th>3706536</th>\n",
       "      <td>7</td>\n",
       "      <td>8475920</td>\n",
       "      <td>0</td>\n",
       "      <td>2020020858</td>\n",
       "      <td>0.004342</td>\n",
       "      <td>G</td>\n",
       "      <td>20192020</td>\n",
       "      <td>0.005003</td>\n",
       "    </tr>\n",
       "    <tr>\n",
       "      <th>3706537</th>\n",
       "      <td>7</td>\n",
       "      <td>8475920</td>\n",
       "      <td>0</td>\n",
       "      <td>2020020858</td>\n",
       "      <td>0.004342</td>\n",
       "      <td>G</td>\n",
       "      <td>20202021</td>\n",
       "      <td>0.004519</td>\n",
       "    </tr>\n",
       "  </tbody>\n",
       "</table>\n",
       "<p>3706538 rows × 8 columns</p>\n",
       "</div>"
      ],
      "text/plain": [
       "         teamID  playerID  scratched      gameID  GIM_VALUE  \\\n",
       "0             8   8467334          0  2014020001   0.105070   \n",
       "1             8   8467334          0  2014020001   0.105070   \n",
       "2             8   8467334          0  2014020001   0.105070   \n",
       "3             8   8467334          0  2014020001   0.105070   \n",
       "4             8   8467334          0  2014020001   0.105070   \n",
       "...         ...       ...        ...         ...        ...   \n",
       "3706533       7   8475920          0  2020020858   0.004342   \n",
       "3706534       7   8475920          0  2020020858   0.004342   \n",
       "3706535       7   8475920          0  2020020858   0.004342   \n",
       "3706536       7   8475920          0  2020020858   0.004342   \n",
       "3706537       7   8475920          0  2020020858   0.004342   \n",
       "\n",
       "        primaryPositionCode  seasonID   gimMean  \n",
       "0                         C  20102011  0.230152  \n",
       "1                         C  20112012  0.224092  \n",
       "2                         C  20122013  0.228974  \n",
       "3                         C  20132014  0.233796  \n",
       "4                         C  20142015  0.221565  \n",
       "...                     ...       ...       ...  \n",
       "3706533                   G  20162017  0.005489  \n",
       "3706534                   G  20172018  0.005927  \n",
       "3706535                   G  20182019  0.006618  \n",
       "3706536                   G  20192020  0.005003  \n",
       "3706537                   G  20202021  0.004519  \n",
       "\n",
       "[3706538 rows x 8 columns]"
      ]
     },
     "execution_count": 13,
     "metadata": {},
     "output_type": "execute_result"
    }
   ],
   "source": [
    "BOXSCORES"
   ]
  },
  {
   "cell_type": "markdown",
   "metadata": {},
   "source": [
    "# Teams Last Game"
   ]
  },
  {
   "cell_type": "code",
   "execution_count": 58,
   "metadata": {},
   "outputs": [],
   "source": [
    "last_game = TEAM_STATS[['seasonID','teamID','gameNumber']].groupby(['seasonID','teamID']).max('gameNumber').reset_index()"
   ]
  },
  {
   "cell_type": "code",
   "execution_count": 59,
   "metadata": {},
   "outputs": [],
   "source": [
    "seasonAverages = pd.merge(TEAM_STATS, last_game , how='inner')"
   ]
  },
  {
   "cell_type": "code",
   "execution_count": 60,
   "metadata": {},
   "outputs": [],
   "source": [
    "seasonAverages = seasonAverages.drop(['gameDate','gameType','gameID','teamID','gameNumber'],axis=1)"
   ]
  },
  {
   "cell_type": "code",
   "execution_count": 61,
   "metadata": {},
   "outputs": [],
   "source": [
    "seasonAverages = seasonAverages.groupby('seasonID').mean().reset_index()"
   ]
  },
  {
   "cell_type": "code",
   "execution_count": 62,
   "metadata": {},
   "outputs": [],
   "source": [
    "seasonAverages = pd.merge(seasonAverages, seasonMapping, left_on=['seasonID'],right_on=['previousSeasonID'],suffixes=('', '_next')).drop(['previousSeasonID'],axis=1)"
   ]
  },
  {
   "cell_type": "code",
   "execution_count": 63,
   "metadata": {},
   "outputs": [
    {
     "data": {
      "text/html": [
       "<div>\n",
       "<style scoped>\n",
       "    .dataframe tbody tr th:only-of-type {\n",
       "        vertical-align: middle;\n",
       "    }\n",
       "\n",
       "    .dataframe tbody tr th {\n",
       "        vertical-align: top;\n",
       "    }\n",
       "\n",
       "    .dataframe thead th {\n",
       "        text-align: right;\n",
       "    }\n",
       "</style>\n",
       "<table border=\"1\" class=\"dataframe\">\n",
       "  <thead>\n",
       "    <tr style=\"text-align: right;\">\n",
       "      <th></th>\n",
       "      <th>seasonID</th>\n",
       "      <th>shotsForPerGame</th>\n",
       "      <th>goalsForPerGame</th>\n",
       "      <th>shotsAgainstPerGame</th>\n",
       "      <th>goalsAgainstPerGame</th>\n",
       "      <th>winningPercentage</th>\n",
       "      <th>shotDifferential</th>\n",
       "      <th>goalDifferential</th>\n",
       "      <th>seasonID_next</th>\n",
       "    </tr>\n",
       "  </thead>\n",
       "  <tbody>\n",
       "    <tr>\n",
       "      <th>0</th>\n",
       "      <td>20102011</td>\n",
       "      <td>27.874573</td>\n",
       "      <td>2.849240</td>\n",
       "      <td>27.949430</td>\n",
       "      <td>2.876120</td>\n",
       "      <td>0.494833</td>\n",
       "      <td>0.0</td>\n",
       "      <td>0.0</td>\n",
       "      <td>20112012</td>\n",
       "    </tr>\n",
       "    <tr>\n",
       "      <th>1</th>\n",
       "      <td>20112012</td>\n",
       "      <td>27.309363</td>\n",
       "      <td>2.796997</td>\n",
       "      <td>27.358173</td>\n",
       "      <td>2.816203</td>\n",
       "      <td>0.496113</td>\n",
       "      <td>0.0</td>\n",
       "      <td>0.0</td>\n",
       "      <td>20122013</td>\n",
       "    </tr>\n",
       "    <tr>\n",
       "      <th>2</th>\n",
       "      <td>20122013</td>\n",
       "      <td>26.861273</td>\n",
       "      <td>2.765923</td>\n",
       "      <td>27.026983</td>\n",
       "      <td>2.813113</td>\n",
       "      <td>0.490207</td>\n",
       "      <td>0.0</td>\n",
       "      <td>0.0</td>\n",
       "      <td>20132014</td>\n",
       "    </tr>\n",
       "    <tr>\n",
       "      <th>3</th>\n",
       "      <td>20132014</td>\n",
       "      <td>27.587077</td>\n",
       "      <td>2.829033</td>\n",
       "      <td>27.701280</td>\n",
       "      <td>2.855997</td>\n",
       "      <td>0.494813</td>\n",
       "      <td>0.0</td>\n",
       "      <td>0.0</td>\n",
       "      <td>20142015</td>\n",
       "    </tr>\n",
       "    <tr>\n",
       "      <th>4</th>\n",
       "      <td>20142015</td>\n",
       "      <td>27.513037</td>\n",
       "      <td>2.785180</td>\n",
       "      <td>27.585227</td>\n",
       "      <td>2.811800</td>\n",
       "      <td>0.494240</td>\n",
       "      <td>0.0</td>\n",
       "      <td>0.0</td>\n",
       "      <td>20152016</td>\n",
       "    </tr>\n",
       "    <tr>\n",
       "      <th>5</th>\n",
       "      <td>20152016</td>\n",
       "      <td>27.206290</td>\n",
       "      <td>2.745430</td>\n",
       "      <td>27.283060</td>\n",
       "      <td>2.768497</td>\n",
       "      <td>0.495200</td>\n",
       "      <td>0.0</td>\n",
       "      <td>0.0</td>\n",
       "      <td>20162017</td>\n",
       "    </tr>\n",
       "    <tr>\n",
       "      <th>6</th>\n",
       "      <td>20162017</td>\n",
       "      <td>27.701990</td>\n",
       "      <td>2.788097</td>\n",
       "      <td>27.726010</td>\n",
       "      <td>2.812043</td>\n",
       "      <td>0.495213</td>\n",
       "      <td>0.0</td>\n",
       "      <td>0.0</td>\n",
       "      <td>20172018</td>\n",
       "    </tr>\n",
       "    <tr>\n",
       "      <th>7</th>\n",
       "      <td>20172018</td>\n",
       "      <td>29.151135</td>\n",
       "      <td>3.004794</td>\n",
       "      <td>29.151735</td>\n",
       "      <td>3.033152</td>\n",
       "      <td>0.494032</td>\n",
       "      <td>0.0</td>\n",
       "      <td>0.0</td>\n",
       "      <td>20182019</td>\n",
       "    </tr>\n",
       "    <tr>\n",
       "      <th>8</th>\n",
       "      <td>20182019</td>\n",
       "      <td>28.568110</td>\n",
       "      <td>3.030623</td>\n",
       "      <td>28.677171</td>\n",
       "      <td>3.053758</td>\n",
       "      <td>0.495855</td>\n",
       "      <td>0.0</td>\n",
       "      <td>0.0</td>\n",
       "      <td>20192020</td>\n",
       "    </tr>\n",
       "    <tr>\n",
       "      <th>9</th>\n",
       "      <td>20192020</td>\n",
       "      <td>28.547642</td>\n",
       "      <td>3.027648</td>\n",
       "      <td>28.589181</td>\n",
       "      <td>3.054826</td>\n",
       "      <td>0.494987</td>\n",
       "      <td>0.0</td>\n",
       "      <td>0.0</td>\n",
       "      <td>20202021</td>\n",
       "    </tr>\n",
       "    <tr>\n",
       "      <th>10</th>\n",
       "      <td>20202021</td>\n",
       "      <td>27.289329</td>\n",
       "      <td>2.944935</td>\n",
       "      <td>27.439803</td>\n",
       "      <td>2.991955</td>\n",
       "      <td>0.490965</td>\n",
       "      <td>0.0</td>\n",
       "      <td>0.0</td>\n",
       "      <td>20212022</td>\n",
       "    </tr>\n",
       "  </tbody>\n",
       "</table>\n",
       "</div>"
      ],
      "text/plain": [
       "    seasonID  shotsForPerGame  goalsForPerGame  shotsAgainstPerGame  \\\n",
       "0   20102011        27.874573         2.849240            27.949430   \n",
       "1   20112012        27.309363         2.796997            27.358173   \n",
       "2   20122013        26.861273         2.765923            27.026983   \n",
       "3   20132014        27.587077         2.829033            27.701280   \n",
       "4   20142015        27.513037         2.785180            27.585227   \n",
       "5   20152016        27.206290         2.745430            27.283060   \n",
       "6   20162017        27.701990         2.788097            27.726010   \n",
       "7   20172018        29.151135         3.004794            29.151735   \n",
       "8   20182019        28.568110         3.030623            28.677171   \n",
       "9   20192020        28.547642         3.027648            28.589181   \n",
       "10  20202021        27.289329         2.944935            27.439803   \n",
       "\n",
       "    goalsAgainstPerGame  winningPercentage  shotDifferential  \\\n",
       "0              2.876120           0.494833               0.0   \n",
       "1              2.816203           0.496113               0.0   \n",
       "2              2.813113           0.490207               0.0   \n",
       "3              2.855997           0.494813               0.0   \n",
       "4              2.811800           0.494240               0.0   \n",
       "5              2.768497           0.495200               0.0   \n",
       "6              2.812043           0.495213               0.0   \n",
       "7              3.033152           0.494032               0.0   \n",
       "8              3.053758           0.495855               0.0   \n",
       "9              3.054826           0.494987               0.0   \n",
       "10             2.991955           0.490965               0.0   \n",
       "\n",
       "    goalDifferential  seasonID_next  \n",
       "0                0.0       20112012  \n",
       "1                0.0       20122013  \n",
       "2                0.0       20132014  \n",
       "3                0.0       20142015  \n",
       "4                0.0       20152016  \n",
       "5                0.0       20162017  \n",
       "6                0.0       20172018  \n",
       "7                0.0       20182019  \n",
       "8                0.0       20192020  \n",
       "9                0.0       20202021  \n",
       "10               0.0       20212022  "
      ]
     },
     "execution_count": 63,
     "metadata": {},
     "output_type": "execute_result"
    }
   ],
   "source": [
    "seasonAverages"
   ]
  },
  {
   "cell_type": "code",
   "execution_count": 64,
   "metadata": {},
   "outputs": [],
   "source": [
    "seasonAverages = seasonAverages[['seasonID_next','shotsForPerGame', 'goalsForPerGame', 'shotsAgainstPerGame',\n",
    "       'goalsAgainstPerGame', 'winningPercentage', 'shotDifferential',\n",
    "       'goalDifferential']]"
   ]
  },
  {
   "cell_type": "code",
   "execution_count": 65,
   "metadata": {},
   "outputs": [
    {
     "data": {
      "text/html": [
       "<div>\n",
       "<style scoped>\n",
       "    .dataframe tbody tr th:only-of-type {\n",
       "        vertical-align: middle;\n",
       "    }\n",
       "\n",
       "    .dataframe tbody tr th {\n",
       "        vertical-align: top;\n",
       "    }\n",
       "\n",
       "    .dataframe thead th {\n",
       "        text-align: right;\n",
       "    }\n",
       "</style>\n",
       "<table border=\"1\" class=\"dataframe\">\n",
       "  <thead>\n",
       "    <tr style=\"text-align: right;\">\n",
       "      <th></th>\n",
       "      <th>seasonID</th>\n",
       "      <th>gameDate</th>\n",
       "      <th>gameType</th>\n",
       "      <th>gameID</th>\n",
       "      <th>teamID</th>\n",
       "      <th>shotsForPerGame</th>\n",
       "      <th>goalsForPerGame</th>\n",
       "      <th>shotsAgainstPerGame</th>\n",
       "      <th>goalsAgainstPerGame</th>\n",
       "      <th>winningPercentage</th>\n",
       "      <th>shotDifferential</th>\n",
       "      <th>goalDifferential</th>\n",
       "      <th>gameNumber</th>\n",
       "    </tr>\n",
       "  </thead>\n",
       "  <tbody>\n",
       "    <tr>\n",
       "      <th>0</th>\n",
       "      <td>20102011</td>\n",
       "      <td>2010-10-07 23:00:00</td>\n",
       "      <td>R</td>\n",
       "      <td>2010020001</td>\n",
       "      <td>8</td>\n",
       "      <td>26.0000</td>\n",
       "      <td>2.0000</td>\n",
       "      <td>21.0000</td>\n",
       "      <td>3.0000</td>\n",
       "      <td>0.0000</td>\n",
       "      <td>5.0</td>\n",
       "      <td>-1.0</td>\n",
       "      <td>1</td>\n",
       "    </tr>\n",
       "    <tr>\n",
       "      <th>1</th>\n",
       "      <td>20102011</td>\n",
       "      <td>2010-10-07 23:00:00</td>\n",
       "      <td>R</td>\n",
       "      <td>2010020001</td>\n",
       "      <td>10</td>\n",
       "      <td>21.0000</td>\n",
       "      <td>3.0000</td>\n",
       "      <td>26.0000</td>\n",
       "      <td>2.0000</td>\n",
       "      <td>1.0000</td>\n",
       "      <td>-5.0</td>\n",
       "      <td>1.0</td>\n",
       "      <td>1</td>\n",
       "    </tr>\n",
       "    <tr>\n",
       "      <th>2</th>\n",
       "      <td>20102011</td>\n",
       "      <td>2010-10-07 23:00:00</td>\n",
       "      <td>R</td>\n",
       "      <td>2010020002</td>\n",
       "      <td>4</td>\n",
       "      <td>24.0000</td>\n",
       "      <td>3.0000</td>\n",
       "      <td>29.0000</td>\n",
       "      <td>2.0000</td>\n",
       "      <td>1.0000</td>\n",
       "      <td>-5.0</td>\n",
       "      <td>1.0</td>\n",
       "      <td>1</td>\n",
       "    </tr>\n",
       "    <tr>\n",
       "      <th>3</th>\n",
       "      <td>20102011</td>\n",
       "      <td>2010-10-07 23:00:00</td>\n",
       "      <td>R</td>\n",
       "      <td>2010020002</td>\n",
       "      <td>5</td>\n",
       "      <td>29.0000</td>\n",
       "      <td>2.0000</td>\n",
       "      <td>24.0000</td>\n",
       "      <td>3.0000</td>\n",
       "      <td>0.0000</td>\n",
       "      <td>5.0</td>\n",
       "      <td>-1.0</td>\n",
       "      <td>1</td>\n",
       "    </tr>\n",
       "    <tr>\n",
       "      <th>4</th>\n",
       "      <td>20102011</td>\n",
       "      <td>2010-10-07 16:00:00</td>\n",
       "      <td>R</td>\n",
       "      <td>2010020003</td>\n",
       "      <td>12</td>\n",
       "      <td>27.0000</td>\n",
       "      <td>4.0000</td>\n",
       "      <td>26.0000</td>\n",
       "      <td>3.0000</td>\n",
       "      <td>1.0000</td>\n",
       "      <td>1.0</td>\n",
       "      <td>1.0</td>\n",
       "      <td>1</td>\n",
       "    </tr>\n",
       "    <tr>\n",
       "      <th>...</th>\n",
       "      <td>...</td>\n",
       "      <td>...</td>\n",
       "      <td>...</td>\n",
       "      <td>...</td>\n",
       "      <td>...</td>\n",
       "      <td>...</td>\n",
       "      <td>...</td>\n",
       "      <td>...</td>\n",
       "      <td>...</td>\n",
       "      <td>...</td>\n",
       "      <td>...</td>\n",
       "      <td>...</td>\n",
       "      <td>...</td>\n",
       "    </tr>\n",
       "    <tr>\n",
       "      <th>27133</th>\n",
       "      <td>20202021</td>\n",
       "      <td>2021-07-03 00:00:00</td>\n",
       "      <td>P</td>\n",
       "      <td>2020030413</td>\n",
       "      <td>14</td>\n",
       "      <td>26.7792</td>\n",
       "      <td>3.3377</td>\n",
       "      <td>26.7662</td>\n",
       "      <td>2.5065</td>\n",
       "      <td>0.6623</td>\n",
       "      <td>1.0</td>\n",
       "      <td>64.0</td>\n",
       "      <td>77</td>\n",
       "    </tr>\n",
       "    <tr>\n",
       "      <th>27134</th>\n",
       "      <td>20202021</td>\n",
       "      <td>2021-07-06 00:00:00</td>\n",
       "      <td>P</td>\n",
       "      <td>2020030414</td>\n",
       "      <td>8</td>\n",
       "      <td>28.0390</td>\n",
       "      <td>2.7532</td>\n",
       "      <td>26.1948</td>\n",
       "      <td>2.9091</td>\n",
       "      <td>0.4805</td>\n",
       "      <td>142.0</td>\n",
       "      <td>-12.0</td>\n",
       "      <td>77</td>\n",
       "    </tr>\n",
       "    <tr>\n",
       "      <th>27135</th>\n",
       "      <td>20202021</td>\n",
       "      <td>2021-07-06 00:00:00</td>\n",
       "      <td>P</td>\n",
       "      <td>2020030414</td>\n",
       "      <td>14</td>\n",
       "      <td>26.8462</td>\n",
       "      <td>3.3205</td>\n",
       "      <td>26.6538</td>\n",
       "      <td>2.5128</td>\n",
       "      <td>0.6538</td>\n",
       "      <td>15.0</td>\n",
       "      <td>63.0</td>\n",
       "      <td>78</td>\n",
       "    </tr>\n",
       "    <tr>\n",
       "      <th>27136</th>\n",
       "      <td>20202021</td>\n",
       "      <td>2021-07-08 00:00:00</td>\n",
       "      <td>P</td>\n",
       "      <td>2020030415</td>\n",
       "      <td>8</td>\n",
       "      <td>27.9615</td>\n",
       "      <td>2.7179</td>\n",
       "      <td>26.2308</td>\n",
       "      <td>2.8846</td>\n",
       "      <td>0.4744</td>\n",
       "      <td>135.0</td>\n",
       "      <td>-13.0</td>\n",
       "      <td>78</td>\n",
       "    </tr>\n",
       "    <tr>\n",
       "      <th>27137</th>\n",
       "      <td>20202021</td>\n",
       "      <td>2021-07-08 00:00:00</td>\n",
       "      <td>P</td>\n",
       "      <td>2020030415</td>\n",
       "      <td>14</td>\n",
       "      <td>26.8734</td>\n",
       "      <td>3.2911</td>\n",
       "      <td>26.5949</td>\n",
       "      <td>2.4810</td>\n",
       "      <td>0.6582</td>\n",
       "      <td>22.0</td>\n",
       "      <td>64.0</td>\n",
       "      <td>79</td>\n",
       "    </tr>\n",
       "  </tbody>\n",
       "</table>\n",
       "<p>27138 rows × 13 columns</p>\n",
       "</div>"
      ],
      "text/plain": [
       "       seasonID            gameDate gameType      gameID  teamID  \\\n",
       "0      20102011 2010-10-07 23:00:00        R  2010020001       8   \n",
       "1      20102011 2010-10-07 23:00:00        R  2010020001      10   \n",
       "2      20102011 2010-10-07 23:00:00        R  2010020002       4   \n",
       "3      20102011 2010-10-07 23:00:00        R  2010020002       5   \n",
       "4      20102011 2010-10-07 16:00:00        R  2010020003      12   \n",
       "...         ...                 ...      ...         ...     ...   \n",
       "27133  20202021 2021-07-03 00:00:00        P  2020030413      14   \n",
       "27134  20202021 2021-07-06 00:00:00        P  2020030414       8   \n",
       "27135  20202021 2021-07-06 00:00:00        P  2020030414      14   \n",
       "27136  20202021 2021-07-08 00:00:00        P  2020030415       8   \n",
       "27137  20202021 2021-07-08 00:00:00        P  2020030415      14   \n",
       "\n",
       "       shotsForPerGame  goalsForPerGame  shotsAgainstPerGame  \\\n",
       "0              26.0000           2.0000              21.0000   \n",
       "1              21.0000           3.0000              26.0000   \n",
       "2              24.0000           3.0000              29.0000   \n",
       "3              29.0000           2.0000              24.0000   \n",
       "4              27.0000           4.0000              26.0000   \n",
       "...                ...              ...                  ...   \n",
       "27133          26.7792           3.3377              26.7662   \n",
       "27134          28.0390           2.7532              26.1948   \n",
       "27135          26.8462           3.3205              26.6538   \n",
       "27136          27.9615           2.7179              26.2308   \n",
       "27137          26.8734           3.2911              26.5949   \n",
       "\n",
       "       goalsAgainstPerGame  winningPercentage  shotDifferential  \\\n",
       "0                   3.0000             0.0000               5.0   \n",
       "1                   2.0000             1.0000              -5.0   \n",
       "2                   2.0000             1.0000              -5.0   \n",
       "3                   3.0000             0.0000               5.0   \n",
       "4                   3.0000             1.0000               1.0   \n",
       "...                    ...                ...               ...   \n",
       "27133               2.5065             0.6623               1.0   \n",
       "27134               2.9091             0.4805             142.0   \n",
       "27135               2.5128             0.6538              15.0   \n",
       "27136               2.8846             0.4744             135.0   \n",
       "27137               2.4810             0.6582              22.0   \n",
       "\n",
       "       goalDifferential  gameNumber  \n",
       "0                  -1.0           1  \n",
       "1                   1.0           1  \n",
       "2                   1.0           1  \n",
       "3                  -1.0           1  \n",
       "4                   1.0           1  \n",
       "...                 ...         ...  \n",
       "27133              64.0          77  \n",
       "27134             -12.0          77  \n",
       "27135              63.0          78  \n",
       "27136             -13.0          78  \n",
       "27137              64.0          79  \n",
       "\n",
       "[27138 rows x 13 columns]"
      ]
     },
     "execution_count": 65,
     "metadata": {},
     "output_type": "execute_result"
    }
   ],
   "source": [
    "TEAM_STATS"
   ]
  },
  {
   "cell_type": "code",
   "execution_count": 66,
   "metadata": {
    "pycharm": {
     "is_executing": true
    }
   },
   "outputs": [
    {
     "name": "stdout",
     "output_type": "stream",
     "text": [
      "0 %\n",
      "11 %\n",
      "22 %\n",
      "33 %\n",
      "45 %\n",
      "56 %\n",
      "67 %\n",
      "79 %\n",
      "90 %\n"
     ]
    }
   ],
   "source": [
    "teamPredictors = []\n",
    "for index, game in SCHEDULES.iterrows():\n",
    "    if index % 1000 == 0:\n",
    "        print(int((index/len(SCHEDULES))*100),'%')\n",
    "    if game['gameType'] == 'R':\n",
    "        homeTeam = TEAM_STATS[(TEAM_STATS['gameID'] < game['gameID']) & (TEAM_STATS['teamID'] == game['homeTeamID']) &(TEAM_STATS['gameType'] == 'R')]\n",
    "        awayTeam = TEAM_STATS[(TEAM_STATS['gameID'] < game['gameID']) & (TEAM_STATS['teamID'] == game['awayTeamID']) &(TEAM_STATS['gameType'] == 'R')]\n",
    "    else:\n",
    "        homeTeam = TEAM_STATS[(TEAM_STATS['gameID'] < game['gameID']) & (TEAM_STATS['teamID'] == game['homeTeamID'])]\n",
    "        awayTeam = TEAM_STATS[(TEAM_STATS['gameID'] < game['gameID']) & (TEAM_STATS['teamID'] == game['awayTeamID'])]\n",
    "\n",
    "\n",
    "    if len(homeTeam) == 0:\n",
    "        homeTeam = seasonAverages[seasonAverages['seasonID_next'] == game['seasonID']].values[0][1:]\n",
    "    else:\n",
    "        homeTeam = homeTeam.iloc[-1:].values[0][5:12]\n",
    "    if len(awayTeam) == 0:\n",
    "        awayTeam = seasonAverages[seasonAverages['seasonID_next'] == game['seasonID']].values[0][1:]\n",
    "    else:\n",
    "        awayTeam = awayTeam.iloc[-1:].values[0][5:12]\n",
    "    homeTeam = np.append(homeTeam, game['homeTeamGameNumber'])\n",
    "    awayTeam = np.append(awayTeam, game['awayTeamGameNumber'])\n",
    "    \n",
    "    teamPredictors.append(list(homeTeam) + list(awayTeam))  \n",
    " "
   ]
  },
  {
   "cell_type": "code",
   "execution_count": 67,
   "metadata": {
    "pycharm": {
     "is_executing": true
    }
   },
   "outputs": [],
   "source": [
    "modelInput = pd.DataFrame(teamPredictors, columns=['home_shotsForPerGame', \n",
    "                      'home_goalsForPerGame',\n",
    "                      'home_shotsAgainstPerGame',\n",
    "                      'home_goalsAgainstPerGame', \n",
    "                      'home_winningPercentage', \n",
    "                      'home_shotDifferential',\n",
    "                      'home_goalDifferential',\n",
    "                      'home_gameNumber',\n",
    "                      'away_shotsForPerGame', \n",
    "                      'away_goalsForPerGame',\n",
    "                      'away_shotsAgainstPerGame',\n",
    "                      'away_goalsAgainstPerGame', \n",
    "                      'away_winningPercentage', \n",
    "                      'away_shotDifferential',\n",
    "                      'away_goalDifferential',\n",
    "                      'away_gameNumber'])"
   ]
  },
  {
   "cell_type": "code",
   "execution_count": 68,
   "metadata": {
    "pycharm": {
     "is_executing": true
    }
   },
   "outputs": [],
   "source": [
    "modelInput['gameID'] = SCHEDULES['gameID']\n",
    "modelInput['homeTeamID'] = SCHEDULES['homeTeamID']\n",
    "modelInput['awayTeamID'] = SCHEDULES['awayTeamID']"
   ]
  },
  {
   "cell_type": "code",
   "execution_count": 69,
   "metadata": {
    "pycharm": {
     "is_executing": true
    }
   },
   "outputs": [],
   "source": [
    "teamGIM = BOXSCORES[['teamID','gameID','GIM_VALUE']].groupby(['teamID','gameID']).sum().reset_index()"
   ]
  },
  {
   "cell_type": "code",
   "execution_count": 70,
   "metadata": {
    "pycharm": {
     "is_executing": true
    }
   },
   "outputs": [],
   "source": [
    "modelInput = pd.merge(modelInput,teamGIM,how='inner',left_on=['gameID','homeTeamID'],right_on=['gameID','teamID'],suffixes=('', '_home'))"
   ]
  },
  {
   "cell_type": "code",
   "execution_count": 71,
   "metadata": {
    "pycharm": {
     "is_executing": true
    }
   },
   "outputs": [],
   "source": [
    "modelInput = modelInput.drop(['teamID'],axis=1).rename({'GIM_VALUE':'home_GIM_VALUE'},axis=1)"
   ]
  },
  {
   "cell_type": "code",
   "execution_count": 72,
   "metadata": {
    "pycharm": {
     "is_executing": true
    }
   },
   "outputs": [],
   "source": [
    "modelInput = pd.merge(modelInput,teamGIM,how='inner',left_on=['gameID','awayTeamID'],right_on=['gameID','teamID'],suffixes=('', '_away'))"
   ]
  },
  {
   "cell_type": "code",
   "execution_count": 73,
   "metadata": {
    "pycharm": {
     "is_executing": true
    }
   },
   "outputs": [],
   "source": [
    "modelInput = modelInput.drop(['teamID'],axis=1).rename({'GIM_VALUE':'away_GIM_VALUE'},axis=1)"
   ]
  },
  {
   "cell_type": "code",
   "execution_count": 74,
   "metadata": {
    "pycharm": {
     "is_executing": true
    }
   },
   "outputs": [],
   "source": [
    "modelInput = modelInput[['gameID', 'homeTeamID', 'awayTeamID','home_shotsForPerGame', 'home_goalsForPerGame',\n",
    "       'home_shotsAgainstPerGame', 'home_goalsAgainstPerGame',\n",
    "       'home_winningPercentage', 'home_shotDifferential',\n",
    "       'home_goalDifferential', 'home_gameNumber', 'home_GIM_VALUE','away_shotsForPerGame',\n",
    "       'away_goalsForPerGame', 'away_shotsAgainstPerGame',\n",
    "       'away_goalsAgainstPerGame', 'away_winningPercentage',\n",
    "       'away_shotDifferential', 'away_goalDifferential', 'away_gameNumber',\n",
    "       'away_GIM_VALUE']]"
   ]
  },
  {
   "cell_type": "code",
   "execution_count": 75,
   "metadata": {
    "pycharm": {
     "is_executing": true
    }
   },
   "outputs": [
    {
     "data": {
      "text/html": [
       "<div>\n",
       "<style scoped>\n",
       "    .dataframe tbody tr th:only-of-type {\n",
       "        vertical-align: middle;\n",
       "    }\n",
       "\n",
       "    .dataframe tbody tr th {\n",
       "        vertical-align: top;\n",
       "    }\n",
       "\n",
       "    .dataframe thead th {\n",
       "        text-align: right;\n",
       "    }\n",
       "</style>\n",
       "<table border=\"1\" class=\"dataframe\">\n",
       "  <thead>\n",
       "    <tr style=\"text-align: right;\">\n",
       "      <th></th>\n",
       "      <th>gameID</th>\n",
       "      <th>homeTeamID</th>\n",
       "      <th>awayTeamID</th>\n",
       "      <th>home_shotsForPerGame</th>\n",
       "      <th>home_goalsForPerGame</th>\n",
       "      <th>home_shotsAgainstPerGame</th>\n",
       "      <th>home_goalsAgainstPerGame</th>\n",
       "      <th>home_winningPercentage</th>\n",
       "      <th>home_shotDifferential</th>\n",
       "      <th>home_goalDifferential</th>\n",
       "      <th>...</th>\n",
       "      <th>home_GIM_VALUE</th>\n",
       "      <th>away_shotsForPerGame</th>\n",
       "      <th>away_goalsForPerGame</th>\n",
       "      <th>away_shotsAgainstPerGame</th>\n",
       "      <th>away_goalsAgainstPerGame</th>\n",
       "      <th>away_winningPercentage</th>\n",
       "      <th>away_shotDifferential</th>\n",
       "      <th>away_goalDifferential</th>\n",
       "      <th>away_gameNumber</th>\n",
       "      <th>away_GIM_VALUE</th>\n",
       "    </tr>\n",
       "  </thead>\n",
       "  <tbody>\n",
       "  </tbody>\n",
       "</table>\n",
       "<p>0 rows × 21 columns</p>\n",
       "</div>"
      ],
      "text/plain": [
       "Empty DataFrame\n",
       "Columns: [gameID, homeTeamID, awayTeamID, home_shotsForPerGame, home_goalsForPerGame, home_shotsAgainstPerGame, home_goalsAgainstPerGame, home_winningPercentage, home_shotDifferential, home_goalDifferential, home_gameNumber, home_GIM_VALUE, away_shotsForPerGame, away_goalsForPerGame, away_shotsAgainstPerGame, away_goalsAgainstPerGame, away_winningPercentage, away_shotDifferential, away_goalDifferential, away_gameNumber, away_GIM_VALUE]\n",
       "Index: []\n",
       "\n",
       "[0 rows x 21 columns]"
      ]
     },
     "execution_count": 75,
     "metadata": {},
     "output_type": "execute_result"
    }
   ],
   "source": [
    "is_NaN = modelInput.isnull()\n",
    "\n",
    "row_has_NaN = is_NaN.any(axis=1)\n",
    "\n",
    "rows_with_NaN = modelInput[row_has_NaN]\n",
    "rows_with_NaN"
   ]
  },
  {
   "cell_type": "code",
   "execution_count": 76,
   "metadata": {
    "pycharm": {
     "is_executing": true
    }
   },
   "outputs": [],
   "source": [
    "gameOutcome['winner'] = np.where(gameOutcome['homeTeamGoals'] > gameOutcome['awayTeamGoals'],1,0)"
   ]
  },
  {
   "cell_type": "code",
   "execution_count": 77,
   "metadata": {
    "pycharm": {
     "is_executing": true
    }
   },
   "outputs": [],
   "source": [
    "modelInput = pd.merge(modelInput,gameOutcome[['gameID','winner']])"
   ]
  },
  {
   "cell_type": "code",
   "execution_count": 78,
   "metadata": {
    "pycharm": {
     "is_executing": true
    }
   },
   "outputs": [],
   "source": [
    "conn.close()"
   ]
  },
  {
   "cell_type": "code",
   "execution_count": 79,
   "metadata": {
    "pycharm": {
     "is_executing": true
    }
   },
   "outputs": [],
   "source": [
    "modelInput.to_csv('Data/gameOutComeModelInput_P.csv')"
   ]
  },
  {
   "cell_type": "code",
   "execution_count": null,
   "metadata": {
    "pycharm": {
     "is_executing": true
    }
   },
   "outputs": [],
   "source": [
    "modelInput = pd.read_csv('Data/gameOutComeModelInput_P.csv',index_col=0)"
   ]
  },
  {
   "cell_type": "code",
   "execution_count": null,
   "metadata": {
    "pycharm": {
     "is_executing": true
    }
   },
   "outputs": [],
   "source": [
    "modelInput = modelInput[(modelInput['away_gameNumber'] >= 20) & (modelInput['home_gameNumber'] >= 20) ]"
   ]
  },
  {
   "cell_type": "markdown",
   "metadata": {},
   "source": [
    "# Modelling"
   ]
  },
  {
   "cell_type": "code",
   "execution_count": 81,
   "metadata": {
    "pycharm": {
     "is_executing": true
    }
   },
   "outputs": [],
   "source": [
    "x = modelInput.drop(['gameID','homeTeamID','awayTeamID','winner'],axis=1)\n",
    "y = modelInput['winner']"
   ]
  },
  {
   "cell_type": "code",
   "execution_count": 82,
   "metadata": {
    "pycharm": {
     "is_executing": true
    }
   },
   "outputs": [],
   "source": [
    "# Normalizing the data\n",
    "scaler = preprocessing.StandardScaler().fit(x)\n",
    "xScaled = scaler.transform(x)"
   ]
  },
  {
   "cell_type": "code",
   "execution_count": null,
   "metadata": {
    "pycharm": {
     "is_executing": true
    }
   },
   "outputs": [],
   "source": [
    "from pickle import dump\n",
    "dump(scaler, open('game_out_prediction_scaler.pkl', 'wb'))"
   ]
  },
  {
   "cell_type": "code",
   "execution_count": 83,
   "metadata": {
    "pycharm": {
     "is_executing": true
    }
   },
   "outputs": [],
   "source": [
    "xTrain, xTest, yTrain, yTest = train_test_split(xScaled, y, test_size=0.2,random_state=109) # 70% training and 20% test"
   ]
  },
  {
   "cell_type": "markdown",
   "metadata": {},
   "source": [
    "## SVM"
   ]
  },
  {
   "cell_type": "code",
   "execution_count": null,
   "metadata": {
    "pycharm": {
     "is_executing": true
    }
   },
   "outputs": [],
   "source": [
    "clf = svm.SVC(kernel='linear',gamma=1, C=0.1)\n",
    "clf.fit(xTrain, yTrain.values)\n",
    "yPred = clf.predict(xTrain)\n",
    "print(\"Train Accuracy:\",metrics.accuracy_score(yTrain, yPred))\n",
    "yPred = clf.predict(xTest)\n",
    "print(\"Test Accuracy:\",metrics.accuracy_score(yTest, yPred))"
   ]
  },
  {
   "cell_type": "code",
   "execution_count": 84,
   "metadata": {
    "pycharm": {
     "is_executing": true
    }
   },
   "outputs": [
    {
     "name": "stdout",
     "output_type": "stream",
     "text": [
      "Train Accuracy: 0.5766237441630112\n",
      "Test Accuracy: 0.5631013016411998\n"
     ]
    }
   ],
   "source": [
    "clf = svm.SVC(kernel='sigmoid',gamma=0.001, C=10)\n",
    "clf.fit(xTrain, yTrain.values)\n",
    "yPred = clf.predict(xTrain)\n",
    "print(\"Train Accuracy:\",metrics.accuracy_score(yTrain, yPred))\n",
    "yPred = clf.predict(xTest)\n",
    "print(\"Test Accuracy:\",metrics.accuracy_score(yTest, yPred))"
   ]
  },
  {
   "cell_type": "code",
   "execution_count": 85,
   "metadata": {
    "pycharm": {
     "is_executing": true
    }
   },
   "outputs": [],
   "source": [
    "modelInputPreds = clf.predict(xScaled)"
   ]
  },
  {
   "cell_type": "code",
   "execution_count": 94,
   "metadata": {
    "pycharm": {
     "is_executing": true
    }
   },
   "outputs": [
    {
     "data": {
      "text/html": [
       "<div>\n",
       "<style scoped>\n",
       "    .dataframe tbody tr th:only-of-type {\n",
       "        vertical-align: middle;\n",
       "    }\n",
       "\n",
       "    .dataframe tbody tr th {\n",
       "        vertical-align: top;\n",
       "    }\n",
       "\n",
       "    .dataframe thead th {\n",
       "        text-align: right;\n",
       "    }\n",
       "</style>\n",
       "<table border=\"1\" class=\"dataframe\">\n",
       "  <thead>\n",
       "    <tr style=\"text-align: right;\">\n",
       "      <th></th>\n",
       "      <th>gameID</th>\n",
       "      <th>homeTeamID</th>\n",
       "      <th>awayTeamID</th>\n",
       "      <th>home_shotsForPerGame</th>\n",
       "      <th>home_goalsForPerGame</th>\n",
       "      <th>home_shotsAgainstPerGame</th>\n",
       "      <th>home_goalsAgainstPerGame</th>\n",
       "      <th>home_winningPercentage</th>\n",
       "      <th>home_shotDifferential</th>\n",
       "      <th>home_goalDifferential</th>\n",
       "      <th>...</th>\n",
       "      <th>away_goalsForPerGame</th>\n",
       "      <th>away_shotsAgainstPerGame</th>\n",
       "      <th>away_goalsAgainstPerGame</th>\n",
       "      <th>away_winningPercentage</th>\n",
       "      <th>away_shotDifferential</th>\n",
       "      <th>away_goalDifferential</th>\n",
       "      <th>away_gameNumber</th>\n",
       "      <th>away_GIM_VALUE</th>\n",
       "      <th>winner</th>\n",
       "      <th>predictedWinner</th>\n",
       "    </tr>\n",
       "  </thead>\n",
       "  <tbody>\n",
       "    <tr>\n",
       "      <th>1202</th>\n",
       "      <td>2014020465</td>\n",
       "      <td>30</td>\n",
       "      <td>6</td>\n",
       "      <td>29.4828</td>\n",
       "      <td>2.9655</td>\n",
       "      <td>23.5172</td>\n",
       "      <td>2.6552</td>\n",
       "      <td>0.5517</td>\n",
       "      <td>173.0</td>\n",
       "      <td>9.0</td>\n",
       "      <td>...</td>\n",
       "      <td>2.5806</td>\n",
       "      <td>27.2581</td>\n",
       "      <td>2.6452</td>\n",
       "      <td>0.4839</td>\n",
       "      <td>23.0</td>\n",
       "      <td>-2.0</td>\n",
       "      <td>14.0</td>\n",
       "      <td>40.029576</td>\n",
       "      <td>0</td>\n",
       "      <td>1</td>\n",
       "    </tr>\n",
       "  </tbody>\n",
       "</table>\n",
       "<p>1 rows × 23 columns</p>\n",
       "</div>"
      ],
      "text/plain": [
       "          gameID  homeTeamID  awayTeamID  home_shotsForPerGame  \\\n",
       "1202  2014020465          30           6               29.4828   \n",
       "\n",
       "      home_goalsForPerGame  home_shotsAgainstPerGame  \\\n",
       "1202                2.9655                   23.5172   \n",
       "\n",
       "      home_goalsAgainstPerGame  home_winningPercentage  home_shotDifferential  \\\n",
       "1202                    2.6552                  0.5517                  173.0   \n",
       "\n",
       "      home_goalDifferential  ...  away_goalsForPerGame  \\\n",
       "1202                    9.0  ...                2.5806   \n",
       "\n",
       "      away_shotsAgainstPerGame  away_goalsAgainstPerGame  \\\n",
       "1202                   27.2581                    2.6452   \n",
       "\n",
       "      away_winningPercentage  away_shotDifferential  away_goalDifferential  \\\n",
       "1202                  0.4839                   23.0                   -2.0   \n",
       "\n",
       "      away_gameNumber  away_GIM_VALUE  winner  predictedWinner  \n",
       "1202             14.0       40.029576       0                1  \n",
       "\n",
       "[1 rows x 23 columns]"
      ]
     },
     "execution_count": 94,
     "metadata": {},
     "output_type": "execute_result"
    }
   ],
   "source": [
    "modelInput[modelInput['gameID'] ==2014020465]"
   ]
  },
  {
   "cell_type": "code",
   "execution_count": 86,
   "metadata": {
    "pycharm": {
     "is_executing": true
    }
   },
   "outputs": [],
   "source": [
    "modelInput['predictedWinner'] = modelInputPreds"
   ]
  },
  {
   "cell_type": "code",
   "execution_count": 80,
   "metadata": {},
   "outputs": [
    {
     "data": {
      "text/html": [
       "<div>\n",
       "<style scoped>\n",
       "    .dataframe tbody tr th:only-of-type {\n",
       "        vertical-align: middle;\n",
       "    }\n",
       "\n",
       "    .dataframe tbody tr th {\n",
       "        vertical-align: top;\n",
       "    }\n",
       "\n",
       "    .dataframe thead th {\n",
       "        text-align: right;\n",
       "    }\n",
       "</style>\n",
       "<table border=\"1\" class=\"dataframe\">\n",
       "  <thead>\n",
       "    <tr style=\"text-align: right;\">\n",
       "      <th></th>\n",
       "      <th>gameID</th>\n",
       "      <th>homeTeamID</th>\n",
       "      <th>awayTeamID</th>\n",
       "      <th>home_shotsForPerGame</th>\n",
       "      <th>home_goalsForPerGame</th>\n",
       "      <th>home_shotsAgainstPerGame</th>\n",
       "      <th>home_goalsAgainstPerGame</th>\n",
       "      <th>home_winningPercentage</th>\n",
       "      <th>home_shotDifferential</th>\n",
       "      <th>home_goalDifferential</th>\n",
       "      <th>...</th>\n",
       "      <th>away_shotsForPerGame</th>\n",
       "      <th>away_goalsForPerGame</th>\n",
       "      <th>away_shotsAgainstPerGame</th>\n",
       "      <th>away_goalsAgainstPerGame</th>\n",
       "      <th>away_winningPercentage</th>\n",
       "      <th>away_shotDifferential</th>\n",
       "      <th>away_goalDifferential</th>\n",
       "      <th>away_gameNumber</th>\n",
       "      <th>away_GIM_VALUE</th>\n",
       "      <th>winner</th>\n",
       "    </tr>\n",
       "  </thead>\n",
       "  <tbody>\n",
       "    <tr>\n",
       "      <th>8297</th>\n",
       "      <td>2020030415</td>\n",
       "      <td>14</td>\n",
       "      <td>8</td>\n",
       "      <td>26.8462</td>\n",
       "      <td>3.3205</td>\n",
       "      <td>26.6538</td>\n",
       "      <td>2.5128</td>\n",
       "      <td>0.6538</td>\n",
       "      <td>15.0</td>\n",
       "      <td>63.0</td>\n",
       "      <td>...</td>\n",
       "      <td>28.039</td>\n",
       "      <td>2.7532</td>\n",
       "      <td>26.1948</td>\n",
       "      <td>2.9091</td>\n",
       "      <td>0.4805</td>\n",
       "      <td>142.0</td>\n",
       "      <td>-12.0</td>\n",
       "      <td>40.0</td>\n",
       "      <td>33.388916</td>\n",
       "      <td>1</td>\n",
       "    </tr>\n",
       "  </tbody>\n",
       "</table>\n",
       "<p>1 rows × 22 columns</p>\n",
       "</div>"
      ],
      "text/plain": [
       "          gameID  homeTeamID  awayTeamID  home_shotsForPerGame  \\\n",
       "8297  2020030415          14           8               26.8462   \n",
       "\n",
       "      home_goalsForPerGame  home_shotsAgainstPerGame  \\\n",
       "8297                3.3205                   26.6538   \n",
       "\n",
       "      home_goalsAgainstPerGame  home_winningPercentage  home_shotDifferential  \\\n",
       "8297                    2.5128                  0.6538                   15.0   \n",
       "\n",
       "      home_goalDifferential  ...  away_shotsForPerGame  away_goalsForPerGame  \\\n",
       "8297                   63.0  ...                28.039                2.7532   \n",
       "\n",
       "      away_shotsAgainstPerGame  away_goalsAgainstPerGame  \\\n",
       "8297                   26.1948                    2.9091   \n",
       "\n",
       "      away_winningPercentage  away_shotDifferential  away_goalDifferential  \\\n",
       "8297                  0.4805                  142.0                  -12.0   \n",
       "\n",
       "      away_gameNumber  away_GIM_VALUE  winner  \n",
       "8297             40.0       33.388916       1  \n",
       "\n",
       "[1 rows x 22 columns]"
      ]
     },
     "execution_count": 80,
     "metadata": {},
     "output_type": "execute_result"
    }
   ],
   "source": [
    "modelInput[modelInput['gameID'] == 2020030415]"
   ]
  },
  {
   "cell_type": "code",
   "execution_count": null,
   "metadata": {},
   "outputs": [],
   "source": []
  },
  {
   "cell_type": "code",
   "execution_count": 87,
   "metadata": {
    "pycharm": {
     "is_executing": true
    }
   },
   "outputs": [],
   "source": [
    "modelInput[['gameID','homeTeamID','awayTeamID','predictedWinner']].to_csv('game_outcome_predictions.csv')"
   ]
  },
  {
   "cell_type": "code",
   "execution_count": null,
   "metadata": {
    "pycharm": {
     "is_executing": true
    }
   },
   "outputs": [],
   "source": [
    "dump(clf, open('game_outcome_predictino_svm.sav', 'wb'))"
   ]
  },
  {
   "cell_type": "code",
   "execution_count": null,
   "metadata": {
    "pycharm": {
     "is_executing": true
    }
   },
   "outputs": [],
   "source": [
    "clf = svm.SVC(kernel='rbf',gamma=0.01, C=1)\n",
    "clf.fit(xTrain, yTrain.values)\n",
    "yPred = clf.predict(xTrain)\n",
    "print(\"Train Accuracy:\",metrics.accuracy_score(yTrain, yPred))\n",
    "yPred = clf.predict(xTest)\n",
    "print(\"Test Accuracy:\",metrics.accuracy_score(yTest, yPred))"
   ]
  },
  {
   "cell_type": "code",
   "execution_count": null,
   "metadata": {
    "pycharm": {
     "is_executing": true
    }
   },
   "outputs": [],
   "source": [
    "# clf = svm.SVC(kernel='poly',gamma=0.01, C=1)\n",
    "# clf.fit(xTrain, yTrain.values)\n",
    "# yPred = clf.predict(xTrain)\n",
    "# print(\"Train Accuracy:\",metrics.accuracy_score(yTrain, yPred))\n",
    "# yPred = clf.predict(xTest)\n",
    "# print(\"Test Accuracy:\",metrics.accuracy_score(yTest, yPred))"
   ]
  },
  {
   "cell_type": "markdown",
   "metadata": {},
   "source": [
    "## Random Forest"
   ]
  },
  {
   "cell_type": "code",
   "execution_count": null,
   "metadata": {
    "pycharm": {
     "is_executing": true
    }
   },
   "outputs": [],
   "source": [
    "# make predictions using random forest for classification\n",
    "from sklearn.datasets import make_classification\n",
    "from sklearn.ensemble import RandomForestClassifier"
   ]
  },
  {
   "cell_type": "code",
   "execution_count": null,
   "metadata": {
    "pycharm": {
     "is_executing": true
    }
   },
   "outputs": [],
   "source": [
    "# define the model\n",
    "model = RandomForestClassifier(n_estimators = 75, \n",
    "                               criterion=\"entropy\",\n",
    "                               max_depth=75,\n",
    "                               min_samples_split=0.1,\n",
    "                               min_samples_leaf=0.05)\n",
    "# fit the model on the whole dataset\n",
    "model.fit(xTrain, yTrain)\n",
    "\n",
    "yPred = model.predict(xTrain)\n",
    "print(\"Train Accuracy:\",metrics.accuracy_score(yTrain, yPred))\n",
    "yPred = model.predict(xTest)\n",
    "print(\"Test Accuracy:\",metrics.accuracy_score(yTest, yPred))"
   ]
  },
  {
   "cell_type": "code",
   "execution_count": null,
   "metadata": {
    "pycharm": {
     "is_executing": true
    }
   },
   "outputs": [],
   "source": [
    "# define the model\n",
    "model = RandomForestClassifier(n_estimators = 50, \n",
    "                               criterion=\"gini\",\n",
    "                               max_depth=75,\n",
    "                               min_samples_split=0.01,\n",
    "                              min_samples_leaf=0.05)\n",
    "# fit the model on the whole dataset\n",
    "model.fit(xTrain, yTrain)\n",
    "\n",
    "yPred = model.predict(xTrain)\n",
    "print(\"Train Accuracy:\",metrics.accuracy_score(yTrain, yPred))\n",
    "yPred = model.predict(xTest)\n",
    "print(\"Test Accuracy:\",metrics.accuracy_score(yTest, yPred))"
   ]
  },
  {
   "cell_type": "markdown",
   "metadata": {},
   "source": [
    "## XGBoost"
   ]
  },
  {
   "cell_type": "code",
   "execution_count": null,
   "metadata": {
    "pycharm": {
     "is_executing": true
    }
   },
   "outputs": [],
   "source": [
    "from xgboost import XGBClassifier\n",
    "import xgboost as xgb\n",
    "import matplotlib.pyplot as plt"
   ]
  },
  {
   "cell_type": "code",
   "execution_count": null,
   "metadata": {
    "pycharm": {
     "is_executing": true
    }
   },
   "outputs": [],
   "source": [
    "param_grid = {'scale_pos_weight':[1],\n",
    "                          'learning_rate':[0.001,],  \n",
    "                          'colsample_bytree' : [0.1,.2,.3,0.4,0.5,0.6,0.7,0.8,0.9,1],\n",
    "                          'subsample' : [1,],\n",
    "                          'objective':['binary:logistic'], \n",
    "                          'n_estimators':[1000,1500], \n",
    "                          'reg_alpha' : [0.3],\n",
    "                          'max_depth':[4], \n",
    "                          'gamma':[0,1,5,10],'eval_metric':[\"error\"]}"
   ]
  },
  {
   "cell_type": "code",
   "execution_count": null,
   "metadata": {
    "pycharm": {
     "is_executing": true
    }
   },
   "outputs": [],
   "source": [
    "grid = GridSearchCV(XGBClassifier(), param_grid, refit=True, verbose=1,n_jobs=-1,cv=2)\n",
    "grid.fit(xTrain, yTrain)"
   ]
  },
  {
   "cell_type": "code",
   "execution_count": null,
   "metadata": {
    "pycharm": {
     "is_executing": true
    }
   },
   "outputs": [],
   "source": [
    "print(grid.best_estimator_)"
   ]
  },
  {
   "cell_type": "code",
   "execution_count": null,
   "metadata": {
    "pycharm": {
     "is_executing": true
    }
   },
   "outputs": [],
   "source": [
    "model = XGBClassifier(silent=True, \n",
    "                      scale_pos_weight=1,\n",
    "                      learning_rate=0.001,  \n",
    "                      colsample_bytree = 0.4,\n",
    "                      subsample = 1,\n",
    "                      objective='binary:logistic', \n",
    "                      n_estimators=1000, \n",
    "                      reg_alpha = 0.3,\n",
    "                      max_depth=4, \n",
    "                      gamma=10)\n",
    "\n",
    "eval_metric = [\"error\"]\n",
    "\n",
    "# fit the model\n",
    "model.fit(xTrain, yTrain)"
   ]
  },
  {
   "cell_type": "code",
   "execution_count": null,
   "metadata": {
    "pycharm": {
     "is_executing": true
    }
   },
   "outputs": [],
   "source": [
    "yPred = model.predict(xTrain)\n",
    "print(\"Train Accuracy:\",metrics.accuracy_score(yTrain, yPred))\n",
    "yPred = model.predict(xTest)\n",
    "print(\"Test Accuracy:\",metrics.accuracy_score(yTest, yPred))"
   ]
  },
  {
   "cell_type": "code",
   "execution_count": null,
   "metadata": {
    "pycharm": {
     "is_executing": true
    }
   },
   "outputs": [],
   "source": [
    "# retrieve performance metrics\n",
    "results = model.evals_result()"
   ]
  },
  {
   "cell_type": "code",
   "execution_count": null,
   "metadata": {
    "pycharm": {
     "is_executing": true
    }
   },
   "outputs": [],
   "source": [
    "# plot learning curves\n",
    "plt.plot(results['validation_0']['error'], label='train')\n",
    "plt.plot(results['validation_1']['error'], label='test')\n",
    "# show the legend\n",
    "plt.legend()\n",
    "# show the plot\n",
    "plt.show()"
   ]
  },
  {
   "cell_type": "code",
   "execution_count": null,
   "metadata": {
    "pycharm": {
     "is_executing": true
    }
   },
   "outputs": [],
   "source": []
  },
  {
   "cell_type": "code",
   "execution_count": null,
   "metadata": {
    "pycharm": {
     "is_executing": true
    }
   },
   "outputs": [],
   "source": []
  },
  {
   "cell_type": "code",
   "execution_count": null,
   "metadata": {
    "pycharm": {
     "is_executing": true
    }
   },
   "outputs": [],
   "source": []
  },
  {
   "cell_type": "code",
   "execution_count": null,
   "metadata": {
    "pycharm": {
     "is_executing": true
    }
   },
   "outputs": [],
   "source": []
  },
  {
   "cell_type": "code",
   "execution_count": null,
   "metadata": {
    "pycharm": {
     "is_executing": true
    }
   },
   "outputs": [],
   "source": [
    "plt.figure(figsize=(20,15))\n",
    "xgb.plot_importance(model, ax=plt.gca())"
   ]
  },
  {
   "cell_type": "code",
   "execution_count": null,
   "metadata": {
    "pycharm": {
     "is_executing": true
    }
   },
   "outputs": [],
   "source": [
    "modelInput.columns"
   ]
  },
  {
   "cell_type": "code",
   "execution_count": null,
   "metadata": {
    "pycharm": {
     "is_executing": true
    }
   },
   "outputs": [],
   "source": []
  },
  {
   "cell_type": "code",
   "execution_count": null,
   "metadata": {
    "pycharm": {
     "is_executing": true
    }
   },
   "outputs": [],
   "source": []
  },
  {
   "cell_type": "code",
   "execution_count": null,
   "metadata": {
    "pycharm": {
     "is_executing": true
    }
   },
   "outputs": [],
   "source": []
  }
 ],
 "metadata": {
  "kernelspec": {
   "display_name": "Python 3",
   "language": "python",
   "name": "python3"
  },
  "language_info": {
   "codemirror_mode": {
    "name": "ipython",
    "version": 3
   },
   "file_extension": ".py",
   "mimetype": "text/x-python",
   "name": "python",
   "nbconvert_exporter": "python",
   "pygments_lexer": "ipython3",
   "version": "3.8.5"
  }
 },
 "nbformat": 4,
 "nbformat_minor": 1
}
