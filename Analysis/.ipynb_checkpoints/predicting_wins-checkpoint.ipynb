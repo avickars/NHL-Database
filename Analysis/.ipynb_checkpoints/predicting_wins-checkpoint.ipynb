{
 "cells": [
  {
   "cell_type": "code",
   "execution_count": 1,
   "metadata": {},
   "outputs": [],
   "source": [
    "# Reading in packages\n",
    "import pandas as pd\n",
    "from SQLCode import DatabaseConnection\n",
    "from SQLCode import DatabaseCredentials as DBC\n",
    "import numpy as np\n",
    "\n",
    "from sklearn.model_selection import train_test_split\n",
    "from sklearn import preprocessing\n",
    "from sklearn import svm\n",
    "from sklearn import metrics\n",
    "from sklearn.model_selection import cross_val_score"
   ]
  },
  {
   "cell_type": "code",
   "execution_count": 2,
   "metadata": {},
   "outputs": [],
   "source": [
    "# Opening connection\n",
    "creds = DBC.DataBaseCredentials()\n",
    "conn = DatabaseConnection.sql_connection(creds.server, creds.database, creds.user, creds.password)\n",
    "connection = conn.open()\n",
    "cursor = connection.cursor()"
   ]
  },
  {
   "cell_type": "code",
   "execution_count": 3,
   "metadata": {},
   "outputs": [],
   "source": [
    "# Getting the live_feed data\n",
    "live_feed = pd.read_sql_query(\"select * from live_feed where gameID >= 2020020001\", connection)"
   ]
  },
  {
   "cell_type": "code",
   "execution_count": 4,
   "metadata": {},
   "outputs": [],
   "source": [
    "# Getting the seasons data\n",
    "seasons = pd.read_sql_query(\"select * from schedules where gameID >= 2020020001\", connection)"
   ]
  },
  {
   "cell_type": "code",
   "execution_count": 5,
   "metadata": {},
   "outputs": [],
   "source": [
    "# Filtering to regular seasons games and 20102011 onwards (when live data started)\n",
    "seasonsFiltered = seasons[seasons['seasonID'] >= 20102011]\n",
    "seasonsFiltered = seasonsFiltered[seasonsFiltered['gameType'] == 'R']"
   ]
  },
  {
   "cell_type": "code",
   "execution_count": 6,
   "metadata": {},
   "outputs": [],
   "source": [
    "# Getting and filtering the raw data\n",
    "rawData = pd.merge(live_feed,seasons, how='inner',on='gameID')\n",
    "rawData = rawData[rawData['seasonID'] >= 20102011]\n",
    "rawData = rawData[rawData['gameType'] == 'R']"
   ]
  },
  {
   "cell_type": "markdown",
   "metadata": {},
   "source": [
    "### Creating Initial Data Sets"
   ]
  },
  {
   "cell_type": "code",
   "execution_count": 7,
   "metadata": {},
   "outputs": [],
   "source": [
    "# Filtering to the rows with the required data (goals and shots)\n",
    "statsRaw = rawData[((rawData['eventTypeID'] == 'GOAL') & (rawData['playerType'] == 'Scorer')) |\n",
    "               ((rawData['eventTypeID'] == 'SHOT') & (rawData['playerType'] == 'Shooter'))]"
   ]
  },
  {
   "cell_type": "code",
   "execution_count": 8,
   "metadata": {},
   "outputs": [],
   "source": [
    "# Getting counts of the \"for\" stats.  \n",
    "statsFor = pd.DataFrame(statsRaw.groupby(['gameID','teamID','eventTypeID']).size()).reset_index()\n",
    "statsFor = statsFor.rename({0:'count'}, axis=1)"
   ]
  },
  {
   "cell_type": "code",
   "execution_count": 9,
   "metadata": {},
   "outputs": [],
   "source": [
    "# Pivoting so each stat gets its own column\n",
    "statsFor = pd.pivot_table(data=statsFor, values='count',index=['gameID','teamID'], columns='eventTypeID').reset_index()"
   ]
  },
  {
   "cell_type": "code",
   "execution_count": 10,
   "metadata": {},
   "outputs": [
    {
     "data": {
      "text/html": [
       "<div>\n",
       "<style scoped>\n",
       "    .dataframe tbody tr th:only-of-type {\n",
       "        vertical-align: middle;\n",
       "    }\n",
       "\n",
       "    .dataframe tbody tr th {\n",
       "        vertical-align: top;\n",
       "    }\n",
       "\n",
       "    .dataframe thead th {\n",
       "        text-align: right;\n",
       "    }\n",
       "</style>\n",
       "<table border=\"1\" class=\"dataframe\">\n",
       "  <thead>\n",
       "    <tr style=\"text-align: right;\">\n",
       "      <th>eventTypeID</th>\n",
       "      <th>gameID</th>\n",
       "      <th>teamID</th>\n",
       "      <th>GOAL</th>\n",
       "      <th>SHOT</th>\n",
       "    </tr>\n",
       "  </thead>\n",
       "  <tbody>\n",
       "    <tr>\n",
       "      <th>0</th>\n",
       "      <td>2020020001</td>\n",
       "      <td>4.0</td>\n",
       "      <td>6.0</td>\n",
       "      <td>21.0</td>\n",
       "    </tr>\n",
       "    <tr>\n",
       "      <th>1</th>\n",
       "      <td>2020020001</td>\n",
       "      <td>5.0</td>\n",
       "      <td>3.0</td>\n",
       "      <td>31.0</td>\n",
       "    </tr>\n",
       "    <tr>\n",
       "      <th>2</th>\n",
       "      <td>2020020002</td>\n",
       "      <td>14.0</td>\n",
       "      <td>5.0</td>\n",
       "      <td>28.0</td>\n",
       "    </tr>\n",
       "    <tr>\n",
       "      <th>3</th>\n",
       "      <td>2020020002</td>\n",
       "      <td>16.0</td>\n",
       "      <td>1.0</td>\n",
       "      <td>22.0</td>\n",
       "    </tr>\n",
       "    <tr>\n",
       "      <th>4</th>\n",
       "      <td>2020020003</td>\n",
       "      <td>8.0</td>\n",
       "      <td>4.0</td>\n",
       "      <td>28.0</td>\n",
       "    </tr>\n",
       "    <tr>\n",
       "      <th>...</th>\n",
       "      <td>...</td>\n",
       "      <td>...</td>\n",
       "      <td>...</td>\n",
       "      <td>...</td>\n",
       "    </tr>\n",
       "    <tr>\n",
       "      <th>1731</th>\n",
       "      <td>2020020866</td>\n",
       "      <td>54.0</td>\n",
       "      <td>4.0</td>\n",
       "      <td>25.0</td>\n",
       "    </tr>\n",
       "    <tr>\n",
       "      <th>1732</th>\n",
       "      <td>2020020867</td>\n",
       "      <td>21.0</td>\n",
       "      <td>3.0</td>\n",
       "      <td>27.0</td>\n",
       "    </tr>\n",
       "    <tr>\n",
       "      <th>1733</th>\n",
       "      <td>2020020867</td>\n",
       "      <td>26.0</td>\n",
       "      <td>2.0</td>\n",
       "      <td>16.0</td>\n",
       "    </tr>\n",
       "    <tr>\n",
       "      <th>1734</th>\n",
       "      <td>2020020868</td>\n",
       "      <td>28.0</td>\n",
       "      <td>4.0</td>\n",
       "      <td>44.0</td>\n",
       "    </tr>\n",
       "    <tr>\n",
       "      <th>1735</th>\n",
       "      <td>2020020868</td>\n",
       "      <td>53.0</td>\n",
       "      <td>5.0</td>\n",
       "      <td>27.0</td>\n",
       "    </tr>\n",
       "  </tbody>\n",
       "</table>\n",
       "<p>1736 rows × 4 columns</p>\n",
       "</div>"
      ],
      "text/plain": [
       "eventTypeID      gameID  teamID  GOAL  SHOT\n",
       "0            2020020001     4.0   6.0  21.0\n",
       "1            2020020001     5.0   3.0  31.0\n",
       "2            2020020002    14.0   5.0  28.0\n",
       "3            2020020002    16.0   1.0  22.0\n",
       "4            2020020003     8.0   4.0  28.0\n",
       "...                 ...     ...   ...   ...\n",
       "1731         2020020866    54.0   4.0  25.0\n",
       "1732         2020020867    21.0   3.0  27.0\n",
       "1733         2020020867    26.0   2.0  16.0\n",
       "1734         2020020868    28.0   4.0  44.0\n",
       "1735         2020020868    53.0   5.0  27.0\n",
       "\n",
       "[1736 rows x 4 columns]"
      ]
     },
     "execution_count": 10,
     "metadata": {},
     "output_type": "execute_result"
    }
   ],
   "source": [
    "statsFor"
   ]
  },
  {
   "cell_type": "code",
   "execution_count": 11,
   "metadata": {},
   "outputs": [],
   "source": [
    "# Defing the stats \"against\" table\n",
    "statsAgainst = statsRaw[['gameID','eventTypeID']]"
   ]
  },
  {
   "cell_type": "code",
   "execution_count": 12,
   "metadata": {},
   "outputs": [
    {
     "name": "stderr",
     "output_type": "stream",
     "text": [
      "<ipython-input-12-dca7e176261a>:2: SettingWithCopyWarning: \n",
      "A value is trying to be set on a copy of a slice from a DataFrame.\n",
      "Try using .loc[row_indexer,col_indexer] = value instead\n",
      "\n",
      "See the caveats in the documentation: https://pandas.pydata.org/pandas-docs/stable/user_guide/indexing.html#returning-a-view-versus-a-copy\n",
      "  statsAgainst['teamID'] = statsRaw.apply(lambda row: row['homeTeamID'] if row['teamID'] != row['homeTeamID'] else row['awayTeamID'],axis=1)\n"
     ]
    }
   ],
   "source": [
    "# Getting the \"against\" team\n",
    "statsAgainst['teamID'] = statsRaw.apply(lambda row: row['homeTeamID'] if row['teamID'] != row['homeTeamID'] else row['awayTeamID'],axis=1)"
   ]
  },
  {
   "cell_type": "code",
   "execution_count": 13,
   "metadata": {},
   "outputs": [],
   "source": [
    "# Getting the stats counts\n",
    "statsAgainst = pd.DataFrame(statsAgainst.groupby(['gameID','teamID','eventTypeID']).size()).reset_index()\n",
    "statsAgainst = statsAgainst.rename({0:'count'}, axis=1)"
   ]
  },
  {
   "cell_type": "code",
   "execution_count": 14,
   "metadata": {},
   "outputs": [],
   "source": [
    "# Pivoting so each stat gets its own column\n",
    "statsAgainst = pd.pivot_table(data=statsAgainst, values='count',index=['gameID','teamID'], columns='eventTypeID').reset_index()"
   ]
  },
  {
   "cell_type": "code",
   "execution_count": 15,
   "metadata": {},
   "outputs": [
    {
     "data": {
      "text/html": [
       "<div>\n",
       "<style scoped>\n",
       "    .dataframe tbody tr th:only-of-type {\n",
       "        vertical-align: middle;\n",
       "    }\n",
       "\n",
       "    .dataframe tbody tr th {\n",
       "        vertical-align: top;\n",
       "    }\n",
       "\n",
       "    .dataframe thead th {\n",
       "        text-align: right;\n",
       "    }\n",
       "</style>\n",
       "<table border=\"1\" class=\"dataframe\">\n",
       "  <thead>\n",
       "    <tr style=\"text-align: right;\">\n",
       "      <th>eventTypeID</th>\n",
       "      <th>gameID</th>\n",
       "      <th>teamID</th>\n",
       "      <th>GOAL</th>\n",
       "      <th>SHOT</th>\n",
       "    </tr>\n",
       "  </thead>\n",
       "  <tbody>\n",
       "    <tr>\n",
       "      <th>0</th>\n",
       "      <td>2020020001</td>\n",
       "      <td>4</td>\n",
       "      <td>3.0</td>\n",
       "      <td>31.0</td>\n",
       "    </tr>\n",
       "    <tr>\n",
       "      <th>1</th>\n",
       "      <td>2020020001</td>\n",
       "      <td>5</td>\n",
       "      <td>6.0</td>\n",
       "      <td>21.0</td>\n",
       "    </tr>\n",
       "    <tr>\n",
       "      <th>2</th>\n",
       "      <td>2020020002</td>\n",
       "      <td>14</td>\n",
       "      <td>1.0</td>\n",
       "      <td>22.0</td>\n",
       "    </tr>\n",
       "    <tr>\n",
       "      <th>3</th>\n",
       "      <td>2020020002</td>\n",
       "      <td>16</td>\n",
       "      <td>5.0</td>\n",
       "      <td>28.0</td>\n",
       "    </tr>\n",
       "    <tr>\n",
       "      <th>4</th>\n",
       "      <td>2020020003</td>\n",
       "      <td>8</td>\n",
       "      <td>5.0</td>\n",
       "      <td>29.0</td>\n",
       "    </tr>\n",
       "    <tr>\n",
       "      <th>...</th>\n",
       "      <td>...</td>\n",
       "      <td>...</td>\n",
       "      <td>...</td>\n",
       "      <td>...</td>\n",
       "    </tr>\n",
       "    <tr>\n",
       "      <th>1731</th>\n",
       "      <td>2020020866</td>\n",
       "      <td>54</td>\n",
       "      <td>1.0</td>\n",
       "      <td>20.0</td>\n",
       "    </tr>\n",
       "    <tr>\n",
       "      <th>1732</th>\n",
       "      <td>2020020867</td>\n",
       "      <td>21</td>\n",
       "      <td>2.0</td>\n",
       "      <td>16.0</td>\n",
       "    </tr>\n",
       "    <tr>\n",
       "      <th>1733</th>\n",
       "      <td>2020020867</td>\n",
       "      <td>26</td>\n",
       "      <td>3.0</td>\n",
       "      <td>27.0</td>\n",
       "    </tr>\n",
       "    <tr>\n",
       "      <th>1734</th>\n",
       "      <td>2020020868</td>\n",
       "      <td>28</td>\n",
       "      <td>5.0</td>\n",
       "      <td>27.0</td>\n",
       "    </tr>\n",
       "    <tr>\n",
       "      <th>1735</th>\n",
       "      <td>2020020868</td>\n",
       "      <td>53</td>\n",
       "      <td>4.0</td>\n",
       "      <td>44.0</td>\n",
       "    </tr>\n",
       "  </tbody>\n",
       "</table>\n",
       "<p>1736 rows × 4 columns</p>\n",
       "</div>"
      ],
      "text/plain": [
       "eventTypeID      gameID  teamID  GOAL  SHOT\n",
       "0            2020020001       4   3.0  31.0\n",
       "1            2020020001       5   6.0  21.0\n",
       "2            2020020002      14   1.0  22.0\n",
       "3            2020020002      16   5.0  28.0\n",
       "4            2020020003       8   5.0  29.0\n",
       "...                 ...     ...   ...   ...\n",
       "1731         2020020866      54   1.0  20.0\n",
       "1732         2020020867      21   2.0  16.0\n",
       "1733         2020020867      26   3.0  27.0\n",
       "1734         2020020868      28   5.0  27.0\n",
       "1735         2020020868      53   4.0  44.0\n",
       "\n",
       "[1736 rows x 4 columns]"
      ]
     },
     "execution_count": 15,
     "metadata": {},
     "output_type": "execute_result"
    }
   ],
   "source": [
    "statsAgainst "
   ]
  },
  {
   "cell_type": "markdown",
   "metadata": {},
   "source": [
    "### Create complete schedule table"
   ]
  },
  {
   "cell_type": "code",
   "execution_count": 16,
   "metadata": {},
   "outputs": [],
   "source": [
    "# Expanding the schedule into a row for each game an individual team played\n",
    "seasonsExpanded = pd.concat([seasonsFiltered[['seasonID','gameID','gameType','homeTeamID']].rename({'homeTeamID':'teamID'},axis=1),\n",
    "          seasonsFiltered[['seasonID','gameID','gameType','awayTeamID']].rename({'awayTeamID':'teamID'},axis=1)])"
   ]
  },
  {
   "cell_type": "code",
   "execution_count": 17,
   "metadata": {},
   "outputs": [
    {
     "data": {
      "text/html": [
       "<div>\n",
       "<style scoped>\n",
       "    .dataframe tbody tr th:only-of-type {\n",
       "        vertical-align: middle;\n",
       "    }\n",
       "\n",
       "    .dataframe tbody tr th {\n",
       "        vertical-align: top;\n",
       "    }\n",
       "\n",
       "    .dataframe thead th {\n",
       "        text-align: right;\n",
       "    }\n",
       "</style>\n",
       "<table border=\"1\" class=\"dataframe\">\n",
       "  <thead>\n",
       "    <tr style=\"text-align: right;\">\n",
       "      <th>eventTypeID</th>\n",
       "      <th>gameID</th>\n",
       "      <th>teamID</th>\n",
       "      <th>GOAL</th>\n",
       "      <th>SHOT</th>\n",
       "    </tr>\n",
       "  </thead>\n",
       "  <tbody>\n",
       "    <tr>\n",
       "      <th>0</th>\n",
       "      <td>2020020001</td>\n",
       "      <td>4</td>\n",
       "      <td>3.0</td>\n",
       "      <td>31.0</td>\n",
       "    </tr>\n",
       "    <tr>\n",
       "      <th>1</th>\n",
       "      <td>2020020001</td>\n",
       "      <td>5</td>\n",
       "      <td>6.0</td>\n",
       "      <td>21.0</td>\n",
       "    </tr>\n",
       "    <tr>\n",
       "      <th>2</th>\n",
       "      <td>2020020002</td>\n",
       "      <td>14</td>\n",
       "      <td>1.0</td>\n",
       "      <td>22.0</td>\n",
       "    </tr>\n",
       "    <tr>\n",
       "      <th>3</th>\n",
       "      <td>2020020002</td>\n",
       "      <td>16</td>\n",
       "      <td>5.0</td>\n",
       "      <td>28.0</td>\n",
       "    </tr>\n",
       "    <tr>\n",
       "      <th>4</th>\n",
       "      <td>2020020003</td>\n",
       "      <td>8</td>\n",
       "      <td>5.0</td>\n",
       "      <td>29.0</td>\n",
       "    </tr>\n",
       "    <tr>\n",
       "      <th>...</th>\n",
       "      <td>...</td>\n",
       "      <td>...</td>\n",
       "      <td>...</td>\n",
       "      <td>...</td>\n",
       "    </tr>\n",
       "    <tr>\n",
       "      <th>1731</th>\n",
       "      <td>2020020866</td>\n",
       "      <td>54</td>\n",
       "      <td>1.0</td>\n",
       "      <td>20.0</td>\n",
       "    </tr>\n",
       "    <tr>\n",
       "      <th>1732</th>\n",
       "      <td>2020020867</td>\n",
       "      <td>21</td>\n",
       "      <td>2.0</td>\n",
       "      <td>16.0</td>\n",
       "    </tr>\n",
       "    <tr>\n",
       "      <th>1733</th>\n",
       "      <td>2020020867</td>\n",
       "      <td>26</td>\n",
       "      <td>3.0</td>\n",
       "      <td>27.0</td>\n",
       "    </tr>\n",
       "    <tr>\n",
       "      <th>1734</th>\n",
       "      <td>2020020868</td>\n",
       "      <td>28</td>\n",
       "      <td>5.0</td>\n",
       "      <td>27.0</td>\n",
       "    </tr>\n",
       "    <tr>\n",
       "      <th>1735</th>\n",
       "      <td>2020020868</td>\n",
       "      <td>53</td>\n",
       "      <td>4.0</td>\n",
       "      <td>44.0</td>\n",
       "    </tr>\n",
       "  </tbody>\n",
       "</table>\n",
       "<p>1736 rows × 4 columns</p>\n",
       "</div>"
      ],
      "text/plain": [
       "eventTypeID      gameID  teamID  GOAL  SHOT\n",
       "0            2020020001       4   3.0  31.0\n",
       "1            2020020001       5   6.0  21.0\n",
       "2            2020020002      14   1.0  22.0\n",
       "3            2020020002      16   5.0  28.0\n",
       "4            2020020003       8   5.0  29.0\n",
       "...                 ...     ...   ...   ...\n",
       "1731         2020020866      54   1.0  20.0\n",
       "1732         2020020867      21   2.0  16.0\n",
       "1733         2020020867      26   3.0  27.0\n",
       "1734         2020020868      28   5.0  27.0\n",
       "1735         2020020868      53   4.0  44.0\n",
       "\n",
       "[1736 rows x 4 columns]"
      ]
     },
     "execution_count": 17,
     "metadata": {},
     "output_type": "execute_result"
    }
   ],
   "source": [
    "statsAgainst"
   ]
  },
  {
   "cell_type": "code",
   "execution_count": 18,
   "metadata": {},
   "outputs": [
    {
     "data": {
      "text/html": [
       "<div>\n",
       "<style scoped>\n",
       "    .dataframe tbody tr th:only-of-type {\n",
       "        vertical-align: middle;\n",
       "    }\n",
       "\n",
       "    .dataframe tbody tr th {\n",
       "        vertical-align: top;\n",
       "    }\n",
       "\n",
       "    .dataframe thead th {\n",
       "        text-align: right;\n",
       "    }\n",
       "</style>\n",
       "<table border=\"1\" class=\"dataframe\">\n",
       "  <thead>\n",
       "    <tr style=\"text-align: right;\">\n",
       "      <th>eventTypeID</th>\n",
       "      <th>gameID</th>\n",
       "      <th>teamID</th>\n",
       "      <th>GOAL</th>\n",
       "      <th>SHOT</th>\n",
       "    </tr>\n",
       "  </thead>\n",
       "  <tbody>\n",
       "    <tr>\n",
       "      <th>0</th>\n",
       "      <td>2020020001</td>\n",
       "      <td>4.0</td>\n",
       "      <td>6.0</td>\n",
       "      <td>21.0</td>\n",
       "    </tr>\n",
       "    <tr>\n",
       "      <th>1</th>\n",
       "      <td>2020020001</td>\n",
       "      <td>5.0</td>\n",
       "      <td>3.0</td>\n",
       "      <td>31.0</td>\n",
       "    </tr>\n",
       "    <tr>\n",
       "      <th>2</th>\n",
       "      <td>2020020002</td>\n",
       "      <td>14.0</td>\n",
       "      <td>5.0</td>\n",
       "      <td>28.0</td>\n",
       "    </tr>\n",
       "    <tr>\n",
       "      <th>3</th>\n",
       "      <td>2020020002</td>\n",
       "      <td>16.0</td>\n",
       "      <td>1.0</td>\n",
       "      <td>22.0</td>\n",
       "    </tr>\n",
       "    <tr>\n",
       "      <th>4</th>\n",
       "      <td>2020020003</td>\n",
       "      <td>8.0</td>\n",
       "      <td>4.0</td>\n",
       "      <td>28.0</td>\n",
       "    </tr>\n",
       "    <tr>\n",
       "      <th>...</th>\n",
       "      <td>...</td>\n",
       "      <td>...</td>\n",
       "      <td>...</td>\n",
       "      <td>...</td>\n",
       "    </tr>\n",
       "    <tr>\n",
       "      <th>1731</th>\n",
       "      <td>2020020866</td>\n",
       "      <td>54.0</td>\n",
       "      <td>4.0</td>\n",
       "      <td>25.0</td>\n",
       "    </tr>\n",
       "    <tr>\n",
       "      <th>1732</th>\n",
       "      <td>2020020867</td>\n",
       "      <td>21.0</td>\n",
       "      <td>3.0</td>\n",
       "      <td>27.0</td>\n",
       "    </tr>\n",
       "    <tr>\n",
       "      <th>1733</th>\n",
       "      <td>2020020867</td>\n",
       "      <td>26.0</td>\n",
       "      <td>2.0</td>\n",
       "      <td>16.0</td>\n",
       "    </tr>\n",
       "    <tr>\n",
       "      <th>1734</th>\n",
       "      <td>2020020868</td>\n",
       "      <td>28.0</td>\n",
       "      <td>4.0</td>\n",
       "      <td>44.0</td>\n",
       "    </tr>\n",
       "    <tr>\n",
       "      <th>1735</th>\n",
       "      <td>2020020868</td>\n",
       "      <td>53.0</td>\n",
       "      <td>5.0</td>\n",
       "      <td>27.0</td>\n",
       "    </tr>\n",
       "  </tbody>\n",
       "</table>\n",
       "<p>1736 rows × 4 columns</p>\n",
       "</div>"
      ],
      "text/plain": [
       "eventTypeID      gameID  teamID  GOAL  SHOT\n",
       "0            2020020001     4.0   6.0  21.0\n",
       "1            2020020001     5.0   3.0  31.0\n",
       "2            2020020002    14.0   5.0  28.0\n",
       "3            2020020002    16.0   1.0  22.0\n",
       "4            2020020003     8.0   4.0  28.0\n",
       "...                 ...     ...   ...   ...\n",
       "1731         2020020866    54.0   4.0  25.0\n",
       "1732         2020020867    21.0   3.0  27.0\n",
       "1733         2020020867    26.0   2.0  16.0\n",
       "1734         2020020868    28.0   4.0  44.0\n",
       "1735         2020020868    53.0   5.0  27.0\n",
       "\n",
       "[1736 rows x 4 columns]"
      ]
     },
     "execution_count": 18,
     "metadata": {},
     "output_type": "execute_result"
    }
   ],
   "source": [
    "statsFor"
   ]
  },
  {
   "cell_type": "markdown",
   "metadata": {},
   "source": [
    "### Extending data set for every game"
   ]
  },
  {
   "cell_type": "code",
   "execution_count": 19,
   "metadata": {},
   "outputs": [],
   "source": [
    "# Merging the stats for and against into a single table.  \n",
    "# Notice the left join on seasonsExpanded to ensure we aren't losing any data\n",
    "stats = pd.merge(seasonsExpanded, \n",
    "                 statsFor, \n",
    "                 how='left', \n",
    "                 left_on=['gameID','teamID'],\n",
    "                 right_on=['gameID','teamID'])\n",
    "stats = stats.rename({'GOAL':'goalsFor','SHOT':'shotsFor'},axis=1)\n",
    "stats = pd.merge(stats , \n",
    "                 statsAgainst, \n",
    "                 how='left', \n",
    "                 left_on=['gameID','teamID'],\n",
    "                 right_on=['gameID','teamID'])\n",
    "stats = stats.rename({'GOAL':'goalsAgainst','SHOT':'shotsAgainst'},axis=1)"
   ]
  },
  {
   "cell_type": "code",
   "execution_count": 20,
   "metadata": {},
   "outputs": [],
   "source": [
    "# Setting no stats (i.e. NA) to 0\n",
    "stats['goalsFor'] = stats['goalsFor'].apply(lambda x: 0 if pd.isna(x) else x)\n",
    "stats['goalsAgainst'] = stats['goalsAgainst'].apply(lambda x: 0 if pd.isna(x) else x)\n",
    "stats['shotsAgainst'] = stats['shotsAgainst'].apply(lambda x: 0 if pd.isna(x) else x)\n",
    "stats['shotsFor'] = stats['shotsFor'].apply(lambda x: 0 if pd.isna(x) else x)"
   ]
  },
  {
   "cell_type": "code",
   "execution_count": 21,
   "metadata": {},
   "outputs": [],
   "source": [
    "# Sorting the values\n",
    "stats = stats.sort_values(['seasonID','gameID'])\n",
    "\n",
    "# Grabbing this now to use in \"Extracting the Game Outcome\"\n",
    "statsSimple = stats"
   ]
  },
  {
   "cell_type": "markdown",
   "metadata": {},
   "source": [
    "### Creating the Statistics"
   ]
  },
  {
   "cell_type": "code",
   "execution_count": 22,
   "metadata": {},
   "outputs": [],
   "source": [
    "# Creating a game number for every game per team\n",
    "stats['gameNumber'] = stats.groupby(['seasonID','teamID']).cumcount()+1"
   ]
  },
  {
   "cell_type": "code",
   "execution_count": 23,
   "metadata": {},
   "outputs": [],
   "source": [
    "# Getting the rolling totals for each stat\n",
    "stats['goalsAgainstTotal'] = stats.groupby(['seasonID','teamID'])['goalsAgainst'].cumsum()\n",
    "stats['goalsForTotal'] = stats.groupby(['seasonID','teamID'])['goalsFor'].cumsum()\n",
    "stats['shotsForTotal'] = stats.groupby(['seasonID','teamID'])['shotsFor'].cumsum()\n",
    "stats['shotsAgainstTotal'] = stats.groupby(['seasonID','teamID'])['shotsAgainst'].cumsum()"
   ]
  },
  {
   "cell_type": "code",
   "execution_count": 24,
   "metadata": {},
   "outputs": [],
   "source": [
    "# Creating a game number for each team/season\n",
    "stats['gameNumber'] = stats.groupby(['seasonID','teamID']).cumcount()+1"
   ]
  },
  {
   "cell_type": "code",
   "execution_count": 25,
   "metadata": {},
   "outputs": [],
   "source": [
    "# Getting the rolling totals per game for each stat\n",
    "stats['goalsAgainstPerGame'] = stats['goalsForTotal']/stats['gameNumber']\n",
    "stats['goalsForPerGame'] = stats['goalsAgainstTotal']/stats['gameNumber']\n",
    "stats['shotsAgainstPerGame'] = stats['shotsAgainstTotal']/stats['gameNumber']\n",
    "stats['shotsForPerGame'] = stats['shotsForTotal']/stats['gameNumber']"
   ]
  },
  {
   "cell_type": "code",
   "execution_count": 26,
   "metadata": {},
   "outputs": [],
   "source": [
    "# Getting the rolling differentials\n",
    "stats['goalDifferential'] = stats['goalsForTotal'] - stats['goalsAgainstTotal']\n",
    "stats['shotDifferential'] = stats['shotsForTotal'] - stats['shotsAgainstTotal']"
   ]
  },
  {
   "cell_type": "code",
   "execution_count": 27,
   "metadata": {},
   "outputs": [],
   "source": [
    "# Determing whether a team won/lossed and creating a rolling win percentage\n",
    "stats['winLoss'] = stats.apply(lambda row: 1 if row['goalsFor'] > row['goalsAgainst'] else 0,axis=1)\n",
    "stats['winLossTotal'] = stats.groupby(['seasonID','teamID'])['winLoss'].cumsum()\n",
    "stats['winningPercentage'] = stats['winLossTotal']/stats['gameNumber']"
   ]
  },
  {
   "cell_type": "code",
   "execution_count": 28,
   "metadata": {},
   "outputs": [],
   "source": [
    "statsComplete = stats.drop(['goalsFor',\n",
    "                            'goalsAgainst', \n",
    "                            'shotsAgainst', \n",
    "                            'shotsFor',\n",
    "                            'gameNumber',\n",
    "                            'goalsForTotal',\n",
    "                            'goalsAgainstTotal',\n",
    "                            'shotsAgainstTotal',\n",
    "                            'shotsForTotal',\n",
    "                            'winLoss',\n",
    "                            'winLossTotal'], axis=1)"
   ]
  },
  {
   "cell_type": "code",
   "execution_count": 29,
   "metadata": {},
   "outputs": [
    {
     "data": {
      "text/html": [
       "<div>\n",
       "<style scoped>\n",
       "    .dataframe tbody tr th:only-of-type {\n",
       "        vertical-align: middle;\n",
       "    }\n",
       "\n",
       "    .dataframe tbody tr th {\n",
       "        vertical-align: top;\n",
       "    }\n",
       "\n",
       "    .dataframe thead th {\n",
       "        text-align: right;\n",
       "    }\n",
       "</style>\n",
       "<table border=\"1\" class=\"dataframe\">\n",
       "  <thead>\n",
       "    <tr style=\"text-align: right;\">\n",
       "      <th></th>\n",
       "      <th>seasonID</th>\n",
       "      <th>gameID</th>\n",
       "      <th>gameType</th>\n",
       "      <th>teamID</th>\n",
       "      <th>goalsAgainstPerGame</th>\n",
       "      <th>goalsForPerGame</th>\n",
       "      <th>shotsAgainstPerGame</th>\n",
       "      <th>shotsForPerGame</th>\n",
       "      <th>goalDifferential</th>\n",
       "      <th>shotDifferential</th>\n",
       "      <th>winningPercentage</th>\n",
       "    </tr>\n",
       "  </thead>\n",
       "  <tbody>\n",
       "    <tr>\n",
       "      <th>0</th>\n",
       "      <td>20202021</td>\n",
       "      <td>2020020001</td>\n",
       "      <td>R</td>\n",
       "      <td>4</td>\n",
       "      <td>6.000000</td>\n",
       "      <td>3.000000</td>\n",
       "      <td>31.000000</td>\n",
       "      <td>21.000000</td>\n",
       "      <td>3.0</td>\n",
       "      <td>-10.0</td>\n",
       "      <td>1.000000</td>\n",
       "    </tr>\n",
       "    <tr>\n",
       "      <th>868</th>\n",
       "      <td>20202021</td>\n",
       "      <td>2020020001</td>\n",
       "      <td>R</td>\n",
       "      <td>5</td>\n",
       "      <td>3.000000</td>\n",
       "      <td>6.000000</td>\n",
       "      <td>21.000000</td>\n",
       "      <td>31.000000</td>\n",
       "      <td>-3.0</td>\n",
       "      <td>10.0</td>\n",
       "      <td>0.000000</td>\n",
       "    </tr>\n",
       "    <tr>\n",
       "      <th>1</th>\n",
       "      <td>20202021</td>\n",
       "      <td>2020020002</td>\n",
       "      <td>R</td>\n",
       "      <td>14</td>\n",
       "      <td>5.000000</td>\n",
       "      <td>1.000000</td>\n",
       "      <td>22.000000</td>\n",
       "      <td>28.000000</td>\n",
       "      <td>4.0</td>\n",
       "      <td>6.0</td>\n",
       "      <td>1.000000</td>\n",
       "    </tr>\n",
       "    <tr>\n",
       "      <th>869</th>\n",
       "      <td>20202021</td>\n",
       "      <td>2020020002</td>\n",
       "      <td>R</td>\n",
       "      <td>16</td>\n",
       "      <td>1.000000</td>\n",
       "      <td>5.000000</td>\n",
       "      <td>28.000000</td>\n",
       "      <td>22.000000</td>\n",
       "      <td>-4.0</td>\n",
       "      <td>-6.0</td>\n",
       "      <td>0.000000</td>\n",
       "    </tr>\n",
       "    <tr>\n",
       "      <th>2</th>\n",
       "      <td>20202021</td>\n",
       "      <td>2020020003</td>\n",
       "      <td>R</td>\n",
       "      <td>10</td>\n",
       "      <td>5.000000</td>\n",
       "      <td>4.000000</td>\n",
       "      <td>28.000000</td>\n",
       "      <td>29.000000</td>\n",
       "      <td>1.0</td>\n",
       "      <td>1.0</td>\n",
       "      <td>1.000000</td>\n",
       "    </tr>\n",
       "    <tr>\n",
       "      <th>...</th>\n",
       "      <td>...</td>\n",
       "      <td>...</td>\n",
       "      <td>...</td>\n",
       "      <td>...</td>\n",
       "      <td>...</td>\n",
       "      <td>...</td>\n",
       "      <td>...</td>\n",
       "      <td>...</td>\n",
       "      <td>...</td>\n",
       "      <td>...</td>\n",
       "      <td>...</td>\n",
       "    </tr>\n",
       "    <tr>\n",
       "      <th>1733</th>\n",
       "      <td>20202021</td>\n",
       "      <td>2020020866</td>\n",
       "      <td>R</td>\n",
       "      <td>19</td>\n",
       "      <td>3.071429</td>\n",
       "      <td>3.089286</td>\n",
       "      <td>26.964286</td>\n",
       "      <td>26.125000</td>\n",
       "      <td>-1.0</td>\n",
       "      <td>-47.0</td>\n",
       "      <td>0.482143</td>\n",
       "    </tr>\n",
       "    <tr>\n",
       "      <th>866</th>\n",
       "      <td>20202021</td>\n",
       "      <td>2020020867</td>\n",
       "      <td>R</td>\n",
       "      <td>26</td>\n",
       "      <td>2.589286</td>\n",
       "      <td>3.071429</td>\n",
       "      <td>28.160714</td>\n",
       "      <td>25.875000</td>\n",
       "      <td>-27.0</td>\n",
       "      <td>-128.0</td>\n",
       "      <td>0.375000</td>\n",
       "    </tr>\n",
       "    <tr>\n",
       "      <th>1734</th>\n",
       "      <td>20202021</td>\n",
       "      <td>2020020867</td>\n",
       "      <td>R</td>\n",
       "      <td>21</td>\n",
       "      <td>3.535714</td>\n",
       "      <td>2.410714</td>\n",
       "      <td>23.053571</td>\n",
       "      <td>31.071429</td>\n",
       "      <td>63.0</td>\n",
       "      <td>449.0</td>\n",
       "      <td>0.696429</td>\n",
       "    </tr>\n",
       "    <tr>\n",
       "      <th>867</th>\n",
       "      <td>20202021</td>\n",
       "      <td>2020020868</td>\n",
       "      <td>R</td>\n",
       "      <td>28</td>\n",
       "      <td>2.803571</td>\n",
       "      <td>3.642857</td>\n",
       "      <td>28.696429</td>\n",
       "      <td>27.660714</td>\n",
       "      <td>-47.0</td>\n",
       "      <td>-58.0</td>\n",
       "      <td>0.375000</td>\n",
       "    </tr>\n",
       "    <tr>\n",
       "      <th>1735</th>\n",
       "      <td>20202021</td>\n",
       "      <td>2020020868</td>\n",
       "      <td>R</td>\n",
       "      <td>53</td>\n",
       "      <td>2.857143</td>\n",
       "      <td>3.250000</td>\n",
       "      <td>27.428571</td>\n",
       "      <td>24.839286</td>\n",
       "      <td>-22.0</td>\n",
       "      <td>-145.0</td>\n",
       "      <td>0.428571</td>\n",
       "    </tr>\n",
       "  </tbody>\n",
       "</table>\n",
       "<p>1736 rows × 11 columns</p>\n",
       "</div>"
      ],
      "text/plain": [
       "      seasonID      gameID gameType  teamID  goalsAgainstPerGame  \\\n",
       "0     20202021  2020020001        R       4             6.000000   \n",
       "868   20202021  2020020001        R       5             3.000000   \n",
       "1     20202021  2020020002        R      14             5.000000   \n",
       "869   20202021  2020020002        R      16             1.000000   \n",
       "2     20202021  2020020003        R      10             5.000000   \n",
       "...        ...         ...      ...     ...                  ...   \n",
       "1733  20202021  2020020866        R      19             3.071429   \n",
       "866   20202021  2020020867        R      26             2.589286   \n",
       "1734  20202021  2020020867        R      21             3.535714   \n",
       "867   20202021  2020020868        R      28             2.803571   \n",
       "1735  20202021  2020020868        R      53             2.857143   \n",
       "\n",
       "      goalsForPerGame  shotsAgainstPerGame  shotsForPerGame  goalDifferential  \\\n",
       "0            3.000000            31.000000        21.000000               3.0   \n",
       "868          6.000000            21.000000        31.000000              -3.0   \n",
       "1            1.000000            22.000000        28.000000               4.0   \n",
       "869          5.000000            28.000000        22.000000              -4.0   \n",
       "2            4.000000            28.000000        29.000000               1.0   \n",
       "...               ...                  ...              ...               ...   \n",
       "1733         3.089286            26.964286        26.125000              -1.0   \n",
       "866          3.071429            28.160714        25.875000             -27.0   \n",
       "1734         2.410714            23.053571        31.071429              63.0   \n",
       "867          3.642857            28.696429        27.660714             -47.0   \n",
       "1735         3.250000            27.428571        24.839286             -22.0   \n",
       "\n",
       "      shotDifferential  winningPercentage  \n",
       "0                -10.0           1.000000  \n",
       "868               10.0           0.000000  \n",
       "1                  6.0           1.000000  \n",
       "869               -6.0           0.000000  \n",
       "2                  1.0           1.000000  \n",
       "...                ...                ...  \n",
       "1733             -47.0           0.482143  \n",
       "866             -128.0           0.375000  \n",
       "1734             449.0           0.696429  \n",
       "867              -58.0           0.375000  \n",
       "1735            -145.0           0.428571  \n",
       "\n",
       "[1736 rows x 11 columns]"
      ]
     },
     "execution_count": 29,
     "metadata": {},
     "output_type": "execute_result"
    }
   ],
   "source": [
    "statsComplete"
   ]
  },
  {
   "cell_type": "markdown",
   "metadata": {},
   "source": [
    "### Adding Q Values"
   ]
  },
  {
   "cell_type": "code",
   "execution_count": 30,
   "metadata": {},
   "outputs": [],
   "source": [
    "# Getting the seasons data\n",
    "boxscores = pd.read_sql_query(\"select gameID, teamID,playerID from box_scores where timeOnIce is not null and scratched=0\", connection)"
   ]
  },
  {
   "cell_type": "code",
   "execution_count": 31,
   "metadata": {},
   "outputs": [],
   "source": [
    "# Merging boxscores with seasons to get the seasonID\n",
    "boxscores = pd.merge(seasonsFiltered[['seasonID','gameID']], boxscores, how='inner')"
   ]
  },
  {
   "cell_type": "code",
   "execution_count": 32,
   "metadata": {},
   "outputs": [],
   "source": [
    "# Sorting to make sure the row count is correct\n",
    "boxscores = boxscores.sort_values(['seasonID','gameID'])"
   ]
  },
  {
   "cell_type": "code",
   "execution_count": 33,
   "metadata": {},
   "outputs": [
    {
     "name": "stdout",
     "output_type": "stream",
     "text": [
      "0 %\n",
      "30 %\n",
      "60 %\n",
      "90 %\n"
     ]
    }
   ],
   "source": [
    "# # Getting the previous game for each game/player combo\n",
    "previousGame = []\n",
    "for index, row in boxscores.iterrows():\n",
    "    if index % 10000 == 0:\n",
    "        print(int((index/len(boxscores))*100),'%')\n",
    "    preGame = boxscores[(boxscores['gameID'] < row['gameID']) & (boxscores['playerID'] == row['playerID'])]['gameID'].values\n",
    "    if len(preGame) == 0:\n",
    "        previousGame.append(np.nan)\n",
    "    else:\n",
    "        previousGame.append(max(preGame))"
   ]
  },
  {
   "cell_type": "code",
   "execution_count": 34,
   "metadata": {},
   "outputs": [
    {
     "name": "stdout",
     "output_type": "stream",
     "text": [
      "0 %\n",
      "30 %\n",
      "60 %\n",
      "90 %\n"
     ]
    }
   ],
   "source": [
    "seasonsList = seasonsFiltered['seasonID'].unique()\n",
    "previousSeasons = []\n",
    "for index, row in boxscores.iterrows():\n",
    "    if index % 10000 == 0:\n",
    "        print(int((index/len(boxscores))*100),'%')\n",
    "    season = seasonsList[seasonsList < row['seasonID']]\n",
    "    if len(season) == 0:\n",
    "        previousSeasons.append(np.nan)\n",
    "    else:\n",
    "        previousSeasons.append(max(season))\n",
    "    \n",
    "# #     break\n",
    "    "
   ]
  },
  {
   "cell_type": "code",
   "execution_count": 35,
   "metadata": {},
   "outputs": [],
   "source": [
    "boxscores['previousSeason'] = previousSeasons\n",
    "boxscores['previousSeason'] = boxscores['previousSeason'].fillna(20092010)\n",
    "boxscores['previousSeason'] = boxscores['previousSeason'].astype(int)"
   ]
  },
  {
   "cell_type": "code",
   "execution_count": 36,
   "metadata": {},
   "outputs": [],
   "source": [
    "# Getting the game number if the player played in the game\n",
    "boxscores['gameNumber'] = boxscores.groupby(['seasonID','playerID']).cumcount()+1"
   ]
  },
  {
   "cell_type": "code",
   "execution_count": 37,
   "metadata": {},
   "outputs": [],
   "source": [
    "# boxscores = pd.read_csv('boxscores.csv',index_col=0)\n",
    "# boxscores.to_csv('boxscores.csv')"
   ]
  },
  {
   "cell_type": "code",
   "execution_count": 38,
   "metadata": {},
   "outputs": [
    {
     "ename": "FileNotFoundError",
     "evalue": "[Errno 2] No such file or directory: 'deep_rl_results_all_games.csv'",
     "output_type": "error",
     "traceback": [
      "\u001b[1;31m---------------------------------------------------------------------------\u001b[0m",
      "\u001b[1;31mFileNotFoundError\u001b[0m                         Traceback (most recent call last)",
      "\u001b[1;32m<ipython-input-38-3841c73f1d8a>\u001b[0m in \u001b[0;36m<module>\u001b[1;34m\u001b[0m\n\u001b[0;32m      1\u001b[0m \u001b[1;31m# Reading in the q values\u001b[0m\u001b[1;33m\u001b[0m\u001b[1;33m\u001b[0m\u001b[1;33m\u001b[0m\u001b[0m\n\u001b[1;32m----> 2\u001b[1;33m \u001b[0mqValues\u001b[0m \u001b[1;33m=\u001b[0m \u001b[0mpd\u001b[0m\u001b[1;33m.\u001b[0m\u001b[0mread_csv\u001b[0m\u001b[1;33m(\u001b[0m\u001b[1;34m'deep_rl_results_all_games.csv'\u001b[0m\u001b[1;33m,\u001b[0m\u001b[0mindex_col\u001b[0m\u001b[1;33m=\u001b[0m\u001b[1;36m0\u001b[0m\u001b[1;33m)\u001b[0m\u001b[1;33m\u001b[0m\u001b[1;33m\u001b[0m\u001b[0m\n\u001b[0m\u001b[0;32m      3\u001b[0m \u001b[1;33m\u001b[0m\u001b[0m\n",
      "\u001b[1;32m~\\anaconda3\\envs\\tf\\lib\\site-packages\\pandas\\io\\parsers.py\u001b[0m in \u001b[0;36mread_csv\u001b[1;34m(filepath_or_buffer, sep, delimiter, header, names, index_col, usecols, squeeze, prefix, mangle_dupe_cols, dtype, engine, converters, true_values, false_values, skipinitialspace, skiprows, skipfooter, nrows, na_values, keep_default_na, na_filter, verbose, skip_blank_lines, parse_dates, infer_datetime_format, keep_date_col, date_parser, dayfirst, cache_dates, iterator, chunksize, compression, thousands, decimal, lineterminator, quotechar, quoting, doublequote, escapechar, comment, encoding, dialect, error_bad_lines, warn_bad_lines, delim_whitespace, low_memory, memory_map, float_precision, storage_options)\u001b[0m\n\u001b[0;32m    603\u001b[0m     \u001b[0mkwds\u001b[0m\u001b[1;33m.\u001b[0m\u001b[0mupdate\u001b[0m\u001b[1;33m(\u001b[0m\u001b[0mkwds_defaults\u001b[0m\u001b[1;33m)\u001b[0m\u001b[1;33m\u001b[0m\u001b[1;33m\u001b[0m\u001b[0m\n\u001b[0;32m    604\u001b[0m \u001b[1;33m\u001b[0m\u001b[0m\n\u001b[1;32m--> 605\u001b[1;33m     \u001b[1;32mreturn\u001b[0m \u001b[0m_read\u001b[0m\u001b[1;33m(\u001b[0m\u001b[0mfilepath_or_buffer\u001b[0m\u001b[1;33m,\u001b[0m \u001b[0mkwds\u001b[0m\u001b[1;33m)\u001b[0m\u001b[1;33m\u001b[0m\u001b[1;33m\u001b[0m\u001b[0m\n\u001b[0m\u001b[0;32m    606\u001b[0m \u001b[1;33m\u001b[0m\u001b[0m\n\u001b[0;32m    607\u001b[0m \u001b[1;33m\u001b[0m\u001b[0m\n",
      "\u001b[1;32m~\\anaconda3\\envs\\tf\\lib\\site-packages\\pandas\\io\\parsers.py\u001b[0m in \u001b[0;36m_read\u001b[1;34m(filepath_or_buffer, kwds)\u001b[0m\n\u001b[0;32m    455\u001b[0m \u001b[1;33m\u001b[0m\u001b[0m\n\u001b[0;32m    456\u001b[0m     \u001b[1;31m# Create the parser.\u001b[0m\u001b[1;33m\u001b[0m\u001b[1;33m\u001b[0m\u001b[1;33m\u001b[0m\u001b[0m\n\u001b[1;32m--> 457\u001b[1;33m     \u001b[0mparser\u001b[0m \u001b[1;33m=\u001b[0m \u001b[0mTextFileReader\u001b[0m\u001b[1;33m(\u001b[0m\u001b[0mfilepath_or_buffer\u001b[0m\u001b[1;33m,\u001b[0m \u001b[1;33m**\u001b[0m\u001b[0mkwds\u001b[0m\u001b[1;33m)\u001b[0m\u001b[1;33m\u001b[0m\u001b[1;33m\u001b[0m\u001b[0m\n\u001b[0m\u001b[0;32m    458\u001b[0m \u001b[1;33m\u001b[0m\u001b[0m\n\u001b[0;32m    459\u001b[0m     \u001b[1;32mif\u001b[0m \u001b[0mchunksize\u001b[0m \u001b[1;32mor\u001b[0m \u001b[0miterator\u001b[0m\u001b[1;33m:\u001b[0m\u001b[1;33m\u001b[0m\u001b[1;33m\u001b[0m\u001b[0m\n",
      "\u001b[1;32m~\\anaconda3\\envs\\tf\\lib\\site-packages\\pandas\\io\\parsers.py\u001b[0m in \u001b[0;36m__init__\u001b[1;34m(self, f, engine, **kwds)\u001b[0m\n\u001b[0;32m    812\u001b[0m             \u001b[0mself\u001b[0m\u001b[1;33m.\u001b[0m\u001b[0moptions\u001b[0m\u001b[1;33m[\u001b[0m\u001b[1;34m\"has_index_names\"\u001b[0m\u001b[1;33m]\u001b[0m \u001b[1;33m=\u001b[0m \u001b[0mkwds\u001b[0m\u001b[1;33m[\u001b[0m\u001b[1;34m\"has_index_names\"\u001b[0m\u001b[1;33m]\u001b[0m\u001b[1;33m\u001b[0m\u001b[1;33m\u001b[0m\u001b[0m\n\u001b[0;32m    813\u001b[0m \u001b[1;33m\u001b[0m\u001b[0m\n\u001b[1;32m--> 814\u001b[1;33m         \u001b[0mself\u001b[0m\u001b[1;33m.\u001b[0m\u001b[0m_engine\u001b[0m \u001b[1;33m=\u001b[0m \u001b[0mself\u001b[0m\u001b[1;33m.\u001b[0m\u001b[0m_make_engine\u001b[0m\u001b[1;33m(\u001b[0m\u001b[0mself\u001b[0m\u001b[1;33m.\u001b[0m\u001b[0mengine\u001b[0m\u001b[1;33m)\u001b[0m\u001b[1;33m\u001b[0m\u001b[1;33m\u001b[0m\u001b[0m\n\u001b[0m\u001b[0;32m    815\u001b[0m \u001b[1;33m\u001b[0m\u001b[0m\n\u001b[0;32m    816\u001b[0m     \u001b[1;32mdef\u001b[0m \u001b[0mclose\u001b[0m\u001b[1;33m(\u001b[0m\u001b[0mself\u001b[0m\u001b[1;33m)\u001b[0m\u001b[1;33m:\u001b[0m\u001b[1;33m\u001b[0m\u001b[1;33m\u001b[0m\u001b[0m\n",
      "\u001b[1;32m~\\anaconda3\\envs\\tf\\lib\\site-packages\\pandas\\io\\parsers.py\u001b[0m in \u001b[0;36m_make_engine\u001b[1;34m(self, engine)\u001b[0m\n\u001b[0;32m   1043\u001b[0m             )\n\u001b[0;32m   1044\u001b[0m         \u001b[1;31m# error: Too many arguments for \"ParserBase\"\u001b[0m\u001b[1;33m\u001b[0m\u001b[1;33m\u001b[0m\u001b[1;33m\u001b[0m\u001b[0m\n\u001b[1;32m-> 1045\u001b[1;33m         \u001b[1;32mreturn\u001b[0m \u001b[0mmapping\u001b[0m\u001b[1;33m[\u001b[0m\u001b[0mengine\u001b[0m\u001b[1;33m]\u001b[0m\u001b[1;33m(\u001b[0m\u001b[0mself\u001b[0m\u001b[1;33m.\u001b[0m\u001b[0mf\u001b[0m\u001b[1;33m,\u001b[0m \u001b[1;33m**\u001b[0m\u001b[0mself\u001b[0m\u001b[1;33m.\u001b[0m\u001b[0moptions\u001b[0m\u001b[1;33m)\u001b[0m  \u001b[1;31m# type: ignore[call-arg]\u001b[0m\u001b[1;33m\u001b[0m\u001b[1;33m\u001b[0m\u001b[0m\n\u001b[0m\u001b[0;32m   1046\u001b[0m \u001b[1;33m\u001b[0m\u001b[0m\n\u001b[0;32m   1047\u001b[0m     \u001b[1;32mdef\u001b[0m \u001b[0m_failover_to_python\u001b[0m\u001b[1;33m(\u001b[0m\u001b[0mself\u001b[0m\u001b[1;33m)\u001b[0m\u001b[1;33m:\u001b[0m\u001b[1;33m\u001b[0m\u001b[1;33m\u001b[0m\u001b[0m\n",
      "\u001b[1;32m~\\anaconda3\\envs\\tf\\lib\\site-packages\\pandas\\io\\parsers.py\u001b[0m in \u001b[0;36m__init__\u001b[1;34m(self, src, **kwds)\u001b[0m\n\u001b[0;32m   1860\u001b[0m \u001b[1;33m\u001b[0m\u001b[0m\n\u001b[0;32m   1861\u001b[0m         \u001b[1;31m# open handles\u001b[0m\u001b[1;33m\u001b[0m\u001b[1;33m\u001b[0m\u001b[1;33m\u001b[0m\u001b[0m\n\u001b[1;32m-> 1862\u001b[1;33m         \u001b[0mself\u001b[0m\u001b[1;33m.\u001b[0m\u001b[0m_open_handles\u001b[0m\u001b[1;33m(\u001b[0m\u001b[0msrc\u001b[0m\u001b[1;33m,\u001b[0m \u001b[0mkwds\u001b[0m\u001b[1;33m)\u001b[0m\u001b[1;33m\u001b[0m\u001b[1;33m\u001b[0m\u001b[0m\n\u001b[0m\u001b[0;32m   1863\u001b[0m         \u001b[1;32massert\u001b[0m \u001b[0mself\u001b[0m\u001b[1;33m.\u001b[0m\u001b[0mhandles\u001b[0m \u001b[1;32mis\u001b[0m \u001b[1;32mnot\u001b[0m \u001b[1;32mNone\u001b[0m\u001b[1;33m\u001b[0m\u001b[1;33m\u001b[0m\u001b[0m\n\u001b[0;32m   1864\u001b[0m         \u001b[1;32mfor\u001b[0m \u001b[0mkey\u001b[0m \u001b[1;32min\u001b[0m \u001b[1;33m(\u001b[0m\u001b[1;34m\"storage_options\"\u001b[0m\u001b[1;33m,\u001b[0m \u001b[1;34m\"encoding\"\u001b[0m\u001b[1;33m,\u001b[0m \u001b[1;34m\"memory_map\"\u001b[0m\u001b[1;33m,\u001b[0m \u001b[1;34m\"compression\"\u001b[0m\u001b[1;33m)\u001b[0m\u001b[1;33m:\u001b[0m\u001b[1;33m\u001b[0m\u001b[1;33m\u001b[0m\u001b[0m\n",
      "\u001b[1;32m~\\anaconda3\\envs\\tf\\lib\\site-packages\\pandas\\io\\parsers.py\u001b[0m in \u001b[0;36m_open_handles\u001b[1;34m(self, src, kwds)\u001b[0m\n\u001b[0;32m   1355\u001b[0m         \u001b[0mLet\u001b[0m \u001b[0mthe\u001b[0m \u001b[0mreaders\u001b[0m \u001b[0mopen\u001b[0m \u001b[0mIOHanldes\u001b[0m \u001b[0mafter\u001b[0m \u001b[0mthey\u001b[0m \u001b[0mare\u001b[0m \u001b[0mdone\u001b[0m \u001b[1;32mwith\u001b[0m \u001b[0mtheir\u001b[0m \u001b[0mpotential\u001b[0m \u001b[0mraises\u001b[0m\u001b[1;33m.\u001b[0m\u001b[1;33m\u001b[0m\u001b[1;33m\u001b[0m\u001b[0m\n\u001b[0;32m   1356\u001b[0m         \"\"\"\n\u001b[1;32m-> 1357\u001b[1;33m         self.handles = get_handle(\n\u001b[0m\u001b[0;32m   1358\u001b[0m             \u001b[0msrc\u001b[0m\u001b[1;33m,\u001b[0m\u001b[1;33m\u001b[0m\u001b[1;33m\u001b[0m\u001b[0m\n\u001b[0;32m   1359\u001b[0m             \u001b[1;34m\"r\"\u001b[0m\u001b[1;33m,\u001b[0m\u001b[1;33m\u001b[0m\u001b[1;33m\u001b[0m\u001b[0m\n",
      "\u001b[1;32m~\\anaconda3\\envs\\tf\\lib\\site-packages\\pandas\\io\\common.py\u001b[0m in \u001b[0;36mget_handle\u001b[1;34m(path_or_buf, mode, encoding, compression, memory_map, is_text, errors, storage_options)\u001b[0m\n\u001b[0;32m    637\u001b[0m         \u001b[1;32mif\u001b[0m \u001b[0mioargs\u001b[0m\u001b[1;33m.\u001b[0m\u001b[0mencoding\u001b[0m \u001b[1;32mand\u001b[0m \u001b[1;34m\"b\"\u001b[0m \u001b[1;32mnot\u001b[0m \u001b[1;32min\u001b[0m \u001b[0mioargs\u001b[0m\u001b[1;33m.\u001b[0m\u001b[0mmode\u001b[0m\u001b[1;33m:\u001b[0m\u001b[1;33m\u001b[0m\u001b[1;33m\u001b[0m\u001b[0m\n\u001b[0;32m    638\u001b[0m             \u001b[1;31m# Encoding\u001b[0m\u001b[1;33m\u001b[0m\u001b[1;33m\u001b[0m\u001b[1;33m\u001b[0m\u001b[0m\n\u001b[1;32m--> 639\u001b[1;33m             handle = open(\n\u001b[0m\u001b[0;32m    640\u001b[0m                 \u001b[0mhandle\u001b[0m\u001b[1;33m,\u001b[0m\u001b[1;33m\u001b[0m\u001b[1;33m\u001b[0m\u001b[0m\n\u001b[0;32m    641\u001b[0m                 \u001b[0mioargs\u001b[0m\u001b[1;33m.\u001b[0m\u001b[0mmode\u001b[0m\u001b[1;33m,\u001b[0m\u001b[1;33m\u001b[0m\u001b[1;33m\u001b[0m\u001b[0m\n",
      "\u001b[1;31mFileNotFoundError\u001b[0m: [Errno 2] No such file or directory: 'deep_rl_results_all_games.csv'"
     ]
    }
   ],
   "source": [
    "# Reading in the q values\n",
    "qValues = pd.read_csv('deep_rl_results_all_games.csv',index_col=0)"
   ]
  },
  {
   "cell_type": "code",
   "execution_count": null,
   "metadata": {},
   "outputs": [],
   "source": [
    "# Summing up the values by game\n",
    "qValues = qValues[['gameID',\n",
    "                   'playerID',\n",
    "                   'value']].groupby(['gameID',\n",
    "                                         'playerID']).sum('value').reset_index()"
   ]
  },
  {
   "cell_type": "code",
   "execution_count": null,
   "metadata": {},
   "outputs": [],
   "source": [
    "# Merging with boxscores\n",
    "qValues = pd.merge(boxscores, qValues, on=['gameID','playerID'],how='left')"
   ]
  },
  {
   "cell_type": "code",
   "execution_count": null,
   "metadata": {},
   "outputs": [],
   "source": [
    "# Filling NA values (i.e. games where a player didn't show up)\n",
    "qValues['value'] = qValues['value'].fillna(0)"
   ]
  },
  {
   "cell_type": "code",
   "execution_count": null,
   "metadata": {},
   "outputs": [],
   "source": [
    "qValues = qValues.sort_values(['seasonID','gameID'])"
   ]
  },
  {
   "cell_type": "code",
   "execution_count": null,
   "metadata": {},
   "outputs": [],
   "source": [
    "# Summing up the q values by player/season/game\n",
    "qValues['cumulativeValue'] = qValues.groupby(['seasonID','playerID'])['value'].cumsum(axis=0)"
   ]
  },
  {
   "cell_type": "code",
   "execution_count": null,
   "metadata": {},
   "outputs": [],
   "source": [
    "# Getting the q value per game\n",
    "qValues['averageValue'] = qValues['cumulativeValue']/qValues['gameNumber']"
   ]
  },
  {
   "cell_type": "code",
   "execution_count": null,
   "metadata": {},
   "outputs": [],
   "source": [
    "qValues[qValues['playerID'] == 8478402]"
   ]
  },
  {
   "cell_type": "code",
   "execution_count": null,
   "metadata": {},
   "outputs": [],
   "source": [
    "# Getting the average q value per game by season\n",
    "qSeasonValues = qValues[['seasonID','averageValue']].groupby('seasonID').mean().reset_index()\n",
    "# Renaming the column\n",
    "qSeasonValues = qSeasonValues.rename({'averageValue':'averageValueSeason'},axis=1)"
   ]
  },
  {
   "cell_type": "code",
   "execution_count": null,
   "metadata": {},
   "outputs": [],
   "source": [
    "# Merging boxscores with qValues to get the qValues up to the last game\n",
    "boxScoresComplete = pd.merge(boxscores, \n",
    "         qValues[['gameID','playerID','averageValue']],\n",
    "         left_on=['previousGameID','playerID'],\n",
    "         right_on=['gameID','playerID'], \n",
    "         how='left',\n",
    "         suffixes=('', '_y'))"
   ]
  },
  {
   "cell_type": "code",
   "execution_count": null,
   "metadata": {},
   "outputs": [],
   "source": [
    "# Getting the qValues by season\n",
    "boxScoresComplete = pd.merge(boxScoresComplete,\n",
    "         qSeasonValues, \n",
    "         left_on='previousSeason',\n",
    "         right_on='seasonID',\n",
    "         how='inner',\n",
    "         suffixes=('', '_y'))"
   ]
  },
  {
   "cell_type": "code",
   "execution_count": null,
   "metadata": {},
   "outputs": [],
   "source": [
    "# Dropping useless columns\n",
    "boxScoresComplete = boxScoresComplete.drop(['gameID_y','seasonID_y'],axis=1)"
   ]
  },
  {
   "cell_type": "code",
   "execution_count": null,
   "metadata": {},
   "outputs": [],
   "source": [
    "# setting the averageValue \n",
    "boxScoresComplete['averageValue'] = np.where(boxScoresComplete['averageValue'].isna(),boxScoresComplete['averageValueSeason'],boxScoresComplete['averageValue'])"
   ]
  },
  {
   "cell_type": "code",
   "execution_count": null,
   "metadata": {},
   "outputs": [],
   "source": [
    "boxScoresComplete = boxScoresComplete[['seasonID',\n",
    "                   'gameID',\n",
    "                   'teamID',\n",
    "                   'averageValue']].groupby(['seasonID','gameID','teamID']).sum().reset_index()"
   ]
  },
  {
   "cell_type": "code",
   "execution_count": null,
   "metadata": {},
   "outputs": [],
   "source": [
    "statsComplete = pd.merge(statsComplete, boxScoresComplete)"
   ]
  },
  {
   "cell_type": "code",
   "execution_count": null,
   "metadata": {},
   "outputs": [],
   "source": [
    "statsComplete"
   ]
  },
  {
   "cell_type": "markdown",
   "metadata": {},
   "source": [
    "### Extracing the game Outcome"
   ]
  },
  {
   "cell_type": "code",
   "execution_count": null,
   "metadata": {},
   "outputs": [],
   "source": [
    "# Getting goals for/against columns\n",
    "gameOutcome = pd.merge(seasonsFiltered,\n",
    "         statsSimple[['seasonID','gameID','teamID','goalsFor','goalsAgainst']], \n",
    "         how='inner',\n",
    "         left_on=['seasonID','gameID','homeTeamID'],\n",
    "         right_on=['seasonID','gameID','teamID'])"
   ]
  },
  {
   "cell_type": "code",
   "execution_count": null,
   "metadata": {},
   "outputs": [],
   "source": [
    "# Determing if the home team won\n",
    "gameOutcome['homeTeamWin'] = gameOutcome.apply(lambda row: 1 if row['goalsFor'] > row['goalsAgainst'] else 0,axis=1)"
   ]
  },
  {
   "cell_type": "code",
   "execution_count": null,
   "metadata": {},
   "outputs": [],
   "source": [
    "# Getting rid of useless columns\n",
    "gameOutcome = gameOutcome.drop(['gameType', \n",
    "                  'gameDate', \n",
    "                  'homeTeamID',\n",
    "                  'awayTeamID',\n",
    "                  'teamID','seasonID','goalsFor','goalsAgainst'],axis=1)"
   ]
  },
  {
   "cell_type": "markdown",
   "metadata": {},
   "source": [
    "### Creating Model Input"
   ]
  },
  {
   "cell_type": "code",
   "execution_count": null,
   "metadata": {},
   "outputs": [],
   "source": [
    "# Determining if the team is the home or away, this is needed to join properly again on seasonsFiltered below\n",
    "statsComplete = pd.merge(statsComplete,seasonsFiltered[['gameID','homeTeamID']], \n",
    "                 how='left',\n",
    "                 left_on=['gameID','teamID'],\n",
    "                 right_on=['gameID','homeTeamID'])\n",
    "statsComplete['isHome'] = np.where(pd.isna(statsComplete['homeTeamID']), 0, 1)\n",
    "statsComplete = statsComplete.drop(['homeTeamID'],axis=1)"
   ]
  },
  {
   "cell_type": "code",
   "execution_count": null,
   "metadata": {},
   "outputs": [],
   "source": [
    "# Determing the game number for each time by season\n",
    "statsComplete = statsComplete.sort_values(['seasonID','gameID'])\n",
    "statsComplete['gameNumber'] = statsComplete.groupby(['seasonID','teamID','isHome']).cumcount()+1\n",
    "statsComplete['gameNumber'] += 1"
   ]
  },
  {
   "cell_type": "code",
   "execution_count": null,
   "metadata": {},
   "outputs": [],
   "source": [
    "# Sorting and then getting the home and away teams game numbers (used to join on below)\n",
    "seasonsFiltered = seasonsFiltered.sort_values(['seasonID','gameID'])\n",
    "seasonsFiltered['homeTeamGameNumber'] = seasonsFiltered.groupby(['seasonID','homeTeamID']).cumcount()+1\n",
    "seasonsFiltered['awayTeamGameNumber'] = seasonsFiltered.groupby(['seasonID','awayTeamID']).cumcount()+1"
   ]
  },
  {
   "cell_type": "code",
   "execution_count": null,
   "metadata": {},
   "outputs": [],
   "source": [
    "# Creating the model input with the home team data\n",
    "modelInput = pd.merge(seasonsFiltered, \n",
    "            statsComplete[statsComplete['isHome'] == 1], \n",
    "            how='inner', \n",
    "            left_on=['seasonID', 'homeTeamID', 'homeTeamGameNumber'],\n",
    "            right_on=['seasonID','teamID','gameNumber'])"
   ]
  },
  {
   "cell_type": "code",
   "execution_count": null,
   "metadata": {},
   "outputs": [],
   "source": [
    "# Dropping extra columns\n",
    "modelInput = modelInput.drop(['gameID_x', \n",
    "                 'gameType_x',\n",
    "                 'homeTeamGameNumber',\n",
    "                 'teamID',\n",
    "                 'gameNumber'],\n",
    "                axis=1)"
   ]
  },
  {
   "cell_type": "code",
   "execution_count": null,
   "metadata": {},
   "outputs": [],
   "source": [
    "# Renaming some columns to keep things clean\n",
    "modelInput = modelInput.rename({\"gameID_y\":\"gameID\", \"gameType_y\":\"gameType\"}, axis=1)"
   ]
  },
  {
   "cell_type": "code",
   "execution_count": null,
   "metadata": {},
   "outputs": [],
   "source": [
    "# adding the away team data to the model input\n",
    "modelInput = pd.merge(modelInput, \n",
    "            statsComplete[statsComplete['isHome'] == 0], \n",
    "            how='inner', \n",
    "            left_on=['seasonID', 'awayTeamID', 'awayTeamGameNumber'],\n",
    "            right_on=['seasonID','teamID','gameNumber'], suffixes=('Home','Away'))"
   ]
  },
  {
   "cell_type": "code",
   "execution_count": null,
   "metadata": {},
   "outputs": [],
   "source": [
    "pd.set_option(\"display.max_columns\", None)\n",
    "modelInput"
   ]
  },
  {
   "cell_type": "code",
   "execution_count": null,
   "metadata": {},
   "outputs": [],
   "source": [
    "# Dropping columns that are no longer needed\n",
    "modelInput = modelInput.drop(['awayTeamGameNumber',\n",
    "                              'gameIDHome',\n",
    "                              'gameTypeHome',\n",
    "                              'teamID',\n",
    "                              'gameNumber',\n",
    "                              'isHomeAway'],axis=1)"
   ]
  },
  {
   "cell_type": "code",
   "execution_count": null,
   "metadata": {},
   "outputs": [],
   "source": [
    "# Renaming these to get rid of the suffix that was put on it on the last join\n",
    "modelInput = modelInput.rename({'gameIDAway':'gameID','gameTypeAway':'gameType'},axis=1)"
   ]
  },
  {
   "cell_type": "code",
   "execution_count": null,
   "metadata": {},
   "outputs": [],
   "source": [
    "modelInput = pd.merge(modelInput, gameOutcome, on='gameID')"
   ]
  },
  {
   "cell_type": "markdown",
   "metadata": {},
   "source": [
    "## Creating the Model"
   ]
  },
  {
   "cell_type": "markdown",
   "metadata": {},
   "source": [
    "### Normalizing the Data and creating train/test data"
   ]
  },
  {
   "cell_type": "code",
   "execution_count": null,
   "metadata": {},
   "outputs": [],
   "source": [
    "# Creating the x and y data\n",
    "x = modelInput.drop(['seasonID',\n",
    "                     'gameDate',\n",
    "                     'homeTeamID',\n",
    "                     'awayTeamID',\n",
    "                     'gameID',\n",
    "                     'gameType',\n",
    "#                      'shotsAgainstPerGameHome', \n",
    "#                      'shotsForPerGameHome', \n",
    "#                      'shotDifferentialHome',\n",
    "#                      'shotsAgainstPerGameAway', \n",
    "#                      'shotsForPerGameAway',\n",
    "#                      'shotDifferentialAway',\n",
    "                     'homeTeamWin'],axis=1)\n",
    "y = modelInput[['homeTeamWin']]"
   ]
  },
  {
   "cell_type": "code",
   "execution_count": null,
   "metadata": {},
   "outputs": [],
   "source": [
    "# Normalizing the data\n",
    "scaler = preprocessing.StandardScaler().fit(x)\n",
    "xScaled = scaler.transform(x)"
   ]
  },
  {
   "cell_type": "code",
   "execution_count": null,
   "metadata": {},
   "outputs": [],
   "source": [
    "xTrain, xTest, yTrain, yTest = train_test_split(xScaled, y, test_size=0.2,random_state=109) # 70% training and 20% test"
   ]
  },
  {
   "cell_type": "markdown",
   "metadata": {},
   "source": [
    "### Support Vector Machine"
   ]
  },
  {
   "cell_type": "code",
   "execution_count": null,
   "metadata": {},
   "outputs": [],
   "source": [
    "clf = svm.SVC(kernel='linear',gamma='auto') # Linear Kernel"
   ]
  },
  {
   "cell_type": "code",
   "execution_count": null,
   "metadata": {},
   "outputs": [],
   "source": [
    "clf.fit(xTrain, yTrain['homeTeamWin'].values)"
   ]
  },
  {
   "cell_type": "code",
   "execution_count": null,
   "metadata": {},
   "outputs": [],
   "source": [
    "yPred = clf.predict(xTrain)\n",
    "print(\"Train Accuracy:\",metrics.accuracy_score(yTrain, yPred))\n",
    "yPred = clf.predict(xTest)\n",
    "print(\"Test Accuracy:\",metrics.accuracy_score(yTest, yPred))"
   ]
  },
  {
   "cell_type": "code",
   "execution_count": null,
   "metadata": {},
   "outputs": [],
   "source": []
  },
  {
   "cell_type": "code",
   "execution_count": null,
   "metadata": {},
   "outputs": [],
   "source": []
  },
  {
   "cell_type": "code",
   "execution_count": null,
   "metadata": {},
   "outputs": [],
   "source": []
  },
  {
   "cell_type": "code",
   "execution_count": null,
   "metadata": {},
   "outputs": [],
   "source": []
  },
  {
   "cell_type": "code",
   "execution_count": null,
   "metadata": {},
   "outputs": [],
   "source": []
  }
 ],
 "metadata": {
  "kernelspec": {
   "display_name": "Python 3",
   "language": "python",
   "name": "python3"
  },
  "language_info": {
   "codemirror_mode": {
    "name": "ipython",
    "version": 3
   },
   "file_extension": ".py",
   "mimetype": "text/x-python",
   "name": "python",
   "nbconvert_exporter": "python",
   "pygments_lexer": "ipython3",
   "version": "3.8.5"
  }
 },
 "nbformat": 4,
 "nbformat_minor": 1
}
