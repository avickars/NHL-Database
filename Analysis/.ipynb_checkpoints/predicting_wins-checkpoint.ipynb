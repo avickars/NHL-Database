{
 "cells": [
  {
   "cell_type": "code",
   "execution_count": 47,
   "metadata": {
    "pycharm": {
     "is_executing": true
    }
   },
   "outputs": [],
   "source": [
    "# Reading in packages\n",
    "import pandas as pd\n",
    "from SQLCode import DatabaseConnection\n",
    "from SQLCode import DatabaseCredentials as DBC\n",
    "import numpy as np\n",
    "\n",
    "from sklearn.model_selection import train_test_split\n",
    "from sklearn import preprocessing\n",
    "from sklearn import svm\n",
    "from sklearn import metrics\n",
    "from sklearn.model_selection import cross_val_score"
   ]
  },
  {
   "cell_type": "code",
   "execution_count": 2,
   "metadata": {
    "pycharm": {
     "is_executing": true
    }
   },
   "outputs": [],
   "source": [
    "# Opening connection\n",
    "creds = DBC.DataBaseCredentials()\n",
    "conn = DatabaseConnection.sql_connection(creds.server, creds.database, creds.user, creds.password)\n",
    "connection = conn.open()\n",
    "cursor = connection.cursor()"
   ]
  },
  {
   "cell_type": "code",
   "execution_count": 3,
   "metadata": {
    "pycharm": {
     "is_executing": true
    }
   },
   "outputs": [],
   "source": [
    "# Getting the live_feed data\n",
    "live_feed = pd.read_sql_query(\"select * from live_feed\", connection)"
   ]
  },
  {
   "cell_type": "code",
   "execution_count": 4,
   "metadata": {
    "pycharm": {
     "is_executing": true
    }
   },
   "outputs": [],
   "source": [
    "# Getting the seasons data\n",
    "seasons = pd.read_sql_query(\"select * from schedules\", connection)"
   ]
  },
  {
   "cell_type": "code",
   "execution_count": 88,
   "metadata": {
    "pycharm": {
     "is_executing": true
    }
   },
   "outputs": [],
   "source": [
    "# Filtering to regular seasons games and 20102011 onwards (when live data started)\n",
    "seasonsFiltered = seasons[seasons['seasonID'] >= 20102011]\n",
    "seasonsFiltered = seasonsFiltered[seasonsFiltered['gameType'] == 'R']"
   ]
  },
  {
   "cell_type": "code",
   "execution_count": 6,
   "metadata": {
    "pycharm": {
     "is_executing": true
    }
   },
   "outputs": [],
   "source": [
    "# Getting and filtering the raw data\n",
    "rawData = pd.merge(live_feed,seasons, how='right',on='gameID')\n",
    "rawData = rawData[rawData['seasonID'] >= 20102011]\n",
    "rawData = rawData[rawData['gameType'] == 'R']"
   ]
  },
  {
   "cell_type": "markdown",
   "metadata": {},
   "source": [
    "### Creating Initial Data Sets"
   ]
  },
  {
   "cell_type": "code",
   "execution_count": 7,
   "metadata": {
    "pycharm": {
     "is_executing": true
    }
   },
   "outputs": [],
   "source": [
    "# Filtering to the rows with the required data (goals and shots)\n",
    "statsRaw = rawData[((rawData['eventTypeID'] == 'GOAL') & (rawData['playerType'] == 'Scorer')) |\n",
    "               ((rawData['eventTypeID'] == 'SHOT') & (rawData['playerType'] == 'Shooter'))]"
   ]
  },
  {
   "cell_type": "code",
   "execution_count": 8,
   "metadata": {
    "pycharm": {
     "is_executing": true
    }
   },
   "outputs": [],
   "source": [
    "# Getting counts of the \"for\" stats.  \n",
    "statsFor = pd.DataFrame(statsRaw.groupby(['gameID','teamID','eventTypeID']).size()).reset_index()\n",
    "statsFor = statsFor.rename({0:'count'}, axis=1)"
   ]
  },
  {
   "cell_type": "code",
   "execution_count": 9,
   "metadata": {
    "pycharm": {
     "is_executing": true
    }
   },
   "outputs": [],
   "source": [
    "# Pivoting so each stat gets its own column\n",
    "statsFor = pd.pivot_table(data=statsFor, values='count',index=['gameID','teamID'], columns='eventTypeID').reset_index()"
   ]
  },
  {
   "cell_type": "code",
   "execution_count": 10,
   "metadata": {
    "pycharm": {
     "is_executing": true
    }
   },
   "outputs": [],
   "source": [
    "# Defing the stats \"against\" table\n",
    "statsAgainst = statsRaw[['gameID','eventTypeID']]"
   ]
  },
  {
   "cell_type": "code",
   "execution_count": 11,
   "metadata": {
    "pycharm": {
     "is_executing": true
    }
   },
   "outputs": [
    {
     "name": "stderr",
     "output_type": "stream",
     "text": [
      "<ipython-input-11-836c260b681f>:2: SettingWithCopyWarning: \n",
      "A value is trying to be set on a copy of a slice from a DataFrame.\n",
      "Try using .loc[row_indexer,col_indexer] = value instead\n",
      "\n",
      "See the caveats in the documentation: https://pandas.pydata.org/pandas-docs/stable/user_guide/indexing.html#returning-a-view-versus-a-copy\n",
      "  statsAgainst['teamID'] = statsRaw.apply(lambda row: row['homeTeamID'] if row['teamID'] != row['homeTeamID'] else row['awayTeamID'],axis=1)\n"
     ]
    }
   ],
   "source": [
    "# Getting the \"against\" team\n",
    "statsAgainst['teamID'] = statsRaw.apply(lambda row: row['homeTeamID'] if row['teamID'] != row['homeTeamID'] else row['awayTeamID'],axis=1)"
   ]
  },
  {
   "cell_type": "code",
   "execution_count": 12,
   "metadata": {
    "pycharm": {
     "is_executing": true
    }
   },
   "outputs": [],
   "source": [
    "# Getting the stats counts\n",
    "statsAgainst = pd.DataFrame(statsAgainst.groupby(['gameID','teamID','eventTypeID']).size()).reset_index()\n",
    "statsAgainst = statsAgainst.rename({0:'count'}, axis=1)"
   ]
  },
  {
   "cell_type": "code",
   "execution_count": 13,
   "metadata": {
    "pycharm": {
     "is_executing": true
    }
   },
   "outputs": [],
   "source": [
    "# Pivoting so each stat gets its own column\n",
    "statsAgainst = pd.pivot_table(data=statsAgainst, values='count',index=['gameID','teamID'], columns='eventTypeID').reset_index()"
   ]
  },
  {
   "cell_type": "markdown",
   "metadata": {},
   "source": [
    "### Create complete schedule table"
   ]
  },
  {
   "cell_type": "code",
   "execution_count": 14,
   "metadata": {
    "pycharm": {
     "is_executing": true
    }
   },
   "outputs": [],
   "source": [
    "# Expanding the schedule into a row for each game an individual team played\n",
    "seasonsExpanded = pd.concat([seasonsFiltered[['seasonID','gameID','gameType','homeTeamID']].rename({'homeTeamID':'teamID'},axis=1),\n",
    "          seasonsFiltered[['seasonID','gameID','gameType','awayTeamID']].rename({'awayTeamID':'teamID'},axis=1)])"
   ]
  },
  {
   "cell_type": "markdown",
   "metadata": {},
   "source": [
    "### Extending data set for every game"
   ]
  },
  {
   "cell_type": "code",
   "execution_count": 15,
   "metadata": {
    "pycharm": {
     "is_executing": true
    }
   },
   "outputs": [],
   "source": [
    "# Merging the stats for and against into a single table.  \n",
    "# Notice the left join on seasonsExpanded to ensure we aren't losing any data\n",
    "stats = pd.merge(seasonsExpanded, \n",
    "                 statsFor, \n",
    "                 how='left', \n",
    "                 left_on=['gameID','teamID'],\n",
    "                 right_on=['gameID','teamID'])\n",
    "stats = stats.rename({'GOAL':'goalsFor','SHOT':'shotsFor'},axis=1)\n",
    "stats = pd.merge(stats , \n",
    "                 statsAgainst, \n",
    "                 how='left', \n",
    "                 left_on=['gameID','teamID'],\n",
    "                 right_on=['gameID','teamID'])\n",
    "stats = stats.rename({'GOAL':'goalsAgainst','SHOT':'shotsAgainst'},axis=1)"
   ]
  },
  {
   "cell_type": "code",
   "execution_count": 16,
   "metadata": {
    "pycharm": {
     "is_executing": true
    }
   },
   "outputs": [],
   "source": [
    "# Setting no stats (i.e. NA) to 0\n",
    "stats['goalsFor'] = stats['goalsFor'].apply(lambda x: 0 if pd.isna(x) else x)\n",
    "stats['goalsAgainst'] = stats['goalsAgainst'].apply(lambda x: 0 if pd.isna(x) else x)\n",
    "stats['shotsAgainst'] = stats['shotsAgainst'].apply(lambda x: 0 if pd.isna(x) else x)\n",
    "stats['shotsFor'] = stats['shotsFor'].apply(lambda x: 0 if pd.isna(x) else x)"
   ]
  },
  {
   "cell_type": "code",
   "execution_count": 17,
   "metadata": {
    "pycharm": {
     "is_executing": true
    }
   },
   "outputs": [],
   "source": [
    "# Sorting the values\n",
    "stats = stats.sort_values(['seasonID','gameID'])\n",
    "\n",
    "# Grabbing this now to use in \"Extracting the Game Outcome\"\n",
    "statsSimple = stats"
   ]
  },
  {
   "cell_type": "markdown",
   "metadata": {},
   "source": [
    "### Creating the Statistics"
   ]
  },
  {
   "cell_type": "code",
   "execution_count": 18,
   "metadata": {
    "pycharm": {
     "is_executing": true
    }
   },
   "outputs": [],
   "source": [
    "# Creating a game number for every game per team\n",
    "stats['gameNumber'] = stats.groupby(['seasonID','teamID']).cumcount()+1"
   ]
  },
  {
   "cell_type": "code",
   "execution_count": 19,
   "metadata": {
    "pycharm": {
     "is_executing": true
    }
   },
   "outputs": [],
   "source": [
    "# Getting the rolling totals for each stat\n",
    "stats['goalsAgainstTotal'] = stats.groupby(['seasonID','teamID'])['goalsAgainst'].cumsum()\n",
    "stats['goalsForTotal'] = stats.groupby(['seasonID','teamID'])['goalsFor'].cumsum()\n",
    "stats['shotsForTotal'] = stats.groupby(['seasonID','teamID'])['shotsFor'].cumsum()\n",
    "stats['shotsAgainstTotal'] = stats.groupby(['seasonID','teamID'])['shotsAgainst'].cumsum()"
   ]
  },
  {
   "cell_type": "code",
   "execution_count": 20,
   "metadata": {},
   "outputs": [],
   "source": [
    "# Creating a game number for each team/season\n",
    "stats['gameNumber'] = stats.groupby(['seasonID','teamID']).cumcount()+1"
   ]
  },
  {
   "cell_type": "code",
   "execution_count": 21,
   "metadata": {
    "pycharm": {
     "is_executing": true
    }
   },
   "outputs": [],
   "source": [
    "# Getting the rolling totals per game for each stat\n",
    "stats['goalsAgainstPerGame'] = stats['goalsForTotal']/stats['gameNumber']\n",
    "stats['goalsForPerGame'] = stats['goalsAgainstTotal']/stats['gameNumber']\n",
    "stats['shotsAgainstPerGame'] = stats['shotsAgainstTotal']/stats['gameNumber']\n",
    "stats['shotsForPerGame'] = stats['shotsForTotal']/stats['gameNumber']"
   ]
  },
  {
   "cell_type": "code",
   "execution_count": 22,
   "metadata": {},
   "outputs": [],
   "source": [
    "# Getting the rolling differentials\n",
    "stats['goalDifferential'] = stats['goalsForTotal'] - stats['goalsAgainstTotal']\n",
    "stats['shotDifferential'] = stats['shotsForTotal'] - stats['shotsAgainstTotal']"
   ]
  },
  {
   "cell_type": "code",
   "execution_count": 23,
   "metadata": {},
   "outputs": [],
   "source": [
    "# Determing whether a team won/lossed and creating a rolling win percentage\n",
    "stats['winLoss'] = stats.apply(lambda row: 1 if row['goalsFor'] > row['goalsAgainst'] else 0,axis=1)\n",
    "stats['winLossTotal'] = stats.groupby(['seasonID','teamID'])['winLoss'].cumsum()\n",
    "stats['winningPercentage'] = stats['winLossTotal']/stats['gameNumber']"
   ]
  },
  {
   "cell_type": "code",
   "execution_count": 89,
   "metadata": {},
   "outputs": [],
   "source": [
    "statsComplete = stats.drop(['goalsFor',\n",
    "                            'goalsAgainst', \n",
    "                            'shotsAgainst', \n",
    "                            'shotsFor',\n",
    "                            'gameNumber',\n",
    "                            'goalsForTotal',\n",
    "                            'goalsAgainstTotal',\n",
    "                            'shotsAgainstTotal',\n",
    "                            'shotsForTotal',\n",
    "                            'winLoss',\n",
    "                            'winLossTotal'], axis=1)"
   ]
  },
  {
   "cell_type": "markdown",
   "metadata": {},
   "source": [
    "### Extracing the game Outcome"
   ]
  },
  {
   "cell_type": "code",
   "execution_count": 90,
   "metadata": {},
   "outputs": [],
   "source": [
    "# Getting goals for/against columns\n",
    "gameOutcome = pd.merge(seasonsFiltered,\n",
    "         statsSimple[['seasonID','gameID','teamID','goalsFor','goalsAgainst']], \n",
    "         how='inner',\n",
    "         left_on=['seasonID','gameID','homeTeamID'],\n",
    "         right_on=['seasonID','gameID','teamID'])"
   ]
  },
  {
   "cell_type": "code",
   "execution_count": 91,
   "metadata": {},
   "outputs": [],
   "source": [
    "# Determing if the home team won\n",
    "gameOutcome['homeTeamWin'] = gameOutcome.apply(lambda row: 1 if row['goalsFor'] > row['goalsAgainst'] else 0,axis=1)"
   ]
  },
  {
   "cell_type": "code",
   "execution_count": 92,
   "metadata": {},
   "outputs": [],
   "source": [
    "# Getting rid of useless columns\n",
    "gameOutcome = gameOutcome.drop(['gameType', \n",
    "                  'gameDate', \n",
    "                  'homeTeamID',\n",
    "                  'awayTeamID',\n",
    "                  'teamID','seasonID','goalsFor','goalsAgainst'],axis=1)"
   ]
  },
  {
   "cell_type": "markdown",
   "metadata": {},
   "source": [
    "### Creating Model Input"
   ]
  },
  {
   "cell_type": "code",
   "execution_count": 93,
   "metadata": {},
   "outputs": [],
   "source": [
    "# Determining if the team is the home or away, this is needed to join properly again on seasonsFiltered below\n",
    "statsComplete = pd.merge(statsComplete,seasonsFiltered[['gameID','homeTeamID']], \n",
    "                 how='left',\n",
    "                 left_on=['gameID','teamID'],\n",
    "                 right_on=['gameID','homeTeamID'])\n",
    "statsComplete['isHome'] = np.where(pd.isna(statsComplete['homeTeamID']), 0, 1)\n",
    "statsComplete = statsComplete.drop(['homeTeamID'],axis=1)"
   ]
  },
  {
   "cell_type": "code",
   "execution_count": 94,
   "metadata": {},
   "outputs": [],
   "source": [
    "# Determing the game number for each time by season\n",
    "statsComplete = statsComplete.sort_values(['seasonID','gameID'])\n",
    "statsComplete['gameNumber'] = statsComplete.groupby(['seasonID','teamID','isHome']).cumcount()+1\n",
    "statsComplete['gameNumber'] += 1"
   ]
  },
  {
   "cell_type": "code",
   "execution_count": 95,
   "metadata": {},
   "outputs": [],
   "source": [
    "# Sorting and then getting the home and away teams game numbers (used to join on below)\n",
    "seasonsFiltered = seasonsFiltered.sort_values(['seasonID','gameID'])\n",
    "seasonsFiltered['homeTeamGameNumber'] = seasonsFiltered.groupby(['seasonID','homeTeamID']).cumcount()+1\n",
    "seasonsFiltered['awayTeamGameNumber'] = seasonsFiltered.groupby(['seasonID','awayTeamID']).cumcount()+1"
   ]
  },
  {
   "cell_type": "code",
   "execution_count": 97,
   "metadata": {},
   "outputs": [],
   "source": [
    "# Creating the model input with the home team data\n",
    "modelInput = pd.merge(seasonsFiltered, \n",
    "            statsComplete[statsComplete['isHome'] == 1], \n",
    "            how='inner', \n",
    "            left_on=['seasonID', 'homeTeamID', 'homeTeamGameNumber'],\n",
    "            right_on=['seasonID','teamID','gameNumber'])"
   ]
  },
  {
   "cell_type": "code",
   "execution_count": 98,
   "metadata": {},
   "outputs": [],
   "source": [
    "# Dropping extra columns\n",
    "modelInput = modelInput.drop(['gameID_x', \n",
    "                 'gameType_x',\n",
    "                 'homeTeamGameNumber',\n",
    "                 'teamID',\n",
    "                 'gameNumber'],\n",
    "                axis=1)"
   ]
  },
  {
   "cell_type": "code",
   "execution_count": 99,
   "metadata": {},
   "outputs": [],
   "source": [
    "# Renaming some columns to keep things clean\n",
    "modelInput = modelInput.rename({\"gameID_y\":\"gameID\", \"gameType_y\":\"gameType\"}, axis=1)"
   ]
  },
  {
   "cell_type": "code",
   "execution_count": 100,
   "metadata": {},
   "outputs": [],
   "source": [
    "# adding the away team data to the model input\n",
    "modelInput = pd.merge(modelInput, \n",
    "            statsComplete[statsComplete['isHome'] == 0], \n",
    "            how='inner', \n",
    "            left_on=['seasonID', 'awayTeamID', 'awayTeamGameNumber'],\n",
    "            right_on=['seasonID','teamID','gameNumber'], suffixes=('Home','Away'))"
   ]
  },
  {
   "cell_type": "code",
   "execution_count": 102,
   "metadata": {},
   "outputs": [
    {
     "data": {
      "text/html": [
       "<div>\n",
       "<style scoped>\n",
       "    .dataframe tbody tr th:only-of-type {\n",
       "        vertical-align: middle;\n",
       "    }\n",
       "\n",
       "    .dataframe tbody tr th {\n",
       "        vertical-align: top;\n",
       "    }\n",
       "\n",
       "    .dataframe thead th {\n",
       "        text-align: right;\n",
       "    }\n",
       "</style>\n",
       "<table border=\"1\" class=\"dataframe\">\n",
       "  <thead>\n",
       "    <tr style=\"text-align: right;\">\n",
       "      <th></th>\n",
       "      <th>seasonID</th>\n",
       "      <th>gameDate</th>\n",
       "      <th>homeTeamID</th>\n",
       "      <th>awayTeamID</th>\n",
       "      <th>awayTeamGameNumber</th>\n",
       "      <th>gameIDHome</th>\n",
       "      <th>gameTypeHome</th>\n",
       "      <th>goalsAgainstPerGameHome</th>\n",
       "      <th>goalsForPerGameHome</th>\n",
       "      <th>shotsAgainstPerGameHome</th>\n",
       "      <th>shotsForPerGameHome</th>\n",
       "      <th>goalDifferentialHome</th>\n",
       "      <th>shotDifferentialHome</th>\n",
       "      <th>winningPercentageHome</th>\n",
       "      <th>isHomeHome</th>\n",
       "      <th>gameIDAway</th>\n",
       "      <th>gameTypeAway</th>\n",
       "      <th>teamID</th>\n",
       "      <th>goalsAgainstPerGameAway</th>\n",
       "      <th>goalsForPerGameAway</th>\n",
       "      <th>shotsAgainstPerGameAway</th>\n",
       "      <th>shotsForPerGameAway</th>\n",
       "      <th>goalDifferentialAway</th>\n",
       "      <th>shotDifferentialAway</th>\n",
       "      <th>winningPercentageAway</th>\n",
       "      <th>isHomeAway</th>\n",
       "      <th>gameNumber</th>\n",
       "    </tr>\n",
       "  </thead>\n",
       "  <tbody>\n",
       "    <tr>\n",
       "      <th>0</th>\n",
       "      <td>20102011</td>\n",
       "      <td>2010-10-09</td>\n",
       "      <td>5</td>\n",
       "      <td>8</td>\n",
       "      <td>2</td>\n",
       "      <td>2010020002</td>\n",
       "      <td>R</td>\n",
       "      <td>2.000000</td>\n",
       "      <td>3.000000</td>\n",
       "      <td>24.000000</td>\n",
       "      <td>29.000000</td>\n",
       "      <td>-1.0</td>\n",
       "      <td>5.0</td>\n",
       "      <td>0.000000</td>\n",
       "      <td>1</td>\n",
       "      <td>2010020001</td>\n",
       "      <td>R</td>\n",
       "      <td>8</td>\n",
       "      <td>2.000000</td>\n",
       "      <td>3.000000</td>\n",
       "      <td>21.000000</td>\n",
       "      <td>26.000000</td>\n",
       "      <td>-1.0</td>\n",
       "      <td>5.0</td>\n",
       "      <td>0.000000</td>\n",
       "      <td>0</td>\n",
       "      <td>2</td>\n",
       "    </tr>\n",
       "    <tr>\n",
       "      <th>1</th>\n",
       "      <td>20102011</td>\n",
       "      <td>2010-10-11</td>\n",
       "      <td>2</td>\n",
       "      <td>3</td>\n",
       "      <td>2</td>\n",
       "      <td>2010020015</td>\n",
       "      <td>R</td>\n",
       "      <td>4.000000</td>\n",
       "      <td>5.000000</td>\n",
       "      <td>20.000000</td>\n",
       "      <td>44.000000</td>\n",
       "      <td>-1.0</td>\n",
       "      <td>24.0</td>\n",
       "      <td>0.000000</td>\n",
       "      <td>1</td>\n",
       "      <td>2010020013</td>\n",
       "      <td>R</td>\n",
       "      <td>3</td>\n",
       "      <td>6.000000</td>\n",
       "      <td>3.000000</td>\n",
       "      <td>33.000000</td>\n",
       "      <td>22.000000</td>\n",
       "      <td>3.0</td>\n",
       "      <td>-11.0</td>\n",
       "      <td>1.000000</td>\n",
       "      <td>0</td>\n",
       "      <td>2</td>\n",
       "    </tr>\n",
       "    <tr>\n",
       "      <th>2</th>\n",
       "      <td>20102011</td>\n",
       "      <td>2010-10-11</td>\n",
       "      <td>19</td>\n",
       "      <td>24</td>\n",
       "      <td>3</td>\n",
       "      <td>2010020019</td>\n",
       "      <td>R</td>\n",
       "      <td>0.000000</td>\n",
       "      <td>0.000000</td>\n",
       "      <td>0.000000</td>\n",
       "      <td>0.000000</td>\n",
       "      <td>0.0</td>\n",
       "      <td>0.0</td>\n",
       "      <td>0.000000</td>\n",
       "      <td>1</td>\n",
       "      <td>2010020020</td>\n",
       "      <td>R</td>\n",
       "      <td>24</td>\n",
       "      <td>0.500000</td>\n",
       "      <td>4.000000</td>\n",
       "      <td>42.000000</td>\n",
       "      <td>28.500000</td>\n",
       "      <td>-7.0</td>\n",
       "      <td>-27.0</td>\n",
       "      <td>0.000000</td>\n",
       "      <td>0</td>\n",
       "      <td>3</td>\n",
       "    </tr>\n",
       "    <tr>\n",
       "      <th>3</th>\n",
       "      <td>20102011</td>\n",
       "      <td>2010-10-11</td>\n",
       "      <td>7</td>\n",
       "      <td>16</td>\n",
       "      <td>2</td>\n",
       "      <td>2010020013</td>\n",
       "      <td>R</td>\n",
       "      <td>2.500000</td>\n",
       "      <td>3.500000</td>\n",
       "      <td>23.500000</td>\n",
       "      <td>33.500000</td>\n",
       "      <td>-2.0</td>\n",
       "      <td>20.0</td>\n",
       "      <td>0.500000</td>\n",
       "      <td>1</td>\n",
       "      <td>2010020004</td>\n",
       "      <td>R</td>\n",
       "      <td>16</td>\n",
       "      <td>3.000000</td>\n",
       "      <td>4.000000</td>\n",
       "      <td>37.000000</td>\n",
       "      <td>35.000000</td>\n",
       "      <td>-1.0</td>\n",
       "      <td>-2.0</td>\n",
       "      <td>0.000000</td>\n",
       "      <td>0</td>\n",
       "      <td>2</td>\n",
       "    </tr>\n",
       "    <tr>\n",
       "      <th>4</th>\n",
       "      <td>20102011</td>\n",
       "      <td>2010-10-11</td>\n",
       "      <td>15</td>\n",
       "      <td>9</td>\n",
       "      <td>2</td>\n",
       "      <td>2010020017</td>\n",
       "      <td>R</td>\n",
       "      <td>4.500000</td>\n",
       "      <td>3.000000</td>\n",
       "      <td>29.000000</td>\n",
       "      <td>25.500000</td>\n",
       "      <td>3.0</td>\n",
       "      <td>-7.0</td>\n",
       "      <td>0.500000</td>\n",
       "      <td>1</td>\n",
       "      <td>2010020014</td>\n",
       "      <td>R</td>\n",
       "      <td>9</td>\n",
       "      <td>1.000000</td>\n",
       "      <td>3.500000</td>\n",
       "      <td>33.500000</td>\n",
       "      <td>21.000000</td>\n",
       "      <td>-5.0</td>\n",
       "      <td>-25.0</td>\n",
       "      <td>0.000000</td>\n",
       "      <td>0</td>\n",
       "      <td>2</td>\n",
       "    </tr>\n",
       "    <tr>\n",
       "      <th>...</th>\n",
       "      <td>...</td>\n",
       "      <td>...</td>\n",
       "      <td>...</td>\n",
       "      <td>...</td>\n",
       "      <td>...</td>\n",
       "      <td>...</td>\n",
       "      <td>...</td>\n",
       "      <td>...</td>\n",
       "      <td>...</td>\n",
       "      <td>...</td>\n",
       "      <td>...</td>\n",
       "      <td>...</td>\n",
       "      <td>...</td>\n",
       "      <td>...</td>\n",
       "      <td>...</td>\n",
       "      <td>...</td>\n",
       "      <td>...</td>\n",
       "      <td>...</td>\n",
       "      <td>...</td>\n",
       "      <td>...</td>\n",
       "      <td>...</td>\n",
       "      <td>...</td>\n",
       "      <td>...</td>\n",
       "      <td>...</td>\n",
       "      <td>...</td>\n",
       "      <td>...</td>\n",
       "      <td>...</td>\n",
       "    </tr>\n",
       "    <tr>\n",
       "      <th>12153</th>\n",
       "      <td>20202021</td>\n",
       "      <td>2021-05-18</td>\n",
       "      <td>23</td>\n",
       "      <td>20</td>\n",
       "      <td>28</td>\n",
       "      <td>2020020844</td>\n",
       "      <td>R</td>\n",
       "      <td>2.709091</td>\n",
       "      <td>3.418182</td>\n",
       "      <td>30.127273</td>\n",
       "      <td>26.745455</td>\n",
       "      <td>-39.0</td>\n",
       "      <td>-186.0</td>\n",
       "      <td>0.400000</td>\n",
       "      <td>1</td>\n",
       "      <td>2020020807</td>\n",
       "      <td>R</td>\n",
       "      <td>20</td>\n",
       "      <td>2.849057</td>\n",
       "      <td>2.924528</td>\n",
       "      <td>25.830189</td>\n",
       "      <td>27.150943</td>\n",
       "      <td>-4.0</td>\n",
       "      <td>70.0</td>\n",
       "      <td>0.471698</td>\n",
       "      <td>0</td>\n",
       "      <td>28</td>\n",
       "    </tr>\n",
       "    <tr>\n",
       "      <th>12154</th>\n",
       "      <td>20202021</td>\n",
       "      <td>2021-05-08</td>\n",
       "      <td>30</td>\n",
       "      <td>24</td>\n",
       "      <td>28</td>\n",
       "      <td>2020020850</td>\n",
       "      <td>R</td>\n",
       "      <td>3.254545</td>\n",
       "      <td>2.890909</td>\n",
       "      <td>27.854545</td>\n",
       "      <td>25.272727</td>\n",
       "      <td>20.0</td>\n",
       "      <td>-142.0</td>\n",
       "      <td>0.618182</td>\n",
       "      <td>1</td>\n",
       "      <td>2020020850</td>\n",
       "      <td>R</td>\n",
       "      <td>24</td>\n",
       "      <td>2.272727</td>\n",
       "      <td>3.236364</td>\n",
       "      <td>27.672727</td>\n",
       "      <td>24.763636</td>\n",
       "      <td>-53.0</td>\n",
       "      <td>-160.0</td>\n",
       "      <td>0.309091</td>\n",
       "      <td>0</td>\n",
       "      <td>28</td>\n",
       "    </tr>\n",
       "    <tr>\n",
       "      <th>12155</th>\n",
       "      <td>20202021</td>\n",
       "      <td>2021-05-08</td>\n",
       "      <td>54</td>\n",
       "      <td>19</td>\n",
       "      <td>28</td>\n",
       "      <td>2020020851</td>\n",
       "      <td>R</td>\n",
       "      <td>3.418182</td>\n",
       "      <td>2.254545</td>\n",
       "      <td>25.290909</td>\n",
       "      <td>29.400000</td>\n",
       "      <td>64.0</td>\n",
       "      <td>226.0</td>\n",
       "      <td>0.709091</td>\n",
       "      <td>1</td>\n",
       "      <td>2020020851</td>\n",
       "      <td>R</td>\n",
       "      <td>19</td>\n",
       "      <td>3.109091</td>\n",
       "      <td>3.072727</td>\n",
       "      <td>27.000000</td>\n",
       "      <td>26.236364</td>\n",
       "      <td>2.0</td>\n",
       "      <td>-42.0</td>\n",
       "      <td>0.490909</td>\n",
       "      <td>0</td>\n",
       "      <td>28</td>\n",
       "    </tr>\n",
       "    <tr>\n",
       "      <th>12156</th>\n",
       "      <td>20202021</td>\n",
       "      <td>2021-05-08</td>\n",
       "      <td>26</td>\n",
       "      <td>21</td>\n",
       "      <td>28</td>\n",
       "      <td>2020020852</td>\n",
       "      <td>R</td>\n",
       "      <td>2.600000</td>\n",
       "      <td>3.072727</td>\n",
       "      <td>28.181818</td>\n",
       "      <td>26.054545</td>\n",
       "      <td>-26.0</td>\n",
       "      <td>-117.0</td>\n",
       "      <td>0.381818</td>\n",
       "      <td>1</td>\n",
       "      <td>2020020852</td>\n",
       "      <td>R</td>\n",
       "      <td>21</td>\n",
       "      <td>3.545455</td>\n",
       "      <td>2.418182</td>\n",
       "      <td>23.181818</td>\n",
       "      <td>31.145455</td>\n",
       "      <td>62.0</td>\n",
       "      <td>438.0</td>\n",
       "      <td>0.690909</td>\n",
       "      <td>0</td>\n",
       "      <td>28</td>\n",
       "    </tr>\n",
       "    <tr>\n",
       "      <th>12157</th>\n",
       "      <td>20202021</td>\n",
       "      <td>2021-05-08</td>\n",
       "      <td>28</td>\n",
       "      <td>53</td>\n",
       "      <td>28</td>\n",
       "      <td>2020020853</td>\n",
       "      <td>R</td>\n",
       "      <td>2.781818</td>\n",
       "      <td>3.618182</td>\n",
       "      <td>28.727273</td>\n",
       "      <td>27.363636</td>\n",
       "      <td>-46.0</td>\n",
       "      <td>-75.0</td>\n",
       "      <td>0.381818</td>\n",
       "      <td>1</td>\n",
       "      <td>2020020853</td>\n",
       "      <td>R</td>\n",
       "      <td>53</td>\n",
       "      <td>2.818182</td>\n",
       "      <td>3.236364</td>\n",
       "      <td>27.127273</td>\n",
       "      <td>24.800000</td>\n",
       "      <td>-23.0</td>\n",
       "      <td>-128.0</td>\n",
       "      <td>0.418182</td>\n",
       "      <td>0</td>\n",
       "      <td>28</td>\n",
       "    </tr>\n",
       "  </tbody>\n",
       "</table>\n",
       "<p>12158 rows × 27 columns</p>\n",
       "</div>"
      ],
      "text/plain": [
       "       seasonID    gameDate  homeTeamID  awayTeamID  awayTeamGameNumber  \\\n",
       "0      20102011  2010-10-09           5           8                   2   \n",
       "1      20102011  2010-10-11           2           3                   2   \n",
       "2      20102011  2010-10-11          19          24                   3   \n",
       "3      20102011  2010-10-11           7          16                   2   \n",
       "4      20102011  2010-10-11          15           9                   2   \n",
       "...         ...         ...         ...         ...                 ...   \n",
       "12153  20202021  2021-05-18          23          20                  28   \n",
       "12154  20202021  2021-05-08          30          24                  28   \n",
       "12155  20202021  2021-05-08          54          19                  28   \n",
       "12156  20202021  2021-05-08          26          21                  28   \n",
       "12157  20202021  2021-05-08          28          53                  28   \n",
       "\n",
       "       gameIDHome gameTypeHome  goalsAgainstPerGameHome  goalsForPerGameHome  \\\n",
       "0      2010020002            R                 2.000000             3.000000   \n",
       "1      2010020015            R                 4.000000             5.000000   \n",
       "2      2010020019            R                 0.000000             0.000000   \n",
       "3      2010020013            R                 2.500000             3.500000   \n",
       "4      2010020017            R                 4.500000             3.000000   \n",
       "...           ...          ...                      ...                  ...   \n",
       "12153  2020020844            R                 2.709091             3.418182   \n",
       "12154  2020020850            R                 3.254545             2.890909   \n",
       "12155  2020020851            R                 3.418182             2.254545   \n",
       "12156  2020020852            R                 2.600000             3.072727   \n",
       "12157  2020020853            R                 2.781818             3.618182   \n",
       "\n",
       "       shotsAgainstPerGameHome  shotsForPerGameHome  goalDifferentialHome  \\\n",
       "0                    24.000000            29.000000                  -1.0   \n",
       "1                    20.000000            44.000000                  -1.0   \n",
       "2                     0.000000             0.000000                   0.0   \n",
       "3                    23.500000            33.500000                  -2.0   \n",
       "4                    29.000000            25.500000                   3.0   \n",
       "...                        ...                  ...                   ...   \n",
       "12153                30.127273            26.745455                 -39.0   \n",
       "12154                27.854545            25.272727                  20.0   \n",
       "12155                25.290909            29.400000                  64.0   \n",
       "12156                28.181818            26.054545                 -26.0   \n",
       "12157                28.727273            27.363636                 -46.0   \n",
       "\n",
       "       shotDifferentialHome  winningPercentageHome  isHomeHome  gameIDAway  \\\n",
       "0                       5.0               0.000000           1  2010020001   \n",
       "1                      24.0               0.000000           1  2010020013   \n",
       "2                       0.0               0.000000           1  2010020020   \n",
       "3                      20.0               0.500000           1  2010020004   \n",
       "4                      -7.0               0.500000           1  2010020014   \n",
       "...                     ...                    ...         ...         ...   \n",
       "12153                -186.0               0.400000           1  2020020807   \n",
       "12154                -142.0               0.618182           1  2020020850   \n",
       "12155                 226.0               0.709091           1  2020020851   \n",
       "12156                -117.0               0.381818           1  2020020852   \n",
       "12157                 -75.0               0.381818           1  2020020853   \n",
       "\n",
       "      gameTypeAway  teamID  goalsAgainstPerGameAway  goalsForPerGameAway  \\\n",
       "0                R       8                 2.000000             3.000000   \n",
       "1                R       3                 6.000000             3.000000   \n",
       "2                R      24                 0.500000             4.000000   \n",
       "3                R      16                 3.000000             4.000000   \n",
       "4                R       9                 1.000000             3.500000   \n",
       "...            ...     ...                      ...                  ...   \n",
       "12153            R      20                 2.849057             2.924528   \n",
       "12154            R      24                 2.272727             3.236364   \n",
       "12155            R      19                 3.109091             3.072727   \n",
       "12156            R      21                 3.545455             2.418182   \n",
       "12157            R      53                 2.818182             3.236364   \n",
       "\n",
       "       shotsAgainstPerGameAway  shotsForPerGameAway  goalDifferentialAway  \\\n",
       "0                    21.000000            26.000000                  -1.0   \n",
       "1                    33.000000            22.000000                   3.0   \n",
       "2                    42.000000            28.500000                  -7.0   \n",
       "3                    37.000000            35.000000                  -1.0   \n",
       "4                    33.500000            21.000000                  -5.0   \n",
       "...                        ...                  ...                   ...   \n",
       "12153                25.830189            27.150943                  -4.0   \n",
       "12154                27.672727            24.763636                 -53.0   \n",
       "12155                27.000000            26.236364                   2.0   \n",
       "12156                23.181818            31.145455                  62.0   \n",
       "12157                27.127273            24.800000                 -23.0   \n",
       "\n",
       "       shotDifferentialAway  winningPercentageAway  isHomeAway  gameNumber  \n",
       "0                       5.0               0.000000           0           2  \n",
       "1                     -11.0               1.000000           0           2  \n",
       "2                     -27.0               0.000000           0           3  \n",
       "3                      -2.0               0.000000           0           2  \n",
       "4                     -25.0               0.000000           0           2  \n",
       "...                     ...                    ...         ...         ...  \n",
       "12153                  70.0               0.471698           0          28  \n",
       "12154                -160.0               0.309091           0          28  \n",
       "12155                 -42.0               0.490909           0          28  \n",
       "12156                 438.0               0.690909           0          28  \n",
       "12157                -128.0               0.418182           0          28  \n",
       "\n",
       "[12158 rows x 27 columns]"
      ]
     },
     "execution_count": 102,
     "metadata": {},
     "output_type": "execute_result"
    }
   ],
   "source": [
    "pd.set_option(\"display.max_columns\", None)\n",
    "modelInput"
   ]
  },
  {
   "cell_type": "code",
   "execution_count": 103,
   "metadata": {},
   "outputs": [],
   "source": [
    "# Dropping columns that are no longer needed\n",
    "modelInput = modelInput.drop(['awayTeamGameNumber',\n",
    "                              'gameIDHome',\n",
    "                              'gameTypeHome',\n",
    "                              'teamID',\n",
    "                              'gameNumber',\n",
    "                              'isHomeAway'],axis=1)"
   ]
  },
  {
   "cell_type": "code",
   "execution_count": 104,
   "metadata": {},
   "outputs": [],
   "source": [
    "# Renaming these to get rid of the suffix that was put on it on the last join\n",
    "modelInput = modelInput.rename({'gameIDAway':'gameID','gameTypeAway':'gameType'},axis=1)"
   ]
  },
  {
   "cell_type": "code",
   "execution_count": 105,
   "metadata": {},
   "outputs": [],
   "source": [
    "modelInput = pd.merge(modelInput, gameOutcome, on='gameID')"
   ]
  },
  {
   "cell_type": "markdown",
   "metadata": {},
   "source": [
    "## Creating the Model"
   ]
  },
  {
   "cell_type": "markdown",
   "metadata": {},
   "source": [
    "### Normalizing the Data and creating train/test data"
   ]
  },
  {
   "cell_type": "code",
   "execution_count": 106,
   "metadata": {},
   "outputs": [],
   "source": [
    "# Creating the x and y data\n",
    "x = modelInput.drop(['seasonID',\n",
    "                     'gameDate',\n",
    "                     'homeTeamID',\n",
    "                     'awayTeamID',\n",
    "                     'gameID',\n",
    "                     'gameType',\n",
    "                     'shotsAgainstPerGameHome', \n",
    "                     'shotsForPerGameHome', \n",
    "                     'shotDifferentialHome',\n",
    "                     'shotsAgainstPerGameAway', \n",
    "                     'shotsForPerGameAway',\n",
    "                     'shotDifferentialAway',\n",
    "                     'homeTeamWin'],axis=1)\n",
    "y = modelInput[['homeTeamWin']]"
   ]
  },
  {
   "cell_type": "code",
   "execution_count": 107,
   "metadata": {},
   "outputs": [
    {
     "data": {
      "text/html": [
       "<div>\n",
       "<style scoped>\n",
       "    .dataframe tbody tr th:only-of-type {\n",
       "        vertical-align: middle;\n",
       "    }\n",
       "\n",
       "    .dataframe tbody tr th {\n",
       "        vertical-align: top;\n",
       "    }\n",
       "\n",
       "    .dataframe thead th {\n",
       "        text-align: right;\n",
       "    }\n",
       "</style>\n",
       "<table border=\"1\" class=\"dataframe\">\n",
       "  <thead>\n",
       "    <tr style=\"text-align: right;\">\n",
       "      <th></th>\n",
       "      <th>goalsAgainstPerGameHome</th>\n",
       "      <th>goalsForPerGameHome</th>\n",
       "      <th>goalDifferentialHome</th>\n",
       "      <th>winningPercentageHome</th>\n",
       "      <th>isHomeHome</th>\n",
       "      <th>goalsAgainstPerGameAway</th>\n",
       "      <th>goalsForPerGameAway</th>\n",
       "      <th>goalDifferentialAway</th>\n",
       "      <th>winningPercentageAway</th>\n",
       "    </tr>\n",
       "  </thead>\n",
       "  <tbody>\n",
       "    <tr>\n",
       "      <th>0</th>\n",
       "      <td>2.000000</td>\n",
       "      <td>3.000000</td>\n",
       "      <td>-1.0</td>\n",
       "      <td>0.000000</td>\n",
       "      <td>1</td>\n",
       "      <td>2.000000</td>\n",
       "      <td>3.000000</td>\n",
       "      <td>-1.0</td>\n",
       "      <td>0.000000</td>\n",
       "    </tr>\n",
       "    <tr>\n",
       "      <th>1</th>\n",
       "      <td>4.000000</td>\n",
       "      <td>5.000000</td>\n",
       "      <td>-1.0</td>\n",
       "      <td>0.000000</td>\n",
       "      <td>1</td>\n",
       "      <td>6.000000</td>\n",
       "      <td>3.000000</td>\n",
       "      <td>3.0</td>\n",
       "      <td>1.000000</td>\n",
       "    </tr>\n",
       "    <tr>\n",
       "      <th>2</th>\n",
       "      <td>0.000000</td>\n",
       "      <td>0.000000</td>\n",
       "      <td>0.0</td>\n",
       "      <td>0.000000</td>\n",
       "      <td>1</td>\n",
       "      <td>0.500000</td>\n",
       "      <td>4.000000</td>\n",
       "      <td>-7.0</td>\n",
       "      <td>0.000000</td>\n",
       "    </tr>\n",
       "    <tr>\n",
       "      <th>3</th>\n",
       "      <td>2.500000</td>\n",
       "      <td>3.500000</td>\n",
       "      <td>-2.0</td>\n",
       "      <td>0.500000</td>\n",
       "      <td>1</td>\n",
       "      <td>3.000000</td>\n",
       "      <td>4.000000</td>\n",
       "      <td>-1.0</td>\n",
       "      <td>0.000000</td>\n",
       "    </tr>\n",
       "    <tr>\n",
       "      <th>4</th>\n",
       "      <td>4.500000</td>\n",
       "      <td>3.000000</td>\n",
       "      <td>3.0</td>\n",
       "      <td>0.500000</td>\n",
       "      <td>1</td>\n",
       "      <td>1.000000</td>\n",
       "      <td>3.500000</td>\n",
       "      <td>-5.0</td>\n",
       "      <td>0.000000</td>\n",
       "    </tr>\n",
       "    <tr>\n",
       "      <th>...</th>\n",
       "      <td>...</td>\n",
       "      <td>...</td>\n",
       "      <td>...</td>\n",
       "      <td>...</td>\n",
       "      <td>...</td>\n",
       "      <td>...</td>\n",
       "      <td>...</td>\n",
       "      <td>...</td>\n",
       "      <td>...</td>\n",
       "    </tr>\n",
       "    <tr>\n",
       "      <th>12153</th>\n",
       "      <td>2.709091</td>\n",
       "      <td>3.418182</td>\n",
       "      <td>-39.0</td>\n",
       "      <td>0.400000</td>\n",
       "      <td>1</td>\n",
       "      <td>2.849057</td>\n",
       "      <td>2.924528</td>\n",
       "      <td>-4.0</td>\n",
       "      <td>0.471698</td>\n",
       "    </tr>\n",
       "    <tr>\n",
       "      <th>12154</th>\n",
       "      <td>3.254545</td>\n",
       "      <td>2.890909</td>\n",
       "      <td>20.0</td>\n",
       "      <td>0.618182</td>\n",
       "      <td>1</td>\n",
       "      <td>2.272727</td>\n",
       "      <td>3.236364</td>\n",
       "      <td>-53.0</td>\n",
       "      <td>0.309091</td>\n",
       "    </tr>\n",
       "    <tr>\n",
       "      <th>12155</th>\n",
       "      <td>3.418182</td>\n",
       "      <td>2.254545</td>\n",
       "      <td>64.0</td>\n",
       "      <td>0.709091</td>\n",
       "      <td>1</td>\n",
       "      <td>3.109091</td>\n",
       "      <td>3.072727</td>\n",
       "      <td>2.0</td>\n",
       "      <td>0.490909</td>\n",
       "    </tr>\n",
       "    <tr>\n",
       "      <th>12156</th>\n",
       "      <td>2.600000</td>\n",
       "      <td>3.072727</td>\n",
       "      <td>-26.0</td>\n",
       "      <td>0.381818</td>\n",
       "      <td>1</td>\n",
       "      <td>3.545455</td>\n",
       "      <td>2.418182</td>\n",
       "      <td>62.0</td>\n",
       "      <td>0.690909</td>\n",
       "    </tr>\n",
       "    <tr>\n",
       "      <th>12157</th>\n",
       "      <td>2.781818</td>\n",
       "      <td>3.618182</td>\n",
       "      <td>-46.0</td>\n",
       "      <td>0.381818</td>\n",
       "      <td>1</td>\n",
       "      <td>2.818182</td>\n",
       "      <td>3.236364</td>\n",
       "      <td>-23.0</td>\n",
       "      <td>0.418182</td>\n",
       "    </tr>\n",
       "  </tbody>\n",
       "</table>\n",
       "<p>12158 rows × 9 columns</p>\n",
       "</div>"
      ],
      "text/plain": [
       "       goalsAgainstPerGameHome  goalsForPerGameHome  goalDifferentialHome  \\\n",
       "0                     2.000000             3.000000                  -1.0   \n",
       "1                     4.000000             5.000000                  -1.0   \n",
       "2                     0.000000             0.000000                   0.0   \n",
       "3                     2.500000             3.500000                  -2.0   \n",
       "4                     4.500000             3.000000                   3.0   \n",
       "...                        ...                  ...                   ...   \n",
       "12153                 2.709091             3.418182                 -39.0   \n",
       "12154                 3.254545             2.890909                  20.0   \n",
       "12155                 3.418182             2.254545                  64.0   \n",
       "12156                 2.600000             3.072727                 -26.0   \n",
       "12157                 2.781818             3.618182                 -46.0   \n",
       "\n",
       "       winningPercentageHome  isHomeHome  goalsAgainstPerGameAway  \\\n",
       "0                   0.000000           1                 2.000000   \n",
       "1                   0.000000           1                 6.000000   \n",
       "2                   0.000000           1                 0.500000   \n",
       "3                   0.500000           1                 3.000000   \n",
       "4                   0.500000           1                 1.000000   \n",
       "...                      ...         ...                      ...   \n",
       "12153               0.400000           1                 2.849057   \n",
       "12154               0.618182           1                 2.272727   \n",
       "12155               0.709091           1                 3.109091   \n",
       "12156               0.381818           1                 3.545455   \n",
       "12157               0.381818           1                 2.818182   \n",
       "\n",
       "       goalsForPerGameAway  goalDifferentialAway  winningPercentageAway  \n",
       "0                 3.000000                  -1.0               0.000000  \n",
       "1                 3.000000                   3.0               1.000000  \n",
       "2                 4.000000                  -7.0               0.000000  \n",
       "3                 4.000000                  -1.0               0.000000  \n",
       "4                 3.500000                  -5.0               0.000000  \n",
       "...                    ...                   ...                    ...  \n",
       "12153             2.924528                  -4.0               0.471698  \n",
       "12154             3.236364                 -53.0               0.309091  \n",
       "12155             3.072727                   2.0               0.490909  \n",
       "12156             2.418182                  62.0               0.690909  \n",
       "12157             3.236364                 -23.0               0.418182  \n",
       "\n",
       "[12158 rows x 9 columns]"
      ]
     },
     "execution_count": 107,
     "metadata": {},
     "output_type": "execute_result"
    }
   ],
   "source": [
    "x"
   ]
  },
  {
   "cell_type": "code",
   "execution_count": 108,
   "metadata": {
    "pycharm": {
     "is_executing": true
    }
   },
   "outputs": [],
   "source": [
    "# Normalizing the data\n",
    "scaler = preprocessing.StandardScaler().fit(x)\n",
    "xScaled = scaler.transform(x)"
   ]
  },
  {
   "cell_type": "code",
   "execution_count": 109,
   "metadata": {
    "pycharm": {
     "is_executing": true
    }
   },
   "outputs": [],
   "source": [
    "xTrain, xTest, yTrain, yTest = train_test_split(xScaled, y, test_size=0.2,random_state=109) # 70% training and 20% test"
   ]
  },
  {
   "cell_type": "markdown",
   "metadata": {},
   "source": [
    "### Support Vector Machine"
   ]
  },
  {
   "cell_type": "code",
   "execution_count": 129,
   "metadata": {
    "pycharm": {
     "is_executing": true
    }
   },
   "outputs": [],
   "source": [
    "clf = svm.SVC(kernel='linear',gamma='auto') # Linear Kernel"
   ]
  },
  {
   "cell_type": "code",
   "execution_count": 130,
   "metadata": {
    "pycharm": {
     "is_executing": true
    }
   },
   "outputs": [
    {
     "data": {
      "text/plain": [
       "SVC(C=10, gamma='auto', kernel='linear')"
      ]
     },
     "execution_count": 130,
     "metadata": {},
     "output_type": "execute_result"
    }
   ],
   "source": [
    "clf.fit(xTrain, yTrain['homeTeamWin'].values)"
   ]
  },
  {
   "cell_type": "code",
   "execution_count": 131,
   "metadata": {
    "pycharm": {
     "is_executing": true
    }
   },
   "outputs": [
    {
     "name": "stdout",
     "output_type": "stream",
     "text": [
      "Train Accuracy: 0.6102200287888135\n",
      "Test Accuracy: 0.6069078947368421\n"
     ]
    }
   ],
   "source": [
    "yPred = clf.predict(xTrain)\n",
    "print(\"Train Accuracy:\",metrics.accuracy_score(yTrain, yPred))\n",
    "yPred = clf.predict(xTest)\n",
    "print(\"Test Accuracy:\",metrics.accuracy_score(yTest, yPred))"
   ]
  },
  {
   "cell_type": "code",
   "execution_count": null,
   "metadata": {
    "pycharm": {
     "is_executing": true
    }
   },
   "outputs": [],
   "source": []
  },
  {
   "cell_type": "code",
   "execution_count": null,
   "metadata": {
    "pycharm": {
     "is_executing": true
    }
   },
   "outputs": [],
   "source": []
  },
  {
   "cell_type": "code",
   "execution_count": null,
   "metadata": {
    "pycharm": {
     "is_executing": true
    }
   },
   "outputs": [],
   "source": []
  }
 ],
 "metadata": {
  "kernelspec": {
   "display_name": "Python 3",
   "language": "python",
   "name": "python3"
  },
  "language_info": {
   "codemirror_mode": {
    "name": "ipython",
    "version": 3
   },
   "file_extension": ".py",
   "mimetype": "text/x-python",
   "name": "python",
   "nbconvert_exporter": "python",
   "pygments_lexer": "ipython3",
   "version": "3.8.5"
  }
 },
 "nbformat": 4,
 "nbformat_minor": 1
}
