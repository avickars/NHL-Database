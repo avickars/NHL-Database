{
 "cells": [
  {
   "cell_type": "code",
   "execution_count": null,
   "metadata": {
    "pycharm": {
     "is_executing": true
    }
   },
   "outputs": [],
   "source": [
    "# Reading in packages\n",
    "import pandas as pd\n",
    "from SQLCode import DatabaseConnection\n",
    "from SQLCode import DatabaseCredentials as DBC\n",
    "import numpy as np\n",
    "\n",
    "from sklearn.model_selection import train_test_split\n",
    "from sklearn import preprocessing\n",
    "from sklearn import svm\n",
    "from sklearn import metrics\n",
    "from sklearn.model_selection import cross_val_score"
   ]
  },
  {
   "cell_type": "code",
   "execution_count": null,
   "metadata": {
    "pycharm": {
     "is_executing": true
    }
   },
   "outputs": [],
   "source": [
    "# Opening connection\n",
    "creds = DBC.DataBaseCredentials()\n",
    "conn = DatabaseConnection.sql_connection(creds.server, creds.database, creds.user, creds.password)\n",
    "connection = conn.open()\n",
    "cursor = connection.cursor()"
   ]
  },
  {
   "cell_type": "code",
   "execution_count": null,
   "metadata": {
    "pycharm": {
     "is_executing": true
    }
   },
   "outputs": [],
   "source": [
    "# Getting the live_feed data\n",
    "live_feed = pd.read_sql_query(\"select * from live_feed\", connection)"
   ]
  },
  {
   "cell_type": "code",
   "execution_count": null,
   "metadata": {
    "pycharm": {
     "is_executing": true
    }
   },
   "outputs": [],
   "source": [
    "# Getting the seasons data\n",
    "seasons = pd.read_sql_query(\"select * from schedules\", connection)"
   ]
  },
  {
   "cell_type": "code",
   "execution_count": null,
   "metadata": {
    "pycharm": {
     "is_executing": true
    }
   },
   "outputs": [],
   "source": [
    "# Filtering to regular seasons games and 20102011 onwards (when live data started)\n",
    "seasonsFiltered = seasons[seasons['seasonID'] >= 20102011]\n",
    "seasonsFiltered = seasonsFiltered[seasonsFiltered['gameType'] == 'R']"
   ]
  },
  {
   "cell_type": "code",
   "execution_count": null,
   "metadata": {
    "pycharm": {
     "is_executing": true
    }
   },
   "outputs": [],
   "source": [
    "# Getting and filtering the raw data\n",
    "rawData = pd.merge(live_feed,seasons, how='right',on='gameID')\n",
    "rawData = rawData[rawData['seasonID'] >= 20102011]\n",
    "rawData = rawData[rawData['gameType'] == 'R']"
   ]
  },
  {
   "cell_type": "markdown",
   "metadata": {},
   "source": [
    "### Creating Initial Data Sets"
   ]
  },
  {
   "cell_type": "code",
   "execution_count": 7,
   "metadata": {
    "pycharm": {
     "is_executing": true
    }
   },
   "outputs": [],
   "source": [
    "# Filtering to the rows with the required data (goals and shots)\n",
    "statsRaw = rawData[((rawData['eventTypeID'] == 'GOAL') & (rawData['playerType'] == 'Scorer')) |\n",
    "               ((rawData['eventTypeID'] == 'SHOT') & (rawData['playerType'] == 'Shooter'))]"
   ]
  },
  {
   "cell_type": "code",
   "execution_count": 8,
   "metadata": {
    "pycharm": {
     "is_executing": true
    }
   },
   "outputs": [],
   "source": [
    "# Getting counts of the \"for\" stats.  \n",
    "statsFor = pd.DataFrame(statsRaw.groupby(['gameID','teamID','eventTypeID']).size()).reset_index()\n",
    "statsFor = statsFor.rename({0:'count'}, axis=1)"
   ]
  },
  {
   "cell_type": "code",
   "execution_count": 9,
   "metadata": {
    "pycharm": {
     "is_executing": true
    }
   },
   "outputs": [],
   "source": [
    "# Pivoting so each stat gets its own column\n",
    "statsFor = pd.pivot_table(data=statsFor, values='count',index=['gameID','teamID'], columns='eventTypeID').reset_index()"
   ]
  },
  {
   "cell_type": "code",
   "execution_count": 10,
   "metadata": {
    "pycharm": {
     "is_executing": true
    }
   },
   "outputs": [],
   "source": [
    "# Defing the stats \"against\" table\n",
    "statsAgainst = statsRaw[['gameID','eventTypeID']]"
   ]
  },
  {
   "cell_type": "code",
   "execution_count": 11,
   "metadata": {
    "pycharm": {
     "is_executing": true
    }
   },
   "outputs": [
    {
     "name": "stderr",
     "output_type": "stream",
     "text": [
      "<ipython-input-11-836c260b681f>:2: SettingWithCopyWarning: \n",
      "A value is trying to be set on a copy of a slice from a DataFrame.\n",
      "Try using .loc[row_indexer,col_indexer] = value instead\n",
      "\n",
      "See the caveats in the documentation: https://pandas.pydata.org/pandas-docs/stable/user_guide/indexing.html#returning-a-view-versus-a-copy\n",
      "  statsAgainst['teamID'] = statsRaw.apply(lambda row: row['homeTeamID'] if row['teamID'] != row['homeTeamID'] else row['awayTeamID'],axis=1)\n"
     ]
    }
   ],
   "source": [
    "# Getting the \"against\" team\n",
    "statsAgainst['teamID'] = statsRaw.apply(lambda row: row['homeTeamID'] if row['teamID'] != row['homeTeamID'] else row['awayTeamID'],axis=1)"
   ]
  },
  {
   "cell_type": "code",
   "execution_count": 12,
   "metadata": {
    "pycharm": {
     "is_executing": true
    }
   },
   "outputs": [],
   "source": [
    "# Getting the stats counts\n",
    "statsAgainst = pd.DataFrame(statsAgainst.groupby(['gameID','teamID','eventTypeID']).size()).reset_index()\n",
    "statsAgainst = statsAgainst.rename({0:'count'}, axis=1)"
   ]
  },
  {
   "cell_type": "code",
   "execution_count": 13,
   "metadata": {
    "pycharm": {
     "is_executing": true
    }
   },
   "outputs": [],
   "source": [
    "# Pivoting so each stat gets its own column\n",
    "statsAgainst = pd.pivot_table(data=statsAgainst, values='count',index=['gameID','teamID'], columns='eventTypeID').reset_index()"
   ]
  },
  {
   "cell_type": "markdown",
   "metadata": {},
   "source": [
    "### Create complete schedule table"
   ]
  },
  {
   "cell_type": "code",
   "execution_count": 14,
   "metadata": {
    "pycharm": {
     "is_executing": true
    }
   },
   "outputs": [],
   "source": [
    "# Expanding the schedule into a row for each game an individual team played\n",
    "seasonsExpanded = pd.concat([seasonsFiltered[['seasonID','gameID','gameType','homeTeamID']].rename({'homeTeamID':'teamID'},axis=1),\n",
    "          seasonsFiltered[['seasonID','gameID','gameType','awayTeamID']].rename({'awayTeamID':'teamID'},axis=1)])"
   ]
  },
  {
   "cell_type": "markdown",
   "metadata": {},
   "source": [
    "### Extending data set for every game"
   ]
  },
  {
   "cell_type": "code",
   "execution_count": 15,
   "metadata": {
    "pycharm": {
     "is_executing": true
    }
   },
   "outputs": [],
   "source": [
    "# Merging the stats for and against into a single table.  \n",
    "# Notice the left join on seasonsExpanded to ensure we aren't losing any data\n",
    "stats = pd.merge(seasonsExpanded, \n",
    "                 statsFor, \n",
    "                 how='left', \n",
    "                 left_on=['gameID','teamID'],\n",
    "                 right_on=['gameID','teamID'])\n",
    "stats = stats.rename({'GOAL':'goalsFor','SHOT':'shotsFor'},axis=1)\n",
    "stats = pd.merge(stats , \n",
    "                 statsAgainst, \n",
    "                 how='left', \n",
    "                 left_on=['gameID','teamID'],\n",
    "                 right_on=['gameID','teamID'])\n",
    "stats = stats.rename({'GOAL':'goalsAgainst','SHOT':'shotsAgainst'},axis=1)"
   ]
  },
  {
   "cell_type": "code",
   "execution_count": 16,
   "metadata": {
    "pycharm": {
     "is_executing": true
    }
   },
   "outputs": [],
   "source": [
    "# Setting no stats (i.e. NA) to 0\n",
    "stats['goalsFor'] = stats['goalsFor'].apply(lambda x: 0 if pd.isna(x) else x)\n",
    "stats['goalsAgainst'] = stats['goalsAgainst'].apply(lambda x: 0 if pd.isna(x) else x)\n",
    "stats['shotsAgainst'] = stats['shotsAgainst'].apply(lambda x: 0 if pd.isna(x) else x)\n",
    "stats['shotsFor'] = stats['shotsFor'].apply(lambda x: 0 if pd.isna(x) else x)"
   ]
  },
  {
   "cell_type": "code",
   "execution_count": 17,
   "metadata": {
    "pycharm": {
     "is_executing": true
    }
   },
   "outputs": [],
   "source": [
    "# Sorting the values\n",
    "stats = stats.sort_values(['seasonID','gameID'])\n",
    "\n",
    "# Grabbing this now to use in \"Extracting the Game Outcome\"\n",
    "statsSimple = stats"
   ]
  },
  {
   "cell_type": "markdown",
   "metadata": {},
   "source": [
    "### Creating the Statistics"
   ]
  },
  {
   "cell_type": "code",
   "execution_count": 18,
   "metadata": {
    "pycharm": {
     "is_executing": true
    }
   },
   "outputs": [],
   "source": [
    "# Creating a game number for every game per team\n",
    "stats['gameNumber'] = stats.groupby(['seasonID','teamID']).cumcount()+1"
   ]
  },
  {
   "cell_type": "code",
   "execution_count": 19,
   "metadata": {
    "pycharm": {
     "is_executing": true
    }
   },
   "outputs": [],
   "source": [
    "# Getting the rolling totals for each stat\n",
    "stats['goalsAgainstTotal'] = stats.groupby(['seasonID','teamID'])['goalsAgainst'].cumsum()\n",
    "stats['goalsForTotal'] = stats.groupby(['seasonID','teamID'])['goalsFor'].cumsum()\n",
    "stats['shotsForTotal'] = stats.groupby(['seasonID','teamID'])['shotsFor'].cumsum()\n",
    "stats['shotsAgainstTotal'] = stats.groupby(['seasonID','teamID'])['shotsAgainst'].cumsum()"
   ]
  },
  {
   "cell_type": "code",
   "execution_count": 20,
   "metadata": {
    "pycharm": {
     "is_executing": true
    }
   },
   "outputs": [],
   "source": [
    "# Creating a game number for each team/season\n",
    "stats['gameNumber'] = stats.groupby(['seasonID','teamID']).cumcount()+1"
   ]
  },
  {
   "cell_type": "code",
   "execution_count": 21,
   "metadata": {
    "pycharm": {
     "is_executing": true
    }
   },
   "outputs": [],
   "source": [
    "# Getting the rolling totals per game for each stat\n",
    "stats['goalsAgainstPerGame'] = stats['goalsForTotal']/stats['gameNumber']\n",
    "stats['goalsForPerGame'] = stats['goalsAgainstTotal']/stats['gameNumber']\n",
    "stats['shotsAgainstPerGame'] = stats['shotsAgainstTotal']/stats['gameNumber']\n",
    "stats['shotsForPerGame'] = stats['shotsForTotal']/stats['gameNumber']"
   ]
  },
  {
   "cell_type": "code",
   "execution_count": 22,
   "metadata": {
    "pycharm": {
     "is_executing": true
    }
   },
   "outputs": [],
   "source": [
    "# Getting the rolling differentials\n",
    "stats['goalDifferential'] = stats['goalsForTotal'] - stats['goalsAgainstTotal']\n",
    "stats['shotDifferential'] = stats['shotsForTotal'] - stats['shotsAgainstTotal']"
   ]
  },
  {
   "cell_type": "code",
   "execution_count": 23,
   "metadata": {
    "pycharm": {
     "is_executing": true
    }
   },
   "outputs": [],
   "source": [
    "# Determing whether a team won/lossed and creating a rolling win percentage\n",
    "stats['winLoss'] = stats.apply(lambda row: 1 if row['goalsFor'] > row['goalsAgainst'] else 0,axis=1)\n",
    "stats['winLossTotal'] = stats.groupby(['seasonID','teamID'])['winLoss'].cumsum()\n",
    "stats['winningPercentage'] = stats['winLossTotal']/stats['gameNumber']"
   ]
  },
  {
   "cell_type": "code",
   "execution_count": 24,
   "metadata": {
    "pycharm": {
     "is_executing": true
    }
   },
   "outputs": [],
   "source": [
    "statsComplete = stats.drop(['goalsFor',\n",
    "                            'goalsAgainst', \n",
    "                            'shotsAgainst', \n",
    "                            'shotsFor',\n",
    "                            'gameNumber',\n",
    "                            'goalsForTotal',\n",
    "                            'goalsAgainstTotal',\n",
    "                            'shotsAgainstTotal',\n",
    "                            'shotsForTotal',\n",
    "                            'winLoss',\n",
    "                            'winLossTotal'], axis=1)"
   ]
  },
  {
   "cell_type": "markdown",
   "metadata": {},
   "source": [
    "### Adding Q Values"
   ]
  },
  {
   "cell_type": "code",
   "execution_count": 25,
   "metadata": {
    "pycharm": {
     "is_executing": true
    }
   },
   "outputs": [],
   "source": [
    "# Getting the seasons data\n",
    "# boxscores = pd.read_sql_query(\"select gameID, teamID,playerID from box_scores where timeOnIce is not null and scratched=0\", connection)"
   ]
  },
  {
   "cell_type": "code",
   "execution_count": 26,
   "metadata": {
    "pycharm": {
     "is_executing": true
    }
   },
   "outputs": [],
   "source": [
    "# Merging boxscores with seasons to get the seasonID\n",
    "# boxscores = pd.merge(seasonsFiltered[['seasonID','gameID']], boxscores, how='inner')"
   ]
  },
  {
   "cell_type": "code",
   "execution_count": 27,
   "metadata": {
    "pycharm": {
     "is_executing": true
    }
   },
   "outputs": [],
   "source": [
    "# Sorting to make sure the row count is correct\n",
    "# boxscores = boxscores.sort_values(['seasonID','gameID'])"
   ]
  },
  {
   "cell_type": "code",
   "execution_count": 28,
   "metadata": {
    "pycharm": {
     "is_executing": true
    }
   },
   "outputs": [],
   "source": [
    "# # Getting the previous game for each game/player combo\n",
    "# previousGame = []\n",
    "# for index, row in boxscores.iterrows():\n",
    "#     if index % 10000 == 0:\n",
    "#         print(int((index/len(boxscores))*100),'%')\n",
    "#     preGame = boxscores[(boxscores['gameID'] < row['gameID']) & (boxscores['playerID'] == row['playerID'])]['gameID'].values\n",
    "#     if len(preGame) == 0:\n",
    "#         previousGame.append(np.nan)\n",
    "#     else:\n",
    "#         previousGame.append(max(preGame))"
   ]
  },
  {
   "cell_type": "code",
   "execution_count": 29,
   "metadata": {
    "pycharm": {
     "is_executing": true
    }
   },
   "outputs": [],
   "source": [
    "# seasonsList = seasonsFiltered['seasonID'].unique()\n",
    "# previousSeasons = []\n",
    "# for index, row in boxscores.iterrows():\n",
    "#     if index % 10000 == 0:\n",
    "#         print(int((index/len(boxscores))*100),'%')\n",
    "#     season = seasonsList[seasonsList < row['seasonID']]\n",
    "#     if len(season) == 0:\n",
    "#         previousSeasons.append(np.nan)\n",
    "#     else:\n",
    "#         previousSeasons.append(max(season))\n",
    "    \n",
    "# #     break\n",
    "    "
   ]
  },
  {
   "cell_type": "code",
   "execution_count": 30,
   "metadata": {
    "pycharm": {
     "is_executing": true
    }
   },
   "outputs": [],
   "source": [
    "# boxscores['previousSeason'] = previousSeasons\n",
    "# boxscores['previousSeason'] = boxscores['previousSeason'].fillna(20092010)\n",
    "# boxscores['previousSeason'] = boxscores['previousSeason'].astype(int)"
   ]
  },
  {
   "cell_type": "code",
   "execution_count": 31,
   "metadata": {
    "pycharm": {
     "is_executing": true
    }
   },
   "outputs": [],
   "source": [
    "# Getting the game number if the player played in the game\n",
    "# boxscores['gameNumber'] = boxscores.groupby(['seasonID','playerID']).cumcount()+1"
   ]
  },
  {
   "cell_type": "code",
   "execution_count": 32,
   "metadata": {
    "pycharm": {
     "is_executing": true
    }
   },
   "outputs": [],
   "source": [
    "boxscores = pd.read_csv('boxscores.csv',index_col=0)\n",
    "# boxscores.to_csv('boxscores.csv')"
   ]
  },
  {
   "cell_type": "code",
   "execution_count": 33,
   "metadata": {
    "pycharm": {
     "is_executing": true
    }
   },
   "outputs": [
    {
     "name": "stderr",
     "output_type": "stream",
     "text": [
      "C:\\Users\\Aidan\\anaconda3\\envs\\tf\\lib\\site-packages\\numpy\\lib\\arraysetops.py:580: FutureWarning: elementwise comparison failed; returning scalar instead, but in the future will perform elementwise comparison\n",
      "  mask |= (ar1 == a)\n"
     ]
    }
   ],
   "source": [
    "# Reading in the q values\n",
    "qValues = pd.read_csv('deep_rl_results2.csv',index_col=0)"
   ]
  },
  {
   "cell_type": "code",
   "execution_count": 34,
   "metadata": {
    "pycharm": {
     "is_executing": true
    }
   },
   "outputs": [],
   "source": [
    "# Summing up the values by game\n",
    "qValues = qValues[['gameID',\n",
    "                   'playerID',\n",
    "                   'value']].groupby(['gameID',\n",
    "                                         'playerID']).sum('value').reset_index()"
   ]
  },
  {
   "cell_type": "code",
   "execution_count": 35,
   "metadata": {
    "pycharm": {
     "is_executing": true
    }
   },
   "outputs": [],
   "source": [
    "# Merging with boxscores\n",
    "qValues = pd.merge(boxscores, qValues, on=['gameID','playerID'],how='left')"
   ]
  },
  {
   "cell_type": "code",
   "execution_count": 36,
   "metadata": {
    "pycharm": {
     "is_executing": true
    }
   },
   "outputs": [],
   "source": [
    "# Filling NA values (i.e. games where a player didn't show up)\n",
    "qValues['value'] = qValues['value'].fillna(0)"
   ]
  },
  {
   "cell_type": "code",
   "execution_count": 37,
   "metadata": {
    "pycharm": {
     "is_executing": true
    }
   },
   "outputs": [],
   "source": [
    "qValues = qValues.sort_values(['seasonID','gameID'])"
   ]
  },
  {
   "cell_type": "code",
   "execution_count": 38,
   "metadata": {
    "pycharm": {
     "is_executing": true
    }
   },
   "outputs": [],
   "source": [
    "# Summing up the q values by player/season/game\n",
    "qValues['cumulativeValue'] = qValues.groupby(['seasonID','playerID'])['value'].cumsum(axis=0)"
   ]
  },
  {
   "cell_type": "code",
   "execution_count": 39,
   "metadata": {
    "pycharm": {
     "is_executing": true
    }
   },
   "outputs": [],
   "source": [
    "# Getting the q value per game\n",
    "qValues['averageValue'] = qValues['cumulativeValue']/qValues['gameNumber']"
   ]
  },
  {
   "cell_type": "code",
   "execution_count": 40,
   "metadata": {
    "pycharm": {
     "is_executing": true
    }
   },
   "outputs": [
    {
     "data": {
      "text/html": [
       "<div>\n",
       "<style scoped>\n",
       "    .dataframe tbody tr th:only-of-type {\n",
       "        vertical-align: middle;\n",
       "    }\n",
       "\n",
       "    .dataframe tbody tr th {\n",
       "        vertical-align: top;\n",
       "    }\n",
       "\n",
       "    .dataframe thead th {\n",
       "        text-align: right;\n",
       "    }\n",
       "</style>\n",
       "<table border=\"1\" class=\"dataframe\">\n",
       "  <thead>\n",
       "    <tr style=\"text-align: right;\">\n",
       "      <th></th>\n",
       "      <th>seasonID</th>\n",
       "      <th>gameID</th>\n",
       "      <th>teamID</th>\n",
       "      <th>playerID</th>\n",
       "      <th>gameNumber</th>\n",
       "      <th>previousGameID</th>\n",
       "      <th>previousSeason</th>\n",
       "      <th>value</th>\n",
       "      <th>cumulativeValue</th>\n",
       "      <th>averageValue</th>\n",
       "    </tr>\n",
       "  </thead>\n",
       "  <tbody>\n",
       "    <tr>\n",
       "      <th>215472</th>\n",
       "      <td>20152016</td>\n",
       "      <td>2015020008</td>\n",
       "      <td>22</td>\n",
       "      <td>8478402</td>\n",
       "      <td>1</td>\n",
       "      <td>NaN</td>\n",
       "      <td>20142015</td>\n",
       "      <td>0.562524</td>\n",
       "      <td>0.562524</td>\n",
       "      <td>0.562524</td>\n",
       "    </tr>\n",
       "    <tr>\n",
       "      <th>216083</th>\n",
       "      <td>20152016</td>\n",
       "      <td>2015020024</td>\n",
       "      <td>22</td>\n",
       "      <td>8478402</td>\n",
       "      <td>2</td>\n",
       "      <td>2.015020e+09</td>\n",
       "      <td>20142015</td>\n",
       "      <td>0.215907</td>\n",
       "      <td>0.778431</td>\n",
       "      <td>0.389215</td>\n",
       "    </tr>\n",
       "    <tr>\n",
       "      <th>216786</th>\n",
       "      <td>20152016</td>\n",
       "      <td>2015020043</td>\n",
       "      <td>22</td>\n",
       "      <td>8478402</td>\n",
       "      <td>3</td>\n",
       "      <td>2.015020e+09</td>\n",
       "      <td>20142015</td>\n",
       "      <td>0.224142</td>\n",
       "      <td>1.002572</td>\n",
       "      <td>0.334191</td>\n",
       "    </tr>\n",
       "    <tr>\n",
       "      <th>217301</th>\n",
       "      <td>20152016</td>\n",
       "      <td>2015020056</td>\n",
       "      <td>22</td>\n",
       "      <td>8478402</td>\n",
       "      <td>4</td>\n",
       "      <td>2.015020e+09</td>\n",
       "      <td>20142015</td>\n",
       "      <td>0.000000</td>\n",
       "      <td>1.002572</td>\n",
       "      <td>0.250643</td>\n",
       "    </tr>\n",
       "    <tr>\n",
       "      <th>217948</th>\n",
       "      <td>20152016</td>\n",
       "      <td>2015020073</td>\n",
       "      <td>22</td>\n",
       "      <td>8478402</td>\n",
       "      <td>5</td>\n",
       "      <td>2.015020e+09</td>\n",
       "      <td>20142015</td>\n",
       "      <td>0.499726</td>\n",
       "      <td>1.502298</td>\n",
       "      <td>0.300460</td>\n",
       "    </tr>\n",
       "    <tr>\n",
       "      <th>...</th>\n",
       "      <td>...</td>\n",
       "      <td>...</td>\n",
       "      <td>...</td>\n",
       "      <td>...</td>\n",
       "      <td>...</td>\n",
       "      <td>...</td>\n",
       "      <td>...</td>\n",
       "      <td>...</td>\n",
       "      <td>...</td>\n",
       "      <td>...</td>\n",
       "    </tr>\n",
       "    <tr>\n",
       "      <th>477795</th>\n",
       "      <td>20202021</td>\n",
       "      <td>2020020789</td>\n",
       "      <td>22</td>\n",
       "      <td>8478402</td>\n",
       "      <td>52</td>\n",
       "      <td>2.020021e+09</td>\n",
       "      <td>20192020</td>\n",
       "      <td>0.263599</td>\n",
       "      <td>32.484847</td>\n",
       "      <td>0.624709</td>\n",
       "    </tr>\n",
       "    <tr>\n",
       "      <th>478478</th>\n",
       "      <td>20202021</td>\n",
       "      <td>2020020807</td>\n",
       "      <td>22</td>\n",
       "      <td>8478402</td>\n",
       "      <td>53</td>\n",
       "      <td>2.020021e+09</td>\n",
       "      <td>20192020</td>\n",
       "      <td>0.334360</td>\n",
       "      <td>32.819208</td>\n",
       "      <td>0.619230</td>\n",
       "    </tr>\n",
       "    <tr>\n",
       "      <th>479297</th>\n",
       "      <td>20202021</td>\n",
       "      <td>2020020829</td>\n",
       "      <td>22</td>\n",
       "      <td>8478402</td>\n",
       "      <td>54</td>\n",
       "      <td>2.020021e+09</td>\n",
       "      <td>20192020</td>\n",
       "      <td>0.717232</td>\n",
       "      <td>33.536440</td>\n",
       "      <td>0.621045</td>\n",
       "    </tr>\n",
       "    <tr>\n",
       "      <th>479866</th>\n",
       "      <td>20202021</td>\n",
       "      <td>2020020844</td>\n",
       "      <td>22</td>\n",
       "      <td>8478402</td>\n",
       "      <td>55</td>\n",
       "      <td>2.020021e+09</td>\n",
       "      <td>20192020</td>\n",
       "      <td>0.000000</td>\n",
       "      <td>33.536440</td>\n",
       "      <td>0.609753</td>\n",
       "    </tr>\n",
       "    <tr>\n",
       "      <th>480075</th>\n",
       "      <td>20202021</td>\n",
       "      <td>2020020849</td>\n",
       "      <td>22</td>\n",
       "      <td>8478402</td>\n",
       "      <td>56</td>\n",
       "      <td>2.020021e+09</td>\n",
       "      <td>20192020</td>\n",
       "      <td>0.781476</td>\n",
       "      <td>34.317916</td>\n",
       "      <td>0.612820</td>\n",
       "    </tr>\n",
       "  </tbody>\n",
       "</table>\n",
       "<p>407 rows × 10 columns</p>\n",
       "</div>"
      ],
      "text/plain": [
       "        seasonID      gameID  teamID  playerID  gameNumber  previousGameID  \\\n",
       "215472  20152016  2015020008      22   8478402           1             NaN   \n",
       "216083  20152016  2015020024      22   8478402           2    2.015020e+09   \n",
       "216786  20152016  2015020043      22   8478402           3    2.015020e+09   \n",
       "217301  20152016  2015020056      22   8478402           4    2.015020e+09   \n",
       "217948  20152016  2015020073      22   8478402           5    2.015020e+09   \n",
       "...          ...         ...     ...       ...         ...             ...   \n",
       "477795  20202021  2020020789      22   8478402          52    2.020021e+09   \n",
       "478478  20202021  2020020807      22   8478402          53    2.020021e+09   \n",
       "479297  20202021  2020020829      22   8478402          54    2.020021e+09   \n",
       "479866  20202021  2020020844      22   8478402          55    2.020021e+09   \n",
       "480075  20202021  2020020849      22   8478402          56    2.020021e+09   \n",
       "\n",
       "        previousSeason     value  cumulativeValue  averageValue  \n",
       "215472        20142015  0.562524         0.562524      0.562524  \n",
       "216083        20142015  0.215907         0.778431      0.389215  \n",
       "216786        20142015  0.224142         1.002572      0.334191  \n",
       "217301        20142015  0.000000         1.002572      0.250643  \n",
       "217948        20142015  0.499726         1.502298      0.300460  \n",
       "...                ...       ...              ...           ...  \n",
       "477795        20192020  0.263599        32.484847      0.624709  \n",
       "478478        20192020  0.334360        32.819208      0.619230  \n",
       "479297        20192020  0.717232        33.536440      0.621045  \n",
       "479866        20192020  0.000000        33.536440      0.609753  \n",
       "480075        20192020  0.781476        34.317916      0.612820  \n",
       "\n",
       "[407 rows x 10 columns]"
      ]
     },
     "execution_count": 40,
     "metadata": {},
     "output_type": "execute_result"
    }
   ],
   "source": [
    "qValues[qValues['playerID'] == 8478402]"
   ]
  },
  {
   "cell_type": "code",
   "execution_count": 41,
   "metadata": {
    "pycharm": {
     "is_executing": true
    }
   },
   "outputs": [],
   "source": [
    "# Getting the average q value per game by season\n",
    "qSeasonValues = qValues[['seasonID','averageValue']].groupby('seasonID').mean().reset_index()\n",
    "# Renaming the column\n",
    "qSeasonValues = qSeasonValues.rename({'averageValue':'averageValueSeason'},axis=1)"
   ]
  },
  {
   "cell_type": "code",
   "execution_count": 42,
   "metadata": {
    "pycharm": {
     "is_executing": true
    }
   },
   "outputs": [],
   "source": [
    "# Merging boxscores with qValues to get the qValues up to the last game\n",
    "boxScoresComplete = pd.merge(boxscores, \n",
    "         qValues[['gameID','playerID','averageValue']],\n",
    "         left_on=['previousGameID','playerID'],\n",
    "         right_on=['gameID','playerID'], \n",
    "         how='left',\n",
    "         suffixes=('', '_y'))"
   ]
  },
  {
   "cell_type": "code",
   "execution_count": 43,
   "metadata": {
    "pycharm": {
     "is_executing": true
    }
   },
   "outputs": [],
   "source": [
    "# Getting the qValues by season\n",
    "boxScoresComplete = pd.merge(boxScoresComplete,\n",
    "         qSeasonValues, \n",
    "         left_on='previousSeason',\n",
    "         right_on='seasonID',\n",
    "         how='inner',\n",
    "         suffixes=('', '_y'))"
   ]
  },
  {
   "cell_type": "code",
   "execution_count": 44,
   "metadata": {
    "pycharm": {
     "is_executing": true
    }
   },
   "outputs": [],
   "source": [
    "# Dropping useless columns\n",
    "boxScoresComplete = boxScoresComplete.drop(['gameID_y','seasonID_y'],axis=1)"
   ]
  },
  {
   "cell_type": "code",
   "execution_count": 45,
   "metadata": {
    "pycharm": {
     "is_executing": true
    }
   },
   "outputs": [],
   "source": [
    "# setting the averageValue \n",
    "boxScoresComplete['averageValue'] = np.where(boxScoresComplete['averageValue'].isna(),boxScoresComplete['averageValueSeason'],boxScoresComplete['averageValue'])"
   ]
  },
  {
   "cell_type": "code",
   "execution_count": 46,
   "metadata": {
    "pycharm": {
     "is_executing": true
    }
   },
   "outputs": [],
   "source": [
    "boxScoresComplete = boxScoresComplete[['seasonID',\n",
    "                   'gameID',\n",
    "                   'teamID',\n",
    "                   'averageValue']].groupby(['seasonID','gameID','teamID']).sum().reset_index()"
   ]
  },
  {
   "cell_type": "code",
   "execution_count": 47,
   "metadata": {
    "pycharm": {
     "is_executing": true
    }
   },
   "outputs": [],
   "source": [
    "statsComplete = pd.merge(statsComplete, boxScoresComplete)"
   ]
  },
  {
   "cell_type": "code",
   "execution_count": 48,
   "metadata": {
    "pycharm": {
     "is_executing": true
    }
   },
   "outputs": [
    {
     "data": {
      "text/html": [
       "<div>\n",
       "<style scoped>\n",
       "    .dataframe tbody tr th:only-of-type {\n",
       "        vertical-align: middle;\n",
       "    }\n",
       "\n",
       "    .dataframe tbody tr th {\n",
       "        vertical-align: top;\n",
       "    }\n",
       "\n",
       "    .dataframe thead th {\n",
       "        text-align: right;\n",
       "    }\n",
       "</style>\n",
       "<table border=\"1\" class=\"dataframe\">\n",
       "  <thead>\n",
       "    <tr style=\"text-align: right;\">\n",
       "      <th></th>\n",
       "      <th>seasonID</th>\n",
       "      <th>gameID</th>\n",
       "      <th>gameType</th>\n",
       "      <th>teamID</th>\n",
       "      <th>goalsAgainstPerGame</th>\n",
       "      <th>goalsForPerGame</th>\n",
       "      <th>shotsAgainstPerGame</th>\n",
       "      <th>shotsForPerGame</th>\n",
       "      <th>goalDifferential</th>\n",
       "      <th>shotDifferential</th>\n",
       "      <th>winningPercentage</th>\n",
       "      <th>averageValue</th>\n",
       "    </tr>\n",
       "  </thead>\n",
       "  <tbody>\n",
       "    <tr>\n",
       "      <th>0</th>\n",
       "      <td>20112012</td>\n",
       "      <td>2011020001</td>\n",
       "      <td>R</td>\n",
       "      <td>6</td>\n",
       "      <td>1.000000</td>\n",
       "      <td>2.000000</td>\n",
       "      <td>27.000000</td>\n",
       "      <td>22.000000</td>\n",
       "      <td>-1.0</td>\n",
       "      <td>-5.0</td>\n",
       "      <td>0.000000</td>\n",
       "      <td>8.729403</td>\n",
       "    </tr>\n",
       "    <tr>\n",
       "      <th>1</th>\n",
       "      <td>20112012</td>\n",
       "      <td>2011020001</td>\n",
       "      <td>R</td>\n",
       "      <td>4</td>\n",
       "      <td>2.000000</td>\n",
       "      <td>1.000000</td>\n",
       "      <td>22.000000</td>\n",
       "      <td>27.000000</td>\n",
       "      <td>1.0</td>\n",
       "      <td>5.0</td>\n",
       "      <td>1.000000</td>\n",
       "      <td>8.572032</td>\n",
       "    </tr>\n",
       "    <tr>\n",
       "      <th>2</th>\n",
       "      <td>20112012</td>\n",
       "      <td>2011020002</td>\n",
       "      <td>R</td>\n",
       "      <td>10</td>\n",
       "      <td>2.000000</td>\n",
       "      <td>0.000000</td>\n",
       "      <td>32.000000</td>\n",
       "      <td>16.000000</td>\n",
       "      <td>2.0</td>\n",
       "      <td>-16.0</td>\n",
       "      <td>1.000000</td>\n",
       "      <td>9.271077</td>\n",
       "    </tr>\n",
       "    <tr>\n",
       "      <th>3</th>\n",
       "      <td>20112012</td>\n",
       "      <td>2011020002</td>\n",
       "      <td>R</td>\n",
       "      <td>8</td>\n",
       "      <td>0.000000</td>\n",
       "      <td>2.000000</td>\n",
       "      <td>16.000000</td>\n",
       "      <td>32.000000</td>\n",
       "      <td>-2.0</td>\n",
       "      <td>16.0</td>\n",
       "      <td>0.000000</td>\n",
       "      <td>8.494263</td>\n",
       "    </tr>\n",
       "    <tr>\n",
       "      <th>4</th>\n",
       "      <td>20112012</td>\n",
       "      <td>2011020003</td>\n",
       "      <td>R</td>\n",
       "      <td>23</td>\n",
       "      <td>3.000000</td>\n",
       "      <td>5.000000</td>\n",
       "      <td>25.000000</td>\n",
       "      <td>35.000000</td>\n",
       "      <td>-2.0</td>\n",
       "      <td>10.0</td>\n",
       "      <td>0.000000</td>\n",
       "      <td>7.946408</td>\n",
       "    </tr>\n",
       "    <tr>\n",
       "      <th>...</th>\n",
       "      <td>...</td>\n",
       "      <td>...</td>\n",
       "      <td>...</td>\n",
       "      <td>...</td>\n",
       "      <td>...</td>\n",
       "      <td>...</td>\n",
       "      <td>...</td>\n",
       "      <td>...</td>\n",
       "      <td>...</td>\n",
       "      <td>...</td>\n",
       "      <td>...</td>\n",
       "      <td>...</td>\n",
       "    </tr>\n",
       "    <tr>\n",
       "      <th>22743</th>\n",
       "      <td>20202021</td>\n",
       "      <td>2020020866</td>\n",
       "      <td>R</td>\n",
       "      <td>19</td>\n",
       "      <td>3.071429</td>\n",
       "      <td>3.089286</td>\n",
       "      <td>26.964286</td>\n",
       "      <td>26.125000</td>\n",
       "      <td>-1.0</td>\n",
       "      <td>-47.0</td>\n",
       "      <td>0.482143</td>\n",
       "      <td>6.981281</td>\n",
       "    </tr>\n",
       "    <tr>\n",
       "      <th>22744</th>\n",
       "      <td>20202021</td>\n",
       "      <td>2020020867</td>\n",
       "      <td>R</td>\n",
       "      <td>26</td>\n",
       "      <td>2.589286</td>\n",
       "      <td>3.071429</td>\n",
       "      <td>28.160714</td>\n",
       "      <td>25.875000</td>\n",
       "      <td>-27.0</td>\n",
       "      <td>-128.0</td>\n",
       "      <td>0.375000</td>\n",
       "      <td>7.060109</td>\n",
       "    </tr>\n",
       "    <tr>\n",
       "      <th>22745</th>\n",
       "      <td>20202021</td>\n",
       "      <td>2020020867</td>\n",
       "      <td>R</td>\n",
       "      <td>21</td>\n",
       "      <td>3.535714</td>\n",
       "      <td>2.410714</td>\n",
       "      <td>23.053571</td>\n",
       "      <td>31.071429</td>\n",
       "      <td>63.0</td>\n",
       "      <td>449.0</td>\n",
       "      <td>0.696429</td>\n",
       "      <td>7.659978</td>\n",
       "    </tr>\n",
       "    <tr>\n",
       "      <th>22746</th>\n",
       "      <td>20202021</td>\n",
       "      <td>2020020868</td>\n",
       "      <td>R</td>\n",
       "      <td>28</td>\n",
       "      <td>2.803571</td>\n",
       "      <td>3.642857</td>\n",
       "      <td>28.696429</td>\n",
       "      <td>27.660714</td>\n",
       "      <td>-47.0</td>\n",
       "      <td>-58.0</td>\n",
       "      <td>0.375000</td>\n",
       "      <td>6.332358</td>\n",
       "    </tr>\n",
       "    <tr>\n",
       "      <th>22747</th>\n",
       "      <td>20202021</td>\n",
       "      <td>2020020868</td>\n",
       "      <td>R</td>\n",
       "      <td>53</td>\n",
       "      <td>2.857143</td>\n",
       "      <td>3.250000</td>\n",
       "      <td>27.428571</td>\n",
       "      <td>24.839286</td>\n",
       "      <td>-22.0</td>\n",
       "      <td>-145.0</td>\n",
       "      <td>0.428571</td>\n",
       "      <td>6.978168</td>\n",
       "    </tr>\n",
       "  </tbody>\n",
       "</table>\n",
       "<p>22748 rows × 12 columns</p>\n",
       "</div>"
      ],
      "text/plain": [
       "       seasonID      gameID gameType  teamID  goalsAgainstPerGame  \\\n",
       "0      20112012  2011020001        R       6             1.000000   \n",
       "1      20112012  2011020001        R       4             2.000000   \n",
       "2      20112012  2011020002        R      10             2.000000   \n",
       "3      20112012  2011020002        R       8             0.000000   \n",
       "4      20112012  2011020003        R      23             3.000000   \n",
       "...         ...         ...      ...     ...                  ...   \n",
       "22743  20202021  2020020866        R      19             3.071429   \n",
       "22744  20202021  2020020867        R      26             2.589286   \n",
       "22745  20202021  2020020867        R      21             3.535714   \n",
       "22746  20202021  2020020868        R      28             2.803571   \n",
       "22747  20202021  2020020868        R      53             2.857143   \n",
       "\n",
       "       goalsForPerGame  shotsAgainstPerGame  shotsForPerGame  \\\n",
       "0             2.000000            27.000000        22.000000   \n",
       "1             1.000000            22.000000        27.000000   \n",
       "2             0.000000            32.000000        16.000000   \n",
       "3             2.000000            16.000000        32.000000   \n",
       "4             5.000000            25.000000        35.000000   \n",
       "...                ...                  ...              ...   \n",
       "22743         3.089286            26.964286        26.125000   \n",
       "22744         3.071429            28.160714        25.875000   \n",
       "22745         2.410714            23.053571        31.071429   \n",
       "22746         3.642857            28.696429        27.660714   \n",
       "22747         3.250000            27.428571        24.839286   \n",
       "\n",
       "       goalDifferential  shotDifferential  winningPercentage  averageValue  \n",
       "0                  -1.0              -5.0           0.000000      8.729403  \n",
       "1                   1.0               5.0           1.000000      8.572032  \n",
       "2                   2.0             -16.0           1.000000      9.271077  \n",
       "3                  -2.0              16.0           0.000000      8.494263  \n",
       "4                  -2.0              10.0           0.000000      7.946408  \n",
       "...                 ...               ...                ...           ...  \n",
       "22743              -1.0             -47.0           0.482143      6.981281  \n",
       "22744             -27.0            -128.0           0.375000      7.060109  \n",
       "22745              63.0             449.0           0.696429      7.659978  \n",
       "22746             -47.0             -58.0           0.375000      6.332358  \n",
       "22747             -22.0            -145.0           0.428571      6.978168  \n",
       "\n",
       "[22748 rows x 12 columns]"
      ]
     },
     "execution_count": 48,
     "metadata": {},
     "output_type": "execute_result"
    }
   ],
   "source": [
    "statsComplete"
   ]
  },
  {
   "cell_type": "markdown",
   "metadata": {},
   "source": [
    "### Extracing the game Outcome"
   ]
  },
  {
   "cell_type": "code",
   "execution_count": 49,
   "metadata": {
    "pycharm": {
     "is_executing": true
    }
   },
   "outputs": [],
   "source": [
    "# Getting goals for/against columns\n",
    "gameOutcome = pd.merge(seasonsFiltered,\n",
    "         statsSimple[['seasonID','gameID','teamID','goalsFor','goalsAgainst']], \n",
    "         how='inner',\n",
    "         left_on=['seasonID','gameID','homeTeamID'],\n",
    "         right_on=['seasonID','gameID','teamID'])"
   ]
  },
  {
   "cell_type": "code",
   "execution_count": 50,
   "metadata": {
    "pycharm": {
     "is_executing": true
    }
   },
   "outputs": [],
   "source": [
    "# Determing if the home team won\n",
    "gameOutcome['homeTeamWin'] = gameOutcome.apply(lambda row: 1 if row['goalsFor'] > row['goalsAgainst'] else 0,axis=1)"
   ]
  },
  {
   "cell_type": "code",
   "execution_count": 51,
   "metadata": {
    "pycharm": {
     "is_executing": true
    }
   },
   "outputs": [],
   "source": [
    "# Getting rid of useless columns\n",
    "gameOutcome = gameOutcome.drop(['gameType', \n",
    "                  'gameDate', \n",
    "                  'homeTeamID',\n",
    "                  'awayTeamID',\n",
    "                  'teamID','seasonID','goalsFor','goalsAgainst'],axis=1)"
   ]
  },
  {
   "cell_type": "markdown",
   "metadata": {},
   "source": [
    "### Creating Model Input"
   ]
  },
  {
   "cell_type": "code",
   "execution_count": 52,
   "metadata": {
    "pycharm": {
     "is_executing": true
    }
   },
   "outputs": [],
   "source": [
    "# Determining if the team is the home or away, this is needed to join properly again on seasonsFiltered below\n",
    "statsComplete = pd.merge(statsComplete,seasonsFiltered[['gameID','homeTeamID']], \n",
    "                 how='left',\n",
    "                 left_on=['gameID','teamID'],\n",
    "                 right_on=['gameID','homeTeamID'])\n",
    "statsComplete['isHome'] = np.where(pd.isna(statsComplete['homeTeamID']), 0, 1)\n",
    "statsComplete = statsComplete.drop(['homeTeamID'],axis=1)"
   ]
  },
  {
   "cell_type": "code",
   "execution_count": 53,
   "metadata": {
    "pycharm": {
     "is_executing": true
    }
   },
   "outputs": [],
   "source": [
    "# Determing the game number for each time by season\n",
    "statsComplete = statsComplete.sort_values(['seasonID','gameID'])\n",
    "statsComplete['gameNumber'] = statsComplete.groupby(['seasonID','teamID','isHome']).cumcount()+1\n",
    "statsComplete['gameNumber'] += 1"
   ]
  },
  {
   "cell_type": "code",
   "execution_count": 54,
   "metadata": {
    "pycharm": {
     "is_executing": true
    }
   },
   "outputs": [],
   "source": [
    "# Sorting and then getting the home and away teams game numbers (used to join on below)\n",
    "seasonsFiltered = seasonsFiltered.sort_values(['seasonID','gameID'])\n",
    "seasonsFiltered['homeTeamGameNumber'] = seasonsFiltered.groupby(['seasonID','homeTeamID']).cumcount()+1\n",
    "seasonsFiltered['awayTeamGameNumber'] = seasonsFiltered.groupby(['seasonID','awayTeamID']).cumcount()+1"
   ]
  },
  {
   "cell_type": "code",
   "execution_count": 55,
   "metadata": {
    "pycharm": {
     "is_executing": true
    }
   },
   "outputs": [],
   "source": [
    "# Creating the model input with the home team data\n",
    "modelInput = pd.merge(seasonsFiltered, \n",
    "            statsComplete[statsComplete['isHome'] == 1], \n",
    "            how='inner', \n",
    "            left_on=['seasonID', 'homeTeamID', 'homeTeamGameNumber'],\n",
    "            right_on=['seasonID','teamID','gameNumber'])"
   ]
  },
  {
   "cell_type": "code",
   "execution_count": 56,
   "metadata": {
    "pycharm": {
     "is_executing": true
    }
   },
   "outputs": [],
   "source": [
    "# Dropping extra columns\n",
    "modelInput = modelInput.drop(['gameID_x', \n",
    "                 'gameType_x',\n",
    "                 'homeTeamGameNumber',\n",
    "                 'teamID',\n",
    "                 'gameNumber'],\n",
    "                axis=1)"
   ]
  },
  {
   "cell_type": "code",
   "execution_count": 57,
   "metadata": {
    "pycharm": {
     "is_executing": true
    }
   },
   "outputs": [],
   "source": [
    "# Renaming some columns to keep things clean\n",
    "modelInput = modelInput.rename({\"gameID_y\":\"gameID\", \"gameType_y\":\"gameType\"}, axis=1)"
   ]
  },
  {
   "cell_type": "code",
   "execution_count": 58,
   "metadata": {
    "pycharm": {
     "is_executing": true
    }
   },
   "outputs": [],
   "source": [
    "# adding the away team data to the model input\n",
    "modelInput = pd.merge(modelInput, \n",
    "            statsComplete[statsComplete['isHome'] == 0], \n",
    "            how='inner', \n",
    "            left_on=['seasonID', 'awayTeamID', 'awayTeamGameNumber'],\n",
    "            right_on=['seasonID','teamID','gameNumber'], suffixes=('Home','Away'))"
   ]
  },
  {
   "cell_type": "code",
   "execution_count": 59,
   "metadata": {
    "pycharm": {
     "is_executing": true
    }
   },
   "outputs": [
    {
     "data": {
      "text/html": [
       "<div>\n",
       "<style scoped>\n",
       "    .dataframe tbody tr th:only-of-type {\n",
       "        vertical-align: middle;\n",
       "    }\n",
       "\n",
       "    .dataframe tbody tr th {\n",
       "        vertical-align: top;\n",
       "    }\n",
       "\n",
       "    .dataframe thead th {\n",
       "        text-align: right;\n",
       "    }\n",
       "</style>\n",
       "<table border=\"1\" class=\"dataframe\">\n",
       "  <thead>\n",
       "    <tr style=\"text-align: right;\">\n",
       "      <th></th>\n",
       "      <th>seasonID</th>\n",
       "      <th>gameDate</th>\n",
       "      <th>homeTeamID</th>\n",
       "      <th>awayTeamID</th>\n",
       "      <th>awayTeamGameNumber</th>\n",
       "      <th>gameIDHome</th>\n",
       "      <th>gameTypeHome</th>\n",
       "      <th>goalsAgainstPerGameHome</th>\n",
       "      <th>goalsForPerGameHome</th>\n",
       "      <th>shotsAgainstPerGameHome</th>\n",
       "      <th>shotsForPerGameHome</th>\n",
       "      <th>goalDifferentialHome</th>\n",
       "      <th>shotDifferentialHome</th>\n",
       "      <th>winningPercentageHome</th>\n",
       "      <th>averageValueHome</th>\n",
       "      <th>isHomeHome</th>\n",
       "      <th>gameIDAway</th>\n",
       "      <th>gameTypeAway</th>\n",
       "      <th>teamID</th>\n",
       "      <th>goalsAgainstPerGameAway</th>\n",
       "      <th>goalsForPerGameAway</th>\n",
       "      <th>shotsAgainstPerGameAway</th>\n",
       "      <th>shotsForPerGameAway</th>\n",
       "      <th>goalDifferentialAway</th>\n",
       "      <th>shotDifferentialAway</th>\n",
       "      <th>winningPercentageAway</th>\n",
       "      <th>averageValueAway</th>\n",
       "      <th>isHomeAway</th>\n",
       "      <th>gameNumber</th>\n",
       "    </tr>\n",
       "  </thead>\n",
       "  <tbody>\n",
       "    <tr>\n",
       "      <th>0</th>\n",
       "      <td>20112012</td>\n",
       "      <td>2011-10-08</td>\n",
       "      <td>6</td>\n",
       "      <td>14</td>\n",
       "      <td>2</td>\n",
       "      <td>2011020001</td>\n",
       "      <td>R</td>\n",
       "      <td>1.000000</td>\n",
       "      <td>2.000000</td>\n",
       "      <td>27.000000</td>\n",
       "      <td>22.000000</td>\n",
       "      <td>-1.0</td>\n",
       "      <td>-5.0</td>\n",
       "      <td>0.000000</td>\n",
       "      <td>8.729403</td>\n",
       "      <td>1</td>\n",
       "      <td>2011020004</td>\n",
       "      <td>R</td>\n",
       "      <td>14</td>\n",
       "      <td>5.000000</td>\n",
       "      <td>1.000000</td>\n",
       "      <td>32.000000</td>\n",
       "      <td>29.000000</td>\n",
       "      <td>4.0</td>\n",
       "      <td>-3.0</td>\n",
       "      <td>1.000000</td>\n",
       "      <td>9.401039</td>\n",
       "      <td>0</td>\n",
       "      <td>2</td>\n",
       "    </tr>\n",
       "    <tr>\n",
       "      <th>1</th>\n",
       "      <td>20112012</td>\n",
       "      <td>2011-10-08</td>\n",
       "      <td>10</td>\n",
       "      <td>9</td>\n",
       "      <td>2</td>\n",
       "      <td>2011020002</td>\n",
       "      <td>R</td>\n",
       "      <td>2.000000</td>\n",
       "      <td>0.000000</td>\n",
       "      <td>32.000000</td>\n",
       "      <td>16.000000</td>\n",
       "      <td>2.0</td>\n",
       "      <td>-16.0</td>\n",
       "      <td>1.000000</td>\n",
       "      <td>9.271077</td>\n",
       "      <td>1</td>\n",
       "      <td>2011020005</td>\n",
       "      <td>R</td>\n",
       "      <td>9</td>\n",
       "      <td>3.000000</td>\n",
       "      <td>5.000000</td>\n",
       "      <td>34.000000</td>\n",
       "      <td>29.000000</td>\n",
       "      <td>-2.0</td>\n",
       "      <td>-5.0</td>\n",
       "      <td>0.000000</td>\n",
       "      <td>8.103880</td>\n",
       "      <td>0</td>\n",
       "      <td>2</td>\n",
       "    </tr>\n",
       "    <tr>\n",
       "      <th>2</th>\n",
       "      <td>20112012</td>\n",
       "      <td>2011-10-10</td>\n",
       "      <td>1</td>\n",
       "      <td>12</td>\n",
       "      <td>2</td>\n",
       "      <td>2011020012</td>\n",
       "      <td>R</td>\n",
       "      <td>0.000000</td>\n",
       "      <td>3.000000</td>\n",
       "      <td>26.000000</td>\n",
       "      <td>20.000000</td>\n",
       "      <td>-3.0</td>\n",
       "      <td>-6.0</td>\n",
       "      <td>0.000000</td>\n",
       "      <td>7.760454</td>\n",
       "      <td>1</td>\n",
       "      <td>2011020013</td>\n",
       "      <td>R</td>\n",
       "      <td>12</td>\n",
       "      <td>2.000000</td>\n",
       "      <td>4.500000</td>\n",
       "      <td>30.500000</td>\n",
       "      <td>30.000000</td>\n",
       "      <td>-5.0</td>\n",
       "      <td>-1.0</td>\n",
       "      <td>0.000000</td>\n",
       "      <td>12.252236</td>\n",
       "      <td>0</td>\n",
       "      <td>2</td>\n",
       "    </tr>\n",
       "    <tr>\n",
       "      <th>3</th>\n",
       "      <td>20112012</td>\n",
       "      <td>2011-10-10</td>\n",
       "      <td>15</td>\n",
       "      <td>14</td>\n",
       "      <td>3</td>\n",
       "      <td>2011020013</td>\n",
       "      <td>R</td>\n",
       "      <td>4.000000</td>\n",
       "      <td>3.000000</td>\n",
       "      <td>28.000000</td>\n",
       "      <td>32.000000</td>\n",
       "      <td>1.0</td>\n",
       "      <td>4.0</td>\n",
       "      <td>1.000000</td>\n",
       "      <td>8.883380</td>\n",
       "      <td>1</td>\n",
       "      <td>2011020010</td>\n",
       "      <td>R</td>\n",
       "      <td>14</td>\n",
       "      <td>3.000000</td>\n",
       "      <td>2.500000</td>\n",
       "      <td>35.000000</td>\n",
       "      <td>27.000000</td>\n",
       "      <td>1.0</td>\n",
       "      <td>-16.0</td>\n",
       "      <td>0.500000</td>\n",
       "      <td>10.845768</td>\n",
       "      <td>0</td>\n",
       "      <td>3</td>\n",
       "    </tr>\n",
       "    <tr>\n",
       "      <th>4</th>\n",
       "      <td>20112012</td>\n",
       "      <td>2011-10-10</td>\n",
       "      <td>25</td>\n",
       "      <td>27</td>\n",
       "      <td>2</td>\n",
       "      <td>2011020008</td>\n",
       "      <td>R</td>\n",
       "      <td>2.000000</td>\n",
       "      <td>1.000000</td>\n",
       "      <td>37.000000</td>\n",
       "      <td>31.000000</td>\n",
       "      <td>1.0</td>\n",
       "      <td>-6.0</td>\n",
       "      <td>1.000000</td>\n",
       "      <td>8.092287</td>\n",
       "      <td>1</td>\n",
       "      <td>2011020021</td>\n",
       "      <td>R</td>\n",
       "      <td>27</td>\n",
       "      <td>3.000000</td>\n",
       "      <td>6.000000</td>\n",
       "      <td>46.000000</td>\n",
       "      <td>26.000000</td>\n",
       "      <td>-3.0</td>\n",
       "      <td>-20.0</td>\n",
       "      <td>0.000000</td>\n",
       "      <td>8.156502</td>\n",
       "      <td>0</td>\n",
       "      <td>2</td>\n",
       "    </tr>\n",
       "    <tr>\n",
       "      <th>...</th>\n",
       "      <td>...</td>\n",
       "      <td>...</td>\n",
       "      <td>...</td>\n",
       "      <td>...</td>\n",
       "      <td>...</td>\n",
       "      <td>...</td>\n",
       "      <td>...</td>\n",
       "      <td>...</td>\n",
       "      <td>...</td>\n",
       "      <td>...</td>\n",
       "      <td>...</td>\n",
       "      <td>...</td>\n",
       "      <td>...</td>\n",
       "      <td>...</td>\n",
       "      <td>...</td>\n",
       "      <td>...</td>\n",
       "      <td>...</td>\n",
       "      <td>...</td>\n",
       "      <td>...</td>\n",
       "      <td>...</td>\n",
       "      <td>...</td>\n",
       "      <td>...</td>\n",
       "      <td>...</td>\n",
       "      <td>...</td>\n",
       "      <td>...</td>\n",
       "      <td>...</td>\n",
       "      <td>...</td>\n",
       "      <td>...</td>\n",
       "      <td>...</td>\n",
       "    </tr>\n",
       "    <tr>\n",
       "      <th>10961</th>\n",
       "      <td>20202021</td>\n",
       "      <td>2021-05-18</td>\n",
       "      <td>23</td>\n",
       "      <td>20</td>\n",
       "      <td>28</td>\n",
       "      <td>2020020844</td>\n",
       "      <td>R</td>\n",
       "      <td>2.709091</td>\n",
       "      <td>3.418182</td>\n",
       "      <td>30.127273</td>\n",
       "      <td>26.745455</td>\n",
       "      <td>-39.0</td>\n",
       "      <td>-186.0</td>\n",
       "      <td>0.400000</td>\n",
       "      <td>6.705435</td>\n",
       "      <td>1</td>\n",
       "      <td>2020020807</td>\n",
       "      <td>R</td>\n",
       "      <td>20</td>\n",
       "      <td>2.849057</td>\n",
       "      <td>2.924528</td>\n",
       "      <td>25.830189</td>\n",
       "      <td>27.150943</td>\n",
       "      <td>-4.0</td>\n",
       "      <td>70.0</td>\n",
       "      <td>0.471698</td>\n",
       "      <td>7.067978</td>\n",
       "      <td>0</td>\n",
       "      <td>28</td>\n",
       "    </tr>\n",
       "    <tr>\n",
       "      <th>10962</th>\n",
       "      <td>20202021</td>\n",
       "      <td>2021-05-08</td>\n",
       "      <td>30</td>\n",
       "      <td>24</td>\n",
       "      <td>28</td>\n",
       "      <td>2020020850</td>\n",
       "      <td>R</td>\n",
       "      <td>3.254545</td>\n",
       "      <td>2.890909</td>\n",
       "      <td>27.854545</td>\n",
       "      <td>25.272727</td>\n",
       "      <td>20.0</td>\n",
       "      <td>-142.0</td>\n",
       "      <td>0.618182</td>\n",
       "      <td>7.661603</td>\n",
       "      <td>1</td>\n",
       "      <td>2020020850</td>\n",
       "      <td>R</td>\n",
       "      <td>24</td>\n",
       "      <td>2.272727</td>\n",
       "      <td>3.236364</td>\n",
       "      <td>27.672727</td>\n",
       "      <td>24.763636</td>\n",
       "      <td>-53.0</td>\n",
       "      <td>-160.0</td>\n",
       "      <td>0.309091</td>\n",
       "      <td>7.395856</td>\n",
       "      <td>0</td>\n",
       "      <td>28</td>\n",
       "    </tr>\n",
       "    <tr>\n",
       "      <th>10963</th>\n",
       "      <td>20202021</td>\n",
       "      <td>2021-05-08</td>\n",
       "      <td>54</td>\n",
       "      <td>19</td>\n",
       "      <td>28</td>\n",
       "      <td>2020020851</td>\n",
       "      <td>R</td>\n",
       "      <td>3.418182</td>\n",
       "      <td>2.254545</td>\n",
       "      <td>25.290909</td>\n",
       "      <td>29.400000</td>\n",
       "      <td>64.0</td>\n",
       "      <td>226.0</td>\n",
       "      <td>0.709091</td>\n",
       "      <td>7.326037</td>\n",
       "      <td>1</td>\n",
       "      <td>2020020851</td>\n",
       "      <td>R</td>\n",
       "      <td>19</td>\n",
       "      <td>3.109091</td>\n",
       "      <td>3.072727</td>\n",
       "      <td>27.000000</td>\n",
       "      <td>26.236364</td>\n",
       "      <td>2.0</td>\n",
       "      <td>-42.0</td>\n",
       "      <td>0.490909</td>\n",
       "      <td>6.960778</td>\n",
       "      <td>0</td>\n",
       "      <td>28</td>\n",
       "    </tr>\n",
       "    <tr>\n",
       "      <th>10964</th>\n",
       "      <td>20202021</td>\n",
       "      <td>2021-05-08</td>\n",
       "      <td>26</td>\n",
       "      <td>21</td>\n",
       "      <td>28</td>\n",
       "      <td>2020020852</td>\n",
       "      <td>R</td>\n",
       "      <td>2.600000</td>\n",
       "      <td>3.072727</td>\n",
       "      <td>28.181818</td>\n",
       "      <td>26.054545</td>\n",
       "      <td>-26.0</td>\n",
       "      <td>-117.0</td>\n",
       "      <td>0.381818</td>\n",
       "      <td>6.816798</td>\n",
       "      <td>1</td>\n",
       "      <td>2020020852</td>\n",
       "      <td>R</td>\n",
       "      <td>21</td>\n",
       "      <td>3.545455</td>\n",
       "      <td>2.418182</td>\n",
       "      <td>23.181818</td>\n",
       "      <td>31.145455</td>\n",
       "      <td>62.0</td>\n",
       "      <td>438.0</td>\n",
       "      <td>0.690909</td>\n",
       "      <td>7.655238</td>\n",
       "      <td>0</td>\n",
       "      <td>28</td>\n",
       "    </tr>\n",
       "    <tr>\n",
       "      <th>10965</th>\n",
       "      <td>20202021</td>\n",
       "      <td>2021-05-08</td>\n",
       "      <td>28</td>\n",
       "      <td>53</td>\n",
       "      <td>28</td>\n",
       "      <td>2020020853</td>\n",
       "      <td>R</td>\n",
       "      <td>2.781818</td>\n",
       "      <td>3.618182</td>\n",
       "      <td>28.727273</td>\n",
       "      <td>27.363636</td>\n",
       "      <td>-46.0</td>\n",
       "      <td>-75.0</td>\n",
       "      <td>0.381818</td>\n",
       "      <td>6.436143</td>\n",
       "      <td>1</td>\n",
       "      <td>2020020853</td>\n",
       "      <td>R</td>\n",
       "      <td>53</td>\n",
       "      <td>2.818182</td>\n",
       "      <td>3.236364</td>\n",
       "      <td>27.127273</td>\n",
       "      <td>24.800000</td>\n",
       "      <td>-23.0</td>\n",
       "      <td>-128.0</td>\n",
       "      <td>0.418182</td>\n",
       "      <td>6.892093</td>\n",
       "      <td>0</td>\n",
       "      <td>28</td>\n",
       "    </tr>\n",
       "  </tbody>\n",
       "</table>\n",
       "<p>10966 rows × 29 columns</p>\n",
       "</div>"
      ],
      "text/plain": [
       "       seasonID    gameDate  homeTeamID  awayTeamID  awayTeamGameNumber  \\\n",
       "0      20112012  2011-10-08           6          14                   2   \n",
       "1      20112012  2011-10-08          10           9                   2   \n",
       "2      20112012  2011-10-10           1          12                   2   \n",
       "3      20112012  2011-10-10          15          14                   3   \n",
       "4      20112012  2011-10-10          25          27                   2   \n",
       "...         ...         ...         ...         ...                 ...   \n",
       "10961  20202021  2021-05-18          23          20                  28   \n",
       "10962  20202021  2021-05-08          30          24                  28   \n",
       "10963  20202021  2021-05-08          54          19                  28   \n",
       "10964  20202021  2021-05-08          26          21                  28   \n",
       "10965  20202021  2021-05-08          28          53                  28   \n",
       "\n",
       "       gameIDHome gameTypeHome  goalsAgainstPerGameHome  goalsForPerGameHome  \\\n",
       "0      2011020001            R                 1.000000             2.000000   \n",
       "1      2011020002            R                 2.000000             0.000000   \n",
       "2      2011020012            R                 0.000000             3.000000   \n",
       "3      2011020013            R                 4.000000             3.000000   \n",
       "4      2011020008            R                 2.000000             1.000000   \n",
       "...           ...          ...                      ...                  ...   \n",
       "10961  2020020844            R                 2.709091             3.418182   \n",
       "10962  2020020850            R                 3.254545             2.890909   \n",
       "10963  2020020851            R                 3.418182             2.254545   \n",
       "10964  2020020852            R                 2.600000             3.072727   \n",
       "10965  2020020853            R                 2.781818             3.618182   \n",
       "\n",
       "       shotsAgainstPerGameHome  shotsForPerGameHome  goalDifferentialHome  \\\n",
       "0                    27.000000            22.000000                  -1.0   \n",
       "1                    32.000000            16.000000                   2.0   \n",
       "2                    26.000000            20.000000                  -3.0   \n",
       "3                    28.000000            32.000000                   1.0   \n",
       "4                    37.000000            31.000000                   1.0   \n",
       "...                        ...                  ...                   ...   \n",
       "10961                30.127273            26.745455                 -39.0   \n",
       "10962                27.854545            25.272727                  20.0   \n",
       "10963                25.290909            29.400000                  64.0   \n",
       "10964                28.181818            26.054545                 -26.0   \n",
       "10965                28.727273            27.363636                 -46.0   \n",
       "\n",
       "       shotDifferentialHome  winningPercentageHome  averageValueHome  \\\n",
       "0                      -5.0               0.000000          8.729403   \n",
       "1                     -16.0               1.000000          9.271077   \n",
       "2                      -6.0               0.000000          7.760454   \n",
       "3                       4.0               1.000000          8.883380   \n",
       "4                      -6.0               1.000000          8.092287   \n",
       "...                     ...                    ...               ...   \n",
       "10961                -186.0               0.400000          6.705435   \n",
       "10962                -142.0               0.618182          7.661603   \n",
       "10963                 226.0               0.709091          7.326037   \n",
       "10964                -117.0               0.381818          6.816798   \n",
       "10965                 -75.0               0.381818          6.436143   \n",
       "\n",
       "       isHomeHome  gameIDAway gameTypeAway  teamID  goalsAgainstPerGameAway  \\\n",
       "0               1  2011020004            R      14                 5.000000   \n",
       "1               1  2011020005            R       9                 3.000000   \n",
       "2               1  2011020013            R      12                 2.000000   \n",
       "3               1  2011020010            R      14                 3.000000   \n",
       "4               1  2011020021            R      27                 3.000000   \n",
       "...           ...         ...          ...     ...                      ...   \n",
       "10961           1  2020020807            R      20                 2.849057   \n",
       "10962           1  2020020850            R      24                 2.272727   \n",
       "10963           1  2020020851            R      19                 3.109091   \n",
       "10964           1  2020020852            R      21                 3.545455   \n",
       "10965           1  2020020853            R      53                 2.818182   \n",
       "\n",
       "       goalsForPerGameAway  shotsAgainstPerGameAway  shotsForPerGameAway  \\\n",
       "0                 1.000000                32.000000            29.000000   \n",
       "1                 5.000000                34.000000            29.000000   \n",
       "2                 4.500000                30.500000            30.000000   \n",
       "3                 2.500000                35.000000            27.000000   \n",
       "4                 6.000000                46.000000            26.000000   \n",
       "...                    ...                      ...                  ...   \n",
       "10961             2.924528                25.830189            27.150943   \n",
       "10962             3.236364                27.672727            24.763636   \n",
       "10963             3.072727                27.000000            26.236364   \n",
       "10964             2.418182                23.181818            31.145455   \n",
       "10965             3.236364                27.127273            24.800000   \n",
       "\n",
       "       goalDifferentialAway  shotDifferentialAway  winningPercentageAway  \\\n",
       "0                       4.0                  -3.0               1.000000   \n",
       "1                      -2.0                  -5.0               0.000000   \n",
       "2                      -5.0                  -1.0               0.000000   \n",
       "3                       1.0                 -16.0               0.500000   \n",
       "4                      -3.0                 -20.0               0.000000   \n",
       "...                     ...                   ...                    ...   \n",
       "10961                  -4.0                  70.0               0.471698   \n",
       "10962                 -53.0                -160.0               0.309091   \n",
       "10963                   2.0                 -42.0               0.490909   \n",
       "10964                  62.0                 438.0               0.690909   \n",
       "10965                 -23.0                -128.0               0.418182   \n",
       "\n",
       "       averageValueAway  isHomeAway  gameNumber  \n",
       "0              9.401039           0           2  \n",
       "1              8.103880           0           2  \n",
       "2             12.252236           0           2  \n",
       "3             10.845768           0           3  \n",
       "4              8.156502           0           2  \n",
       "...                 ...         ...         ...  \n",
       "10961          7.067978           0          28  \n",
       "10962          7.395856           0          28  \n",
       "10963          6.960778           0          28  \n",
       "10964          7.655238           0          28  \n",
       "10965          6.892093           0          28  \n",
       "\n",
       "[10966 rows x 29 columns]"
      ]
     },
     "execution_count": 59,
     "metadata": {},
     "output_type": "execute_result"
    }
   ],
   "source": [
    "pd.set_option(\"display.max_columns\", None)\n",
    "modelInput"
   ]
  },
  {
   "cell_type": "code",
   "execution_count": 60,
   "metadata": {
    "pycharm": {
     "is_executing": true
    }
   },
   "outputs": [],
   "source": [
    "# Dropping columns that are no longer needed\n",
    "modelInput = modelInput.drop(['awayTeamGameNumber',\n",
    "                              'gameIDHome',\n",
    "                              'gameTypeHome',\n",
    "                              'teamID',\n",
    "                              'gameNumber',\n",
    "                              'isHomeAway'],axis=1)"
   ]
  },
  {
   "cell_type": "code",
   "execution_count": 61,
   "metadata": {
    "pycharm": {
     "is_executing": true
    }
   },
   "outputs": [],
   "source": [
    "# Renaming these to get rid of the suffix that was put on it on the last join\n",
    "modelInput = modelInput.rename({'gameIDAway':'gameID','gameTypeAway':'gameType'},axis=1)"
   ]
  },
  {
   "cell_type": "code",
   "execution_count": 62,
   "metadata": {
    "pycharm": {
     "is_executing": true
    }
   },
   "outputs": [],
   "source": [
    "modelInput = pd.merge(modelInput, gameOutcome, on='gameID')"
   ]
  },
  {
   "cell_type": "markdown",
   "metadata": {},
   "source": [
    "## Creating the Model"
   ]
  },
  {
   "cell_type": "markdown",
   "metadata": {},
   "source": [
    "### Normalizing the Data and creating train/test data"
   ]
  },
  {
   "cell_type": "code",
   "execution_count": 63,
   "metadata": {
    "pycharm": {
     "is_executing": true
    }
   },
   "outputs": [],
   "source": [
    "# Creating the x and y data\n",
    "x = modelInput.drop(['seasonID',\n",
    "                     'gameDate',\n",
    "                     'homeTeamID',\n",
    "                     'awayTeamID',\n",
    "                     'gameID',\n",
    "                     'gameType',\n",
    "#                      'shotsAgainstPerGameHome', \n",
    "#                      'shotsForPerGameHome', \n",
    "#                      'shotDifferentialHome',\n",
    "#                      'shotsAgainstPerGameAway', \n",
    "#                      'shotsForPerGameAway',\n",
    "#                      'shotDifferentialAway',\n",
    "                     'homeTeamWin'],axis=1)\n",
    "y = modelInput[['homeTeamWin']]"
   ]
  },
  {
   "cell_type": "code",
   "execution_count": 64,
   "metadata": {
    "pycharm": {
     "is_executing": true
    }
   },
   "outputs": [],
   "source": [
    "# Normalizing the data\n",
    "scaler = preprocessing.StandardScaler().fit(x)\n",
    "xScaled = scaler.transform(x)"
   ]
  },
  {
   "cell_type": "code",
   "execution_count": 65,
   "metadata": {
    "pycharm": {
     "is_executing": true
    }
   },
   "outputs": [],
   "source": [
    "xTrain, xTest, yTrain, yTest = train_test_split(xScaled, y, test_size=0.2,random_state=109) # 70% training and 20% test"
   ]
  },
  {
   "cell_type": "markdown",
   "metadata": {},
   "source": [
    "### Support Vector Machine"
   ]
  },
  {
   "cell_type": "code",
   "execution_count": 66,
   "metadata": {
    "pycharm": {
     "is_executing": true
    }
   },
   "outputs": [],
   "source": [
    "clf = svm.SVC(kernel='linear',gamma='auto') # Linear Kernel"
   ]
  },
  {
   "cell_type": "code",
   "execution_count": 67,
   "metadata": {
    "pycharm": {
     "is_executing": true
    }
   },
   "outputs": [
    {
     "data": {
      "text/plain": [
       "SVC(gamma='auto', kernel='linear')"
      ]
     },
     "execution_count": 67,
     "metadata": {},
     "output_type": "execute_result"
    }
   ],
   "source": [
    "clf.fit(xTrain, yTrain['homeTeamWin'].values)"
   ]
  },
  {
   "cell_type": "code",
   "execution_count": 68,
   "metadata": {
    "pycharm": {
     "is_executing": true
    }
   },
   "outputs": [
    {
     "name": "stdout",
     "output_type": "stream",
     "text": [
      "Train Accuracy: 0.6114911080711354\n",
      "Test Accuracy: 0.6043755697356427\n"
     ]
    }
   ],
   "source": [
    "yPred = clf.predict(xTrain)\n",
    "print(\"Train Accuracy:\",metrics.accuracy_score(yTrain, yPred))\n",
    "yPred = clf.predict(xTest)\n",
    "print(\"Test Accuracy:\",metrics.accuracy_score(yTest, yPred))"
   ]
  },
  {
   "cell_type": "code",
   "execution_count": null,
   "metadata": {
    "pycharm": {
     "is_executing": true
    }
   },
   "outputs": [],
   "source": []
  },
  {
   "cell_type": "code",
   "execution_count": null,
   "metadata": {
    "pycharm": {
     "is_executing": true
    }
   },
   "outputs": [],
   "source": []
  },
  {
   "cell_type": "code",
   "execution_count": null,
   "metadata": {
    "pycharm": {
     "is_executing": true
    }
   },
   "outputs": [],
   "source": []
  },
  {
   "cell_type": "code",
   "execution_count": null,
   "metadata": {},
   "outputs": [],
   "source": []
  },
  {
   "cell_type": "code",
   "execution_count": null,
   "metadata": {},
   "outputs": [],
   "source": []
  }
 ],
 "metadata": {
  "kernelspec": {
   "display_name": "Python 3",
   "language": "python",
   "name": "python3"
  },
  "language_info": {
   "codemirror_mode": {
    "name": "ipython",
    "version": 3
   },
   "file_extension": ".py",
   "mimetype": "text/x-python",
   "name": "python",
   "nbconvert_exporter": "python",
   "pygments_lexer": "ipython3",
   "version": "3.8.5"
  }
 },
 "nbformat": 4,
 "nbformat_minor": 1
}
