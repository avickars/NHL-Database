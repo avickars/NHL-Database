{
 "cells": [
  {
   "cell_type": "code",
   "execution_count": 240,
   "metadata": {},
   "outputs": [],
   "source": [
    "# Reading in packages\n",
    "import pandas as pd\n",
    "from SQLCode import DatabaseConnection\n",
    "from SQLCode import DatabaseCredentials as DBC\n",
    "\n",
    "from sklearn.model_selection import train_test_split\n",
    "from sklearn import preprocessing\n",
    "from sklearn import svm\n",
    "from sklearn import metrics\n",
    "from sklearn.model_selection import cross_val_score"
   ]
  },
  {
   "cell_type": "code",
   "execution_count": 2,
   "metadata": {},
   "outputs": [],
   "source": [
    "# Opening connection\n",
    "creds = DBC.DataBaseCredentials()\n",
    "conn = DatabaseConnection.sql_connection(creds.server, creds.database, creds.user, creds.password)\n",
    "connection = conn.open()\n",
    "cursor = connection.cursor()"
   ]
  },
  {
   "cell_type": "code",
   "execution_count": 3,
   "metadata": {
    "pycharm": {
     "is_executing": true
    }
   },
   "outputs": [],
   "source": [
    "# Getting the live_feed data\n",
    "live_feed = pd.read_sql_query(\"select * from live_feed\", connection)"
   ]
  },
  {
   "cell_type": "code",
   "execution_count": 4,
   "metadata": {
    "pycharm": {
     "is_executing": true
    }
   },
   "outputs": [],
   "source": [
    "# Getting the seasons data\n",
    "seasons = pd.read_sql_query(\"select * from schedules\", connection)"
   ]
  },
  {
   "cell_type": "code",
   "execution_count": null,
   "metadata": {},
   "outputs": [],
   "source": [
    "def create_model_input(seasons, live_feed):\n",
    "    # Filtering to regular seasons games and 20102011 onwards (when live data started)\n",
    "    seasonsFiltered = seasons[seasons['seasonID'] >= 20102011]\n",
    "    seasonsFiltered = seasonsFiltered[seasonsFiltered['gameType'] == 'R']\n",
    "    \n",
    "    # Getting and filtering the raw data\n",
    "    rawData = pd.merge(live_feed,seasons, how='inner',on='gameID')\n",
    "    rawData = rawData[rawData['seasonID'] >= 20102011]\n",
    "    rawData = rawData[rawData['gameType'] == 'R']\n",
    "    \n",
    "    # Filtering to goals only\n",
    "    goals = rawData[(rawData['eventTypeID'] == 'GOAL') & (rawData['playerType'] == 'Scorer')]\n",
    "    \n",
    "    # Getting the number of goals each team scored in each game (if they scored a goal)\n",
    "    goalsForPerGame = pd.DataFrame(goals[['gameID','teamID']].groupby(['gameID','teamID']).size()).reset_index()\n",
    "    goalsForPerGame = goalsForPerGame.rename({0:'goalsFor'}, axis=1)\n",
    "    \n",
    "    "
   ]
  },
  {
   "cell_type": "code",
   "execution_count": 90,
   "metadata": {
    "pycharm": {
     "is_executing": true
    }
   },
   "outputs": [],
   "source": [
    "# Filtering to regular seasons games and 20102011 onwards (when live data started)\n",
    "seasonsFiltered = seasons[seasons['seasonID'] >= 20102011]\n",
    "seasonsFiltered = seasonsFiltered[seasonsFiltered['gameType'] == 'R']"
   ]
  },
  {
   "cell_type": "code",
   "execution_count": 6,
   "metadata": {
    "pycharm": {
     "is_executing": true
    }
   },
   "outputs": [],
   "source": [
    "# Getting and filtering the raw data\n",
    "rawData = pd.merge(live_feed,seasons, how='inner',on='gameID')\n",
    "rawData = rawData[rawData['seasonID'] >= 20102011]\n",
    "rawData = rawData[rawData['gameType'] == 'R']"
   ]
  },
  {
   "cell_type": "markdown",
   "metadata": {},
   "source": [
    "## Goal Related Data"
   ]
  },
  {
   "cell_type": "code",
   "execution_count": 7,
   "metadata": {
    "pycharm": {
     "is_executing": true
    }
   },
   "outputs": [],
   "source": [
    "# Filtering to goals only\n",
    "goals = rawData[(rawData['eventTypeID'] == 'GOAL') & (rawData['playerType'] == 'Scorer')]"
   ]
  },
  {
   "cell_type": "code",
   "execution_count": 8,
   "metadata": {
    "pycharm": {
     "is_executing": true
    }
   },
   "outputs": [],
   "source": [
    "# Getting the number of goals each team scored in each game (if they scored a goal)\n",
    "goalsForPerGame = pd.DataFrame(goals[['gameID','teamID']].groupby(['gameID','teamID']).size()).reset_index()\n",
    "goalsForPerGame = goalsForPerGame.rename({0:'goalsFor'}, axis=1)"
   ]
  },
  {
   "cell_type": "code",
   "execution_count": 80,
   "metadata": {
    "pycharm": {
     "is_executing": true
    }
   },
   "outputs": [
    {
     "name": "stderr",
     "output_type": "stream",
     "text": [
      "<ipython-input-80-e492a184d937>:3: SettingWithCopyWarning: \n",
      "A value is trying to be set on a copy of a slice from a DataFrame.\n",
      "Try using .loc[row_indexer,col_indexer] = value instead\n",
      "\n",
      "See the caveats in the documentation: https://pandas.pydata.org/pandas-docs/stable/user_guide/indexing.html#returning-a-view-versus-a-copy\n",
      "  goalsAgainstPerGame['teamID'] = goals.apply(lambda row: row['homeTeamID'] if row['teamID'] != row['homeTeamID'] else row['awayTeamID'],axis=1)\n"
     ]
    }
   ],
   "source": [
    "# Getting the number of goals each team gave up in each game (if they gave up any)\n",
    "goalsAgainstPerGame = goals[['gameID','seasonID']]\n",
    "goalsAgainstPerGame['teamID'] = goals.apply(lambda row: row['homeTeamID'] if row['teamID'] != row['homeTeamID'] else row['awayTeamID'],axis=1)"
   ]
  },
  {
   "cell_type": "markdown",
   "metadata": {},
   "source": [
    "## Shot Related Data"
   ]
  },
  {
   "cell_type": "code",
   "execution_count": 82,
   "metadata": {
    "pycharm": {
     "is_executing": true
    }
   },
   "outputs": [],
   "source": [
    "goalsAgainstPerGame = pd.DataFrame(goalsAgainstPerGame[['gameID','teamID']].groupby(['gameID','teamID']).size()).reset_index()\n",
    "goalsAgainstPerGame = goalsAgainstPerGame.rename({0:'goalsAgainst'}, axis=1)"
   ]
  },
  {
   "cell_type": "code",
   "execution_count": 299,
   "metadata": {},
   "outputs": [
    {
     "data": {
      "text/plain": [
       "gameID      teamID\n",
       "2010020001  8         42\n",
       "            10        52\n",
       "2010020002  4         58\n",
       "            5         48\n",
       "2010020003  12        52\n",
       "                      ..\n",
       "2020020866  54        40\n",
       "2020020867  21        32\n",
       "            26        54\n",
       "2020020868  28        54\n",
       "            53        88\n",
       "Length: 25156, dtype: int64"
      ]
     },
     "execution_count": 299,
     "metadata": {},
     "output_type": "execute_result"
    }
   ],
   "source": [
    "shotsAgainstPerGame[['gameID','teamID']].groupby(['gameID','teamID']).size()"
   ]
  },
  {
   "cell_type": "code",
   "execution_count": 92,
   "metadata": {
    "pycharm": {
     "is_executing": true
    }
   },
   "outputs": [],
   "source": [
    "# Expanding the schedule into a row for each game an individual team played\n",
    "seasonsExpanded = pd.concat([seasonsFiltered[['seasonID','gameID','gameType','homeTeamID']].rename({'homeTeamID':'teamID'},axis=1),\n",
    "          seasonsFiltered[['seasonID','gameID','gameType','awayTeamID']].rename({'awayTeamID':'teamID'},axis=1)])"
   ]
  },
  {
   "cell_type": "code",
   "execution_count": 121,
   "metadata": {
    "pycharm": {
     "is_executing": true
    }
   },
   "outputs": [],
   "source": [
    "# Merging the goals for and against data into a single table. Not the left join to ensure no games are lost.\n",
    "teamData = pd.merge(seasonsExpanded, goalsForPerGame, how='left', left_on=['gameID','teamID'],right_on=['gameID','teamID'])\n",
    "teamData = pd.merge(teamData, goalsAgainstPerGame, how='left', left_on=['gameID','teamID'],right_on=['gameID','teamID'])\n",
    "\n",
    "# Setting shutouts (i.e. NA) to 0\n",
    "teamData['goalsFor'] = teamData['goalsFor'].apply(lambda x: 0 if pd.isna(x) else x)\n",
    "teamData['goalsAgainst'] = teamData['goalsAgainst'].apply(lambda x: 0 if pd.isna(x) else x)"
   ]
  },
  {
   "cell_type": "code",
   "execution_count": 122,
   "metadata": {
    "pycharm": {
     "is_executing": true
    }
   },
   "outputs": [],
   "source": [
    "# Creating a game number for each team/season\n",
    "teamData['gameNumber'] = teamData.groupby(['seasonID','teamID']).cumcount()+1"
   ]
  },
  {
   "cell_type": "code",
   "execution_count": 123,
   "metadata": {
    "pycharm": {
     "is_executing": true
    }
   },
   "outputs": [],
   "source": [
    "# Totalling the number of goals for and against as a rolling sum\n",
    "teamData['goalsForTotal'] = teamData.groupby(['seasonID','teamID'])['goalsFor'].cumsum()\n",
    "teamData['goalsAgainstTotal'] = teamData.groupby(['seasonID','teamID'])['goalsAgainst'].cumsum()"
   ]
  },
  {
   "cell_type": "code",
   "execution_count": 124,
   "metadata": {
    "pycharm": {
     "is_executing": true
    }
   },
   "outputs": [],
   "source": [
    "# Getting the rolling goals for and against per game\n",
    "teamData['goalsForPerGame'] = teamData['goalsForTotal']/teamData['gameNumber']\n",
    "teamData['goalsAgainstPerGame'] = teamData['goalsAgainstTotal']/teamData['gameNumber']"
   ]
  },
  {
   "cell_type": "code",
   "execution_count": 125,
   "metadata": {
    "pycharm": {
     "is_executing": true
    }
   },
   "outputs": [],
   "source": [
    "# Getting the rolling goal differential\n",
    "teamData['goalDifferential'] = teamData['goalsForTotal'] - teamData['goalsAgainstTotal']"
   ]
  },
  {
   "cell_type": "code",
   "execution_count": 126,
   "metadata": {
    "pycharm": {
     "is_executing": true
    }
   },
   "outputs": [],
   "source": [
    "# Determing whether a team won/lossed and creating a rolling win percentage\n",
    "teamData['winLoss'] = teamData.apply(lambda row: 1 if row['goalsFor'] > row['goalsAgainst'] else 0,axis=1)\n",
    "teamData['winLossTotal'] = teamData.groupby(['seasonID','teamID'])['winLoss'].cumsum()\n",
    "teamData['winningPercentage'] = teamData['winLossTotal']/teamData['gameNumber']"
   ]
  },
  {
   "cell_type": "code",
   "execution_count": 127,
   "metadata": {
    "pycharm": {
     "is_executing": true
    }
   },
   "outputs": [],
   "source": [
    "# Dropping extra columns to keep things clean\n",
    "teamDataCondensed = teamData.drop(['goalsFor',\n",
    "                        'goalsAgainst',\n",
    "                        'gameNumber',\n",
    "                        'goalsForTotal',\n",
    "                        'goalsAgainstTotal',\n",
    "                        'winLoss',\n",
    "                        'winLossTotal'], axis=1)"
   ]
  },
  {
   "cell_type": "markdown",
   "metadata": {},
   "source": [
    "## Shot Related Data"
   ]
  },
  {
   "cell_type": "markdown",
   "metadata": {},
   "source": [
    "## Extracing the game Outcome"
   ]
  },
  {
   "cell_type": "code",
   "execution_count": 171,
   "metadata": {},
   "outputs": [],
   "source": [
    "gameOutcome = pd.merge(seasonsFiltered,\n",
    "         teamData, \n",
    "         how='inner',\n",
    "         left_on=['seasonID','gameID','homeTeamID'],\n",
    "         right_on=['seasonID','gameID','teamID'])"
   ]
  },
  {
   "cell_type": "code",
   "execution_count": 179,
   "metadata": {},
   "outputs": [],
   "source": [
    "gameOutcome = gameOutcome.drop(['gameType_x', \n",
    "                  'gameDate', \n",
    "                  'homeTeamID',\n",
    "                  'awayTeamID', \n",
    "                  'homeTeamGameNumber',\n",
    "                  'awayTeamGameNumber', \n",
    "                  'gameType_y',\n",
    "                  'teamID', \n",
    "                  'gameNumber', \n",
    "                  'goalsForTotal',\n",
    "                  'goalsAgainstTotal', \n",
    "                  'goalsForPerGame', \n",
    "                  'goalsAgainstPerGame',\n",
    "                  'goalDifferential',\n",
    "                  'winLoss', \n",
    "                  'winLossTotal', \n",
    "                  'winningPercentage'],axis=1)"
   ]
  },
  {
   "cell_type": "code",
   "execution_count": 183,
   "metadata": {},
   "outputs": [],
   "source": [
    "gameOutcome['homeTeamWin'] = gameOutcome.apply(lambda row: 1 if row['goalsFor'] > row['goalsAgainst'] else 0,axis=1)"
   ]
  },
  {
   "cell_type": "markdown",
   "metadata": {},
   "source": [
    "## Creating Model Input"
   ]
  },
  {
   "cell_type": "code",
   "execution_count": 128,
   "metadata": {},
   "outputs": [
    {
     "data": {
      "text/html": [
       "<div>\n",
       "<style scoped>\n",
       "    .dataframe tbody tr th:only-of-type {\n",
       "        vertical-align: middle;\n",
       "    }\n",
       "\n",
       "    .dataframe tbody tr th {\n",
       "        vertical-align: top;\n",
       "    }\n",
       "\n",
       "    .dataframe thead th {\n",
       "        text-align: right;\n",
       "    }\n",
       "</style>\n",
       "<table border=\"1\" class=\"dataframe\">\n",
       "  <thead>\n",
       "    <tr style=\"text-align: right;\">\n",
       "      <th></th>\n",
       "      <th>seasonID</th>\n",
       "      <th>gameID</th>\n",
       "      <th>gameType</th>\n",
       "      <th>teamID</th>\n",
       "      <th>goalsForPerGame</th>\n",
       "      <th>goalsAgainstPerGame</th>\n",
       "      <th>goalDifferential</th>\n",
       "      <th>winningPercentage</th>\n",
       "    </tr>\n",
       "  </thead>\n",
       "  <tbody>\n",
       "    <tr>\n",
       "      <th>0</th>\n",
       "      <td>20102011</td>\n",
       "      <td>2010020001</td>\n",
       "      <td>R</td>\n",
       "      <td>10</td>\n",
       "      <td>3.000000</td>\n",
       "      <td>2.000000</td>\n",
       "      <td>1.0</td>\n",
       "      <td>1.000000</td>\n",
       "    </tr>\n",
       "    <tr>\n",
       "      <th>1</th>\n",
       "      <td>20102011</td>\n",
       "      <td>2010020002</td>\n",
       "      <td>R</td>\n",
       "      <td>5</td>\n",
       "      <td>2.000000</td>\n",
       "      <td>3.000000</td>\n",
       "      <td>-1.0</td>\n",
       "      <td>0.000000</td>\n",
       "    </tr>\n",
       "    <tr>\n",
       "      <th>2</th>\n",
       "      <td>20102011</td>\n",
       "      <td>2010020003</td>\n",
       "      <td>R</td>\n",
       "      <td>30</td>\n",
       "      <td>3.000000</td>\n",
       "      <td>4.000000</td>\n",
       "      <td>-1.0</td>\n",
       "      <td>0.000000</td>\n",
       "    </tr>\n",
       "    <tr>\n",
       "      <th>3</th>\n",
       "      <td>20102011</td>\n",
       "      <td>2010020004</td>\n",
       "      <td>R</td>\n",
       "      <td>21</td>\n",
       "      <td>4.000000</td>\n",
       "      <td>3.000000</td>\n",
       "      <td>1.0</td>\n",
       "      <td>1.000000</td>\n",
       "    </tr>\n",
       "    <tr>\n",
       "      <th>4</th>\n",
       "      <td>20102011</td>\n",
       "      <td>2010020005</td>\n",
       "      <td>R</td>\n",
       "      <td>22</td>\n",
       "      <td>4.000000</td>\n",
       "      <td>0.000000</td>\n",
       "      <td>4.0</td>\n",
       "      <td>1.000000</td>\n",
       "    </tr>\n",
       "    <tr>\n",
       "      <th>...</th>\n",
       "      <td>...</td>\n",
       "      <td>...</td>\n",
       "      <td>...</td>\n",
       "      <td>...</td>\n",
       "      <td>...</td>\n",
       "      <td>...</td>\n",
       "      <td>...</td>\n",
       "      <td>...</td>\n",
       "    </tr>\n",
       "    <tr>\n",
       "      <th>25203</th>\n",
       "      <td>20202021</td>\n",
       "      <td>2020020864</td>\n",
       "      <td>R</td>\n",
       "      <td>20</td>\n",
       "      <td>2.821429</td>\n",
       "      <td>2.910714</td>\n",
       "      <td>-5.0</td>\n",
       "      <td>0.464286</td>\n",
       "    </tr>\n",
       "    <tr>\n",
       "      <th>25204</th>\n",
       "      <td>20202021</td>\n",
       "      <td>2020020865</td>\n",
       "      <td>R</td>\n",
       "      <td>24</td>\n",
       "      <td>2.285714</td>\n",
       "      <td>3.250000</td>\n",
       "      <td>-54.0</td>\n",
       "      <td>0.303571</td>\n",
       "    </tr>\n",
       "    <tr>\n",
       "      <th>25205</th>\n",
       "      <td>20202021</td>\n",
       "      <td>2020020866</td>\n",
       "      <td>R</td>\n",
       "      <td>19</td>\n",
       "      <td>3.071429</td>\n",
       "      <td>3.089286</td>\n",
       "      <td>-1.0</td>\n",
       "      <td>0.482143</td>\n",
       "    </tr>\n",
       "    <tr>\n",
       "      <th>25206</th>\n",
       "      <td>20202021</td>\n",
       "      <td>2020020867</td>\n",
       "      <td>R</td>\n",
       "      <td>21</td>\n",
       "      <td>3.535714</td>\n",
       "      <td>2.410714</td>\n",
       "      <td>63.0</td>\n",
       "      <td>0.696429</td>\n",
       "    </tr>\n",
       "    <tr>\n",
       "      <th>25207</th>\n",
       "      <td>20202021</td>\n",
       "      <td>2020020868</td>\n",
       "      <td>R</td>\n",
       "      <td>53</td>\n",
       "      <td>2.857143</td>\n",
       "      <td>3.250000</td>\n",
       "      <td>-22.0</td>\n",
       "      <td>0.428571</td>\n",
       "    </tr>\n",
       "  </tbody>\n",
       "</table>\n",
       "<p>25208 rows × 8 columns</p>\n",
       "</div>"
      ],
      "text/plain": [
       "       seasonID      gameID gameType  teamID  goalsForPerGame  \\\n",
       "0      20102011  2010020001        R      10         3.000000   \n",
       "1      20102011  2010020002        R       5         2.000000   \n",
       "2      20102011  2010020003        R      30         3.000000   \n",
       "3      20102011  2010020004        R      21         4.000000   \n",
       "4      20102011  2010020005        R      22         4.000000   \n",
       "...         ...         ...      ...     ...              ...   \n",
       "25203  20202021  2020020864        R      20         2.821429   \n",
       "25204  20202021  2020020865        R      24         2.285714   \n",
       "25205  20202021  2020020866        R      19         3.071429   \n",
       "25206  20202021  2020020867        R      21         3.535714   \n",
       "25207  20202021  2020020868        R      53         2.857143   \n",
       "\n",
       "       goalsAgainstPerGame  goalDifferential  winningPercentage  \n",
       "0                 2.000000               1.0           1.000000  \n",
       "1                 3.000000              -1.0           0.000000  \n",
       "2                 4.000000              -1.0           0.000000  \n",
       "3                 3.000000               1.0           1.000000  \n",
       "4                 0.000000               4.0           1.000000  \n",
       "...                    ...               ...                ...  \n",
       "25203             2.910714              -5.0           0.464286  \n",
       "25204             3.250000             -54.0           0.303571  \n",
       "25205             3.089286              -1.0           0.482143  \n",
       "25206             2.410714              63.0           0.696429  \n",
       "25207             3.250000             -22.0           0.428571  \n",
       "\n",
       "[25208 rows x 8 columns]"
      ]
     },
     "execution_count": 128,
     "metadata": {},
     "output_type": "execute_result"
    }
   ],
   "source": [
    "teamDataCondensed"
   ]
  },
  {
   "cell_type": "code",
   "execution_count": 118,
   "metadata": {
    "pycharm": {
     "is_executing": true
    }
   },
   "outputs": [],
   "source": [
    "# # Merging team Data condensed with seasons filtered to determine of the team was home or away\n",
    "# teamDataCondensed = pd.merge(teamDataCondensed, seasonsFiltered[['gameID','homeTeamID']], how='left', left_on=['gameID','teamID'], right_on=['gameID','homeTeamID'])\n",
    "# # Creating a home/away indicator\n",
    "# teamDataCondensed['isHomeTeam'] = teamDataCondensed['homeTeamID'].apply(lambda x: 0 if pd.isna(x) else 1)\n",
    "# # Dropping useless column\n",
    "# teamDataCondensed = teamDataCondensed.drop(['homeTeamID'],axis=1)"
   ]
  },
  {
   "cell_type": "code",
   "execution_count": 134,
   "metadata": {},
   "outputs": [],
   "source": [
    "# Determing the game number for each time by season\n",
    "teamDataCondensed = teamDataCondensed.sort_values(['seasonID','gameID'])\n",
    "teamDataCondensed['gameNumber'] = teamDataCondensed.groupby(['seasonID','teamID']).cumcount()+1\n",
    "teamDataCondensed['gameNumber'] += 1"
   ]
  },
  {
   "cell_type": "code",
   "execution_count": 139,
   "metadata": {},
   "outputs": [],
   "source": [
    "# Sorting and then getting the home and away teams game numbers (used to join on below)\n",
    "seasonsFiltered = seasonsFiltered.sort_values(['seasonID','gameID'])\n",
    "seasonsFiltered['homeTeamGameNumber'] = seasonsFiltered.groupby(['seasonID','homeTeamID']).cumcount()+1\n",
    "seasonsFiltered['awayTeamGameNumber'] = seasonsFiltered.groupby(['seasonID','awayTeamID']).cumcount()+1"
   ]
  },
  {
   "cell_type": "code",
   "execution_count": 155,
   "metadata": {
    "pycharm": {
     "is_executing": true
    }
   },
   "outputs": [],
   "source": [
    "# Creating the model input with the home team data\n",
    "modelInput = pd.merge(seasonsFiltered, \n",
    "            teamDataCondensed, \n",
    "            how='inner', \n",
    "            left_on=['seasonID', 'homeTeamID', 'homeTeamGameNumber'],\n",
    "            right_on=['seasonID','teamID','gameNumber'])"
   ]
  },
  {
   "cell_type": "code",
   "execution_count": 156,
   "metadata": {},
   "outputs": [],
   "source": [
    "# Dropping extra columns\n",
    "modelInput = modelInput.drop(['gameID_x', \n",
    "                 'gameType_x',\n",
    "                 'homeTeamGameNumber',\n",
    "                 'teamID'],\n",
    "                axis=1)"
   ]
  },
  {
   "cell_type": "code",
   "execution_count": 157,
   "metadata": {},
   "outputs": [],
   "source": [
    "# Renaming columns appropriately for the home team (to differentiate from the away team later)\n",
    "modelInput = modelInput.rename({'gameID_y':'gameID',\n",
    "                   'gameType_y':'gameType',\n",
    "                   'goalsForPerGame':'goalsForPerGameHome',\n",
    "                   'goalsAgainstPerGame':'goalsAgainstPerGameHome', \n",
    "                   'goalDifferential':'goalDifferentialHome', \n",
    "                   'winningPercentage':'winningPercentageHome'},axis=1)"
   ]
  },
  {
   "cell_type": "code",
   "execution_count": 158,
   "metadata": {},
   "outputs": [],
   "source": [
    "# adding the away team data to the model input\n",
    "modelInput = pd.merge(modelInput, \n",
    "            teamDataCondensed, \n",
    "            how='inner', \n",
    "            left_on=['seasonID', 'awayTeamID', 'awayTeamGameNumber'],\n",
    "            right_on=['seasonID','teamID','gameNumber'])"
   ]
  },
  {
   "cell_type": "code",
   "execution_count": 160,
   "metadata": {},
   "outputs": [],
   "source": [
    "# Dropping extra columns\n",
    "modelInput = modelInput.drop(['gameID_x', \n",
    "                 'gameType_x',\n",
    "                 'awayTeamGameNumber',\n",
    "                 'teamID',\n",
    "                 'gameNumber_x',\n",
    "                'gameNumber_y'],\n",
    "                axis=1)"
   ]
  },
  {
   "cell_type": "code",
   "execution_count": 165,
   "metadata": {},
   "outputs": [],
   "source": [
    "# Renaming columns to differentiate from the home team\n",
    "modelInput = modelInput.rename({'gameID_y':'gameID',\n",
    "                   'gameType_y':'gameType', \n",
    "                   'goalsForPerGame':'goalsForPerGameAway',\n",
    "                   'goalsAgainstPerGame':'goalsAgainstPerGameAway',\n",
    "                   'goalDifferential':'goalDifferentialAway', \n",
    "                   'winningPercentage':'winningPercentageAway'},\n",
    "                 axis=1)"
   ]
  },
  {
   "cell_type": "code",
   "execution_count": 192,
   "metadata": {},
   "outputs": [],
   "source": [
    "# Merging the game output\n",
    "modelInput = pd.merge(modelInput, \n",
    "         gameOutcome, \n",
    "         how='inner',\n",
    "         on='gameID',\n",
    "         suffixes = (\"\",\"_y\")).drop(['seasonID_y','goalsFor','goalsAgainst'],axis=1)"
   ]
  },
  {
   "cell_type": "code",
   "execution_count": 193,
   "metadata": {},
   "outputs": [
    {
     "data": {
      "text/html": [
       "<div>\n",
       "<style scoped>\n",
       "    .dataframe tbody tr th:only-of-type {\n",
       "        vertical-align: middle;\n",
       "    }\n",
       "\n",
       "    .dataframe tbody tr th {\n",
       "        vertical-align: top;\n",
       "    }\n",
       "\n",
       "    .dataframe thead th {\n",
       "        text-align: right;\n",
       "    }\n",
       "</style>\n",
       "<table border=\"1\" class=\"dataframe\">\n",
       "  <thead>\n",
       "    <tr style=\"text-align: right;\">\n",
       "      <th></th>\n",
       "      <th>seasonID</th>\n",
       "      <th>gameDate</th>\n",
       "      <th>homeTeamID</th>\n",
       "      <th>awayTeamID</th>\n",
       "      <th>goalsForPerGameHome</th>\n",
       "      <th>goalsAgainstPerGameHome</th>\n",
       "      <th>goalDifferentialHome</th>\n",
       "      <th>winningPercentageHome</th>\n",
       "      <th>gameID</th>\n",
       "      <th>gameType</th>\n",
       "      <th>goalsForPerGameAway</th>\n",
       "      <th>goalsAgainstPerGameAway</th>\n",
       "      <th>goalDifferentialAway</th>\n",
       "      <th>winningPercentageAway</th>\n",
       "      <th>homeTeamWin</th>\n",
       "    </tr>\n",
       "  </thead>\n",
       "  <tbody>\n",
       "    <tr>\n",
       "      <th>0</th>\n",
       "      <td>20102011</td>\n",
       "      <td>2010-10-09</td>\n",
       "      <td>5</td>\n",
       "      <td>8</td>\n",
       "      <td>2.000000</td>\n",
       "      <td>3.000000</td>\n",
       "      <td>-1.0</td>\n",
       "      <td>0.000000</td>\n",
       "      <td>2010020001</td>\n",
       "      <td>R</td>\n",
       "      <td>2.761905</td>\n",
       "      <td>2.380952</td>\n",
       "      <td>16.0</td>\n",
       "      <td>0.571429</td>\n",
       "      <td>1</td>\n",
       "    </tr>\n",
       "    <tr>\n",
       "      <th>1</th>\n",
       "      <td>20102011</td>\n",
       "      <td>2010-10-11</td>\n",
       "      <td>2</td>\n",
       "      <td>3</td>\n",
       "      <td>4.000000</td>\n",
       "      <td>5.000000</td>\n",
       "      <td>-1.0</td>\n",
       "      <td>0.000000</td>\n",
       "      <td>2010020013</td>\n",
       "      <td>R</td>\n",
       "      <td>3.119048</td>\n",
       "      <td>2.452381</td>\n",
       "      <td>28.0</td>\n",
       "      <td>0.476190</td>\n",
       "      <td>0</td>\n",
       "    </tr>\n",
       "    <tr>\n",
       "      <th>2</th>\n",
       "      <td>20102011</td>\n",
       "      <td>2010-10-20</td>\n",
       "      <td>11</td>\n",
       "      <td>7</td>\n",
       "      <td>4.000000</td>\n",
       "      <td>2.000000</td>\n",
       "      <td>2.0</td>\n",
       "      <td>1.000000</td>\n",
       "      <td>2010020013</td>\n",
       "      <td>R</td>\n",
       "      <td>3.000000</td>\n",
       "      <td>6.000000</td>\n",
       "      <td>-3.0</td>\n",
       "      <td>0.000000</td>\n",
       "      <td>0</td>\n",
       "    </tr>\n",
       "    <tr>\n",
       "      <th>3</th>\n",
       "      <td>20102011</td>\n",
       "      <td>2010-10-11</td>\n",
       "      <td>19</td>\n",
       "      <td>24</td>\n",
       "      <td>0.000000</td>\n",
       "      <td>0.000000</td>\n",
       "      <td>0.0</td>\n",
       "      <td>0.000000</td>\n",
       "      <td>2010020020</td>\n",
       "      <td>R</td>\n",
       "      <td>2.883721</td>\n",
       "      <td>2.604651</td>\n",
       "      <td>12.0</td>\n",
       "      <td>0.581395</td>\n",
       "      <td>1</td>\n",
       "    </tr>\n",
       "    <tr>\n",
       "      <th>4</th>\n",
       "      <td>20102011</td>\n",
       "      <td>2010-10-23</td>\n",
       "      <td>25</td>\n",
       "      <td>18</td>\n",
       "      <td>3.093023</td>\n",
       "      <td>2.627907</td>\n",
       "      <td>20.0</td>\n",
       "      <td>0.558140</td>\n",
       "      <td>2010020020</td>\n",
       "      <td>R</td>\n",
       "      <td>4.000000</td>\n",
       "      <td>1.000000</td>\n",
       "      <td>3.0</td>\n",
       "      <td>1.000000</td>\n",
       "      <td>1</td>\n",
       "    </tr>\n",
       "    <tr>\n",
       "      <th>...</th>\n",
       "      <td>...</td>\n",
       "      <td>...</td>\n",
       "      <td>...</td>\n",
       "      <td>...</td>\n",
       "      <td>...</td>\n",
       "      <td>...</td>\n",
       "      <td>...</td>\n",
       "      <td>...</td>\n",
       "      <td>...</td>\n",
       "      <td>...</td>\n",
       "      <td>...</td>\n",
       "      <td>...</td>\n",
       "      <td>...</td>\n",
       "      <td>...</td>\n",
       "      <td>...</td>\n",
       "    </tr>\n",
       "    <tr>\n",
       "      <th>12153</th>\n",
       "      <td>20202021</td>\n",
       "      <td>2021-05-08</td>\n",
       "      <td>5</td>\n",
       "      <td>7</td>\n",
       "      <td>4.000000</td>\n",
       "      <td>2.785714</td>\n",
       "      <td>17.0</td>\n",
       "      <td>0.785714</td>\n",
       "      <td>2020020416</td>\n",
       "      <td>R</td>\n",
       "      <td>1.769231</td>\n",
       "      <td>3.692308</td>\n",
       "      <td>-25.0</td>\n",
       "      <td>0.153846</td>\n",
       "      <td>0</td>\n",
       "    </tr>\n",
       "    <tr>\n",
       "      <th>12154</th>\n",
       "      <td>20202021</td>\n",
       "      <td>2021-05-10</td>\n",
       "      <td>16</td>\n",
       "      <td>25</td>\n",
       "      <td>3.846154</td>\n",
       "      <td>3.153846</td>\n",
       "      <td>9.0</td>\n",
       "      <td>0.538462</td>\n",
       "      <td>2020020409</td>\n",
       "      <td>R</td>\n",
       "      <td>3.466667</td>\n",
       "      <td>2.666667</td>\n",
       "      <td>12.0</td>\n",
       "      <td>0.400000</td>\n",
       "      <td>1</td>\n",
       "    </tr>\n",
       "    <tr>\n",
       "      <th>12155</th>\n",
       "      <td>20202021</td>\n",
       "      <td>2021-05-08</td>\n",
       "      <td>18</td>\n",
       "      <td>12</td>\n",
       "      <td>2.853659</td>\n",
       "      <td>2.804878</td>\n",
       "      <td>2.0</td>\n",
       "      <td>0.560976</td>\n",
       "      <td>2020020442</td>\n",
       "      <td>R</td>\n",
       "      <td>3.441860</td>\n",
       "      <td>2.465116</td>\n",
       "      <td>42.0</td>\n",
       "      <td>0.697674</td>\n",
       "      <td>0</td>\n",
       "    </tr>\n",
       "    <tr>\n",
       "      <th>12156</th>\n",
       "      <td>20202021</td>\n",
       "      <td>2021-05-08</td>\n",
       "      <td>10</td>\n",
       "      <td>8</td>\n",
       "      <td>3.428571</td>\n",
       "      <td>2.500000</td>\n",
       "      <td>13.0</td>\n",
       "      <td>0.642857</td>\n",
       "      <td>2020020439</td>\n",
       "      <td>R</td>\n",
       "      <td>3.000000</td>\n",
       "      <td>2.977273</td>\n",
       "      <td>1.0</td>\n",
       "      <td>0.454545</td>\n",
       "      <td>1</td>\n",
       "    </tr>\n",
       "    <tr>\n",
       "      <th>12157</th>\n",
       "      <td>20202021</td>\n",
       "      <td>2021-05-08</td>\n",
       "      <td>28</td>\n",
       "      <td>53</td>\n",
       "      <td>2.977778</td>\n",
       "      <td>3.666667</td>\n",
       "      <td>-31.0</td>\n",
       "      <td>0.422222</td>\n",
       "      <td>2020020427</td>\n",
       "      <td>R</td>\n",
       "      <td>2.615385</td>\n",
       "      <td>3.410256</td>\n",
       "      <td>-31.0</td>\n",
       "      <td>0.358974</td>\n",
       "      <td>1</td>\n",
       "    </tr>\n",
       "  </tbody>\n",
       "</table>\n",
       "<p>12158 rows × 15 columns</p>\n",
       "</div>"
      ],
      "text/plain": [
       "       seasonID    gameDate  homeTeamID  awayTeamID  goalsForPerGameHome  \\\n",
       "0      20102011  2010-10-09           5           8             2.000000   \n",
       "1      20102011  2010-10-11           2           3             4.000000   \n",
       "2      20102011  2010-10-20          11           7             4.000000   \n",
       "3      20102011  2010-10-11          19          24             0.000000   \n",
       "4      20102011  2010-10-23          25          18             3.093023   \n",
       "...         ...         ...         ...         ...                  ...   \n",
       "12153  20202021  2021-05-08           5           7             4.000000   \n",
       "12154  20202021  2021-05-10          16          25             3.846154   \n",
       "12155  20202021  2021-05-08          18          12             2.853659   \n",
       "12156  20202021  2021-05-08          10           8             3.428571   \n",
       "12157  20202021  2021-05-08          28          53             2.977778   \n",
       "\n",
       "       goalsAgainstPerGameHome  goalDifferentialHome  winningPercentageHome  \\\n",
       "0                     3.000000                  -1.0               0.000000   \n",
       "1                     5.000000                  -1.0               0.000000   \n",
       "2                     2.000000                   2.0               1.000000   \n",
       "3                     0.000000                   0.0               0.000000   \n",
       "4                     2.627907                  20.0               0.558140   \n",
       "...                        ...                   ...                    ...   \n",
       "12153                 2.785714                  17.0               0.785714   \n",
       "12154                 3.153846                   9.0               0.538462   \n",
       "12155                 2.804878                   2.0               0.560976   \n",
       "12156                 2.500000                  13.0               0.642857   \n",
       "12157                 3.666667                 -31.0               0.422222   \n",
       "\n",
       "           gameID gameType  goalsForPerGameAway  goalsAgainstPerGameAway  \\\n",
       "0      2010020001        R             2.761905                 2.380952   \n",
       "1      2010020013        R             3.119048                 2.452381   \n",
       "2      2010020013        R             3.000000                 6.000000   \n",
       "3      2010020020        R             2.883721                 2.604651   \n",
       "4      2010020020        R             4.000000                 1.000000   \n",
       "...           ...      ...                  ...                      ...   \n",
       "12153  2020020416        R             1.769231                 3.692308   \n",
       "12154  2020020409        R             3.466667                 2.666667   \n",
       "12155  2020020442        R             3.441860                 2.465116   \n",
       "12156  2020020439        R             3.000000                 2.977273   \n",
       "12157  2020020427        R             2.615385                 3.410256   \n",
       "\n",
       "       goalDifferentialAway  winningPercentageAway  homeTeamWin  \n",
       "0                      16.0               0.571429            1  \n",
       "1                      28.0               0.476190            0  \n",
       "2                      -3.0               0.000000            0  \n",
       "3                      12.0               0.581395            1  \n",
       "4                       3.0               1.000000            1  \n",
       "...                     ...                    ...          ...  \n",
       "12153                 -25.0               0.153846            0  \n",
       "12154                  12.0               0.400000            1  \n",
       "12155                  42.0               0.697674            0  \n",
       "12156                   1.0               0.454545            1  \n",
       "12157                 -31.0               0.358974            1  \n",
       "\n",
       "[12158 rows x 15 columns]"
      ]
     },
     "execution_count": 193,
     "metadata": {},
     "output_type": "execute_result"
    }
   ],
   "source": [
    "modelInput"
   ]
  },
  {
   "cell_type": "markdown",
   "metadata": {},
   "source": [
    "## Creating the Model"
   ]
  },
  {
   "cell_type": "code",
   "execution_count": 197,
   "metadata": {},
   "outputs": [],
   "source": [
    "# Creating the x and y data\n",
    "x = modelInput[['goalsForPerGameHome', \n",
    "                     'goalsAgainstPerGameHome', \n",
    "                     'goalDifferentialHome',\n",
    "                     'winningPercentageHome',\n",
    "                     'goalsForPerGameAway',\n",
    "                     'goalsAgainstPerGameAway',\n",
    "                     'goalDifferentialAway',\n",
    "                     'winningPercentageAway']]\n",
    "y = modelInput[['homeTeamWin']]"
   ]
  },
  {
   "cell_type": "code",
   "execution_count": 202,
   "metadata": {},
   "outputs": [],
   "source": [
    "# Normalizing the data\n",
    "scaler = preprocessing.StandardScaler().fit(x)\n",
    "xScaled = scaler.transform(x)"
   ]
  },
  {
   "cell_type": "code",
   "execution_count": 203,
   "metadata": {},
   "outputs": [],
   "source": [
    "xTrain, xTest, yTrain, yTest = train_test_split(xScaled, y, test_size=0.2,random_state=109) # 70% training and 20% test"
   ]
  },
  {
   "cell_type": "markdown",
   "metadata": {},
   "source": [
    "### Support Vector Machine"
   ]
  },
  {
   "cell_type": "code",
   "execution_count": 262,
   "metadata": {},
   "outputs": [],
   "source": [
    "clf = svm.SVC(kernel='sigmoid',gamma='auto') # Linear Kernel"
   ]
  },
  {
   "cell_type": "code",
   "execution_count": 263,
   "metadata": {},
   "outputs": [
    {
     "name": "stderr",
     "output_type": "stream",
     "text": [
      "C:\\Users\\Aidan\\anaconda3\\envs\\tf\\lib\\site-packages\\sklearn\\utils\\validation.py:63: DataConversionWarning: A column-vector y was passed when a 1d array was expected. Please change the shape of y to (n_samples, ), for example using ravel().\n",
      "  return f(*args, **kwargs)\n"
     ]
    },
    {
     "data": {
      "text/plain": [
       "SVC(gamma='auto', kernel='sigmoid')"
      ]
     },
     "execution_count": 263,
     "metadata": {},
     "output_type": "execute_result"
    }
   ],
   "source": [
    "clf.fit(xTrain, yTrain)"
   ]
  },
  {
   "cell_type": "code",
   "execution_count": 264,
   "metadata": {},
   "outputs": [],
   "source": [
    "yPred = clf.predict(xTest)"
   ]
  },
  {
   "cell_type": "code",
   "execution_count": 265,
   "metadata": {},
   "outputs": [
    {
     "name": "stdout",
     "output_type": "stream",
     "text": [
      "Accuracy: 0.5394736842105263\n"
     ]
    }
   ],
   "source": [
    "print(\"Accuracy:\",metrics.accuracy_score(yTest, yPred))"
   ]
  },
  {
   "cell_type": "code",
   "execution_count": null,
   "metadata": {},
   "outputs": [],
   "source": []
  },
  {
   "cell_type": "code",
   "execution_count": null,
   "metadata": {},
   "outputs": [],
   "source": []
  },
  {
   "cell_type": "code",
   "execution_count": 241,
   "metadata": {},
   "outputs": [
    {
     "name": "stderr",
     "output_type": "stream",
     "text": [
      "C:\\Users\\Aidan\\anaconda3\\envs\\tf\\lib\\site-packages\\sklearn\\utils\\validation.py:63: DataConversionWarning: A column-vector y was passed when a 1d array was expected. Please change the shape of y to (n_samples, ), for example using ravel().\n",
      "  return f(*args, **kwargs)\n",
      "C:\\Users\\Aidan\\anaconda3\\envs\\tf\\lib\\site-packages\\sklearn\\utils\\validation.py:63: DataConversionWarning: A column-vector y was passed when a 1d array was expected. Please change the shape of y to (n_samples, ), for example using ravel().\n",
      "  return f(*args, **kwargs)\n",
      "C:\\Users\\Aidan\\anaconda3\\envs\\tf\\lib\\site-packages\\sklearn\\utils\\validation.py:63: DataConversionWarning: A column-vector y was passed when a 1d array was expected. Please change the shape of y to (n_samples, ), for example using ravel().\n",
      "  return f(*args, **kwargs)\n",
      "C:\\Users\\Aidan\\anaconda3\\envs\\tf\\lib\\site-packages\\sklearn\\utils\\validation.py:63: DataConversionWarning: A column-vector y was passed when a 1d array was expected. Please change the shape of y to (n_samples, ), for example using ravel().\n",
      "  return f(*args, **kwargs)\n",
      "C:\\Users\\Aidan\\anaconda3\\envs\\tf\\lib\\site-packages\\sklearn\\utils\\validation.py:63: DataConversionWarning: A column-vector y was passed when a 1d array was expected. Please change the shape of y to (n_samples, ), for example using ravel().\n",
      "  return f(*args, **kwargs)\n"
     ]
    }
   ],
   "source": [
    "clf = svm.SVC(kernel='linear', C=1, random_state=42)\n",
    "scores = cross_val_score(clf, xScaled, y, cv=5)"
   ]
  },
  {
   "cell_type": "code",
   "execution_count": 242,
   "metadata": {},
   "outputs": [
    {
     "data": {
      "text/plain": [
       "array([0.62294408, 0.6328125 , 0.59786184, 0.61620732, 0.6137392 ])"
      ]
     },
     "execution_count": 242,
     "metadata": {},
     "output_type": "execute_result"
    }
   ],
   "source": [
    "scores"
   ]
  },
  {
   "cell_type": "code",
   "execution_count": null,
   "metadata": {},
   "outputs": [],
   "source": []
  },
  {
   "cell_type": "code",
   "execution_count": null,
   "metadata": {},
   "outputs": [],
   "source": []
  },
  {
   "cell_type": "code",
   "execution_count": null,
   "metadata": {},
   "outputs": [],
   "source": []
  }
 ],
 "metadata": {
  "kernelspec": {
   "display_name": "Python 3",
   "language": "python",
   "name": "python3"
  },
  "language_info": {
   "codemirror_mode": {
    "name": "ipython",
    "version": 3
   },
   "file_extension": ".py",
   "mimetype": "text/x-python",
   "name": "python",
   "nbconvert_exporter": "python",
   "pygments_lexer": "ipython3",
   "version": "3.8.5"
  }
 },
 "nbformat": 4,
 "nbformat_minor": 1
}
