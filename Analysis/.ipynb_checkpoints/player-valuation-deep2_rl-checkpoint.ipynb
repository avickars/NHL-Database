{
 "cells": [
  {
   "cell_type": "code",
   "execution_count": 3,
   "metadata": {},
   "outputs": [],
   "source": [
    "import pandas as pd\n",
    "from SQLCode import DatabaseConnection\n",
    "from SQLCode import DatabaseCredentials as DBC\n",
    "import numpy as np\n",
    "\n",
    "\n",
    "from sklearn.feature_extraction.text import CountVectorizer\n",
    "\n",
    "from torch.utils.data import DataLoader\n",
    "import torch.nn as nn\n",
    "import torch.nn.functional as F\n",
    "import torch.optim as optim\n",
    "import torch\n",
    "\n",
    "from sklearn import preprocessing"
   ]
  },
  {
   "cell_type": "code",
   "execution_count": 4,
   "metadata": {},
   "outputs": [],
   "source": [
    "# Opening connection\n",
    "creds = DBC.DataBaseCredentials()\n",
    "conn = DatabaseConnection.sql_connection(creds.server, creds.database, creds.user, creds.password)\n",
    "connection = conn.open()\n",
    "cursor = connection.cursor()"
   ]
  },
  {
   "cell_type": "code",
   "execution_count": 5,
   "metadata": {
    "pycharm": {
     "is_executing": true
    }
   },
   "outputs": [],
   "source": [
    "# liveFeed = pd.read_sql_query(\"select * from live_feed\", connection)\n",
    "liveFeed = pd.read_sql_query(\"select * from live_feed where gameID = 2020020634\", connection)"
   ]
  },
  {
   "cell_type": "code",
   "execution_count": 6,
   "metadata": {
    "pycharm": {
     "is_executing": true
    }
   },
   "outputs": [],
   "source": [
    "# Getting the seasons data\n",
    "seasons = pd.read_sql_query(\"select * from schedules\", connection)"
   ]
  },
  {
   "cell_type": "code",
   "execution_count": 7,
   "metadata": {
    "pycharm": {
     "is_executing": true
    }
   },
   "outputs": [],
   "source": [
    "# boxscores = pd.read_sql_query(\"select gameID, teamID, playerID from box_scores\", connection)\n",
    "boxscores = pd.read_sql_query(\"select gameID, teamID, playerID from box_scores where gameID = 2020020634\", connection)"
   ]
  },
  {
   "cell_type": "markdown",
   "metadata": {},
   "source": [
    "# Creating Model Input"
   ]
  },
  {
   "cell_type": "code",
   "execution_count": 8,
   "metadata": {
    "pycharm": {
     "is_executing": true
    }
   },
   "outputs": [],
   "source": [
    "# Filtering to regular seasons games and 20102011 onwards (when live data started)\n",
    "seasonsFiltered = seasons[seasons['seasonID'] >= 20102011]\n",
    "seasonsFiltered = seasonsFiltered[seasonsFiltered['gameType'] == 'R']"
   ]
  },
  {
   "cell_type": "code",
   "execution_count": null,
   "metadata": {
    "pycharm": {
     "is_executing": true
    }
   },
   "outputs": [],
   "source": [
    "# Getting and filtering the raw data\n",
    "rawData = pd.merge(liveFeed,seasons, how='inner',on='gameID')\n",
    "rawData = rawData[rawData['seasonID'] >= 20102011]\n",
    "# rawData = rawData[rawData['gameType'] == 'R']\n",
    "# Keeping assists so we can add them in\n",
    "rawData = rawData[(rawData['eventSubID'] == 0) | (rawData['playerType'] == 'Assist')]\n",
    "rawData = rawData[['eventID',\n",
    "         'eventSubID',\n",
    "         'gameID',\n",
    "         'eventTypeID',\n",
    "         'playerType',\n",
    "         'eventDescription',\n",
    "         'periodNum',\n",
    "         'periodTime',\n",
    "         'xCoordinate',\n",
    "         'yCoordinate',\n",
    "         'teamID',\n",
    "         'homeTeamID','awayTeamID','playerID','penaltyMinutes']]"
   ]
  },
  {
   "cell_type": "code",
   "execution_count": null,
   "metadata": {
    "pycharm": {
     "is_executing": true
    }
   },
   "outputs": [],
   "source": [
    "# Adding in assist\n",
    "rawData['eventTypeID'] = np.where((rawData['eventTypeID'] == 'GOAL') & (rawData['playerType'] == 'Assist'), 'ASSIST', rawData['eventTypeID'])"
   ]
  },
  {
   "cell_type": "code",
   "execution_count": null,
   "metadata": {
    "pycharm": {
     "is_executing": true
    }
   },
   "outputs": [],
   "source": [
    "# Dont need this column anymore\n",
    "rawData = rawData.drop('playerType',axis=1)"
   ]
  },
  {
   "cell_type": "code",
   "execution_count": null,
   "metadata": {
    "pycharm": {
     "is_executing": true
    }
   },
   "outputs": [],
   "source": [
    "# Merging box score data\n",
    "rawData = pd.merge(rawData, \n",
    "                   boxscores, \n",
    "                   how='left', \n",
    "                   left_on=['gameID', 'playerID'], \n",
    "                   right_on=['gameID', 'playerID'],\n",
    "                   suffixes=('', '_box'))"
   ]
  },
  {
   "cell_type": "code",
   "execution_count": null,
   "metadata": {
    "pycharm": {
     "is_executing": true
    }
   },
   "outputs": [],
   "source": [
    "# Getting only the desired events\n",
    "rawDataFiltered = rawData[rawData['eventTypeID'].isin(['FACEOFF',\n",
    "                             'SHOT',\n",
    "                             'MISSED_SHOT',\n",
    "                             'BLOCKED_SHOT',\n",
    "                             'TAKEAWAY',\n",
    "                             'GIVEAWAY',\n",
    "                             'HIT',\n",
    "                             'GOAL',\n",
    "                             'ASSIST',\n",
    "                             'PERIOD_END',\n",
    "                             'EARLY_INT_START',\n",
    "                             'PENALTY',\n",
    "                             'STOP',\n",
    "                             'EARLY_INT_END',\n",
    "                             'EARLY_INT_END'])]\n",
    "# rawDataFiltered = rawDataFiltered[rawDataFiltered['playerType'].isin(['NULL', \n",
    "#                                    'Winner', \n",
    "#                                    'Loser', \n",
    "#                                    'Hitter', \n",
    "#                                    'PlayerID','Shooter','Blocker','Unknown','Scorer','PenaltyOn','DrewBy'])]\n",
    "\n",
    "\n",
    "# Sorting\n",
    "rawDataFiltered = rawDataFiltered.sort_values(by=['gameID', 'eventID','eventSubID'],ascending=[True,True,False])"
   ]
  },
  {
   "cell_type": "code",
   "execution_count": null,
   "metadata": {
    "pycharm": {
     "is_executing": true
    }
   },
   "outputs": [],
   "source": [
    "# Don't need this column anymore\n",
    "rawDataFiltered = rawDataFiltered.drop('eventSubID',axis=1)"
   ]
  },
  {
   "cell_type": "code",
   "execution_count": null,
   "metadata": {
    "pycharm": {
     "is_executing": true
    }
   },
   "outputs": [],
   "source": [
    "# Converting period number to numeric (seems to be read in as a string)\n",
    "rawDataFiltered['periodNum'] = pd.to_numeric(rawDataFiltered['periodNum'])\n",
    "\n",
    "# Filtering to only the 1st threee period for consistency\n",
    "rawDataFiltered = rawDataFiltered[rawDataFiltered['periodNum'] <= 3]"
   ]
  },
  {
   "cell_type": "code",
   "execution_count": null,
   "metadata": {
    "pycharm": {
     "is_executing": true
    }
   },
   "outputs": [],
   "source": [
    "def team_type(teamID, homeTeamID, awayTeamID):\n",
    "    if teamID == homeTeamID:\n",
    "        return 'HOME'\n",
    "    elif teamID == awayTeamID:\n",
    "        return 'AWAY'\n",
    "    else:\n",
    "        return np.nan\n",
    "\n",
    "def coordinate_normalization(xCoord, teamType, periodNum):\n",
    "    if teamType == np.nan:\n",
    "        return None\n",
    "    else:\n",
    "        if int(periodNum)%2 == 1:\n",
    "            if teamType == 'AWAY':\n",
    "                return xCoord\n",
    "            else:\n",
    "                return -1 * xCoord\n",
    "        else:\n",
    "            if teamType == 'AWAY':\n",
    "                return -1 * xCoord\n",
    "            else:\n",
    "                return xCoord\n",
    "            \n",
    "def elapsed_seconds(periodNum, periodTime):\n",
    "    periodTime = pd.Timedelta(periodTime)\n",
    "    return (int(periodNum) - 1) * 20 * 60 + periodTime.total_seconds()/60\n",
    "\n",
    "class Queue:\n",
    "    #CITATION: https://runestone.academy/runestone/books/published/pythonds/BasicDS/ImplementingaQueueinPython.html\n",
    "    def __init__(self):\n",
    "        self.queue = []\n",
    "\n",
    "    def isEmpty(self):\n",
    "        return self.queue == []\n",
    "\n",
    "    def enqueue(self, item):\n",
    "        self.queue.insert(0,item)\n",
    "\n",
    "    def dequeue(self):\n",
    "        return self.queue.pop()\n",
    "\n",
    "    def size(self):\n",
    "        return len(self.queue)\n",
    "    \n",
    "    def get_queue(self):\n",
    "        return self.queue\n",
    "\n",
    "    def exchange(self, oldItem, newItem):\n",
    "        self.queue[self.queue.index(oldItem)] = newItem\n",
    "        \n",
    "    def remove(self, item):\n",
    "        self.queue.remove(item)"
   ]
  },
  {
   "cell_type": "code",
   "execution_count": null,
   "metadata": {
    "pycharm": {
     "is_executing": true
    }
   },
   "outputs": [],
   "source": [
    "rawDataFiltered['teamType'] = rawDataFiltered.apply(lambda row: team_type(row['teamID'], \n",
    "                                                                          row['homeTeamID'], \n",
    "                                                                          row['awayTeamID']) ,axis=1)"
   ]
  },
  {
   "cell_type": "code",
   "execution_count": null,
   "metadata": {
    "pycharm": {
     "is_executing": true
    }
   },
   "outputs": [],
   "source": [
    "rawDataFiltered['xCoordinate'] = rawDataFiltered.apply(lambda row: coordinate_normalization(row['xCoordinate'], \n",
    "                                                           row['teamType'], \n",
    "                                                           row['periodNum']), axis=1)"
   ]
  },
  {
   "cell_type": "code",
   "execution_count": null,
   "metadata": {
    "pycharm": {
     "is_executing": true
    }
   },
   "outputs": [],
   "source": [
    "rawDataFiltered['secondsElapsed'] = rawDataFiltered.apply(lambda row: elapsed_seconds(row['periodNum'], row['periodTime']), axis=1)"
   ]
  },
  {
   "cell_type": "code",
   "execution_count": null,
   "metadata": {
    "pycharm": {
     "is_executing": true
    }
   },
   "outputs": [],
   "source": [
    "rawDataFiltered[rawDataFiltered['eventTypeID'] == 'ASSIST']"
   ]
  },
  {
   "cell_type": "code",
   "execution_count": null,
   "metadata": {
    "pycharm": {
     "is_executing": true
    }
   },
   "outputs": [],
   "source": [
    "sequences = []\n",
    "actionEvents = ['FACEOFF',\n",
    "                'SHOT',\n",
    "                'MISSED_SHOT',\n",
    "                'BLOCKED_SHOT',\n",
    "                'TAKEAWAY',\n",
    "                'GIVEAWAY',\n",
    "                'HIT',\n",
    "                'ASSIST',\n",
    "                'GOAL']\n",
    "startEndEvents = ['PERIOD_START',\n",
    "                  'PERIOD_END',\n",
    "                  'EARLY_INT_START',\n",
    "                  'PENALTY',\n",
    "                  'STOP',\n",
    "                  'SHOOTOUT_COMPLETE',\n",
    "                  'GAME_END',\n",
    "                  'EARLY_INT_END',\n",
    "                  'EARLY_INT_END']\n",
    "\n",
    "sequenceNum = 0\n",
    "eventNum = 0\n",
    "penaltyQueue = Queue()\n",
    "gameID = 0\n",
    "context = {'goalDiff':0, 'manpowerDiff':0, 'periodNum':1}\n",
    "for index, row in rawDataFiltered.iterrows():\n",
    "    if index % 100000 == 0:\n",
    "        print((index/len(rawDataFiltered))*100, '%')\n",
    "    \n",
    "    # Resetting the context\n",
    "    if gameID != row['gameID']:\n",
    "        gameID = row['gameID']\n",
    "        context = {'goalDiff':0, 'manpowerDiff':0, 'periodNum':1}\n",
    "        \n",
    "    # Updating the context if needed\n",
    "    if row['periodNum'] != context['periodNum']:\n",
    "        context['periodNum'] = row['periodNum']\n",
    "        \n",
    "    # Computing if respective team is home or away\n",
    "    teamType = team_type(row['teamID'], row['homeTeamID'], row['awayTeamID'])\n",
    "    \n",
    "     # If there currently is a penalty in the penalty queue\n",
    "    if penaltyQueue.size() > 0:\n",
    "        # Determining the time of the action\n",
    "        actionTime = elapsed_seconds(row['periodNum'],row['periodTime'])\n",
    "\n",
    "        # Iterating through all  the penalties in the queue from oldest to newest\n",
    "        for penalty in reversed(penaltyQueue.get_queue()):\n",
    "            # If the action occured after the penalty ended, we update the context and pop the penalty\n",
    "            if penalty['penaltyEnd'] < actionTime:\n",
    "                # Popping the penalty\n",
    "                penaltyQueue.remove(penalty)\n",
    "\n",
    "                # Updating the context\n",
    "                if penalty['team'] == 'HOME':\n",
    "                    context['manpowerDiff'] -= 1\n",
    "                else:\n",
    "                    context['manpowerDiff'] -= -1\n",
    "        \n",
    "    # Catching penalties to update the context\n",
    "    if row['eventTypeID'] == 'PENALTY':\n",
    "        if int(row['penaltyMinutes']) != 10:\n",
    "            # Getting the end time of the penalty (in seconds)\n",
    "            penaltyStart = elapsed_seconds(row['periodNum'],row['periodTime'])\n",
    "            penaltyEnd = penaltyStart + row['penaltyMinutes'] * 60\n",
    "            \n",
    "\n",
    "            # Determining who took the penalty to update the context\n",
    "            if teamType == 'HOME':\n",
    "                context['manpowerDiff'] += 1\n",
    "            else:\n",
    "                context['manpowerDiff'] += -1\n",
    "\n",
    "            # Enqueuing the penalty\n",
    "            penaltyQueue.enqueue({'team':teamType, \n",
    "                                  'penaltyStart': penaltyStart, \n",
    "                                  'penaltyEnd':penaltyEnd, \n",
    "                                  'penaltyLength': \n",
    "                                  row['penaltyMinutes']})\n",
    "            \n",
    "    # Adding in the event if it is a goal or assist (doing it here in since the context will be updated below)\n",
    "    if (row['eventTypeID'] == 'ASSIST'):\n",
    "        sequences.append([row['gameID'],  \n",
    "                          context['goalDiff'],\n",
    "                          context['manpowerDiff'],\n",
    "                          context['periodNum'],\n",
    "                          sequenceNum, \n",
    "                          eventNum, \n",
    "                          row['eventTypeID'],  # action type\n",
    "                          teamType,  # Home/Away\n",
    "                          row['secondsElapsed'],\n",
    "                          row['xCoordinate'],\n",
    "                          row['yCoordinate'],\n",
    "                          row['playerID']]) #Neutral/Offensive/Defensive/NULL\n",
    "\n",
    "           \n",
    "    # If the event type is a goal\n",
    "    if row['eventTypeID'] == 'GOAL':\n",
    "\n",
    "        # Injecting the shot before the goal# Adding in the next sequency\n",
    "        sequences.append([row['gameID'],  \n",
    "                  context['goalDiff'],\n",
    "                  context['manpowerDiff'],\n",
    "                  context['periodNum'],\n",
    "                  sequenceNum, \n",
    "                  eventNum, \n",
    "                  'SHOT',  # action type\n",
    "                  teamType,  # Home/Away\n",
    "#                       row['zone']\n",
    "                  row['secondsElapsed'],\n",
    "                      row['xCoordinate'],\n",
    "                      row['yCoordinate'],\n",
    "                  row['playerID']]) #Neutral/Offensive/Defensive/NULL\n",
    "        # Incrementing the event number\n",
    "        eventNum += 1\n",
    "        \n",
    "        # Adding in the goal\n",
    "        sequences.append([row['gameID'],  \n",
    "                      context['goalDiff'],\n",
    "                      context['manpowerDiff'],\n",
    "                      context['periodNum'],\n",
    "                      sequenceNum, \n",
    "                      eventNum, \n",
    "                      row['eventTypeID'],  # action type\n",
    "                      teamType,  # Home/Away\n",
    "                      row['secondsElapsed'],\n",
    "                      row['xCoordinate'],\n",
    "                      row['yCoordinate'],\n",
    "                      row['playerID']]) #Neutral/Offensive/Defensive/NULL\n",
    "\n",
    "        # Updating the context\n",
    "        if teamType == 'HOME':\n",
    "            context['goalDiff'] -= 1\n",
    "        else:\n",
    "            context['goalDiff'] += 1\n",
    "\n",
    "        # Defining home/away flags to only pop off the minimum number of penalties\n",
    "        FLAGS = {'HOME':True, 'AWAY':True}\n",
    "\n",
    "        # Determining the time of the action\n",
    "        actionTime = elapsed_seconds(row['periodNum'],row['periodTime'])\n",
    "\n",
    "        # If there currently is a penalty in the penalty queue\n",
    "        if penaltyQueue.size() > 0:\n",
    "\n",
    "            # Iterating through all  the penalties in the queue from oldest to newest\n",
    "            for penalty in reversed(penaltyQueue.get_queue()):\n",
    "\n",
    "                # If the penalty is a 5 minute major, the player must serve the full 5 minutes (no change needed)\n",
    "                # If the penalty is over it would have been popped in the above if statement\n",
    "                if penalty['penaltyLength'] == 5:\n",
    "                    continue\n",
    "                else:\n",
    "\n",
    "                    # Making sure its not a shorthanded goal and we haven't already popped a penalty for this goal/team\n",
    "                    if (penalty['team'] != teamType) & (FLAGS[penalty['team']]):\n",
    "\n",
    "                        # Creating the updated penalty\n",
    "                        newPenalty = penalty\n",
    "                        newPenalty['penaltyStart'] = actionTime\n",
    "                        newPenalty['penaltyLength'] += -120\n",
    "                        newPenalty['penaltyEnd'] = newPenalty['penaltyStart'] + newPenalty['penaltyLength']\n",
    "\n",
    "                        if penalty['penaltyLength'] <= 0:\n",
    "\n",
    "                            # Popping the penalty off\n",
    "                            penaltyQueue.remove(penalty)\n",
    "\n",
    "                            # Updating the context\n",
    "                            if penalty['team'] == 'HOME':\n",
    "                                context['manpowerDiff'] -= 1\n",
    "                            else:\n",
    "                                context['manpowerDiff'] -= -1\n",
    "                        else:\n",
    "\n",
    "                            # replacing the old penalty info with the new one\n",
    "                            penaltyQueue.exchange(penalty, newPenalty)\n",
    "\n",
    "                        FLAGS[penalty['team']] = False \n",
    "                            \n",
    "#     # Updating the context if needed\n",
    "#     if row['periodNum'] != context['periodNum']:\n",
    "#         context['periodNum'] = row['periodNum']\n",
    "    \n",
    "    # Adding in the next sequency\n",
    "    if (((row['eventTypeID'] not in startEndEvents) | \n",
    "         (row['eventTypeID'] == 'PENALTY')) & \n",
    "        (row['eventTypeID'] != 'GOAL') & \n",
    "        (row['eventTypeID'] != 'ASSIST')):\n",
    "        sequences.append([row['gameID'],  \n",
    "                          context['goalDiff'],\n",
    "                          context['manpowerDiff'],\n",
    "                          context['periodNum'],\n",
    "                          sequenceNum, \n",
    "                          eventNum, \n",
    "                          row['eventTypeID'],  # action type\n",
    "                          teamType,  # Home/Away\n",
    "                          row['secondsElapsed'],\n",
    "                          row['xCoordinate'],\n",
    "                          row['yCoordinate'],\n",
    "                          row['playerID']]) #Neutral/Offensive/Defensive/NULL\n",
    "    if row['eventTypeID'] in actionEvents:\n",
    "        eventNum += 1\n",
    "    else:\n",
    "        sequenceNum += 1\n",
    "        eventNum = 0\n",
    "#     break\n",
    "sequenceData = pd.DataFrame(sequences, \n",
    "                            columns=['gameID', \n",
    "                                     'goalDiff', \n",
    "                                     'manpowerDiff',\n",
    "                                     'periodNum', \n",
    "                                     'sequenceNum',\n",
    "                                     'eventNum',\n",
    "                                     'event', \n",
    "                                     'team',\n",
    "                                     'secondsElapsed',\n",
    "                                     'xCoord',\n",
    "                                     'yCoord',\n",
    "                                     'playerID'])"
   ]
  },
  {
   "cell_type": "code",
   "execution_count": null,
   "metadata": {
    "pycharm": {
     "is_executing": true
    }
   },
   "outputs": [],
   "source": [
    "# Removing any rows that contain a null value\n",
    "sequenceData = sequenceData[~sequenceData['sequenceNum'].isin(sequenceData[sequenceData.isnull().any(axis=1)]['sequenceNum'].values)]"
   ]
  },
  {
   "cell_type": "code",
   "execution_count": null,
   "metadata": {
    "pycharm": {
     "is_executing": true
    }
   },
   "outputs": [],
   "source": [
    "# Vectorizing the events\n",
    "eventVectorizer = CountVectorizer()\n",
    "eventVectorizer.fit(sequenceData['event'])\n",
    "vectorizedEvents = eventVectorizer.transform(sequenceData['event']).toarray()\n",
    "\n",
    "# List of actions in the correct order according to its position on the vectorized array\n",
    "actions = [action[0] for action in sorted(eventVectorizer.vocabulary_.items())]"
   ]
  },
  {
   "cell_type": "code",
   "execution_count": null,
   "metadata": {
    "pycharm": {
     "is_executing": true
    }
   },
   "outputs": [],
   "source": [
    "# Adding in the vectorized columns\n",
    "for action in range(0,len(actions)):\n",
    "    sequenceData.insert(column=actions[action], value=vectorizedEvents[:,action], loc=len(sequenceData.columns))"
   ]
  },
  {
   "cell_type": "code",
   "execution_count": null,
   "metadata": {
    "pycharm": {
     "is_executing": true
    }
   },
   "outputs": [],
   "source": [
    "# # List of actions in the correct order according to its position on the vectorized array\n",
    "# actions = [action[0] for action in sorted(eventVectorizer.vocabulary_.items())]\n",
    "\n",
    "# # Adding the vectorized events onto the sequence data\n",
    "# sequenceData = pd.concat([sequenceData,\n",
    "#                           pd.DataFrame(data=vectorizedEvents,\n",
    "#                                        columns=actions)],axis=1)\n",
    "\n",
    "# Dropping event as it is no longer needed\n",
    "sequenceData = sequenceData.drop(['event'],axis=1)"
   ]
  },
  {
   "cell_type": "code",
   "execution_count": null,
   "metadata": {
    "pycharm": {
     "is_executing": true
    }
   },
   "outputs": [],
   "source": [
    "# Filling NAs\n",
    "sequenceData['team'] = sequenceData['team'].fillna(value='neither')"
   ]
  },
  {
   "cell_type": "code",
   "execution_count": null,
   "metadata": {
    "pycharm": {
     "is_executing": true
    }
   },
   "outputs": [],
   "source": [
    "# Vectorizing the teams\n",
    "teamVectorizer = CountVectorizer()\n",
    "teamVectorizer.fit(sequenceData['team'])\n",
    "vectorizedTeams = teamVectorizer.transform(sequenceData['team']).toarray()\n",
    "\n",
    "# List of teams in the correct order according to its position on the vectorized array\n",
    "teams = [action[0] for action in sorted(teamVectorizer.vocabulary_.items())]\n"
   ]
  },
  {
   "cell_type": "code",
   "execution_count": null,
   "metadata": {
    "pycharm": {
     "is_executing": true
    }
   },
   "outputs": [],
   "source": [
    "# Adding in the vectorized columns\n",
    "for team in range(0,len(teams)):\n",
    "    sequenceData.insert(column=teams[team], value=vectorizedTeams[:,team], loc=len(sequenceData.columns))"
   ]
  },
  {
   "cell_type": "code",
   "execution_count": null,
   "metadata": {
    "pycharm": {
     "is_executing": true
    }
   },
   "outputs": [],
   "source": [
    "# # List of teams in the correct order according to its position on the vectorized array\n",
    "# teams = [action[0] for action in sorted(teamVectorizer.vocabulary_.items())]\n",
    "\n",
    "# Adding the vectorized events onto the sequence data\n",
    "# sequenceData = pd.concat([sequenceData,\n",
    "#                           pd.DataFrame(data=vectorizedTeams,\n",
    "#                                        columns=teams)],axis=1)\n",
    "\n",
    "# Dropping event as it is no longer needed\n",
    "sequenceData = sequenceData.drop(['team'],axis=1)"
   ]
  },
  {
   "cell_type": "code",
   "execution_count": null,
   "metadata": {
    "pycharm": {
     "is_executing": true
    }
   },
   "outputs": [],
   "source": [
    "colsTransformed = ['goalDiff', \n",
    "              'manpowerDiff',\n",
    "          'periodNum',\n",
    "          'secondsElapsed', \n",
    "          'xCoord', \n",
    "          'yCoord']"
   ]
  },
  {
   "cell_type": "code",
   "execution_count": null,
   "metadata": {
    "pycharm": {
     "is_executing": true
    }
   },
   "outputs": [],
   "source": [
    "scaler = preprocessing.StandardScaler().fit(sequenceData[colsTransformed].values)"
   ]
  },
  {
   "cell_type": "code",
   "execution_count": null,
   "metadata": {
    "pycharm": {
     "is_executing": true
    }
   },
   "outputs": [],
   "source": [
    "scaledData = scaler.transform(sequenceData[colsTransformed].values)"
   ]
  },
  {
   "cell_type": "code",
   "execution_count": null,
   "metadata": {
    "pycharm": {
     "is_executing": true
    }
   },
   "outputs": [],
   "source": [
    "for i in range(0,len(colsTransformed)):\n",
    "    sequenceData[colsTransformed[i]] = scaledData[:,i]"
   ]
  },
  {
   "cell_type": "code",
   "execution_count": null,
   "metadata": {
    "pycharm": {
     "is_executing": true
    }
   },
   "outputs": [],
   "source": [
    "# Defining a sequence data object\n",
    "sequenceDataTMinusOne = sequenceData.drop(['goalDiff', 'manpowerDiff', 'periodNum'],axis=1).copy(deep=True)\n",
    "\n",
    "# Incrementing the eventnumber to use to join below\n",
    "sequenceDataTMinusOne['eventNum'] -= 1"
   ]
  },
  {
   "cell_type": "code",
   "execution_count": null,
   "metadata": {
    "pycharm": {
     "is_executing": true
    }
   },
   "outputs": [],
   "source": [
    "# Merging the time t and t+1 datasets\n",
    "sequenceDataComplete = pd.merge(left=sequenceData, \n",
    "         right=sequenceDataTMinusOne, \n",
    "         how='left',\n",
    "         left_on=['gameID', 'sequenceNum', 'eventNum'],\n",
    "         right_on=['gameID', 'sequenceNum', 'eventNum'],\n",
    "        suffixes=('','_TMinusOne'))"
   ]
  },
  {
   "cell_type": "code",
   "execution_count": null,
   "metadata": {
    "pycharm": {
     "is_executing": true
    }
   },
   "outputs": [],
   "source": [
    "columns = ['gameID', \n",
    "          'sequenceNum',\n",
    "          'eventNum', \n",
    "          'goalDiff', \n",
    "          'manpowerDiff',\n",
    "          'periodNum',\n",
    "          'secondsElapsed', \n",
    "          'xCoord', \n",
    "          'yCoord', \n",
    "          'blocked_shot',\n",
    "          'faceoff', \n",
    "          'giveaway', \n",
    "          'goal', \n",
    "          'assist',\n",
    "          'hit',\n",
    "          'missed_shot',\n",
    "          'penalty', \n",
    "          'shot',\n",
    "          'takeaway',\n",
    "          'away', \n",
    "          'home',\n",
    "          'playerID',\n",
    "          'secondsElapsed_TMinusOne',\n",
    "          'xCoord_TMinusOne',\n",
    "          'yCoord_TMinusOne', \n",
    "          'blocked_shot_TMinusOne',\n",
    "          'faceoff_TMinusOne', \n",
    "          'giveaway_TMinusOne', \n",
    "          'goal_TMinusOne',\n",
    "          'assist_TMinusOne',\n",
    "          'hit_TMinusOne', \n",
    "          'missed_shot_TMinusOne',\n",
    "          'penalty_TMinusOne',\n",
    "          'shot_TMinusOne', \n",
    "          'takeaway_TMinusOne', \n",
    "          'away_TMinusOne',\n",
    "          'home_TMinusOne']"
   ]
  },
  {
   "cell_type": "code",
   "execution_count": null,
   "metadata": {
    "pycharm": {
     "is_executing": true
    }
   },
   "outputs": [],
   "source": [
    "# Adding in any missing columns (setting them to be 0)\n",
    "for col in columns:\n",
    "    if col not in sequenceDataComplete.columns:\n",
    "        sequenceDataComplete[col] = np.zeros((len(sequenceDataComplete)))"
   ]
  },
  {
   "cell_type": "code",
   "execution_count": null,
   "metadata": {
    "pycharm": {
     "is_executing": true
    }
   },
   "outputs": [],
   "source": [
    "# Re-ordering columns\n",
    "sequenceDataComplete = sequenceDataComplete[columns]"
   ]
  },
  {
   "cell_type": "code",
   "execution_count": null,
   "metadata": {
    "pycharm": {
     "is_executing": true
    }
   },
   "outputs": [],
   "source": [
    "sequenceDataComplete.columns"
   ]
  },
  {
   "cell_type": "markdown",
   "metadata": {},
   "source": [
    "# Model Creation\n",
    "## Model Definition"
   ]
  },
  {
   "cell_type": "code",
   "execution_count": null,
   "metadata": {
    "pycharm": {
     "is_executing": true
    }
   },
   "outputs": [],
   "source": [
    "# determine the supported device\n",
    "def get_device():\n",
    "    if torch.cuda.is_available():\n",
    "        device = torch.device('cuda:0')\n",
    "    else:\n",
    "        device = torch.device('cpu') # don't have GPU \n",
    "    return device\n",
    "\n",
    "# convert a df to tensor to be used in pytorch\n",
    "def df_to_tensor(df):\n",
    "    device = get_device()\n",
    "    data = torch.from_numpy(df.values)\n",
    "    data = data.type(torch.float64)\n",
    "    data = data.to(device)\n",
    "    return data\n",
    "\n",
    "def custom_loss(modelInput, model, i):\n",
    "    t = modelInput[0:i+1,:,3:21]\n",
    "    tPlusOne = modelInput[0:i+1,:,[3,4,5,22,23,24,25,26,27,28,29,30,31,32,33,34,35,36]]\n",
    "    \n",
    "    # If goal scored by home team (if event is a goal, and team is home)\n",
    "    if (modelInput[i,:,[12]] == 1) & (modelInput[i,:,[20]] == 1):\n",
    "        R = torch.tensor([1,0,0]).to(get_device())\n",
    "        \n",
    "    # If goal scored by away team (if event is a goal, and team is away) \n",
    "    elif (modelInput[i,:,[12]] == 1) & (modelInput[i,:,[19]] == 1):\n",
    "        R = torch.tensor([0,1,0]).to(get_device())\n",
    "        \n",
    "    # No one scored\n",
    "    else:\n",
    "        R = torch.tensor([0,0,1]).to(get_device())\n",
    "    \n",
    "    # If there was no previous action\n",
    "#     if torch.sum(torch.isnan(tPlusOne)) > 0:\n",
    "#         loss = R + model(t)\n",
    "#     else: \n",
    "#         loss = R + model(tPlusOne) - model(t) \n",
    "        \n",
    "    if torch.sum(torch.isnan(tPlusOne)) > 0:\n",
    "        loss = R - model(t)\n",
    "    else: \n",
    "        loss = R + model(tPlusOne) - model(t) \n",
    "    \n",
    "    \n",
    "    return torch.mean(torch.square(loss))"
   ]
  },
  {
   "cell_type": "code",
   "execution_count": null,
   "metadata": {
    "pycharm": {
     "is_executing": true
    }
   },
   "outputs": [],
   "source": [
    "class DQN(nn.Module):\n",
    "    def __init__(self):\n",
    "        super().__init__()\n",
    "        self.inputSize = 18\n",
    "        self.numLSTMNodes = 1000\n",
    "        self.numLSTMLayers = 1\n",
    "        \n",
    "        self.lstmLayer = nn.LSTM(input_size=self.inputSize, \n",
    "                                  hidden_size=self.numLSTMNodes,\n",
    "                                  num_layers=self.numLSTMLayers, \n",
    "                                  bias=True, \n",
    "                                  dropout=0, \n",
    "                                  batch_first=True).double()\n",
    "        self.hidden1 = nn.Linear(in_features=self.numLSTMNodes, out_features=1000).double()   \n",
    "        self.hidden2 = nn.Linear(in_features=1000, out_features=1000).double()   \n",
    "        self.hidden3 = nn.Linear(in_features=1000, out_features=1000).double()   \n",
    "        self.hidden4 = nn.Linear(in_features=1000, out_features=1000).double()\n",
    "        self.output = nn.Linear(in_features=1000, out_features=3).double()\n",
    "        \n",
    "    def forward(self, modelInput):\n",
    "        hidden = (\n",
    "                    torch.cuda.FloatTensor(self.numLSTMLayers , 1, self.numLSTMNodes).normal_().double() ,\n",
    "                    torch.cuda.FloatTensor(self.numLSTMLayers , 1, self.numLSTMNodes).normal_().double() \n",
    "                  )\n",
    "        for sequence in modelInput:\n",
    "            out, hidden = self.lstmLayer(sequence.view(1,1,-1), hidden)\n",
    "        t = F.relu(out)\n",
    "        t = F.relu(self.hidden1(t))\n",
    "        t = F.relu(self.hidden2(t))\n",
    "        t = F.relu(self.hidden3(t))\n",
    "        t = F.relu(self.hidden4(t))\n",
    "        t = F.softmax(self.output(t),dim=2)\n",
    "        return t   "
   ]
  },
  {
   "cell_type": "code",
   "execution_count": null,
   "metadata": {
    "pycharm": {
     "is_executing": true
    }
   },
   "outputs": [],
   "source": [
    "# convert a df to tensor to be used in pytorch\n",
    "def df_to_tensor(df):\n",
    "    device = get_device()\n",
    "    data = torch.from_numpy(df.values)\n",
    "    data = data.type(torch.float64)\n",
    "    data = data.to(device)\n",
    "    return data"
   ]
  },
  {
   "cell_type": "code",
   "execution_count": null,
   "metadata": {
    "pycharm": {
     "is_executing": true
    }
   },
   "outputs": [],
   "source": [
    "# Moving the df to GPU\n",
    "dfGPU = df_to_tensor(sequenceDataComplete)"
   ]
  },
  {
   "cell_type": "code",
   "execution_count": null,
   "metadata": {
    "pycharm": {
     "is_executing": true
    }
   },
   "outputs": [],
   "source": [
    "# Reshaping\n",
    "# (batch size, sequence length, num features)\n",
    "dfGPU = dfGPU.reshape((-1,1,37))"
   ]
  },
  {
   "cell_type": "markdown",
   "metadata": {},
   "source": [
    "## Model Training"
   ]
  },
  {
   "cell_type": "code",
   "execution_count": null,
   "metadata": {
    "pycharm": {
     "is_executing": true
    }
   },
   "outputs": [],
   "source": [
    "network = DQN()\n",
    "device = get_device()\n",
    "network.to(device)\n",
    "\n",
    "network = network.type(torch.float64)\n",
    "\n",
    "optimizer = optim.Adam(network.parameters(), lr=0.0001)\n",
    "    \n",
    "# Each Episode\n",
    "for gameID in sequenceDataComplete['gameID'].unique():\n",
    "    print(gameID)\n",
    "    gameDataGPU = dfGPU[dfGPU[:,:,0][:,0] == gameID,:,:]\n",
    "    gameData = sequenceDataComplete[sequenceDataComplete['gameID'] == gameID]\n",
    "    for sequenceNum in gameData['sequenceNum'].unique():\n",
    "\n",
    "       \n",
    "        modelInput = gameDataGPU[gameDataGPU[:,:,1][:,0] == sequenceNum,:,:]\n",
    "            \n",
    "        i = 0\n",
    "        while i <  modelInput.shape[0]:\n",
    "            # calculate the loss\n",
    "            loss = custom_loss(modelInput, network, i)\n",
    "        \n",
    "            i += 1\n",
    "\n",
    "#             if sequenceNum > 0:\n",
    "#                 break\n",
    "#             print('**********************')\n",
    "\n",
    "\n",
    "            # zero gradients\n",
    "            optimizer.zero_grad()\n",
    "\n",
    "            # perform backprop and update weights\n",
    "            loss.backward()\n",
    "            optimizer.step()\n",
    "\n",
    "        \n",
    "\n",
    "        "
   ]
  },
  {
   "cell_type": "markdown",
   "metadata": {},
   "source": [
    "## Compiling Results"
   ]
  },
  {
   "cell_type": "code",
   "execution_count": null,
   "metadata": {
    "pycharm": {
     "is_executing": true
    }
   },
   "outputs": [],
   "source": [
    "GIM = []\n",
    "# Each Episode\n",
    "for gameID in sequenceDataComplete['gameID'].unique():\n",
    "    print(gameID)\n",
    "    gameDataGPU = dfGPU[dfGPU[:,:,0][:,0] == gameID,:,:]\n",
    "    gameData = sequenceDataComplete[sequenceDataComplete['gameID'] == gameID]\n",
    "    for sequenceNum in gameData['sequenceNum'].unique():\n",
    "        modelInput = gameDataGPU[gameDataGPU[:,:,1][:,0] == sequenceNum,:,:]\n",
    "        i = 0\n",
    "        while i <  modelInput.shape[0]:\n",
    "            if  i == 0:\n",
    "                Q_t = network(modelInput[0:i+1,:,3:21])\n",
    "                gim_t = Q_t\n",
    "#                 print(modelInput[0:i+1,:,3:20])\n",
    "#                 print(Q_t)\n",
    "            else:\n",
    "                Q_tMinusOne = Q_t\n",
    "                Q_t = network(modelInput[0:i+1,:,3:21])\n",
    "#                 gim_t = Q_t - Q_tMinusOne\n",
    "                gim_t = Q_t\n",
    "            i += 1\n",
    "            GIM.append([int(modelInput[-1,0,0].item()),# GameID\n",
    "                        modelInput[-1,0,21].item(), #PlayerID\n",
    "                        modelInput[-1,0,19].item(), # Away\n",
    "                        modelInput[-1,0,20].item(), # Home\n",
    "                        gim_t[0,0,0].item(), # Home Probability\n",
    "                        gim_t[0,0,1].item(), # Away Probability\n",
    "                        gim_t[0,0,2].item()]) # Neither Probability\n",
    "            \n",
    "#             break\n",
    "#         break\n",
    "#     break\n",
    "\n",
    "       \n",
    "results = pd.DataFrame(GIM, columns=['gameID', \n",
    "                                     'playerID', \n",
    "                                     'awayTeam',\n",
    "                                     'homeTeam', \n",
    "                                     'homeProbability',\n",
    "                                     'awayProbability',\n",
    "                                     'neitherProbability'])"
   ]
  },
  {
   "cell_type": "code",
   "execution_count": null,
   "metadata": {
    "pycharm": {
     "is_executing": true
    }
   },
   "outputs": [],
   "source": [
    "torch.save(network.state_dict(),'model_all_games.pt')"
   ]
  },
  {
   "cell_type": "code",
   "execution_count": null,
   "metadata": {
    "pycharm": {
     "is_executing": true
    }
   },
   "outputs": [],
   "source": [
    "results['value'] = np.where(results['awayTeam'] == 1, results['awayProbability'], results['homeProbability'])"
   ]
  },
  {
   "cell_type": "code",
   "execution_count": null,
   "metadata": {
    "pycharm": {
     "is_executing": true
    }
   },
   "outputs": [],
   "source": [
    "results.to_csv('deep_rl_results_all_games.csv')"
   ]
  },
  {
   "cell_type": "code",
   "execution_count": null,
   "metadata": {
    "pycharm": {
     "is_executing": true
    }
   },
   "outputs": [],
   "source": [
    "resultsComplete = pd.merge(results, seasons[['seasonID','gameID']], left_on=['gameID'],right_on=['gameID'])"
   ]
  },
  {
   "cell_type": "code",
   "execution_count": null,
   "metadata": {
    "pycharm": {
     "is_executing": true
    }
   },
   "outputs": [],
   "source": [
    "resultsComplete = resultsComplete[['seasonID','playerID','value']].groupby(['seasonID','playerID']).sum('value').reset_index().sort_values('value',ascending=False)"
   ]
  },
  {
   "cell_type": "code",
   "execution_count": null,
   "metadata": {
    "pycharm": {
     "is_executing": true
    }
   },
   "outputs": [],
   "source": [
    "players = pd.read_sql_query(\"select playerID, firstName, lastName from players\", connection)"
   ]
  },
  {
   "cell_type": "code",
   "execution_count": null,
   "metadata": {
    "pycharm": {
     "is_executing": true
    }
   },
   "outputs": [],
   "source": [
    "pd.merge(resultsComplete, players,on='playerID').sort_values('value',ascending=False).to_csv('deep_rl_results_all_games_aggregated.csv')"
   ]
  },
  {
   "cell_type": "code",
   "execution_count": null,
   "metadata": {
    "pycharm": {
     "is_executing": true
    }
   },
   "outputs": [],
   "source": []
  },
  {
   "cell_type": "code",
   "execution_count": null,
   "metadata": {
    "pycharm": {
     "is_executing": true
    }
   },
   "outputs": [],
   "source": []
  },
  {
   "cell_type": "code",
   "execution_count": null,
   "metadata": {
    "pycharm": {
     "is_executing": true
    }
   },
   "outputs": [],
   "source": []
  }
 ],
 "metadata": {
  "kernelspec": {
   "display_name": "Python 3",
   "language": "python",
   "name": "python3"
  },
  "language_info": {
   "codemirror_mode": {
    "name": "ipython",
    "version": 3
   },
   "file_extension": ".py",
   "mimetype": "text/x-python",
   "name": "python",
   "nbconvert_exporter": "python",
   "pygments_lexer": "ipython3",
   "version": "3.8.5"
  }
 },
 "nbformat": 4,
 "nbformat_minor": 1
}
