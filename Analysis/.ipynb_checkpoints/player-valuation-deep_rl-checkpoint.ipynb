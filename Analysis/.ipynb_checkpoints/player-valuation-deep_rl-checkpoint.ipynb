{
 "cells": [
  {
   "cell_type": "code",
   "execution_count": 11,
   "metadata": {
    "pycharm": {
     "is_executing": true
    }
   },
   "outputs": [],
   "source": [
    "import pandas as pd\n",
    "from SQLCode import DatabaseConnection\n",
    "from SQLCode import DatabaseCredentials as DBC\n",
    "import numpy as np\n",
    "\n",
    "\n",
    "from sklearn.feature_extraction.text import CountVectorizer\n",
    "\n",
    "from torch.utils.data import DataLoader\n",
    "import torch.nn as nn\n",
    "import torch.nn.functional as F\n",
    "import torch.optim as optim\n",
    "import torch\n",
    "\n",
    "from sklearn import preprocessing"
   ]
  },
  {
   "cell_type": "code",
   "execution_count": 13,
   "metadata": {
    "pycharm": {
     "is_executing": true
    }
   },
   "outputs": [],
   "source": [
    "# Opening connection\n",
    "creds = DBC.DataBaseCredentials()\n",
    "conn = DatabaseConnection.sql_connection(creds.server, creds.database, creds.user, creds.password)\n",
    "connection = conn.open()\n",
    "cursor = connection.cursor()"
   ]
  },
  {
   "cell_type": "code",
   "execution_count": 15,
   "metadata": {
    "pycharm": {
     "is_executing": true
    }
   },
   "outputs": [
    {
     "name": "stderr",
     "output_type": "stream",
     "text": [
      "ERROR:root:Internal Python error in the inspect module.\n",
      "Below is the traceback from this internal error.\n",
      "\n"
     ]
    },
    {
     "name": "stdout",
     "output_type": "stream",
     "text": [
      "Traceback (most recent call last):\n",
      "  File \"C:\\Users\\Aidan\\anaconda3\\envs\\tf\\lib\\site-packages\\IPython\\core\\interactiveshell.py\", line 3418, in run_code\n",
      "    exec(code_obj, self.user_global_ns, self.user_ns)\n",
      "  File \"<ipython-input-15-9dd36b533787>\", line 1, in <module>\n",
      "    liveFeed = pd.read_sql_query(\"select * from live_feed\", connection)\n",
      "  File \"C:\\Users\\Aidan\\anaconda3\\envs\\tf\\lib\\site-packages\\pandas\\io\\sql.py\", line 377, in read_sql_query\n",
      "    return pandas_sql.read_query(\n",
      "  File \"C:\\Users\\Aidan\\anaconda3\\envs\\tf\\lib\\site-packages\\pandas\\io\\sql.py\", line 1756, in read_query\n",
      "    data = self._fetchall_as_list(cursor)\n",
      "  File \"C:\\Users\\Aidan\\anaconda3\\envs\\tf\\lib\\site-packages\\pandas\\io\\sql.py\", line 1769, in _fetchall_as_list\n",
      "    result = cur.fetchall()\n",
      "  File \"C:\\Users\\Aidan\\anaconda3\\envs\\tf\\lib\\site-packages\\mysql\\connector\\cursor.py\", line 909, in fetchall\n",
      "    (rows, eof) = self._connection.get_rows()\n",
      "  File \"C:\\Users\\Aidan\\anaconda3\\envs\\tf\\lib\\site-packages\\mysql\\connector\\connection.py\", line 641, in get_rows\n",
      "    rows = [row_to_python(row, self._columns_desc) for row in rows]\n",
      "  File \"C:\\Users\\Aidan\\anaconda3\\envs\\tf\\lib\\site-packages\\mysql\\connector\\connection.py\", line 641, in <listcomp>\n",
      "    rows = [row_to_python(row, self._columns_desc) for row in rows]\n",
      "  File \"C:\\Users\\Aidan\\anaconda3\\envs\\tf\\lib\\site-packages\\mysql\\connector\\conversion.py\", line 394, in row_to_python\n",
      "    field_type = field[1]\n",
      "KeyboardInterrupt\n",
      "\n",
      "During handling of the above exception, another exception occurred:\n",
      "\n",
      "Traceback (most recent call last):\n",
      "  File \"C:\\Users\\Aidan\\anaconda3\\envs\\tf\\lib\\site-packages\\IPython\\core\\interactiveshell.py\", line 2045, in showtraceback\n",
      "    stb = value._render_traceback_()\n",
      "AttributeError: 'KeyboardInterrupt' object has no attribute '_render_traceback_'\n",
      "\n",
      "During handling of the above exception, another exception occurred:\n",
      "\n",
      "Traceback (most recent call last):\n",
      "  File \"C:\\Users\\Aidan\\anaconda3\\envs\\tf\\lib\\site-packages\\IPython\\core\\ultratb.py\", line 1170, in get_records\n",
      "    return _fixed_getinnerframes(etb, number_of_lines_of_context, tb_offset)\n",
      "  File \"C:\\Users\\Aidan\\anaconda3\\envs\\tf\\lib\\site-packages\\IPython\\core\\ultratb.py\", line 316, in wrapped\n",
      "    return f(*args, **kwargs)\n",
      "  File \"C:\\Users\\Aidan\\anaconda3\\envs\\tf\\lib\\site-packages\\IPython\\core\\ultratb.py\", line 350, in _fixed_getinnerframes\n",
      "    records = fix_frame_records_filenames(inspect.getinnerframes(etb, context))\n",
      "  File \"C:\\Users\\Aidan\\anaconda3\\envs\\tf\\lib\\inspect.py\", line 1503, in getinnerframes\n",
      "    frameinfo = (tb.tb_frame,) + getframeinfo(tb, context)\n",
      "  File \"C:\\Users\\Aidan\\anaconda3\\envs\\tf\\lib\\inspect.py\", line 1461, in getframeinfo\n",
      "    filename = getsourcefile(frame) or getfile(frame)\n",
      "  File \"C:\\Users\\Aidan\\anaconda3\\envs\\tf\\lib\\inspect.py\", line 708, in getsourcefile\n",
      "    if getattr(getmodule(object, filename), '__loader__', None) is not None:\n",
      "  File \"C:\\Users\\Aidan\\anaconda3\\envs\\tf\\lib\\inspect.py\", line 754, in getmodule\n",
      "    os.path.realpath(f)] = module.__name__\n",
      "  File \"C:\\Users\\Aidan\\anaconda3\\envs\\tf\\lib\\ntpath.py\", line 664, in realpath\n",
      "    if _getfinalpathname(spath) == path:\n",
      "KeyboardInterrupt\n"
     ]
    },
    {
     "ename": "TypeError",
     "evalue": "object of type 'NoneType' has no len()",
     "output_type": "error",
     "traceback": [
      "\u001b[1;31m---------------------------------------------------------------------------\u001b[0m",
      "\u001b[1;31mKeyboardInterrupt\u001b[0m                         Traceback (most recent call last)",
      "    \u001b[1;31m[... skipping hidden 1 frame]\u001b[0m\n",
      "\u001b[1;32m<ipython-input-15-9dd36b533787>\u001b[0m in \u001b[0;36m<module>\u001b[1;34m\u001b[0m\n\u001b[1;32m----> 1\u001b[1;33m \u001b[0mliveFeed\u001b[0m \u001b[1;33m=\u001b[0m \u001b[0mpd\u001b[0m\u001b[1;33m.\u001b[0m\u001b[0mread_sql_query\u001b[0m\u001b[1;33m(\u001b[0m\u001b[1;34m\"select * from live_feed\"\u001b[0m\u001b[1;33m,\u001b[0m \u001b[0mconnection\u001b[0m\u001b[1;33m)\u001b[0m\u001b[1;33m\u001b[0m\u001b[1;33m\u001b[0m\u001b[0m\n\u001b[0m\u001b[0;32m      2\u001b[0m \u001b[1;31m# liveFeed = pd.read_sql_query(\"select * from live_feed where gameID >= 2020020001\", connection)\u001b[0m\u001b[1;33m\u001b[0m\u001b[1;33m\u001b[0m\u001b[1;33m\u001b[0m\u001b[0m\n",
      "\u001b[1;32m~\\anaconda3\\envs\\tf\\lib\\site-packages\\pandas\\io\\sql.py\u001b[0m in \u001b[0;36mread_sql_query\u001b[1;34m(sql, con, index_col, coerce_float, params, parse_dates, chunksize)\u001b[0m\n\u001b[0;32m    376\u001b[0m     \u001b[0mpandas_sql\u001b[0m \u001b[1;33m=\u001b[0m \u001b[0mpandasSQL_builder\u001b[0m\u001b[1;33m(\u001b[0m\u001b[0mcon\u001b[0m\u001b[1;33m)\u001b[0m\u001b[1;33m\u001b[0m\u001b[1;33m\u001b[0m\u001b[0m\n\u001b[1;32m--> 377\u001b[1;33m     return pandas_sql.read_query(\n\u001b[0m\u001b[0;32m    378\u001b[0m         \u001b[0msql\u001b[0m\u001b[1;33m,\u001b[0m\u001b[1;33m\u001b[0m\u001b[1;33m\u001b[0m\u001b[0m\n",
      "\u001b[1;32m~\\anaconda3\\envs\\tf\\lib\\site-packages\\pandas\\io\\sql.py\u001b[0m in \u001b[0;36mread_query\u001b[1;34m(self, sql, index_col, coerce_float, params, parse_dates, chunksize)\u001b[0m\n\u001b[0;32m   1755\u001b[0m         \u001b[1;32melse\u001b[0m\u001b[1;33m:\u001b[0m\u001b[1;33m\u001b[0m\u001b[1;33m\u001b[0m\u001b[0m\n\u001b[1;32m-> 1756\u001b[1;33m             \u001b[0mdata\u001b[0m \u001b[1;33m=\u001b[0m \u001b[0mself\u001b[0m\u001b[1;33m.\u001b[0m\u001b[0m_fetchall_as_list\u001b[0m\u001b[1;33m(\u001b[0m\u001b[0mcursor\u001b[0m\u001b[1;33m)\u001b[0m\u001b[1;33m\u001b[0m\u001b[1;33m\u001b[0m\u001b[0m\n\u001b[0m\u001b[0;32m   1757\u001b[0m             \u001b[0mcursor\u001b[0m\u001b[1;33m.\u001b[0m\u001b[0mclose\u001b[0m\u001b[1;33m(\u001b[0m\u001b[1;33m)\u001b[0m\u001b[1;33m\u001b[0m\u001b[1;33m\u001b[0m\u001b[0m\n",
      "\u001b[1;32m~\\anaconda3\\envs\\tf\\lib\\site-packages\\pandas\\io\\sql.py\u001b[0m in \u001b[0;36m_fetchall_as_list\u001b[1;34m(self, cur)\u001b[0m\n\u001b[0;32m   1768\u001b[0m     \u001b[1;32mdef\u001b[0m \u001b[0m_fetchall_as_list\u001b[0m\u001b[1;33m(\u001b[0m\u001b[0mself\u001b[0m\u001b[1;33m,\u001b[0m \u001b[0mcur\u001b[0m\u001b[1;33m)\u001b[0m\u001b[1;33m:\u001b[0m\u001b[1;33m\u001b[0m\u001b[1;33m\u001b[0m\u001b[0m\n\u001b[1;32m-> 1769\u001b[1;33m         \u001b[0mresult\u001b[0m \u001b[1;33m=\u001b[0m \u001b[0mcur\u001b[0m\u001b[1;33m.\u001b[0m\u001b[0mfetchall\u001b[0m\u001b[1;33m(\u001b[0m\u001b[1;33m)\u001b[0m\u001b[1;33m\u001b[0m\u001b[1;33m\u001b[0m\u001b[0m\n\u001b[0m\u001b[0;32m   1770\u001b[0m         \u001b[1;32mif\u001b[0m \u001b[1;32mnot\u001b[0m \u001b[0misinstance\u001b[0m\u001b[1;33m(\u001b[0m\u001b[0mresult\u001b[0m\u001b[1;33m,\u001b[0m \u001b[0mlist\u001b[0m\u001b[1;33m)\u001b[0m\u001b[1;33m:\u001b[0m\u001b[1;33m\u001b[0m\u001b[1;33m\u001b[0m\u001b[0m\n",
      "\u001b[1;32m~\\anaconda3\\envs\\tf\\lib\\site-packages\\mysql\\connector\\cursor.py\u001b[0m in \u001b[0;36mfetchall\u001b[1;34m(self)\u001b[0m\n\u001b[0;32m    908\u001b[0m \u001b[1;33m\u001b[0m\u001b[0m\n\u001b[1;32m--> 909\u001b[1;33m         \u001b[1;33m(\u001b[0m\u001b[0mrows\u001b[0m\u001b[1;33m,\u001b[0m \u001b[0meof\u001b[0m\u001b[1;33m)\u001b[0m \u001b[1;33m=\u001b[0m \u001b[0mself\u001b[0m\u001b[1;33m.\u001b[0m\u001b[0m_connection\u001b[0m\u001b[1;33m.\u001b[0m\u001b[0mget_rows\u001b[0m\u001b[1;33m(\u001b[0m\u001b[1;33m)\u001b[0m\u001b[1;33m\u001b[0m\u001b[1;33m\u001b[0m\u001b[0m\n\u001b[0m\u001b[0;32m    910\u001b[0m         \u001b[1;32mif\u001b[0m \u001b[0mself\u001b[0m\u001b[1;33m.\u001b[0m\u001b[0m_nextrow\u001b[0m\u001b[1;33m[\u001b[0m\u001b[1;36m0\u001b[0m\u001b[1;33m]\u001b[0m\u001b[1;33m:\u001b[0m\u001b[1;33m\u001b[0m\u001b[1;33m\u001b[0m\u001b[0m\n",
      "\u001b[1;32m~\\anaconda3\\envs\\tf\\lib\\site-packages\\mysql\\connector\\connection.py\u001b[0m in \u001b[0;36mget_rows\u001b[1;34m(self, count, binary, columns, raw, prep_stmt)\u001b[0m\n\u001b[0;32m    640\u001b[0m             \u001b[0mrow_to_python\u001b[0m \u001b[1;33m=\u001b[0m \u001b[0mself\u001b[0m\u001b[1;33m.\u001b[0m\u001b[0mconverter\u001b[0m\u001b[1;33m.\u001b[0m\u001b[0mrow_to_python\u001b[0m\u001b[1;33m\u001b[0m\u001b[1;33m\u001b[0m\u001b[0m\n\u001b[1;32m--> 641\u001b[1;33m             \u001b[0mrows\u001b[0m \u001b[1;33m=\u001b[0m \u001b[1;33m[\u001b[0m\u001b[0mrow_to_python\u001b[0m\u001b[1;33m(\u001b[0m\u001b[0mrow\u001b[0m\u001b[1;33m,\u001b[0m \u001b[0mself\u001b[0m\u001b[1;33m.\u001b[0m\u001b[0m_columns_desc\u001b[0m\u001b[1;33m)\u001b[0m \u001b[1;32mfor\u001b[0m \u001b[0mrow\u001b[0m \u001b[1;32min\u001b[0m \u001b[0mrows\u001b[0m\u001b[1;33m]\u001b[0m\u001b[1;33m\u001b[0m\u001b[1;33m\u001b[0m\u001b[0m\n\u001b[0m\u001b[0;32m    642\u001b[0m \u001b[1;33m\u001b[0m\u001b[0m\n",
      "\u001b[1;32m~\\anaconda3\\envs\\tf\\lib\\site-packages\\mysql\\connector\\connection.py\u001b[0m in \u001b[0;36m<listcomp>\u001b[1;34m(.0)\u001b[0m\n\u001b[0;32m    640\u001b[0m             \u001b[0mrow_to_python\u001b[0m \u001b[1;33m=\u001b[0m \u001b[0mself\u001b[0m\u001b[1;33m.\u001b[0m\u001b[0mconverter\u001b[0m\u001b[1;33m.\u001b[0m\u001b[0mrow_to_python\u001b[0m\u001b[1;33m\u001b[0m\u001b[1;33m\u001b[0m\u001b[0m\n\u001b[1;32m--> 641\u001b[1;33m             \u001b[0mrows\u001b[0m \u001b[1;33m=\u001b[0m \u001b[1;33m[\u001b[0m\u001b[0mrow_to_python\u001b[0m\u001b[1;33m(\u001b[0m\u001b[0mrow\u001b[0m\u001b[1;33m,\u001b[0m \u001b[0mself\u001b[0m\u001b[1;33m.\u001b[0m\u001b[0m_columns_desc\u001b[0m\u001b[1;33m)\u001b[0m \u001b[1;32mfor\u001b[0m \u001b[0mrow\u001b[0m \u001b[1;32min\u001b[0m \u001b[0mrows\u001b[0m\u001b[1;33m]\u001b[0m\u001b[1;33m\u001b[0m\u001b[1;33m\u001b[0m\u001b[0m\n\u001b[0m\u001b[0;32m    642\u001b[0m \u001b[1;33m\u001b[0m\u001b[0m\n",
      "\u001b[1;32m~\\anaconda3\\envs\\tf\\lib\\site-packages\\mysql\\connector\\conversion.py\u001b[0m in \u001b[0;36mrow_to_python\u001b[1;34m(self, row, fields)\u001b[0m\n\u001b[0;32m    393\u001b[0m         \u001b[1;32mfor\u001b[0m \u001b[0mfield\u001b[0m \u001b[1;32min\u001b[0m \u001b[0mfields\u001b[0m\u001b[1;33m:\u001b[0m\u001b[1;33m\u001b[0m\u001b[1;33m\u001b[0m\u001b[0m\n\u001b[1;32m--> 394\u001b[1;33m             \u001b[0mfield_type\u001b[0m \u001b[1;33m=\u001b[0m \u001b[0mfield\u001b[0m\u001b[1;33m[\u001b[0m\u001b[1;36m1\u001b[0m\u001b[1;33m]\u001b[0m\u001b[1;33m\u001b[0m\u001b[1;33m\u001b[0m\u001b[0m\n\u001b[0m\u001b[0;32m    395\u001b[0m \u001b[1;33m\u001b[0m\u001b[0m\n",
      "\u001b[1;31mKeyboardInterrupt\u001b[0m: ",
      "\nDuring handling of the above exception, another exception occurred:\n",
      "\u001b[1;31mAttributeError\u001b[0m                            Traceback (most recent call last)",
      "\u001b[1;32m~\\anaconda3\\envs\\tf\\lib\\site-packages\\IPython\\core\\interactiveshell.py\u001b[0m in \u001b[0;36mshowtraceback\u001b[1;34m(self, exc_tuple, filename, tb_offset, exception_only, running_compiled_code)\u001b[0m\n\u001b[0;32m   2044\u001b[0m                         \u001b[1;31m# in the engines. This should return a list of strings.\u001b[0m\u001b[1;33m\u001b[0m\u001b[1;33m\u001b[0m\u001b[1;33m\u001b[0m\u001b[0m\n\u001b[1;32m-> 2045\u001b[1;33m                         \u001b[0mstb\u001b[0m \u001b[1;33m=\u001b[0m \u001b[0mvalue\u001b[0m\u001b[1;33m.\u001b[0m\u001b[0m_render_traceback_\u001b[0m\u001b[1;33m(\u001b[0m\u001b[1;33m)\u001b[0m\u001b[1;33m\u001b[0m\u001b[1;33m\u001b[0m\u001b[0m\n\u001b[0m\u001b[0;32m   2046\u001b[0m                     \u001b[1;32mexcept\u001b[0m \u001b[0mException\u001b[0m\u001b[1;33m:\u001b[0m\u001b[1;33m\u001b[0m\u001b[1;33m\u001b[0m\u001b[0m\n",
      "\u001b[1;31mAttributeError\u001b[0m: 'KeyboardInterrupt' object has no attribute '_render_traceback_'",
      "\nDuring handling of the above exception, another exception occurred:\n",
      "\u001b[1;31mTypeError\u001b[0m                                 Traceback (most recent call last)",
      "    \u001b[1;31m[... skipping hidden 1 frame]\u001b[0m\n",
      "\u001b[1;32m~\\anaconda3\\envs\\tf\\lib\\site-packages\\IPython\\core\\interactiveshell.py\u001b[0m in \u001b[0;36mshowtraceback\u001b[1;34m(self, exc_tuple, filename, tb_offset, exception_only, running_compiled_code)\u001b[0m\n\u001b[0;32m   2045\u001b[0m                         \u001b[0mstb\u001b[0m \u001b[1;33m=\u001b[0m \u001b[0mvalue\u001b[0m\u001b[1;33m.\u001b[0m\u001b[0m_render_traceback_\u001b[0m\u001b[1;33m(\u001b[0m\u001b[1;33m)\u001b[0m\u001b[1;33m\u001b[0m\u001b[1;33m\u001b[0m\u001b[0m\n\u001b[0;32m   2046\u001b[0m                     \u001b[1;32mexcept\u001b[0m \u001b[0mException\u001b[0m\u001b[1;33m:\u001b[0m\u001b[1;33m\u001b[0m\u001b[1;33m\u001b[0m\u001b[0m\n\u001b[1;32m-> 2047\u001b[1;33m                         stb = self.InteractiveTB.structured_traceback(etype,\n\u001b[0m\u001b[0;32m   2048\u001b[0m                                             value, tb, tb_offset=tb_offset)\n\u001b[0;32m   2049\u001b[0m \u001b[1;33m\u001b[0m\u001b[0m\n",
      "\u001b[1;32m~\\anaconda3\\envs\\tf\\lib\\site-packages\\IPython\\core\\ultratb.py\u001b[0m in \u001b[0;36mstructured_traceback\u001b[1;34m(self, etype, value, tb, tb_offset, number_of_lines_of_context)\u001b[0m\n\u001b[0;32m   1434\u001b[0m         \u001b[1;32melse\u001b[0m\u001b[1;33m:\u001b[0m\u001b[1;33m\u001b[0m\u001b[1;33m\u001b[0m\u001b[0m\n\u001b[0;32m   1435\u001b[0m             \u001b[0mself\u001b[0m\u001b[1;33m.\u001b[0m\u001b[0mtb\u001b[0m \u001b[1;33m=\u001b[0m \u001b[0mtb\u001b[0m\u001b[1;33m\u001b[0m\u001b[1;33m\u001b[0m\u001b[0m\n\u001b[1;32m-> 1436\u001b[1;33m         return FormattedTB.structured_traceback(\n\u001b[0m\u001b[0;32m   1437\u001b[0m             self, etype, value, tb, tb_offset, number_of_lines_of_context)\n\u001b[0;32m   1438\u001b[0m \u001b[1;33m\u001b[0m\u001b[0m\n",
      "\u001b[1;32m~\\anaconda3\\envs\\tf\\lib\\site-packages\\IPython\\core\\ultratb.py\u001b[0m in \u001b[0;36mstructured_traceback\u001b[1;34m(self, etype, value, tb, tb_offset, number_of_lines_of_context)\u001b[0m\n\u001b[0;32m   1334\u001b[0m         \u001b[1;32mif\u001b[0m \u001b[0mmode\u001b[0m \u001b[1;32min\u001b[0m \u001b[0mself\u001b[0m\u001b[1;33m.\u001b[0m\u001b[0mverbose_modes\u001b[0m\u001b[1;33m:\u001b[0m\u001b[1;33m\u001b[0m\u001b[1;33m\u001b[0m\u001b[0m\n\u001b[0;32m   1335\u001b[0m             \u001b[1;31m# Verbose modes need a full traceback\u001b[0m\u001b[1;33m\u001b[0m\u001b[1;33m\u001b[0m\u001b[1;33m\u001b[0m\u001b[0m\n\u001b[1;32m-> 1336\u001b[1;33m             return VerboseTB.structured_traceback(\n\u001b[0m\u001b[0;32m   1337\u001b[0m                 \u001b[0mself\u001b[0m\u001b[1;33m,\u001b[0m \u001b[0metype\u001b[0m\u001b[1;33m,\u001b[0m \u001b[0mvalue\u001b[0m\u001b[1;33m,\u001b[0m \u001b[0mtb\u001b[0m\u001b[1;33m,\u001b[0m \u001b[0mtb_offset\u001b[0m\u001b[1;33m,\u001b[0m \u001b[0mnumber_of_lines_of_context\u001b[0m\u001b[1;33m\u001b[0m\u001b[1;33m\u001b[0m\u001b[0m\n\u001b[0;32m   1338\u001b[0m             )\n",
      "\u001b[1;32m~\\anaconda3\\envs\\tf\\lib\\site-packages\\IPython\\core\\ultratb.py\u001b[0m in \u001b[0;36mstructured_traceback\u001b[1;34m(self, etype, evalue, etb, tb_offset, number_of_lines_of_context)\u001b[0m\n\u001b[0;32m   1191\u001b[0m         \u001b[1;34m\"\"\"Return a nice text document describing the traceback.\"\"\"\u001b[0m\u001b[1;33m\u001b[0m\u001b[1;33m\u001b[0m\u001b[0m\n\u001b[0;32m   1192\u001b[0m \u001b[1;33m\u001b[0m\u001b[0m\n\u001b[1;32m-> 1193\u001b[1;33m         formatted_exception = self.format_exception_as_a_whole(etype, evalue, etb, number_of_lines_of_context,\n\u001b[0m\u001b[0;32m   1194\u001b[0m                                                                tb_offset)\n\u001b[0;32m   1195\u001b[0m \u001b[1;33m\u001b[0m\u001b[0m\n",
      "\u001b[1;32m~\\anaconda3\\envs\\tf\\lib\\site-packages\\IPython\\core\\ultratb.py\u001b[0m in \u001b[0;36mformat_exception_as_a_whole\u001b[1;34m(self, etype, evalue, etb, number_of_lines_of_context, tb_offset)\u001b[0m\n\u001b[0;32m   1149\u001b[0m \u001b[1;33m\u001b[0m\u001b[0m\n\u001b[0;32m   1150\u001b[0m \u001b[1;33m\u001b[0m\u001b[0m\n\u001b[1;32m-> 1151\u001b[1;33m         \u001b[0mlast_unique\u001b[0m\u001b[1;33m,\u001b[0m \u001b[0mrecursion_repeat\u001b[0m \u001b[1;33m=\u001b[0m \u001b[0mfind_recursion\u001b[0m\u001b[1;33m(\u001b[0m\u001b[0morig_etype\u001b[0m\u001b[1;33m,\u001b[0m \u001b[0mevalue\u001b[0m\u001b[1;33m,\u001b[0m \u001b[0mrecords\u001b[0m\u001b[1;33m)\u001b[0m\u001b[1;33m\u001b[0m\u001b[1;33m\u001b[0m\u001b[0m\n\u001b[0m\u001b[0;32m   1152\u001b[0m \u001b[1;33m\u001b[0m\u001b[0m\n\u001b[0;32m   1153\u001b[0m         \u001b[0mframes\u001b[0m \u001b[1;33m=\u001b[0m \u001b[0mself\u001b[0m\u001b[1;33m.\u001b[0m\u001b[0mformat_records\u001b[0m\u001b[1;33m(\u001b[0m\u001b[0mrecords\u001b[0m\u001b[1;33m,\u001b[0m \u001b[0mlast_unique\u001b[0m\u001b[1;33m,\u001b[0m \u001b[0mrecursion_repeat\u001b[0m\u001b[1;33m)\u001b[0m\u001b[1;33m\u001b[0m\u001b[1;33m\u001b[0m\u001b[0m\n",
      "\u001b[1;32m~\\anaconda3\\envs\\tf\\lib\\site-packages\\IPython\\core\\ultratb.py\u001b[0m in \u001b[0;36mfind_recursion\u001b[1;34m(etype, value, records)\u001b[0m\n\u001b[0;32m    449\u001b[0m     \u001b[1;31m# first frame (from in to out) that looks different.\u001b[0m\u001b[1;33m\u001b[0m\u001b[1;33m\u001b[0m\u001b[1;33m\u001b[0m\u001b[0m\n\u001b[0;32m    450\u001b[0m     \u001b[1;32mif\u001b[0m \u001b[1;32mnot\u001b[0m \u001b[0mis_recursion_error\u001b[0m\u001b[1;33m(\u001b[0m\u001b[0metype\u001b[0m\u001b[1;33m,\u001b[0m \u001b[0mvalue\u001b[0m\u001b[1;33m,\u001b[0m \u001b[0mrecords\u001b[0m\u001b[1;33m)\u001b[0m\u001b[1;33m:\u001b[0m\u001b[1;33m\u001b[0m\u001b[1;33m\u001b[0m\u001b[0m\n\u001b[1;32m--> 451\u001b[1;33m         \u001b[1;32mreturn\u001b[0m \u001b[0mlen\u001b[0m\u001b[1;33m(\u001b[0m\u001b[0mrecords\u001b[0m\u001b[1;33m)\u001b[0m\u001b[1;33m,\u001b[0m \u001b[1;36m0\u001b[0m\u001b[1;33m\u001b[0m\u001b[1;33m\u001b[0m\u001b[0m\n\u001b[0m\u001b[0;32m    452\u001b[0m \u001b[1;33m\u001b[0m\u001b[0m\n\u001b[0;32m    453\u001b[0m     \u001b[1;31m# Select filename, lineno, func_name to track frames with\u001b[0m\u001b[1;33m\u001b[0m\u001b[1;33m\u001b[0m\u001b[1;33m\u001b[0m\u001b[0m\n",
      "\u001b[1;31mTypeError\u001b[0m: object of type 'NoneType' has no len()"
     ]
    }
   ],
   "source": [
    "liveFeed = pd.read_sql_query(\"select * from live_feed\", connection)\n",
    "# liveFeed = pd.read_sql_query(\"select * from live_feed where gameID >= 2020020001\", connection)"
   ]
  },
  {
   "cell_type": "code",
   "execution_count": null,
   "metadata": {
    "pycharm": {
     "is_executing": true
    }
   },
   "outputs": [],
   "source": [
    "# Getting the seasons data\n",
    "seasons = pd.read_sql_query(\"select * from schedules\", connection)"
   ]
  },
  {
   "cell_type": "code",
   "execution_count": null,
   "metadata": {
    "pycharm": {
     "is_executing": true
    }
   },
   "outputs": [],
   "source": [
    "boxscores = pd.read_sql_query(\"select gameID, teamID, playerID from box_scores\", connection)\n",
    "# boxscores = pd.read_sql_query(\"select gameID, teamID, playerID from box_scores where gameID >= 2020020001\", connection)"
   ]
  },
  {
   "cell_type": "markdown",
   "metadata": {},
   "source": [
    "# Creating Model Input"
   ]
  },
  {
   "cell_type": "code",
   "execution_count": null,
   "metadata": {
    "pycharm": {
     "is_executing": true
    }
   },
   "outputs": [],
   "source": [
    "# Filtering to regular seasons games and 20102011 onwards (when live data started)\n",
    "seasonsFiltered = seasons[seasons['seasonID'] >= 20102011]\n",
    "seasonsFiltered = seasonsFiltered[seasonsFiltered['gameType'] == 'R']"
   ]
  },
  {
   "cell_type": "code",
   "execution_count": null,
   "metadata": {
    "pycharm": {
     "is_executing": true
    }
   },
   "outputs": [],
   "source": [
    "# Getting and filtering the raw data\n",
    "rawData = pd.merge(liveFeed,seasons, how='inner',on='gameID')\n",
    "rawData = rawData[rawData['seasonID'] >= 20102011]\n",
    "# rawData = rawData[rawData['gameType'] == 'R']\n",
    "# Keeping assists so we can add them in\n",
    "rawData = rawData[(rawData['eventSubID'] == 0) | (rawData['playerType'] == 'Assist')]\n",
    "rawData = rawData[['eventID',\n",
    "         'eventSubID',\n",
    "         'gameID',\n",
    "         'eventTypeID',\n",
    "         'playerType',\n",
    "         'eventDescription',\n",
    "         'periodNum',\n",
    "         'periodTime',\n",
    "         'xCoordinate',\n",
    "         'yCoordinate',\n",
    "         'teamID',\n",
    "         'homeTeamID','awayTeamID','playerID','penaltyMinutes']]"
   ]
  },
  {
   "cell_type": "code",
   "execution_count": null,
   "metadata": {
    "pycharm": {
     "is_executing": true
    }
   },
   "outputs": [],
   "source": [
    "# Adding in assist\n",
    "rawData['eventTypeID'] = np.where((rawData['eventTypeID'] == 'GOAL') & (rawData['playerType'] == 'Assist'), 'ASSIST', rawData['eventTypeID'])"
   ]
  },
  {
   "cell_type": "code",
   "execution_count": null,
   "metadata": {
    "pycharm": {
     "is_executing": true
    }
   },
   "outputs": [],
   "source": [
    "# Dont need this column anymore\n",
    "rawData = rawData.drop('playerType',axis=1)"
   ]
  },
  {
   "cell_type": "code",
   "execution_count": null,
   "metadata": {
    "pycharm": {
     "is_executing": true
    }
   },
   "outputs": [],
   "source": [
    "# Merging box score data\n",
    "rawData = pd.merge(rawData, \n",
    "                   boxscores, \n",
    "                   how='left', \n",
    "                   left_on=['gameID', 'playerID'], \n",
    "                   right_on=['gameID', 'playerID'],\n",
    "                   suffixes=('', '_box'))"
   ]
  },
  {
   "cell_type": "code",
   "execution_count": null,
   "metadata": {
    "pycharm": {
     "is_executing": true
    }
   },
   "outputs": [],
   "source": [
    "# Getting only the desired events\n",
    "rawDataFiltered = rawData[rawData['eventTypeID'].isin(['FACEOFF',\n",
    "                             'SHOT',\n",
    "                             'MISSED_SHOT',\n",
    "                             'BLOCKED_SHOT',\n",
    "                             'TAKEAWAY',\n",
    "                             'GIVEAWAY',\n",
    "                             'HIT',\n",
    "                             'GOAL',\n",
    "                             'ASSIST',\n",
    "                             'PERIOD_END',\n",
    "                             'EARLY_INT_START',\n",
    "                             'PENALTY',\n",
    "                             'STOP',\n",
    "                             'EARLY_INT_END',\n",
    "                             'EARLY_INT_END'])]\n",
    "# rawDataFiltered = rawDataFiltered[rawDataFiltered['playerType'].isin(['NULL', \n",
    "#                                    'Winner', \n",
    "#                                    'Loser', \n",
    "#                                    'Hitter', \n",
    "#                                    'PlayerID','Shooter','Blocker','Unknown','Scorer','PenaltyOn','DrewBy'])]\n",
    "\n",
    "\n",
    "# Sorting\n",
    "rawDataFiltered = rawDataFiltered.sort_values(by=['gameID', 'eventID','eventSubID'],ascending=[True,True,False])"
   ]
  },
  {
   "cell_type": "code",
   "execution_count": null,
   "metadata": {
    "pycharm": {
     "is_executing": true
    }
   },
   "outputs": [],
   "source": [
    "# Don't need this column anymore\n",
    "rawDataFiltered = rawDataFiltered.drop('eventSubID',axis=1)"
   ]
  },
  {
   "cell_type": "code",
   "execution_count": null,
   "metadata": {
    "pycharm": {
     "is_executing": true
    }
   },
   "outputs": [],
   "source": [
    "# Converting period number to numeric (seems to be read in as a string)\n",
    "rawDataFiltered['periodNum'] = pd.to_numeric(rawDataFiltered['periodNum'])\n",
    "\n",
    "# Filtering to only the 1st threee period for consistency\n",
    "rawDataFiltered = rawDataFiltered[rawDataFiltered['periodNum'] <= 3]"
   ]
  },
  {
   "cell_type": "code",
   "execution_count": null,
   "metadata": {
    "pycharm": {
     "is_executing": true
    }
   },
   "outputs": [],
   "source": [
    "def team_type(teamID, homeTeamID, awayTeamID):\n",
    "    if teamID == homeTeamID:\n",
    "        return 'HOME'\n",
    "    elif teamID == awayTeamID:\n",
    "        return 'AWAY'\n",
    "    else:\n",
    "        return np.nan\n",
    "\n",
    "def coordinate_normalization(xCoord, teamType, periodNum):\n",
    "    if teamType == np.nan:\n",
    "        return None\n",
    "    else:\n",
    "        if int(periodNum)%2 == 1:\n",
    "            if teamType == 'AWAY':\n",
    "                return xCoord\n",
    "            else:\n",
    "                return -1 * xCoord\n",
    "        else:\n",
    "            if teamType == 'AWAY':\n",
    "                return -1 * xCoord\n",
    "            else:\n",
    "                return xCoord\n",
    "            \n",
    "def elapsed_seconds(periodNum, periodTime):\n",
    "    periodTime = pd.Timedelta(periodTime)\n",
    "    return (int(periodNum) - 1) * 20 * 60 + periodTime.total_seconds()/60\n",
    "\n",
    "class Queue:\n",
    "    #CITATION: https://runestone.academy/runestone/books/published/pythonds/BasicDS/ImplementingaQueueinPython.html\n",
    "    def __init__(self):\n",
    "        self.queue = []\n",
    "\n",
    "    def isEmpty(self):\n",
    "        return self.queue == []\n",
    "\n",
    "    def enqueue(self, item):\n",
    "        self.queue.insert(0,item)\n",
    "\n",
    "    def dequeue(self):\n",
    "        return self.queue.pop()\n",
    "\n",
    "    def size(self):\n",
    "        return len(self.queue)\n",
    "    \n",
    "    def get_queue(self):\n",
    "        return self.queue\n",
    "\n",
    "    def exchange(self, oldItem, newItem):\n",
    "        self.queue[self.queue.index(oldItem)] = newItem\n",
    "        \n",
    "    def remove(self, item):\n",
    "        self.queue.remove(item)"
   ]
  },
  {
   "cell_type": "code",
   "execution_count": null,
   "metadata": {
    "pycharm": {
     "is_executing": true
    }
   },
   "outputs": [],
   "source": [
    "rawDataFiltered['teamType'] = rawDataFiltered.apply(lambda row: team_type(row['teamID'], \n",
    "                                                                          row['homeTeamID'], \n",
    "                                                                          row['awayTeamID']) ,axis=1)"
   ]
  },
  {
   "cell_type": "code",
   "execution_count": null,
   "metadata": {
    "pycharm": {
     "is_executing": true
    }
   },
   "outputs": [],
   "source": [
    "rawDataFiltered['xCoordinate'] = rawDataFiltered.apply(lambda row: coordinate_normalization(row['xCoordinate'], \n",
    "                                                           row['teamType'], \n",
    "                                                           row['periodNum']), axis=1)"
   ]
  },
  {
   "cell_type": "code",
   "execution_count": null,
   "metadata": {
    "pycharm": {
     "is_executing": true
    }
   },
   "outputs": [],
   "source": [
    "rawDataFiltered['secondsElapsed'] = rawDataFiltered.apply(lambda row: elapsed_seconds(row['periodNum'], row['periodTime']), axis=1)"
   ]
  },
  {
   "cell_type": "code",
   "execution_count": null,
   "metadata": {
    "pycharm": {
     "is_executing": true
    }
   },
   "outputs": [],
   "source": [
    "rawDataFiltered[rawDataFiltered['eventTypeID'] == 'ASSIST']"
   ]
  },
  {
   "cell_type": "code",
   "execution_count": null,
   "metadata": {
    "pycharm": {
     "is_executing": true
    }
   },
   "outputs": [],
   "source": [
    "sequences = []\n",
    "actionEvents = ['FACEOFF',\n",
    "                'SHOT',\n",
    "                'MISSED_SHOT',\n",
    "                'BLOCKED_SHOT',\n",
    "                'TAKEAWAY',\n",
    "                'GIVEAWAY',\n",
    "                'HIT',\n",
    "                'ASSIST',\n",
    "                'GOAL']\n",
    "startEndEvents = ['PERIOD_START',\n",
    "                  'PERIOD_END',\n",
    "                  'EARLY_INT_START',\n",
    "                  'PENALTY',\n",
    "                  'STOP',\n",
    "                  'SHOOTOUT_COMPLETE',\n",
    "                  'GAME_END',\n",
    "                  'EARLY_INT_END',\n",
    "                  'EARLY_INT_END']\n",
    "\n",
    "sequenceNum = 0\n",
    "eventNum = 0\n",
    "penaltyQueue = Queue()\n",
    "gameID = 0\n",
    "context = {'goalDiff':0, 'manpowerDiff':0, 'periodNum':1}\n",
    "for index, row in rawDataFiltered.iterrows():\n",
    "    if index % 100000 == 0:\n",
    "        print((index/len(rawDataFiltered))*100, '%')\n",
    "    \n",
    "    # Resetting the context\n",
    "    if gameID != row['gameID']:\n",
    "        gameID = row['gameID']\n",
    "        context = {'goalDiff':0, 'manpowerDiff':0, 'periodNum':1}\n",
    "        \n",
    "    # Updating the context if needed\n",
    "    if row['periodNum'] != context['periodNum']:\n",
    "        context['periodNum'] = row['periodNum']\n",
    "        \n",
    "    # Computing if respective team is home or away\n",
    "    teamType = team_type(row['teamID'], row['homeTeamID'], row['awayTeamID'])\n",
    "    \n",
    "     # If there currently is a penalty in the penalty queue\n",
    "    if penaltyQueue.size() > 0:\n",
    "        # Determining the time of the action\n",
    "        actionTime = elapsed_seconds(row['periodNum'],row['periodTime'])\n",
    "\n",
    "        # Iterating through all  the penalties in the queue from oldest to newest\n",
    "        for penalty in reversed(penaltyQueue.get_queue()):\n",
    "            # If the action occured after the penalty ended, we update the context and pop the penalty\n",
    "            if penalty['penaltyEnd'] < actionTime:\n",
    "                # Popping the penalty\n",
    "                penaltyQueue.remove(penalty)\n",
    "\n",
    "                # Updating the context\n",
    "                if penalty['team'] == 'HOME':\n",
    "                    context['manpowerDiff'] -= 1\n",
    "                else:\n",
    "                    context['manpowerDiff'] -= -1\n",
    "        \n",
    "    # Catching penalties to update the context\n",
    "    if row['eventTypeID'] == 'PENALTY':\n",
    "        if int(row['penaltyMinutes']) != 10:\n",
    "            # Getting the end time of the penalty (in seconds)\n",
    "            penaltyStart = elapsed_seconds(row['periodNum'],row['periodTime'])\n",
    "            penaltyEnd = penaltyStart + row['penaltyMinutes'] * 60\n",
    "            \n",
    "\n",
    "            # Determining who took the penalty to update the context\n",
    "            if teamType == 'HOME':\n",
    "                context['manpowerDiff'] += 1\n",
    "            else:\n",
    "                context['manpowerDiff'] += -1\n",
    "\n",
    "            # Enqueuing the penalty\n",
    "            penaltyQueue.enqueue({'team':teamType, \n",
    "                                  'penaltyStart': penaltyStart, \n",
    "                                  'penaltyEnd':penaltyEnd, \n",
    "                                  'penaltyLength': \n",
    "                                  row['penaltyMinutes']})\n",
    "            \n",
    "    # Adding in the event if it is a goal or assist (doing it here in since the context will be updated below)\n",
    "    if (row['eventTypeID'] == 'ASSIST'):\n",
    "        sequences.append([row['gameID'],  \n",
    "                          context['goalDiff'],\n",
    "                          context['manpowerDiff'],\n",
    "                          context['periodNum'],\n",
    "                          sequenceNum, \n",
    "                          eventNum, \n",
    "                          row['eventTypeID'],  # action type\n",
    "                          teamType,  # Home/Away\n",
    "                          row['secondsElapsed'],\n",
    "                          row['xCoordinate'],\n",
    "                          row['yCoordinate'],\n",
    "                          row['playerID']]) #Neutral/Offensive/Defensive/NULL\n",
    "\n",
    "           \n",
    "    # If the event type is a goal\n",
    "    if row['eventTypeID'] == 'GOAL':\n",
    "\n",
    "        # Injecting the shot before the goal# Adding in the next sequency\n",
    "        sequences.append([row['gameID'],  \n",
    "                  context['goalDiff'],\n",
    "                  context['manpowerDiff'],\n",
    "                  context['periodNum'],\n",
    "                  sequenceNum, \n",
    "                  eventNum, \n",
    "                  'SHOT',  # action type\n",
    "                  teamType,  # Home/Away\n",
    "#                       row['zone']\n",
    "                  row['secondsElapsed'],\n",
    "                      row['xCoordinate'],\n",
    "                      row['yCoordinate'],\n",
    "                  row['playerID']]) #Neutral/Offensive/Defensive/NULL\n",
    "        # Incrementing the event number\n",
    "        eventNum += 1\n",
    "        \n",
    "        # Adding in the goal\n",
    "        sequences.append([row['gameID'],  \n",
    "                      context['goalDiff'],\n",
    "                      context['manpowerDiff'],\n",
    "                      context['periodNum'],\n",
    "                      sequenceNum, \n",
    "                      eventNum, \n",
    "                      row['eventTypeID'],  # action type\n",
    "                      teamType,  # Home/Away\n",
    "                      row['secondsElapsed'],\n",
    "                      row['xCoordinate'],\n",
    "                      row['yCoordinate'],\n",
    "                      row['playerID']]) #Neutral/Offensive/Defensive/NULL\n",
    "\n",
    "        # Updating the context\n",
    "        if teamType == 'HOME':\n",
    "            context['goalDiff'] -= 1\n",
    "        else:\n",
    "            context['goalDiff'] += 1\n",
    "\n",
    "        # Defining home/away flags to only pop off the minimum number of penalties\n",
    "        FLAGS = {'HOME':True, 'AWAY':True}\n",
    "\n",
    "        # Determining the time of the action\n",
    "        actionTime = elapsed_seconds(row['periodNum'],row['periodTime'])\n",
    "\n",
    "        # If there currently is a penalty in the penalty queue\n",
    "        if penaltyQueue.size() > 0:\n",
    "\n",
    "            # Iterating through all  the penalties in the queue from oldest to newest\n",
    "            for penalty in reversed(penaltyQueue.get_queue()):\n",
    "\n",
    "                # If the penalty is a 5 minute major, the player must serve the full 5 minutes (no change needed)\n",
    "                # If the penalty is over it would have been popped in the above if statement\n",
    "                if penalty['penaltyLength'] == 5:\n",
    "                    continue\n",
    "                else:\n",
    "\n",
    "                    # Making sure its not a shorthanded goal and we haven't already popped a penalty for this goal/team\n",
    "                    if (penalty['team'] != teamType) & (FLAGS[penalty['team']]):\n",
    "\n",
    "                        # Creating the updated penalty\n",
    "                        newPenalty = penalty\n",
    "                        newPenalty['penaltyStart'] = actionTime\n",
    "                        newPenalty['penaltyLength'] += -120\n",
    "                        newPenalty['penaltyEnd'] = newPenalty['penaltyStart'] + newPenalty['penaltyLength']\n",
    "\n",
    "                        if penalty['penaltyLength'] <= 0:\n",
    "\n",
    "                            # Popping the penalty off\n",
    "                            penaltyQueue.remove(penalty)\n",
    "\n",
    "                            # Updating the context\n",
    "                            if penalty['team'] == 'HOME':\n",
    "                                context['manpowerDiff'] -= 1\n",
    "                            else:\n",
    "                                context['manpowerDiff'] -= -1\n",
    "                        else:\n",
    "\n",
    "                            # replacing the old penalty info with the new one\n",
    "                            penaltyQueue.exchange(penalty, newPenalty)\n",
    "\n",
    "                        FLAGS[penalty['team']] = False \n",
    "                            \n",
    "#     # Updating the context if needed\n",
    "#     if row['periodNum'] != context['periodNum']:\n",
    "#         context['periodNum'] = row['periodNum']\n",
    "    \n",
    "    # Adding in the next sequency\n",
    "    if (((row['eventTypeID'] not in startEndEvents) | \n",
    "         (row['eventTypeID'] == 'PENALTY')) & \n",
    "        (row['eventTypeID'] != 'GOAL') & \n",
    "        (row['eventTypeID'] != 'ASSIST')):\n",
    "        sequences.append([row['gameID'],  \n",
    "                          context['goalDiff'],\n",
    "                          context['manpowerDiff'],\n",
    "                          context['periodNum'],\n",
    "                          sequenceNum, \n",
    "                          eventNum, \n",
    "                          row['eventTypeID'],  # action type\n",
    "                          teamType,  # Home/Away\n",
    "                          row['secondsElapsed'],\n",
    "                          row['xCoordinate'],\n",
    "                          row['yCoordinate'],\n",
    "                          row['playerID']]) #Neutral/Offensive/Defensive/NULL\n",
    "    if row['eventTypeID'] in actionEvents:\n",
    "        eventNum += 1\n",
    "    else:\n",
    "        sequenceNum += 1\n",
    "        eventNum = 0\n",
    "#     break\n",
    "sequenceData = pd.DataFrame(sequences, \n",
    "                            columns=['gameID', \n",
    "                                     'goalDiff', \n",
    "                                     'manpowerDiff',\n",
    "                                     'periodNum', \n",
    "                                     'sequenceNum',\n",
    "                                     'eventNum',\n",
    "                                     'event', \n",
    "                                     'team',\n",
    "                                     'secondsElapsed',\n",
    "                                     'xCoord',\n",
    "                                     'yCoord',\n",
    "                                     'playerID'])"
   ]
  },
  {
   "cell_type": "code",
   "execution_count": null,
   "metadata": {
    "pycharm": {
     "is_executing": true
    }
   },
   "outputs": [],
   "source": [
    "# Removing any rows that contain a null value\n",
    "sequenceData = sequenceData[~sequenceData['sequenceNum'].isin(sequenceData[sequenceData.isnull().any(axis=1)]['sequenceNum'].values)]"
   ]
  },
  {
   "cell_type": "code",
   "execution_count": null,
   "metadata": {
    "pycharm": {
     "is_executing": true
    }
   },
   "outputs": [],
   "source": [
    "# Vectorizing the events\n",
    "eventVectorizer = CountVectorizer()\n",
    "eventVectorizer.fit(sequenceData['event'])\n",
    "vectorizedEvents = eventVectorizer.transform(sequenceData['event']).toarray()\n",
    "\n",
    "# List of actions in the correct order according to its position on the vectorized array\n",
    "actions = [action[0] for action in sorted(eventVectorizer.vocabulary_.items())]"
   ]
  },
  {
   "cell_type": "code",
   "execution_count": null,
   "metadata": {
    "pycharm": {
     "is_executing": true
    }
   },
   "outputs": [],
   "source": [
    "# Adding in the vectorized columns\n",
    "for action in range(0,len(actions)):\n",
    "    sequenceData.insert(column=actions[action], value=vectorizedEvents[:,action], loc=len(sequenceData.columns))"
   ]
  },
  {
   "cell_type": "code",
   "execution_count": null,
   "metadata": {
    "pycharm": {
     "is_executing": true
    }
   },
   "outputs": [],
   "source": [
    "# # List of actions in the correct order according to its position on the vectorized array\n",
    "# actions = [action[0] for action in sorted(eventVectorizer.vocabulary_.items())]\n",
    "\n",
    "# # Adding the vectorized events onto the sequence data\n",
    "# sequenceData = pd.concat([sequenceData,\n",
    "#                           pd.DataFrame(data=vectorizedEvents,\n",
    "#                                        columns=actions)],axis=1)\n",
    "\n",
    "# Dropping event as it is no longer needed\n",
    "sequenceData = sequenceData.drop(['event'],axis=1)"
   ]
  },
  {
   "cell_type": "code",
   "execution_count": null,
   "metadata": {
    "pycharm": {
     "is_executing": true
    }
   },
   "outputs": [],
   "source": [
    "# Filling NAs\n",
    "sequenceData['team'] = sequenceData['team'].fillna(value='neither')"
   ]
  },
  {
   "cell_type": "code",
   "execution_count": null,
   "metadata": {
    "pycharm": {
     "is_executing": true
    }
   },
   "outputs": [],
   "source": [
    "# Vectorizing the teams\n",
    "teamVectorizer = CountVectorizer()\n",
    "teamVectorizer.fit(sequenceData['team'])\n",
    "vectorizedTeams = teamVectorizer.transform(sequenceData['team']).toarray()\n",
    "\n",
    "# List of teams in the correct order according to its position on the vectorized array\n",
    "teams = [action[0] for action in sorted(teamVectorizer.vocabulary_.items())]\n"
   ]
  },
  {
   "cell_type": "code",
   "execution_count": null,
   "metadata": {
    "pycharm": {
     "is_executing": true
    }
   },
   "outputs": [],
   "source": [
    "# Adding in the vectorized columns\n",
    "for team in range(0,len(teams)):\n",
    "    sequenceData.insert(column=teams[team], value=vectorizedTeams[:,team], loc=len(sequenceData.columns))"
   ]
  },
  {
   "cell_type": "code",
   "execution_count": null,
   "metadata": {
    "pycharm": {
     "is_executing": true
    }
   },
   "outputs": [],
   "source": [
    "# # List of teams in the correct order according to its position on the vectorized array\n",
    "# teams = [action[0] for action in sorted(teamVectorizer.vocabulary_.items())]\n",
    "\n",
    "# Adding the vectorized events onto the sequence data\n",
    "# sequenceData = pd.concat([sequenceData,\n",
    "#                           pd.DataFrame(data=vectorizedTeams,\n",
    "#                                        columns=teams)],axis=1)\n",
    "\n",
    "# Dropping event as it is no longer needed\n",
    "sequenceData = sequenceData.drop(['team'],axis=1)"
   ]
  },
  {
   "cell_type": "code",
   "execution_count": null,
   "metadata": {
    "pycharm": {
     "is_executing": true
    }
   },
   "outputs": [],
   "source": [
    "colsTransformed = ['goalDiff', \n",
    "              'manpowerDiff',\n",
    "          'periodNum',\n",
    "          'secondsElapsed', \n",
    "          'xCoord', \n",
    "          'yCoord']"
   ]
  },
  {
   "cell_type": "code",
   "execution_count": null,
   "metadata": {
    "pycharm": {
     "is_executing": true
    }
   },
   "outputs": [],
   "source": [
    "scaler = preprocessing.StandardScaler().fit(sequenceData[colsTransformed].values)"
   ]
  },
  {
   "cell_type": "code",
   "execution_count": null,
   "metadata": {
    "pycharm": {
     "is_executing": true
    }
   },
   "outputs": [],
   "source": [
    "scaledData = scaler.transform(sequenceData[colsTransformed].values)"
   ]
  },
  {
   "cell_type": "code",
   "execution_count": null,
   "metadata": {
    "pycharm": {
     "is_executing": true
    }
   },
   "outputs": [],
   "source": [
    "for i in range(0,len(colsTransformed)):\n",
    "    sequenceData[colsTransformed[i]] = scaledData[:,i]"
   ]
  },
  {
   "cell_type": "code",
   "execution_count": null,
   "metadata": {
    "pycharm": {
     "is_executing": true
    }
   },
   "outputs": [],
   "source": [
    "# Defining a sequence data object\n",
    "sequenceDataTMinusOne = sequenceData.drop(['goalDiff', 'manpowerDiff', 'periodNum'],axis=1).copy(deep=True)\n",
    "\n",
    "# Incrementing the eventnumber to use to join below\n",
    "sequenceDataTMinusOne['eventNum'] -= 1"
   ]
  },
  {
   "cell_type": "code",
   "execution_count": null,
   "metadata": {
    "pycharm": {
     "is_executing": true
    }
   },
   "outputs": [],
   "source": [
    "# Merging the time t and t+1 datasets\n",
    "sequenceDataComplete = pd.merge(left=sequenceData, \n",
    "         right=sequenceDataTMinusOne, \n",
    "         how='left',\n",
    "         left_on=['gameID', 'sequenceNum', 'eventNum'],\n",
    "         right_on=['gameID', 'sequenceNum', 'eventNum'],\n",
    "        suffixes=('','_TMinusOne'))"
   ]
  },
  {
   "cell_type": "code",
   "execution_count": null,
   "metadata": {
    "pycharm": {
     "is_executing": true
    }
   },
   "outputs": [],
   "source": [
    "columns = ['gameID', \n",
    "          'sequenceNum',\n",
    "          'eventNum', \n",
    "          'goalDiff', \n",
    "          'manpowerDiff',\n",
    "          'periodNum',\n",
    "          'secondsElapsed', \n",
    "          'xCoord', \n",
    "          'yCoord', \n",
    "          'blocked_shot',\n",
    "          'faceoff', \n",
    "          'giveaway', \n",
    "          'goal', \n",
    "          'assist',\n",
    "          'hit',\n",
    "          'missed_shot',\n",
    "          'penalty', \n",
    "          'shot',\n",
    "          'takeaway',\n",
    "          'away', \n",
    "          'home',\n",
    "          'playerID',\n",
    "          'secondsElapsed_TMinusOne',\n",
    "          'xCoord_TMinusOne',\n",
    "          'yCoord_TMinusOne', \n",
    "          'blocked_shot_TMinusOne',\n",
    "          'faceoff_TMinusOne', \n",
    "          'giveaway_TMinusOne', \n",
    "          'goal_TMinusOne',\n",
    "          'assist_TMinusOne',\n",
    "          'hit_TMinusOne', \n",
    "          'missed_shot_TMinusOne',\n",
    "          'penalty_TMinusOne',\n",
    "          'shot_TMinusOne', \n",
    "          'takeaway_TMinusOne', \n",
    "          'away_TMinusOne',\n",
    "          'home_TMinusOne']"
   ]
  },
  {
   "cell_type": "code",
   "execution_count": null,
   "metadata": {
    "pycharm": {
     "is_executing": true
    }
   },
   "outputs": [],
   "source": [
    "# Adding in any missing columns (setting them to be 0)\n",
    "for col in columns:\n",
    "    if col not in sequenceDataComplete.columns:\n",
    "        sequenceDataComplete[col] = np.zeros((len(sequenceDataComplete)))"
   ]
  },
  {
   "cell_type": "code",
   "execution_count": null,
   "metadata": {
    "pycharm": {
     "is_executing": true
    }
   },
   "outputs": [],
   "source": [
    "# Re-ordering columns\n",
    "sequenceDataComplete = sequenceDataComplete[columns]"
   ]
  },
  {
   "cell_type": "code",
   "execution_count": null,
   "metadata": {
    "pycharm": {
     "is_executing": true
    }
   },
   "outputs": [],
   "source": [
    "sequenceDataComplete.columns"
   ]
  },
  {
   "cell_type": "markdown",
   "metadata": {},
   "source": [
    "# Model Creation\n",
    "## Model Definition"
   ]
  },
  {
   "cell_type": "code",
   "execution_count": null,
   "metadata": {
    "pycharm": {
     "is_executing": true
    }
   },
   "outputs": [],
   "source": [
    "# determine the supported device\n",
    "def get_device():\n",
    "    if torch.cuda.is_available():\n",
    "        device = torch.device('cuda:0')\n",
    "    else:\n",
    "        device = torch.device('cpu') # don't have GPU \n",
    "    return device\n",
    "\n",
    "# convert a df to tensor to be used in pytorch\n",
    "def df_to_tensor(df):\n",
    "    device = get_device()\n",
    "    data = torch.from_numpy(df.values)\n",
    "    data = data.type(torch.float64)\n",
    "    data = data.to(device)\n",
    "    return data\n",
    "\n",
    "def custom_loss(modelInput, model, i):\n",
    "    t = modelInput[0:i+1,:,3:21]\n",
    "    tPlusOne = modelInput[0:i+1,:,[3,4,5,22,23,24,25,26,27,28,29,30,31,32,33,34,35,36]]\n",
    "    \n",
    "    # If goal scored by home team (if event is a goal, and team is home)\n",
    "    if (modelInput[i,:,[12]] == 1) & (modelInput[i,:,[20]] == 1):\n",
    "        R = torch.tensor([1,0,0]).to(get_device())\n",
    "        \n",
    "    # If goal scored by away team (if event is a goal, and team is away) \n",
    "    elif (modelInput[i,:,[12]] == 1) & (modelInput[i,:,[19]] == 1):\n",
    "        R = torch.tensor([0,1,0]).to(get_device())\n",
    "        \n",
    "    # No one scored\n",
    "    else:\n",
    "        R = torch.tensor([0,0,1]).to(get_device())\n",
    "    \n",
    "    # If there was no previous action\n",
    "#     if torch.sum(torch.isnan(tPlusOne)) > 0:\n",
    "#         loss = R + model(t)\n",
    "#     else: \n",
    "#         loss = R + model(tPlusOne) - model(t) \n",
    "        \n",
    "    if torch.sum(torch.isnan(tPlusOne)) > 0:\n",
    "        loss = R - model(t)\n",
    "    else: \n",
    "        loss = R + model(tPlusOne) - model(t) \n",
    "    \n",
    "    \n",
    "    return torch.mean(torch.square(loss))"
   ]
  },
  {
   "cell_type": "code",
   "execution_count": null,
   "metadata": {
    "pycharm": {
     "is_executing": true
    }
   },
   "outputs": [],
   "source": [
    "class DQN(nn.Module):\n",
    "    def __init__(self):\n",
    "        super().__init__()\n",
    "        self.inputSize = 18\n",
    "        self.numLSTMNodes = 1000\n",
    "        self.numLSTMLayers = 1\n",
    "        \n",
    "        self.lstmLayer = nn.LSTM(input_size=self.inputSize, \n",
    "                                  hidden_size=self.numLSTMNodes,\n",
    "                                  num_layers=self.numLSTMLayers, \n",
    "                                  bias=True, \n",
    "                                  dropout=0, \n",
    "                                  batch_first=True).double()\n",
    "        self.hidden1 = nn.Linear(in_features=self.numLSTMNodes, out_features=1000).double()   \n",
    "        self.hidden2 = nn.Linear(in_features=1000, out_features=1000).double()   \n",
    "        self.hidden3 = nn.Linear(in_features=1000, out_features=1000).double()   \n",
    "        self.hidden4 = nn.Linear(in_features=1000, out_features=1000).double()\n",
    "        self.output = nn.Linear(in_features=1000, out_features=3).double()\n",
    "        \n",
    "    def forward(self, modelInput):\n",
    "        hidden = (\n",
    "                    torch.cuda.FloatTensor(self.numLSTMLayers , 1, self.numLSTMNodes).normal_().double() ,\n",
    "                    torch.cuda.FloatTensor(self.numLSTMLayers , 1, self.numLSTMNodes).normal_().double() \n",
    "                  )\n",
    "        for sequence in modelInput:\n",
    "            out, hidden = self.lstmLayer(sequence.view(1,1,-1), hidden)\n",
    "        t = F.relu(out)\n",
    "        t = F.relu(self.hidden1(t))\n",
    "        t = F.relu(self.hidden2(t))\n",
    "        t = F.relu(self.hidden3(t))\n",
    "        t = F.relu(self.hidden4(t))\n",
    "        t = F.softmax(self.output(t),dim=2)\n",
    "        return t   "
   ]
  },
  {
   "cell_type": "code",
   "execution_count": null,
   "metadata": {
    "pycharm": {
     "is_executing": true
    }
   },
   "outputs": [],
   "source": [
    "# convert a df to tensor to be used in pytorch\n",
    "def df_to_tensor(df):\n",
    "    device = get_device()\n",
    "    data = torch.from_numpy(df.values)\n",
    "    data = data.type(torch.float64)\n",
    "    data = data.to(device)\n",
    "    return data"
   ]
  },
  {
   "cell_type": "code",
   "execution_count": null,
   "metadata": {
    "pycharm": {
     "is_executing": true
    }
   },
   "outputs": [],
   "source": [
    "# Moving the df to GPU\n",
    "dfGPU = df_to_tensor(sequenceDataComplete)"
   ]
  },
  {
   "cell_type": "code",
   "execution_count": null,
   "metadata": {
    "pycharm": {
     "is_executing": true
    }
   },
   "outputs": [],
   "source": [
    "# Reshaping\n",
    "# (batch size, sequence length, num features)\n",
    "dfGPU = dfGPU.reshape((-1,1,37))"
   ]
  },
  {
   "cell_type": "markdown",
   "metadata": {},
   "source": [
    "## Model Training"
   ]
  },
  {
   "cell_type": "code",
   "execution_count": null,
   "metadata": {
    "pycharm": {
     "is_executing": true
    }
   },
   "outputs": [],
   "source": [
    "network = DQN()\n",
    "device = get_device()\n",
    "network.to(device)\n",
    "\n",
    "network = network.type(torch.float64)\n",
    "\n",
    "optimizer = optim.Adam(network.parameters(), lr=0.0001)\n",
    "    \n",
    "# Each Episode\n",
    "for gameID in sequenceDataComplete['gameID'].unique():\n",
    "    print(gameID)\n",
    "    gameDataGPU = dfGPU[dfGPU[:,:,0][:,0] == gameID,:,:]\n",
    "    gameData = sequenceDataComplete[sequenceDataComplete['gameID'] == gameID]\n",
    "    for sequenceNum in gameData['sequenceNum'].unique():\n",
    "\n",
    "       \n",
    "        modelInput = gameDataGPU[gameDataGPU[:,:,1][:,0] == sequenceNum,:,:]\n",
    "            \n",
    "        i = 0\n",
    "        while i <  modelInput.shape[0]:\n",
    "            # calculate the loss\n",
    "            loss = custom_loss(modelInput, network, i)\n",
    "        \n",
    "            i += 1\n",
    "\n",
    "#             if sequenceNum > 0:\n",
    "#                 break\n",
    "#             print('**********************')\n",
    "\n",
    "\n",
    "            # zero gradients\n",
    "            optimizer.zero_grad()\n",
    "\n",
    "            # perform backprop and update weights\n",
    "            loss.backward()\n",
    "            optimizer.step()\n",
    "\n",
    "        \n",
    "\n",
    "        "
   ]
  },
  {
   "cell_type": "markdown",
   "metadata": {},
   "source": [
    "## Compiling Results"
   ]
  },
  {
   "cell_type": "code",
   "execution_count": null,
   "metadata": {
    "pycharm": {
     "is_executing": true
    }
   },
   "outputs": [],
   "source": [
    "GIM = []\n",
    "# Each Episode\n",
    "for gameID in sequenceDataComplete['gameID'].unique():\n",
    "    print(gameID)\n",
    "    gameDataGPU = dfGPU[dfGPU[:,:,0][:,0] == gameID,:,:]\n",
    "    gameData = sequenceDataComplete[sequenceDataComplete['gameID'] == gameID]\n",
    "    for sequenceNum in gameData['sequenceNum'].unique():\n",
    "        modelInput = gameDataGPU[gameDataGPU[:,:,1][:,0] == sequenceNum,:,:]\n",
    "        i = 0\n",
    "        while i <  modelInput.shape[0]:\n",
    "            if  i == 0:\n",
    "                Q_t = network(modelInput[0:i+1,:,3:21])\n",
    "                gim_t = Q_t\n",
    "#                 print(modelInput[0:i+1,:,3:20])\n",
    "#                 print(Q_t)\n",
    "            else:\n",
    "                Q_tMinusOne = Q_t\n",
    "                Q_t = network(modelInput[0:i+1,:,3:21])\n",
    "#                 gim_t = Q_t - Q_tMinusOne\n",
    "                gim_t = Q_t\n",
    "            i += 1\n",
    "            GIM.append([int(modelInput[-1,0,0].item()),# GameID\n",
    "                        modelInput[-1,0,21].item(), #PlayerID\n",
    "                        modelInput[-1,0,19].item(), # Away\n",
    "                        modelInput[-1,0,20].item(), # Home\n",
    "                        gim_t[0,0,0].item(), # Home Probability\n",
    "                        gim_t[0,0,1].item(), # Away Probability\n",
    "                        gim_t[0,0,2].item()]) # Neither Probability\n",
    "            \n",
    "#             break\n",
    "#         break\n",
    "#     break\n",
    "\n",
    "       \n",
    "results = pd.DataFrame(GIM, columns=['gameID', \n",
    "                                     'playerID', \n",
    "                                     'awayTeam',\n",
    "                                     'homeTeam', \n",
    "                                     'homeProbability',\n",
    "                                     'awayProbability',\n",
    "                                     'neitherProbability'])"
   ]
  },
  {
   "cell_type": "code",
   "execution_count": null,
   "metadata": {},
   "outputs": [],
   "source": [
    "torch.save(network.state_dict(),'model_all_games.pt')"
   ]
  },
  {
   "cell_type": "code",
   "execution_count": null,
   "metadata": {
    "pycharm": {
     "is_executing": true
    }
   },
   "outputs": [],
   "source": [
    "results['value'] = np.where(results['awayTeam'] == 1, results['awayProbability'], results['homeProbability'])"
   ]
  },
  {
   "cell_type": "code",
   "execution_count": null,
   "metadata": {
    "pycharm": {
     "is_executing": true
    }
   },
   "outputs": [],
   "source": [
    "results.to_csv('deep_rl_results_all_games.csv')"
   ]
  },
  {
   "cell_type": "code",
   "execution_count": null,
   "metadata": {
    "pycharm": {
     "is_executing": true
    }
   },
   "outputs": [],
   "source": [
    "resultsComplete = pd.merge(results, seasons[['seasonID','gameID']], left_on=['gameID'],right_on=['gameID'])"
   ]
  },
  {
   "cell_type": "code",
   "execution_count": null,
   "metadata": {
    "pycharm": {
     "is_executing": true
    }
   },
   "outputs": [],
   "source": [
    "resultsComplete = resultsComplete[['seasonID','playerID','value']].groupby(['seasonID','playerID']).sum('value').reset_index().sort_values('value',ascending=False)"
   ]
  },
  {
   "cell_type": "code",
   "execution_count": null,
   "metadata": {
    "pycharm": {
     "is_executing": true
    }
   },
   "outputs": [],
   "source": [
    "players = pd.read_sql_query(\"select playerID, firstName, lastName from players\", connection)"
   ]
  },
  {
   "cell_type": "code",
   "execution_count": null,
   "metadata": {
    "pycharm": {
     "is_executing": true
    }
   },
   "outputs": [],
   "source": [
    "pd.merge(resultsComplete, players,on='playerID').sort_values('value',ascending=False).to_csv('deep_rl_results_all_games_aggregated.csv')"
   ]
  },
  {
   "cell_type": "code",
   "execution_count": null,
   "metadata": {
    "pycharm": {
     "is_executing": true
    }
   },
   "outputs": [],
   "source": []
  },
  {
   "cell_type": "code",
   "execution_count": null,
   "metadata": {
    "pycharm": {
     "is_executing": true
    }
   },
   "outputs": [],
   "source": []
  },
  {
   "cell_type": "code",
   "execution_count": null,
   "metadata": {
    "pycharm": {
     "is_executing": true
    }
   },
   "outputs": [],
   "source": []
  }
 ],
 "metadata": {
  "kernelspec": {
   "display_name": "Python 3",
   "language": "python",
   "name": "python3"
  },
  "language_info": {
   "codemirror_mode": {
    "name": "ipython",
    "version": 3
   },
   "file_extension": ".py",
   "mimetype": "text/x-python",
   "name": "python",
   "nbconvert_exporter": "python",
   "pygments_lexer": "ipython3",
   "version": "3.8.5"
  }
 },
 "nbformat": 4,
 "nbformat_minor": 1
}
