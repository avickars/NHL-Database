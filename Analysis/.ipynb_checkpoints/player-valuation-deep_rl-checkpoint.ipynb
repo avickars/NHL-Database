{
 "cells": [
  {
   "cell_type": "code",
   "execution_count": 30,
   "metadata": {
    "pycharm": {
     "is_executing": true
    }
   },
   "outputs": [],
   "source": [
    "import pandas as pd\n",
    "from SQLCode import DatabaseConnection\n",
    "from SQLCode import DatabaseCredentials as DBC\n",
    "import numpy as np\n",
    "\n",
    "\n",
    "from sklearn.feature_extraction.text import CountVectorizer\n",
    "\n",
    "from torch.utils.data import DataLoader\n",
    "import torch.nn as nn\n",
    "import torch.nn.functional as F\n",
    "import torch.optim as optim\n",
    "import torch"
   ]
  },
  {
   "cell_type": "code",
   "execution_count": 31,
   "metadata": {
    "pycharm": {
     "is_executing": true
    }
   },
   "outputs": [],
   "source": [
    "# Opening connection\n",
    "creds = DBC.DataBaseCredentials()\n",
    "conn = DatabaseConnection.sql_connection(creds.server, creds.database, creds.user, creds.password)\n",
    "connection = conn.open()\n",
    "cursor = connection.cursor()"
   ]
  },
  {
   "cell_type": "code",
   "execution_count": 32,
   "metadata": {
    "pycharm": {
     "is_executing": true
    }
   },
   "outputs": [],
   "source": [
    "liveFeed = pd.read_sql_query(\"select * from live_feed where gameID = 2020030312\", connection)"
   ]
  },
  {
   "cell_type": "code",
   "execution_count": 33,
   "metadata": {
    "pycharm": {
     "is_executing": true
    }
   },
   "outputs": [],
   "source": [
    "# Getting the seasons data\n",
    "seasons = pd.read_sql_query(\"select * from schedules\", connection)"
   ]
  },
  {
   "cell_type": "code",
   "execution_count": 34,
   "metadata": {
    "pycharm": {
     "is_executing": true
    }
   },
   "outputs": [],
   "source": [
    "boxscores = pd.read_sql_query(\"select gameID, teamID, playerID from box_scores where gameID = 2020030312\", connection)\n",
    "# boxscores = pd.read_sql_query(\"select gameID, teamID, playerID from box_scores where gameID =2020030312\", connection)"
   ]
  },
  {
   "cell_type": "markdown",
   "metadata": {},
   "source": [
    "# Creating Model Input"
   ]
  },
  {
   "cell_type": "code",
   "execution_count": 35,
   "metadata": {
    "pycharm": {
     "is_executing": true
    }
   },
   "outputs": [],
   "source": [
    "# Filtering to regular seasons games and 20102011 onwards (when live data started)\n",
    "seasonsFiltered = seasons[seasons['seasonID'] >= 20102011]\n",
    "seasonsFiltered = seasonsFiltered[seasonsFiltered['gameType'] == 'R']"
   ]
  },
  {
   "cell_type": "code",
   "execution_count": 36,
   "metadata": {
    "pycharm": {
     "is_executing": true
    }
   },
   "outputs": [],
   "source": [
    "# Getting and filtering the raw data\n",
    "rawData = pd.merge(liveFeed,seasons, how='left',on='gameID')\n",
    "rawData = rawData[rawData['seasonID'] >= 20102011]\n",
    "# rawData = rawData[rawData['gameType'] == 'R']\n",
    "rawData = rawData[rawData['eventSubID'] == 0]\n",
    "rawData = rawData[['eventID',\n",
    "         'gameID',\n",
    "         'eventTypeID',\n",
    "         'eventDescription',\n",
    "         'periodNum',\n",
    "         'periodTime',\n",
    "         'xCoordinate',\n",
    "         'yCoordinate',\n",
    "         'teamID','homeTeamID','awayTeamID','playerID','penaltyMinutes']]"
   ]
  },
  {
   "cell_type": "code",
   "execution_count": 37,
   "metadata": {
    "pycharm": {
     "is_executing": true
    }
   },
   "outputs": [],
   "source": [
    "# Merging box score data\n",
    "rawData = pd.merge(rawData, \n",
    "                   boxscores, \n",
    "                   how='left', \n",
    "                   left_on=['gameID', 'playerID'], \n",
    "                   right_on=['gameID', 'playerID'],\n",
    "                   suffixes=('', '_box'))"
   ]
  },
  {
   "cell_type": "code",
   "execution_count": 38,
   "metadata": {
    "pycharm": {
     "is_executing": true
    }
   },
   "outputs": [],
   "source": [
    "# Getting only the desired events\n",
    "rawDataFiltered = rawData[rawData['eventTypeID'].isin(['FACEOFF',\n",
    "                             'SHOT',\n",
    "                             'MISSED_SHOT',\n",
    "                             'BLOCKED_SHOT',\n",
    "                             'TAKEAWAY',\n",
    "                             'GIVEAWAY',\n",
    "                             'HIT',\n",
    "                             'GOAL',\n",
    "                             'PERIOD_END',\n",
    "                             'EARLY_INT_START',\n",
    "                             'PENALTY',\n",
    "                             'STOP',\n",
    "                             'EARLY_INT_END',\n",
    "                             'EARLY_INT_END'])]\n",
    "# rawDataFiltered = rawDataFiltered[rawDataFiltered['playerType'].isin(['NULL', \n",
    "#                                    'Winner', \n",
    "#                                    'Loser', \n",
    "#                                    'Hitter', \n",
    "#                                    'PlayerID','Shooter','Blocker','Unknown','Scorer','PenaltyOn','DrewBy'])]\n",
    "# Sorting\n",
    "rawDataFiltered = rawDataFiltered.sort_values(by=['gameID', 'eventID'])"
   ]
  },
  {
   "cell_type": "code",
   "execution_count": 39,
   "metadata": {
    "pycharm": {
     "is_executing": true
    }
   },
   "outputs": [],
   "source": [
    "# Converting period number to numeric (seems to be read in as a string)\n",
    "rawDataFiltered['periodNum'] = pd.to_numeric(rawDataFiltered['periodNum'])\n",
    "\n",
    "# Filtering to only the 1st threee period for consistency\n",
    "rawDataFiltered = rawDataFiltered[rawDataFiltered['periodNum'] <= 3]"
   ]
  },
  {
   "cell_type": "code",
   "execution_count": 40,
   "metadata": {
    "pycharm": {
     "is_executing": true
    }
   },
   "outputs": [],
   "source": [
    "def team_type(teamID, homeTeamID, awayTeamID):\n",
    "    if teamID == homeTeamID:\n",
    "        return 'HOME'\n",
    "    elif teamID == awayTeamID:\n",
    "        return 'AWAY'\n",
    "    else:\n",
    "        return np.nan\n",
    "\n",
    "def coordinate_normalization(xCoord, teamType, periodNum):\n",
    "    if teamType == np.nan:\n",
    "        return None\n",
    "    else:\n",
    "        if int(periodNum)%2 == 1:\n",
    "            if teamType == 'AWAY':\n",
    "                return xCoord\n",
    "            else:\n",
    "                return -1 * xCoord\n",
    "        else:\n",
    "            if teamType == 'AWAY':\n",
    "                return xCoord\n",
    "            else:\n",
    "                return -1 * xCoord\n",
    "            \n",
    "def elapsed_seconds(periodNum, periodTime):\n",
    "    periodTime = pd.Timedelta(periodTime)\n",
    "    return (int(periodNum) - 1) * 20 * 60 + periodTime.total_seconds()/60\n",
    "\n",
    "class Queue:\n",
    "    #CITATION: https://runestone.academy/runestone/books/published/pythonds/BasicDS/ImplementingaQueueinPython.html\n",
    "    def __init__(self):\n",
    "        self.queue = []\n",
    "\n",
    "    def isEmpty(self):\n",
    "        return self.queue == []\n",
    "\n",
    "    def enqueue(self, item):\n",
    "        self.queue.insert(0,item)\n",
    "\n",
    "    def dequeue(self):\n",
    "        return self.queue.pop()\n",
    "\n",
    "    def size(self):\n",
    "        return len(self.queue)\n",
    "    \n",
    "    def get_queue(self):\n",
    "        return self.queue\n",
    "\n",
    "    def exchange(self, oldItem, newItem):\n",
    "        self.queue[self.queue.index(oldItem)] = newItem\n",
    "        \n",
    "    def remove(self, item):\n",
    "        self.queue.remove(item)"
   ]
  },
  {
   "cell_type": "code",
   "execution_count": 41,
   "metadata": {
    "pycharm": {
     "is_executing": true
    }
   },
   "outputs": [],
   "source": [
    "rawDataFiltered['teamType'] = rawDataFiltered.apply(lambda row: team_type(row['teamID'], \n",
    "                                                                          row['homeTeamID'], \n",
    "                                                                          row['awayTeamID']) ,axis=1)"
   ]
  },
  {
   "cell_type": "code",
   "execution_count": 42,
   "metadata": {
    "pycharm": {
     "is_executing": true
    }
   },
   "outputs": [],
   "source": [
    "rawDataFiltered['xCoordinate'] = rawDataFiltered.apply(lambda row: coordinate_normalization(row['xCoordinate'], \n",
    "                                                           row['teamType'], \n",
    "                                                           row['periodNum']), axis=1)"
   ]
  },
  {
   "cell_type": "code",
   "execution_count": 43,
   "metadata": {
    "pycharm": {
     "is_executing": true
    }
   },
   "outputs": [],
   "source": [
    "rawDataFiltered['secondsElapsed'] = rawDataFiltered.apply(lambda row: elapsed_seconds(row['periodNum'], row['periodTime']), axis=1)"
   ]
  },
  {
   "cell_type": "code",
   "execution_count": 44,
   "metadata": {
    "pycharm": {
     "is_executing": true
    }
   },
   "outputs": [],
   "source": [
    "sequences = []\n",
    "actionEvents = ['FACEOFF',\n",
    "                'SHOT',\n",
    "                'MISSED_SHOT',\n",
    "                'BLOCKED_SHOT',\n",
    "                'TAKEAWAY',\n",
    "                'GIVEAWAY',\n",
    "                'HIT',\n",
    "                'GOAL']\n",
    "startEndEvents = ['PERIOD_START',\n",
    "                  'PERIOD_END',\n",
    "                  'EARLY_INT_START',\n",
    "                  'PENALTY',\n",
    "                  'STOP',\n",
    "                  'SHOOTOUT_COMPLETE',\n",
    "                  'GAME_END',\n",
    "                  'EARLY_INT_END',\n",
    "                  'EARLY_INT_END']\n",
    "\n",
    "sequenceNum = 0\n",
    "eventNum = 0\n",
    "context = {'goalDiff':0, 'manpowerDiff':0, 'periodNum':1}\n",
    "penaltyQueue = Queue()\n",
    "for index, row in rawDataFiltered.iterrows():\n",
    "    if index % 100000 == 0:\n",
    "        print((index/len(rawDataFiltered))*100, '%')\n",
    "    # Computing if respective team is home or away\n",
    "    teamType = team_type(row['teamID'], row['homeTeamID'], row['awayTeamID'])\n",
    "        \n",
    "    # Catching penalties to update the context\n",
    "    if row['eventTypeID'] == 'PENALTY':\n",
    "        if int(row['penaltyMinutes']) != 10:\n",
    "            # Getting the end time of the penalty (in seconds)\n",
    "            penaltyStart = elapsed_seconds(row['periodNum'],row['periodTime'])\n",
    "            penaltyEnd = penaltyStart + row['penaltyMinutes'] * 60\n",
    "            \n",
    "\n",
    "            # Determining who took the penalty to update the context\n",
    "            if teamType == 'HOME':\n",
    "                context['manpowerDiff'] += 1\n",
    "            else:\n",
    "                context['manpowerDiff'] += -1\n",
    "\n",
    "            # Enqueuing the penalty\n",
    "            penaltyQueue.enqueue({'team':teamType, \n",
    "                                  'penaltyStart': penaltyStart, \n",
    "                                  'penaltyEnd':penaltyEnd, \n",
    "                                  'penaltyLength': \n",
    "                                  row['penaltyMinutes']})\n",
    "#             print(penaltyQueue.get_queue())\n",
    "#             print(\"***************************************************\")\n",
    "    else:\n",
    "        # If there currently is a penalty in the penalty queue\n",
    "        if penaltyQueue.size() > 0:\n",
    "            # Determining the time of the action\n",
    "            actionTime = elapsed_seconds(row['periodNum'],row['periodTime'])\n",
    "            \n",
    "            # Iterating through all  the penalties in the queue from oldest to newest\n",
    "            for penalty in reversed(penaltyQueue.get_queue()):\n",
    "                # If the action occured after the penalty ended, we update the context and pop the penalty\n",
    "                if penalty['penaltyEnd'] < actionTime:\n",
    "                    # Popping the penalty\n",
    "                    penaltyQueue.remove(penalty)\n",
    "\n",
    "                    # Updating the context\n",
    "                    if penalty['team'] == 'HOME':\n",
    "                        context['manpowerDiff'] -= 1\n",
    "                    else:\n",
    "                        context['manpowerDiff'] -= -1\n",
    "            \n",
    "        # If the event type is a goal\n",
    "        if row['eventTypeID'] == 'GOAL':\n",
    "            \n",
    "            # Injecting the shot before the goal# Adding in the next sequency\n",
    "            sequences.append([row['gameID'],  \n",
    "                      context['goalDiff'],\n",
    "                      context['manpowerDiff'],\n",
    "                      context['periodNum'],\n",
    "                      sequenceNum, \n",
    "                      eventNum, \n",
    "                      'SHOT',  # action type\n",
    "                      teamType,  # Home/Away\n",
    "#                       row['zone']\n",
    "                      row['secondsElapsed'],\n",
    "                          row['xCoordinate'],\n",
    "                          row['yCoordinate']]) #Neutral/Offensive/Defensive/NULL\n",
    "            # Incrementing the event number\n",
    "            eventNum += 1\n",
    "            \n",
    "            # Updating the context\n",
    "            if teamType == 'HOME':\n",
    "                context['goalDiff'] -= 1\n",
    "            else:\n",
    "                context['goalDiff'] -= -1\n",
    "\n",
    "            # Defining home/away flags to only pop off the minimum number of penalties\n",
    "            FLAGS = {'HOME':True, 'AWAY':True}\n",
    "            \n",
    "            # Determining the time of the action\n",
    "            actionTime = elapsed_seconds(row['periodNum'],row['periodTime'])\n",
    "            \n",
    "            # If there currently is a penalty in the penalty queue\n",
    "            if penaltyQueue.size() > 0:\n",
    "                \n",
    "                # Iterating through all  the penalties in the queue from oldest to newest\n",
    "                for penalty in reversed(penaltyQueue.get_queue()):\n",
    "                    \n",
    "                    # If the penalty is a 5 minute major, the player must serve the full 5 minutes (no change needed)\n",
    "                    # If the penalty is over it would have been popped in the above if statement\n",
    "                    if penalty['penaltyLength'] == 5:\n",
    "                        continue\n",
    "                    else:\n",
    "                        \n",
    "                        # Making sure its not a shorthanded goal and we haven't already popped a penalty for this goal/team\n",
    "                        if (penalty['team'] != teamType) & (FLAGS[penalty['team']]):\n",
    "                            \n",
    "                            # Creating the updated penalty\n",
    "                            newPenalty = penalty\n",
    "                            newPenalty['penaltyStart'] = actionTime\n",
    "                            newPenalty['penaltyLength'] += -120\n",
    "                            newPenalty['penaltyEnd'] = newPenalty['penaltyStart'] + newPenalty['penaltyLength']\n",
    "        \n",
    "                            if penalty['penaltyLength'] <= 0:\n",
    "                \n",
    "                                # Popping the penalty off\n",
    "                                penaltyQueue.remove(penalty)\n",
    "                        \n",
    "                                # Updating the context\n",
    "                                if penalty['team'] == 'HOME':\n",
    "                                    context['manpowerDiff'] -= 1\n",
    "                                else:\n",
    "                                    context['manpowerDiff'] -= -1\n",
    "                            else:\n",
    "                                \n",
    "                                # replacing the old penalty info with the new one\n",
    "                                penaltyQueue.exchange(penalty, newPenalty)\n",
    "                                \n",
    "                            FLAGS[penalty['team']] == False \n",
    "                            \n",
    "    # Updating the context if needed\n",
    "    if row['periodNum'] != context['periodNum']:\n",
    "        context['periodNum'] = row['periodNum']\n",
    "    \n",
    "    # Adding in the next sequency\n",
    "    if (row['eventTypeID'] not in startEndEvents) | (row['eventTypeID'] == 'PENALTY'):\n",
    "        sequences.append([row['gameID'],  \n",
    "                          context['goalDiff'],\n",
    "                          context['manpowerDiff'],\n",
    "                          context['periodNum'],\n",
    "                          sequenceNum, \n",
    "                          eventNum, \n",
    "                          row['eventTypeID'],  # action type\n",
    "                          teamType,  # Home/Away\n",
    "                          row['secondsElapsed'],\n",
    "                          row['xCoordinate'],\n",
    "                          row['yCoordinate']]) #Neutral/Offensive/Defensive/NULL\n",
    "    if row['eventTypeID'] in actionEvents:\n",
    "        eventNum += 1\n",
    "    else:\n",
    "        sequenceNum += 1\n",
    "        eventNum = 0\n",
    "#     break\n",
    "sequenceData = pd.DataFrame(sequences, \n",
    "                            columns=['gameID', \n",
    "                                     'goalDiff', \n",
    "                                     'manpowerDiff',\n",
    "                                     'periodNum', \n",
    "                                     'sequenceNum',\n",
    "                                     'eventNum',\n",
    "                                     'event', \n",
    "                                     'team',\n",
    "                                     'secondsElapsed',\n",
    "                                     'xCoord',\n",
    "                                     'yCoord'])"
   ]
  },
  {
   "cell_type": "code",
   "execution_count": 45,
   "metadata": {
    "pycharm": {
     "is_executing": true
    }
   },
   "outputs": [],
   "source": [
    "# Vectorizing the events\n",
    "eventVectorizer = CountVectorizer()\n",
    "eventVectorizer.fit(sequenceData['event'])\n",
    "vectorizedEvents = eventVectorizer.transform(sequenceData['event']).toarray()"
   ]
  },
  {
   "cell_type": "code",
   "execution_count": 46,
   "metadata": {
    "pycharm": {
     "is_executing": true
    }
   },
   "outputs": [],
   "source": [
    "# List of actions in the correct order according to its position on the vectorized array\n",
    "actions = [action[0] for action in sorted(eventVectorizer.vocabulary_.items())]\n",
    "\n",
    "# Adding the vectorized events onto the sequence data\n",
    "sequenceData = pd.concat([sequenceData,\n",
    "                          pd.DataFrame(data=vectorizedEvents,\n",
    "                                       columns=actions)],axis=1)\n",
    "\n",
    "# Dropping event as it is no longer needed\n",
    "sequenceData = sequenceData.drop(['event'],axis=1)"
   ]
  },
  {
   "cell_type": "code",
   "execution_count": 47,
   "metadata": {
    "pycharm": {
     "is_executing": true
    }
   },
   "outputs": [],
   "source": [
    "# Filling NAs\n",
    "sequenceData['team'] = sequenceData['team'].fillna(value='neither')"
   ]
  },
  {
   "cell_type": "code",
   "execution_count": 48,
   "metadata": {
    "pycharm": {
     "is_executing": true
    }
   },
   "outputs": [],
   "source": [
    "# Vectorizing the teams\n",
    "teamVectorizer = CountVectorizer()\n",
    "teamVectorizer.fit(sequenceData['team'])\n",
    "vectorizedTeams = teamVectorizer.transform(sequenceData['team']).toarray()"
   ]
  },
  {
   "cell_type": "code",
   "execution_count": 49,
   "metadata": {
    "pycharm": {
     "is_executing": true
    }
   },
   "outputs": [],
   "source": [
    "# List of teams in the correct order according to its position on the vectorized array\n",
    "teams = [action[0] for action in sorted(teamVectorizer.vocabulary_.items())]\n",
    "\n",
    "# Adding the vectorized events onto the sequence data\n",
    "sequenceData = pd.concat([sequenceData,\n",
    "                          pd.DataFrame(data=vectorizedTeams,\n",
    "                                       columns=teams)],axis=1)\n",
    "\n",
    "# Dropping event as it is no longer needed\n",
    "sequenceData = sequenceData.drop(['team'],axis=1)"
   ]
  },
  {
   "cell_type": "code",
   "execution_count": 50,
   "metadata": {
    "pycharm": {
     "is_executing": true
    }
   },
   "outputs": [],
   "source": [
    "# Defining a sequence data object\n",
    "sequenceDataTMinusOne = sequenceData.drop(['goalDiff', 'manpowerDiff', 'periodNum'],axis=1).copy(deep=True)\n",
    "\n",
    "# Incrementing the eventnumber to use to join below\n",
    "sequenceDataTMinusOne['eventNum'] -= 1"
   ]
  },
  {
   "cell_type": "code",
   "execution_count": 51,
   "metadata": {
    "pycharm": {
     "is_executing": true
    }
   },
   "outputs": [],
   "source": [
    "# Merging the time t and t+1 datasets\n",
    "sequenceDataComplete = pd.merge(left=sequenceData, \n",
    "         right=sequenceDataTMinusOne, \n",
    "         how='left',\n",
    "         left_on=['gameID', 'sequenceNum', 'eventNum'],\n",
    "         right_on=['gameID', 'sequenceNum', 'eventNum'],\n",
    "        suffixes=('','_TMinusOne'))"
   ]
  },
  {
   "cell_type": "code",
   "execution_count": 52,
   "metadata": {
    "pycharm": {
     "is_executing": true
    }
   },
   "outputs": [],
   "source": [
    "# Re-ordering columns\n",
    "sequenceDataComplete = sequenceDataComplete[['gameID', \n",
    "                      'sequenceNum',\n",
    "                      'eventNum', \n",
    "                      'goalDiff', \n",
    "                      'manpowerDiff',\n",
    "                      'periodNum',\n",
    "                      'secondsElapsed', \n",
    "                      'xCoord', \n",
    "                      'yCoord', \n",
    "                      'blocked_shot',\n",
    "                      'faceoff', \n",
    "                      'giveaway', \n",
    "                      'goal', \n",
    "                      'hit',\n",
    "                      'missed_shot',\n",
    "                      'penalty', \n",
    "                      'shot',\n",
    "                      'takeaway',\n",
    "                      'away', \n",
    "                      'home',\n",
    "                      'secondsElapsed_TMinusOne',\n",
    "                      'xCoord_TMinusOne',\n",
    "                      'yCoord_TMinusOne', \n",
    "                      'blocked_shot_TMinusOne',\n",
    "                      'faceoff_TMinusOne', \n",
    "                      'giveaway_TMinusOne', \n",
    "                      'goal_TMinusOne',\n",
    "                      'hit_TMinusOne', \n",
    "                      'missed_shot_TMinusOne',\n",
    "                      'penalty_TMinusOne',\n",
    "                      'shot_TMinusOne', \n",
    "                      'takeaway_TMinusOne', \n",
    "                      'away_TMinusOne',\n",
    "                      'home_TMinusOne']]"
   ]
  },
  {
   "cell_type": "code",
   "execution_count": 77,
   "metadata": {},
   "outputs": [
    {
     "data": {
      "text/plain": [
       "Index(['gameID', 'sequenceNum', 'eventNum', 'goalDiff', 'manpowerDiff',\n",
       "       'periodNum', 'secondsElapsed', 'xCoord', 'yCoord', 'blocked_shot',\n",
       "       'faceoff', 'giveaway', 'goal', 'hit', 'missed_shot', 'penalty', 'shot',\n",
       "       'takeaway', 'away', 'home', 'secondsElapsed_TMinusOne',\n",
       "       'xCoord_TMinusOne', 'yCoord_TMinusOne', 'blocked_shot_TMinusOne',\n",
       "       'faceoff_TMinusOne', 'giveaway_TMinusOne', 'goal_TMinusOne',\n",
       "       'hit_TMinusOne', 'missed_shot_TMinusOne', 'penalty_TMinusOne',\n",
       "       'shot_TMinusOne', 'takeaway_TMinusOne', 'away_TMinusOne',\n",
       "       'home_TMinusOne'],\n",
       "      dtype='object')"
      ]
     },
     "execution_count": 77,
     "metadata": {},
     "output_type": "execute_result"
    }
   ],
   "source": [
    "sequenceDataComplete.columns"
   ]
  },
  {
   "cell_type": "markdown",
   "metadata": {},
   "source": [
    "# Model Creation\n",
    "## Model Definition"
   ]
  },
  {
   "cell_type": "code",
   "execution_count": 121,
   "metadata": {
    "pycharm": {
     "is_executing": true
    }
   },
   "outputs": [],
   "source": [
    "# determine the supported device\n",
    "def get_device():\n",
    "    if torch.cuda.is_available():\n",
    "        device = torch.device('cuda:0')\n",
    "    else:\n",
    "        device = torch.device('cpu') # don't have GPU \n",
    "    return device\n",
    "\n",
    "# convert a df to tensor to be used in pytorch\n",
    "def df_to_tensor(df):\n",
    "    device = get_device()\n",
    "    return torch.from_numpy(df.values).float().to(device)\n",
    "\n",
    "def custom_loss(modelInput, model, i):\n",
    "    t = modelInput[0:i+1,:,3:20]\n",
    "    tPlusOne = modelInput[0:i+1,:,[3,4,5,20,21,22,23,24,25,26,27,28,29,30,31,32,33]]\n",
    "    # If goal scored by home team (if event is a goal, and team is home)\n",
    "    if (modelInput[i,:,[2]] == 1) & (modelInput[i,:,[19]] == 1):\n",
    "        R = torch.tensor([1,0,0]).to(get_device())\n",
    "    # If goal scored by away team (if event is a goal, and team is away) \n",
    "    elif (modelInput[i,:,[2]] == 1) & (modelInput[i,:,[18]] == 1):\n",
    "        R = torch.tensor([0,1,0]).to(get_device())\n",
    "    # No one scored\n",
    "    else:\n",
    "        R = torch.tensor([0,0,1]).to(get_device())\n",
    "        \n",
    "    if torch.sum(torch.isnan(tPlusOne)) > 0:\n",
    "        loss = R + model(t)\n",
    "    else: \n",
    "        loss = R + model(tPlusOne) - model(t) \n",
    "    \n",
    "    return torch.mean(torch.square(loss))"
   ]
  },
  {
   "cell_type": "code",
   "execution_count": 122,
   "metadata": {
    "pycharm": {
     "is_executing": true
    }
   },
   "outputs": [],
   "source": [
    "class DQN(nn.Module):\n",
    "    def __init__(self):\n",
    "        super().__init__()\n",
    "        self.inputSize = 17\n",
    "        self.numLSTMNodes = 1000\n",
    "        self.numLSTMLayers = 1\n",
    "        \n",
    "        self.lstmLayer = nn.LSTM(input_size=self.inputSize, \n",
    "                                  hidden_size=self.numLSTMNodes,\n",
    "                                  num_layers=self.numLSTMLayers, \n",
    "                                  bias=True, \n",
    "                                  dropout=0, \n",
    "                                  batch_first=True)\n",
    "        self.hidden1 = nn.Linear(in_features=self.numLSTMNodes, out_features=1000)   \n",
    "        self.hidden2 = nn.Linear(in_features=1000, out_features=1000)   \n",
    "        self.hidden3 = nn.Linear(in_features=1000, out_features=1000)   \n",
    "        self.hidden4 = nn.Linear(in_features=1000, out_features=1000)\n",
    "        self.output = nn.Linear(in_features=1000, out_features=3)\n",
    "        \n",
    "    def forward(self, modelInput):\n",
    "        [1, 1, 4]\n",
    "        4, 1, 1000\n",
    "        hidden = (\n",
    "                    torch.cuda.FloatTensor(self.numLSTMLayers , 1, self.numLSTMNodes).normal_() ,\n",
    "                    torch.cuda.FloatTensor(self.numLSTMLayers , 1, self.numLSTMNodes).normal_() \n",
    "                  )\n",
    "        for sequence in modelInput:\n",
    "            out, hidden = self.lstmLayer(sequence.view(1,1,-1), hidden)\n",
    "#         t = out\n",
    "        t = F.relu(out)\n",
    "        t = F.relu(self.hidden1(t))\n",
    "        t = F.relu(self.hidden2(t))\n",
    "        t = F.relu(self.hidden3(t))\n",
    "        t = F.relu(self.hidden4(t))\n",
    "        t = F.softmax(self.output(t),dim=2)\n",
    "        return t   "
   ]
  },
  {
   "cell_type": "code",
   "execution_count": 55,
   "metadata": {
    "pycharm": {
     "is_executing": true
    }
   },
   "outputs": [],
   "source": [
    "# Moving the df to GPU\n",
    "dfGPU = df_to_tensor(sequenceDataComplete)"
   ]
  },
  {
   "cell_type": "code",
   "execution_count": 57,
   "metadata": {
    "pycharm": {
     "is_executing": true
    }
   },
   "outputs": [],
   "source": [
    "# Reshaping\n",
    "# (batch size, sequence length, num features)\n",
    "dfGPU = dfGPU.reshape((-1,1,34))"
   ]
  },
  {
   "cell_type": "code",
   "execution_count": 109,
   "metadata": {},
   "outputs": [
    {
     "data": {
      "text/plain": [
       "<generator object Module.parameters at 0x0000016A092EA5F0>"
      ]
     },
     "execution_count": 109,
     "metadata": {},
     "output_type": "execute_result"
    }
   ],
   "source": [
    "network.parameters()"
   ]
  },
  {
   "cell_type": "code",
   "execution_count": 125,
   "metadata": {
    "pycharm": {
     "is_executing": true
    }
   },
   "outputs": [],
   "source": [
    "network = DQN()\n",
    "device = get_device()\n",
    "network.to(device)\n",
    "\n",
    "optimizer = optim.Adam(network.parameters(), lr=0.0001)\n",
    "    \n",
    "# Each Episode\n",
    "for gameID in sequenceDataComplete['gameID'].unique():\n",
    "    gameDataGPU = dfGPU[:,dfGPU[:,:,0][0,:] == gameID,:]\n",
    "    gameData = sequenceDataComplete[sequenceDataComplete['gameID'] == gameID]\n",
    "    for sequenceNum in sequenceDataComplete['sequenceNum'].unique():\n",
    "        modelInput = gameDataGPU[gameDataGPU[:,:,1][:,0] == sequenceNum,:,:]\n",
    "#         print(modelInput)\n",
    "        i = 0\n",
    "        while i <  modelInput.shape[0]:\n",
    "            # calculate the loss\n",
    "            loss = custom_loss(modelInput, network, i)\n",
    "            i += 1\n",
    "\n",
    "#             if sequenceNum > 0:\n",
    "#                 break\n",
    "#             print('**********************')\n",
    "\n",
    "\n",
    "            # zero gradients\n",
    "            optimizer.zero_grad()\n",
    "\n",
    "            # perform backprop and update weights\n",
    "            loss.backward()\n",
    "            optimizer.step()\n",
    "\n",
    "        \n",
    "\n",
    "        "
   ]
  },
  {
   "cell_type": "code",
   "execution_count": null,
   "metadata": {
    "pycharm": {
     "is_executing": true
    }
   },
   "outputs": [],
   "source": []
  },
  {
   "cell_type": "code",
   "execution_count": null,
   "metadata": {
    "pycharm": {
     "is_executing": true
    }
   },
   "outputs": [],
   "source": []
  },
  {
   "cell_type": "code",
   "execution_count": null,
   "metadata": {
    "pycharm": {
     "is_executing": true
    }
   },
   "outputs": [],
   "source": []
  },
  {
   "cell_type": "code",
   "execution_count": null,
   "metadata": {
    "pycharm": {
     "is_executing": true
    }
   },
   "outputs": [],
   "source": []
  }
 ],
 "metadata": {
  "kernelspec": {
   "display_name": "Python 3",
   "language": "python",
   "name": "python3"
  },
  "language_info": {
   "codemirror_mode": {
    "name": "ipython",
    "version": 3
   },
   "file_extension": ".py",
   "mimetype": "text/x-python",
   "name": "python",
   "nbconvert_exporter": "python",
   "pygments_lexer": "ipython3",
   "version": "3.8.5"
  }
 },
 "nbformat": 4,
 "nbformat_minor": 1
}
