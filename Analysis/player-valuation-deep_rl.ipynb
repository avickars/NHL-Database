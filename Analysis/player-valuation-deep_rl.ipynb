{
 "cells": [
  {
   "cell_type": "code",
   "execution_count": 52,
   "metadata": {},
   "outputs": [],
   "source": [
    "import pandas as pd\n",
    "from SQLCode import DatabaseConnection\n",
    "from SQLCode import DatabaseCredentials as DBC\n",
    "import numpy as np\n",
    "\n",
    "\n",
    "from sklearn.feature_extraction.text import CountVectorizer\n",
    "\n",
    "from torch.utils.data import DataLoader\n",
    "import torch.nn as nn\n",
    "import torch.nn.functional as F\n",
    "import torch.optim as optim\n",
    "import torch\n",
    "\n",
    "from sklearn import preprocessing"
   ]
  },
  {
   "cell_type": "code",
   "execution_count": 55,
   "metadata": {},
   "outputs": [],
   "source": [
    "# Opening connection\n",
    "creds = DBC.DataBaseCredentials()\n",
    "conn = DatabaseConnection.sql_connection(creds.server, creds.database, creds.user, creds.password)\n",
    "connection = conn.open()\n",
    "cursor = connection.cursor()"
   ]
  },
  {
   "cell_type": "code",
   "execution_count": 56,
   "metadata": {
    "pycharm": {
     "is_executing": true
    }
   },
   "outputs": [],
   "source": [
    "# liveFeed = pd.read_sql_query(\"select * from live_feed\", connection)\n",
    "liveFeed = pd.read_sql_query(\"select * from live_feed where gameID = 2020020634\", connection)"
   ]
  },
  {
   "cell_type": "code",
   "execution_count": 57,
   "metadata": {
    "pycharm": {
     "is_executing": true
    }
   },
   "outputs": [],
   "source": [
    "# Getting the seasons data\n",
    "seasons = pd.read_sql_query(\"select * from schedules\", connection)"
   ]
  },
  {
   "cell_type": "code",
   "execution_count": 58,
   "metadata": {
    "pycharm": {
     "is_executing": true
    }
   },
   "outputs": [],
   "source": [
    "# boxscores = pd.read_sql_query(\"select gameID, teamID, playerID from box_scores\", connection)\n",
    "boxscores = pd.read_sql_query(\"select gameID, teamID, playerID from box_scores where gameID = 2020020634\", connection)"
   ]
  },
  {
   "cell_type": "markdown",
   "metadata": {},
   "source": [
    "# Creating Model Input"
   ]
  },
  {
   "cell_type": "code",
   "execution_count": 59,
   "metadata": {
    "pycharm": {
     "is_executing": true
    }
   },
   "outputs": [],
   "source": [
    "# Filtering to regular seasons games and 20102011 onwards (when live data started)\n",
    "seasonsFiltered = seasons[seasons['seasonID'] >= 20102011]\n",
    "seasonsFiltered = seasonsFiltered[seasonsFiltered['gameType'] == 'R']"
   ]
  },
  {
   "cell_type": "code",
   "execution_count": 60,
   "metadata": {
    "pycharm": {
     "is_executing": true
    }
   },
   "outputs": [],
   "source": [
    "# Getting and filtering the raw data\n",
    "rawData = pd.merge(liveFeed,seasons, how='inner',on='gameID')\n",
    "rawData = rawData[rawData['seasonID'] >= 20102011]\n",
    "# rawData = rawData[rawData['gameType'] == 'R']\n",
    "# Keeping assists so we can add them in\n",
    "rawData = rawData[(rawData['eventSubID'] == 0) | (rawData['playerType'] == 'Assist')]\n",
    "rawData = rawData[['eventID',\n",
    "         'eventSubID',\n",
    "         'gameID',\n",
    "         'eventTypeID',\n",
    "         'playerType',\n",
    "         'eventDescription',\n",
    "         'periodNum',\n",
    "         'periodTime',\n",
    "         'xCoordinate',\n",
    "         'yCoordinate',\n",
    "         'teamID',\n",
    "         'homeTeamID','awayTeamID','playerID','penaltyMinutes']]"
   ]
  },
  {
   "cell_type": "code",
   "execution_count": 61,
   "metadata": {
    "pycharm": {
     "is_executing": true
    }
   },
   "outputs": [],
   "source": [
    "# Adding in assist\n",
    "rawData['eventTypeID'] = np.where((rawData['eventTypeID'] == 'GOAL') & (rawData['playerType'] == 'Assist'), 'ASSIST', rawData['eventTypeID'])"
   ]
  },
  {
   "cell_type": "code",
   "execution_count": 62,
   "metadata": {
    "pycharm": {
     "is_executing": true
    }
   },
   "outputs": [],
   "source": [
    "# Dont need this column anymore\n",
    "rawData = rawData.drop('playerType',axis=1)"
   ]
  },
  {
   "cell_type": "code",
   "execution_count": 63,
   "metadata": {
    "pycharm": {
     "is_executing": true
    }
   },
   "outputs": [],
   "source": [
    "# Merging box score data\n",
    "rawData = pd.merge(rawData, \n",
    "                   boxscores, \n",
    "                   how='left', \n",
    "                   left_on=['gameID', 'playerID'], \n",
    "                   right_on=['gameID', 'playerID'],\n",
    "                   suffixes=('', '_box'))"
   ]
  },
  {
   "cell_type": "code",
   "execution_count": 64,
   "metadata": {
    "pycharm": {
     "is_executing": true
    }
   },
   "outputs": [],
   "source": [
    "# Getting only the desired events\n",
    "rawDataFiltered = rawData[rawData['eventTypeID'].isin(['FACEOFF',\n",
    "                             'SHOT',\n",
    "                             'MISSED_SHOT',\n",
    "                             'BLOCKED_SHOT',\n",
    "                             'TAKEAWAY',\n",
    "                             'GIVEAWAY',\n",
    "                             'HIT',\n",
    "                             'GOAL',\n",
    "                             'ASSIST',\n",
    "                             'PERIOD_END',\n",
    "                             'EARLY_INT_START',\n",
    "                             'PENALTY',\n",
    "                             'STOP',\n",
    "                             'EARLY_INT_END',\n",
    "                             'EARLY_INT_END'])]\n",
    "# rawDataFiltered = rawDataFiltered[rawDataFiltered['playerType'].isin(['NULL', \n",
    "#                                    'Winner', \n",
    "#                                    'Loser', \n",
    "#                                    'Hitter', \n",
    "#                                    'PlayerID','Shooter','Blocker','Unknown','Scorer','PenaltyOn','DrewBy'])]\n",
    "\n",
    "\n",
    "# Sorting\n",
    "rawDataFiltered = rawDataFiltered.sort_values(by=['gameID', 'eventID','eventSubID'],ascending=[True,True,False])"
   ]
  },
  {
   "cell_type": "code",
   "execution_count": 65,
   "metadata": {
    "pycharm": {
     "is_executing": true
    }
   },
   "outputs": [],
   "source": [
    "# Don't need this column anymore\n",
    "rawDataFiltered = rawDataFiltered.drop('eventSubID',axis=1)"
   ]
  },
  {
   "cell_type": "code",
   "execution_count": 66,
   "metadata": {
    "pycharm": {
     "is_executing": true
    }
   },
   "outputs": [],
   "source": [
    "# Converting period number to numeric (seems to be read in as a string)\n",
    "rawDataFiltered['periodNum'] = pd.to_numeric(rawDataFiltered['periodNum'])\n",
    "\n",
    "# Filtering to only the 1st threee period for consistency\n",
    "rawDataFiltered = rawDataFiltered[rawDataFiltered['periodNum'] <= 3]"
   ]
  },
  {
   "cell_type": "code",
   "execution_count": 67,
   "metadata": {
    "pycharm": {
     "is_executing": true
    }
   },
   "outputs": [],
   "source": [
    "def team_type(teamID, homeTeamID, awayTeamID):\n",
    "    if teamID == homeTeamID:\n",
    "        return 'HOME'\n",
    "    elif teamID == awayTeamID:\n",
    "        return 'AWAY'\n",
    "    else:\n",
    "        return np.nan\n",
    "\n",
    "def coordinate_normalization(xCoord, teamType, periodNum):\n",
    "    if teamType == np.nan:\n",
    "        return None\n",
    "    else:\n",
    "        if int(periodNum)%2 == 1:\n",
    "            if teamType == 'AWAY':\n",
    "                return xCoord\n",
    "            else:\n",
    "                return -1 * xCoord\n",
    "        else:\n",
    "            if teamType == 'AWAY':\n",
    "                return -1 * xCoord\n",
    "            else:\n",
    "                return xCoord\n",
    "            \n",
    "def elapsed_seconds(periodNum, periodTime):\n",
    "    periodTime = pd.Timedelta(periodTime)\n",
    "    return (int(periodNum) - 1) * 20 * 60 + periodTime.total_seconds()/60\n",
    "\n",
    "class Queue:\n",
    "    #CITATION: https://runestone.academy/runestone/books/published/pythonds/BasicDS/ImplementingaQueueinPython.html\n",
    "    def __init__(self):\n",
    "        self.queue = []\n",
    "\n",
    "    def isEmpty(self):\n",
    "        return self.queue == []\n",
    "\n",
    "    def enqueue(self, item):\n",
    "        self.queue.insert(0,item)\n",
    "\n",
    "    def dequeue(self):\n",
    "        return self.queue.pop()\n",
    "\n",
    "    def size(self):\n",
    "        return len(self.queue)\n",
    "    \n",
    "    def get_queue(self):\n",
    "        return self.queue\n",
    "\n",
    "    def exchange(self, oldItem, newItem):\n",
    "        self.queue[self.queue.index(oldItem)] = newItem\n",
    "        \n",
    "    def remove(self, item):\n",
    "        self.queue.remove(item)"
   ]
  },
  {
   "cell_type": "code",
   "execution_count": 68,
   "metadata": {
    "pycharm": {
     "is_executing": true
    }
   },
   "outputs": [],
   "source": [
    "rawDataFiltered['teamType'] = rawDataFiltered.apply(lambda row: team_type(row['teamID'], \n",
    "                                                                          row['homeTeamID'], \n",
    "                                                                          row['awayTeamID']) ,axis=1)"
   ]
  },
  {
   "cell_type": "code",
   "execution_count": 69,
   "metadata": {
    "pycharm": {
     "is_executing": true
    }
   },
   "outputs": [],
   "source": [
    "rawDataFiltered['xCoordinate'] = rawDataFiltered.apply(lambda row: coordinate_normalization(row['xCoordinate'], \n",
    "                                                           row['teamType'], \n",
    "                                                           row['periodNum']), axis=1)"
   ]
  },
  {
   "cell_type": "code",
   "execution_count": 70,
   "metadata": {
    "pycharm": {
     "is_executing": true
    }
   },
   "outputs": [],
   "source": [
    "rawDataFiltered['secondsElapsed'] = rawDataFiltered.apply(lambda row: elapsed_seconds(row['periodNum'], row['periodTime']), axis=1)"
   ]
  },
  {
   "cell_type": "code",
   "execution_count": 71,
   "metadata": {
    "pycharm": {
     "is_executing": true
    }
   },
   "outputs": [
    {
     "data": {
      "text/html": [
       "<div>\n",
       "<style scoped>\n",
       "    .dataframe tbody tr th:only-of-type {\n",
       "        vertical-align: middle;\n",
       "    }\n",
       "\n",
       "    .dataframe tbody tr th {\n",
       "        vertical-align: top;\n",
       "    }\n",
       "\n",
       "    .dataframe thead th {\n",
       "        text-align: right;\n",
       "    }\n",
       "</style>\n",
       "<table border=\"1\" class=\"dataframe\">\n",
       "  <thead>\n",
       "    <tr style=\"text-align: right;\">\n",
       "      <th></th>\n",
       "      <th>eventID</th>\n",
       "      <th>gameID</th>\n",
       "      <th>eventTypeID</th>\n",
       "      <th>eventDescription</th>\n",
       "      <th>periodNum</th>\n",
       "      <th>periodTime</th>\n",
       "      <th>xCoordinate</th>\n",
       "      <th>yCoordinate</th>\n",
       "      <th>teamID</th>\n",
       "      <th>homeTeamID</th>\n",
       "      <th>awayTeamID</th>\n",
       "      <th>playerID</th>\n",
       "      <th>penaltyMinutes</th>\n",
       "      <th>teamID_box</th>\n",
       "      <th>teamType</th>\n",
       "      <th>secondsElapsed</th>\n",
       "    </tr>\n",
       "  </thead>\n",
       "  <tbody>\n",
       "    <tr>\n",
       "      <th>30</th>\n",
       "      <td>28</td>\n",
       "      <td>2020020634</td>\n",
       "      <td>ASSIST</td>\n",
       "      <td>Matthew Tkachuk (15) Wrist Shot, assists: John...</td>\n",
       "      <td>1</td>\n",
       "      <td>0 days 07:41:00</td>\n",
       "      <td>81.0</td>\n",
       "      <td>-1.0</td>\n",
       "      <td>20.0</td>\n",
       "      <td>20</td>\n",
       "      <td>23</td>\n",
       "      <td>8479976.0</td>\n",
       "      <td>NaN</td>\n",
       "      <td>20.0</td>\n",
       "      <td>HOME</td>\n",
       "      <td>461.0</td>\n",
       "    </tr>\n",
       "    <tr>\n",
       "      <th>29</th>\n",
       "      <td>28</td>\n",
       "      <td>2020020634</td>\n",
       "      <td>ASSIST</td>\n",
       "      <td>Matthew Tkachuk (15) Wrist Shot, assists: John...</td>\n",
       "      <td>1</td>\n",
       "      <td>0 days 07:41:00</td>\n",
       "      <td>81.0</td>\n",
       "      <td>-1.0</td>\n",
       "      <td>20.0</td>\n",
       "      <td>20</td>\n",
       "      <td>23</td>\n",
       "      <td>8476346.0</td>\n",
       "      <td>NaN</td>\n",
       "      <td>20.0</td>\n",
       "      <td>HOME</td>\n",
       "      <td>461.0</td>\n",
       "    </tr>\n",
       "    <tr>\n",
       "      <th>58</th>\n",
       "      <td>54</td>\n",
       "      <td>2020020634</td>\n",
       "      <td>ASSIST</td>\n",
       "      <td>Dillon Dube (11) Backhand, assists: Derek Ryan...</td>\n",
       "      <td>1</td>\n",
       "      <td>0 days 12:16:00</td>\n",
       "      <td>83.0</td>\n",
       "      <td>1.0</td>\n",
       "      <td>20.0</td>\n",
       "      <td>20</td>\n",
       "      <td>23</td>\n",
       "      <td>8476439.0</td>\n",
       "      <td>NaN</td>\n",
       "      <td>20.0</td>\n",
       "      <td>HOME</td>\n",
       "      <td>736.0</td>\n",
       "    </tr>\n",
       "    <tr>\n",
       "      <th>57</th>\n",
       "      <td>54</td>\n",
       "      <td>2020020634</td>\n",
       "      <td>ASSIST</td>\n",
       "      <td>Dillon Dube (11) Backhand, assists: Derek Ryan...</td>\n",
       "      <td>1</td>\n",
       "      <td>0 days 12:16:00</td>\n",
       "      <td>83.0</td>\n",
       "      <td>1.0</td>\n",
       "      <td>20.0</td>\n",
       "      <td>20</td>\n",
       "      <td>23</td>\n",
       "      <td>8478585.0</td>\n",
       "      <td>NaN</td>\n",
       "      <td>20.0</td>\n",
       "      <td>HOME</td>\n",
       "      <td>736.0</td>\n",
       "    </tr>\n",
       "    <tr>\n",
       "      <th>81</th>\n",
       "      <td>75</td>\n",
       "      <td>2020020634</td>\n",
       "      <td>ASSIST</td>\n",
       "      <td>Andrew Mangiapane (18) Wrist Shot, assists: Mi...</td>\n",
       "      <td>1</td>\n",
       "      <td>0 days 16:18:00</td>\n",
       "      <td>85.0</td>\n",
       "      <td>2.0</td>\n",
       "      <td>20.0</td>\n",
       "      <td>20</td>\n",
       "      <td>23</td>\n",
       "      <td>8475807.0</td>\n",
       "      <td>NaN</td>\n",
       "      <td>20.0</td>\n",
       "      <td>HOME</td>\n",
       "      <td>978.0</td>\n",
       "    </tr>\n",
       "    <tr>\n",
       "      <th>80</th>\n",
       "      <td>75</td>\n",
       "      <td>2020020634</td>\n",
       "      <td>ASSIST</td>\n",
       "      <td>Andrew Mangiapane (18) Wrist Shot, assists: Mi...</td>\n",
       "      <td>1</td>\n",
       "      <td>0 days 16:18:00</td>\n",
       "      <td>85.0</td>\n",
       "      <td>2.0</td>\n",
       "      <td>20.0</td>\n",
       "      <td>20</td>\n",
       "      <td>23</td>\n",
       "      <td>8474150.0</td>\n",
       "      <td>NaN</td>\n",
       "      <td>20.0</td>\n",
       "      <td>HOME</td>\n",
       "      <td>978.0</td>\n",
       "    </tr>\n",
       "    <tr>\n",
       "      <th>119</th>\n",
       "      <td>111</td>\n",
       "      <td>2020020634</td>\n",
       "      <td>ASSIST</td>\n",
       "      <td>Brett Ritchie (4) Wrist Shot, assists: Derek R...</td>\n",
       "      <td>2</td>\n",
       "      <td>0 days 05:14:00</td>\n",
       "      <td>64.0</td>\n",
       "      <td>-3.0</td>\n",
       "      <td>20.0</td>\n",
       "      <td>20</td>\n",
       "      <td>23</td>\n",
       "      <td>8479346.0</td>\n",
       "      <td>NaN</td>\n",
       "      <td>20.0</td>\n",
       "      <td>HOME</td>\n",
       "      <td>1514.0</td>\n",
       "    </tr>\n",
       "    <tr>\n",
       "      <th>118</th>\n",
       "      <td>111</td>\n",
       "      <td>2020020634</td>\n",
       "      <td>ASSIST</td>\n",
       "      <td>Brett Ritchie (4) Wrist Shot, assists: Derek R...</td>\n",
       "      <td>2</td>\n",
       "      <td>0 days 05:14:00</td>\n",
       "      <td>64.0</td>\n",
       "      <td>-3.0</td>\n",
       "      <td>20.0</td>\n",
       "      <td>20</td>\n",
       "      <td>23</td>\n",
       "      <td>8478585.0</td>\n",
       "      <td>NaN</td>\n",
       "      <td>20.0</td>\n",
       "      <td>HOME</td>\n",
       "      <td>1514.0</td>\n",
       "    </tr>\n",
       "    <tr>\n",
       "      <th>131</th>\n",
       "      <td>121</td>\n",
       "      <td>2020020634</td>\n",
       "      <td>ASSIST</td>\n",
       "      <td>Bo Horvat (19) Snap Shot, assists: Brock Boese...</td>\n",
       "      <td>2</td>\n",
       "      <td>0 days 08:34:00</td>\n",
       "      <td>67.0</td>\n",
       "      <td>2.0</td>\n",
       "      <td>23.0</td>\n",
       "      <td>20</td>\n",
       "      <td>23</td>\n",
       "      <td>8480056.0</td>\n",
       "      <td>NaN</td>\n",
       "      <td>23.0</td>\n",
       "      <td>AWAY</td>\n",
       "      <td>1714.0</td>\n",
       "    </tr>\n",
       "    <tr>\n",
       "      <th>130</th>\n",
       "      <td>121</td>\n",
       "      <td>2020020634</td>\n",
       "      <td>ASSIST</td>\n",
       "      <td>Bo Horvat (19) Snap Shot, assists: Brock Boese...</td>\n",
       "      <td>2</td>\n",
       "      <td>0 days 08:34:00</td>\n",
       "      <td>67.0</td>\n",
       "      <td>2.0</td>\n",
       "      <td>23.0</td>\n",
       "      <td>20</td>\n",
       "      <td>23</td>\n",
       "      <td>8478444.0</td>\n",
       "      <td>NaN</td>\n",
       "      <td>23.0</td>\n",
       "      <td>AWAY</td>\n",
       "      <td>1714.0</td>\n",
       "    </tr>\n",
       "    <tr>\n",
       "      <th>140</th>\n",
       "      <td>128</td>\n",
       "      <td>2020020634</td>\n",
       "      <td>ASSIST</td>\n",
       "      <td>J.T. Miller (15) Tip-In, assists: Brock Boeser...</td>\n",
       "      <td>2</td>\n",
       "      <td>0 days 09:32:00</td>\n",
       "      <td>75.0</td>\n",
       "      <td>-2.0</td>\n",
       "      <td>23.0</td>\n",
       "      <td>20</td>\n",
       "      <td>23</td>\n",
       "      <td>8474574.0</td>\n",
       "      <td>NaN</td>\n",
       "      <td>23.0</td>\n",
       "      <td>AWAY</td>\n",
       "      <td>1772.0</td>\n",
       "    </tr>\n",
       "    <tr>\n",
       "      <th>139</th>\n",
       "      <td>128</td>\n",
       "      <td>2020020634</td>\n",
       "      <td>ASSIST</td>\n",
       "      <td>J.T. Miller (15) Tip-In, assists: Brock Boeser...</td>\n",
       "      <td>2</td>\n",
       "      <td>0 days 09:32:00</td>\n",
       "      <td>75.0</td>\n",
       "      <td>-2.0</td>\n",
       "      <td>23.0</td>\n",
       "      <td>20</td>\n",
       "      <td>23</td>\n",
       "      <td>8478444.0</td>\n",
       "      <td>NaN</td>\n",
       "      <td>23.0</td>\n",
       "      <td>AWAY</td>\n",
       "      <td>1772.0</td>\n",
       "    </tr>\n",
       "    <tr>\n",
       "      <th>145</th>\n",
       "      <td>131</td>\n",
       "      <td>2020020634</td>\n",
       "      <td>ASSIST</td>\n",
       "      <td>Matthew Tkachuk (16) Wrist Shot, assists: John...</td>\n",
       "      <td>2</td>\n",
       "      <td>0 days 10:29:00</td>\n",
       "      <td>70.0</td>\n",
       "      <td>-9.0</td>\n",
       "      <td>20.0</td>\n",
       "      <td>20</td>\n",
       "      <td>23</td>\n",
       "      <td>8475690.0</td>\n",
       "      <td>NaN</td>\n",
       "      <td>20.0</td>\n",
       "      <td>HOME</td>\n",
       "      <td>1829.0</td>\n",
       "    </tr>\n",
       "    <tr>\n",
       "      <th>144</th>\n",
       "      <td>131</td>\n",
       "      <td>2020020634</td>\n",
       "      <td>ASSIST</td>\n",
       "      <td>Matthew Tkachuk (16) Wrist Shot, assists: John...</td>\n",
       "      <td>2</td>\n",
       "      <td>0 days 10:29:00</td>\n",
       "      <td>70.0</td>\n",
       "      <td>-9.0</td>\n",
       "      <td>20.0</td>\n",
       "      <td>20</td>\n",
       "      <td>23</td>\n",
       "      <td>8476346.0</td>\n",
       "      <td>NaN</td>\n",
       "      <td>20.0</td>\n",
       "      <td>HOME</td>\n",
       "      <td>1829.0</td>\n",
       "    </tr>\n",
       "    <tr>\n",
       "      <th>223</th>\n",
       "      <td>207</td>\n",
       "      <td>2020020634</td>\n",
       "      <td>ASSIST</td>\n",
       "      <td>Connor Mackey (1) Wrist Shot, assists: Brett R...</td>\n",
       "      <td>3</td>\n",
       "      <td>0 days 03:29:00</td>\n",
       "      <td>81.0</td>\n",
       "      <td>-2.0</td>\n",
       "      <td>20.0</td>\n",
       "      <td>20</td>\n",
       "      <td>23</td>\n",
       "      <td>8478585.0</td>\n",
       "      <td>NaN</td>\n",
       "      <td>20.0</td>\n",
       "      <td>HOME</td>\n",
       "      <td>2609.0</td>\n",
       "    </tr>\n",
       "    <tr>\n",
       "      <th>222</th>\n",
       "      <td>207</td>\n",
       "      <td>2020020634</td>\n",
       "      <td>ASSIST</td>\n",
       "      <td>Connor Mackey (1) Wrist Shot, assists: Brett R...</td>\n",
       "      <td>3</td>\n",
       "      <td>0 days 03:29:00</td>\n",
       "      <td>81.0</td>\n",
       "      <td>-2.0</td>\n",
       "      <td>20.0</td>\n",
       "      <td>20</td>\n",
       "      <td>23</td>\n",
       "      <td>8476439.0</td>\n",
       "      <td>NaN</td>\n",
       "      <td>20.0</td>\n",
       "      <td>HOME</td>\n",
       "      <td>2609.0</td>\n",
       "    </tr>\n",
       "  </tbody>\n",
       "</table>\n",
       "</div>"
      ],
      "text/plain": [
       "     eventID      gameID eventTypeID  \\\n",
       "30        28  2020020634      ASSIST   \n",
       "29        28  2020020634      ASSIST   \n",
       "58        54  2020020634      ASSIST   \n",
       "57        54  2020020634      ASSIST   \n",
       "81        75  2020020634      ASSIST   \n",
       "80        75  2020020634      ASSIST   \n",
       "119      111  2020020634      ASSIST   \n",
       "118      111  2020020634      ASSIST   \n",
       "131      121  2020020634      ASSIST   \n",
       "130      121  2020020634      ASSIST   \n",
       "140      128  2020020634      ASSIST   \n",
       "139      128  2020020634      ASSIST   \n",
       "145      131  2020020634      ASSIST   \n",
       "144      131  2020020634      ASSIST   \n",
       "223      207  2020020634      ASSIST   \n",
       "222      207  2020020634      ASSIST   \n",
       "\n",
       "                                      eventDescription  periodNum  \\\n",
       "30   Matthew Tkachuk (15) Wrist Shot, assists: John...          1   \n",
       "29   Matthew Tkachuk (15) Wrist Shot, assists: John...          1   \n",
       "58   Dillon Dube (11) Backhand, assists: Derek Ryan...          1   \n",
       "57   Dillon Dube (11) Backhand, assists: Derek Ryan...          1   \n",
       "81   Andrew Mangiapane (18) Wrist Shot, assists: Mi...          1   \n",
       "80   Andrew Mangiapane (18) Wrist Shot, assists: Mi...          1   \n",
       "119  Brett Ritchie (4) Wrist Shot, assists: Derek R...          2   \n",
       "118  Brett Ritchie (4) Wrist Shot, assists: Derek R...          2   \n",
       "131  Bo Horvat (19) Snap Shot, assists: Brock Boese...          2   \n",
       "130  Bo Horvat (19) Snap Shot, assists: Brock Boese...          2   \n",
       "140  J.T. Miller (15) Tip-In, assists: Brock Boeser...          2   \n",
       "139  J.T. Miller (15) Tip-In, assists: Brock Boeser...          2   \n",
       "145  Matthew Tkachuk (16) Wrist Shot, assists: John...          2   \n",
       "144  Matthew Tkachuk (16) Wrist Shot, assists: John...          2   \n",
       "223  Connor Mackey (1) Wrist Shot, assists: Brett R...          3   \n",
       "222  Connor Mackey (1) Wrist Shot, assists: Brett R...          3   \n",
       "\n",
       "         periodTime  xCoordinate  yCoordinate  teamID  homeTeamID  awayTeamID  \\\n",
       "30  0 days 07:41:00         81.0         -1.0    20.0          20          23   \n",
       "29  0 days 07:41:00         81.0         -1.0    20.0          20          23   \n",
       "58  0 days 12:16:00         83.0          1.0    20.0          20          23   \n",
       "57  0 days 12:16:00         83.0          1.0    20.0          20          23   \n",
       "81  0 days 16:18:00         85.0          2.0    20.0          20          23   \n",
       "80  0 days 16:18:00         85.0          2.0    20.0          20          23   \n",
       "119 0 days 05:14:00         64.0         -3.0    20.0          20          23   \n",
       "118 0 days 05:14:00         64.0         -3.0    20.0          20          23   \n",
       "131 0 days 08:34:00         67.0          2.0    23.0          20          23   \n",
       "130 0 days 08:34:00         67.0          2.0    23.0          20          23   \n",
       "140 0 days 09:32:00         75.0         -2.0    23.0          20          23   \n",
       "139 0 days 09:32:00         75.0         -2.0    23.0          20          23   \n",
       "145 0 days 10:29:00         70.0         -9.0    20.0          20          23   \n",
       "144 0 days 10:29:00         70.0         -9.0    20.0          20          23   \n",
       "223 0 days 03:29:00         81.0         -2.0    20.0          20          23   \n",
       "222 0 days 03:29:00         81.0         -2.0    20.0          20          23   \n",
       "\n",
       "      playerID  penaltyMinutes  teamID_box teamType  secondsElapsed  \n",
       "30   8479976.0             NaN        20.0     HOME           461.0  \n",
       "29   8476346.0             NaN        20.0     HOME           461.0  \n",
       "58   8476439.0             NaN        20.0     HOME           736.0  \n",
       "57   8478585.0             NaN        20.0     HOME           736.0  \n",
       "81   8475807.0             NaN        20.0     HOME           978.0  \n",
       "80   8474150.0             NaN        20.0     HOME           978.0  \n",
       "119  8479346.0             NaN        20.0     HOME          1514.0  \n",
       "118  8478585.0             NaN        20.0     HOME          1514.0  \n",
       "131  8480056.0             NaN        23.0     AWAY          1714.0  \n",
       "130  8478444.0             NaN        23.0     AWAY          1714.0  \n",
       "140  8474574.0             NaN        23.0     AWAY          1772.0  \n",
       "139  8478444.0             NaN        23.0     AWAY          1772.0  \n",
       "145  8475690.0             NaN        20.0     HOME          1829.0  \n",
       "144  8476346.0             NaN        20.0     HOME          1829.0  \n",
       "223  8478585.0             NaN        20.0     HOME          2609.0  \n",
       "222  8476439.0             NaN        20.0     HOME          2609.0  "
      ]
     },
     "execution_count": 71,
     "metadata": {},
     "output_type": "execute_result"
    }
   ],
   "source": [
    "rawDataFiltered[rawDataFiltered['eventTypeID'] == 'ASSIST']"
   ]
  },
  {
   "cell_type": "code",
   "execution_count": 72,
   "metadata": {
    "pycharm": {
     "is_executing": true
    }
   },
   "outputs": [],
   "source": [
    "sequences = []\n",
    "actionEvents = ['FACEOFF',\n",
    "                'SHOT',\n",
    "                'MISSED_SHOT',\n",
    "                'BLOCKED_SHOT',\n",
    "                'TAKEAWAY',\n",
    "                'GIVEAWAY',\n",
    "                'HIT',\n",
    "                'ASSIST',\n",
    "                'GOAL']\n",
    "startEndEvents = ['PERIOD_START',\n",
    "                  'PERIOD_END',\n",
    "                  'EARLY_INT_START',\n",
    "                  'PENALTY',\n",
    "                  'STOP',\n",
    "                  'SHOOTOUT_COMPLETE',\n",
    "                  'GAME_END',\n",
    "                  'EARLY_INT_END',\n",
    "                  'EARLY_INT_END']\n",
    "\n",
    "sequenceNum = 0\n",
    "eventNum = 0\n",
    "penaltyQueue = Queue()\n",
    "gameID = 0\n",
    "context = {'goalDiff':0, 'manpowerDiff':0, 'periodNum':1}\n",
    "for index, row in rawDataFiltered.iterrows():\n",
    "    if index % 100000 == 0:\n",
    "        print((index/len(rawDataFiltered))*100, '%')\n",
    "    \n",
    "    # Resetting the context\n",
    "    if gameID != row['gameID']:\n",
    "        gameID = row['gameID']\n",
    "        context = {'goalDiff':0, 'manpowerDiff':0, 'periodNum':1}\n",
    "        \n",
    "    # Updating the context if needed\n",
    "    if row['periodNum'] != context['periodNum']:\n",
    "        context['periodNum'] = row['periodNum']\n",
    "        \n",
    "    # Computing if respective team is home or away\n",
    "    teamType = team_type(row['teamID'], row['homeTeamID'], row['awayTeamID'])\n",
    "    \n",
    "     # If there currently is a penalty in the penalty queue\n",
    "    if penaltyQueue.size() > 0:\n",
    "        # Determining the time of the action\n",
    "        actionTime = elapsed_seconds(row['periodNum'],row['periodTime'])\n",
    "\n",
    "        # Iterating through all  the penalties in the queue from oldest to newest\n",
    "        for penalty in reversed(penaltyQueue.get_queue()):\n",
    "            # If the action occured after the penalty ended, we update the context and pop the penalty\n",
    "            if penalty['penaltyEnd'] < actionTime:\n",
    "                # Popping the penalty\n",
    "                penaltyQueue.remove(penalty)\n",
    "\n",
    "                # Updating the context\n",
    "                if penalty['team'] == 'HOME':\n",
    "                    context['manpowerDiff'] -= 1\n",
    "                else:\n",
    "                    context['manpowerDiff'] -= -1\n",
    "        \n",
    "    # Catching penalties to update the context\n",
    "    if row['eventTypeID'] == 'PENALTY':\n",
    "        if int(row['penaltyMinutes']) != 10:\n",
    "            # Getting the end time of the penalty (in seconds)\n",
    "            penaltyStart = elapsed_seconds(row['periodNum'],row['periodTime'])\n",
    "            penaltyEnd = penaltyStart + row['penaltyMinutes'] * 60\n",
    "            \n",
    "\n",
    "            # Determining who took the penalty to update the context\n",
    "            if teamType == 'HOME':\n",
    "                context['manpowerDiff'] += 1\n",
    "            else:\n",
    "                context['manpowerDiff'] += -1\n",
    "\n",
    "            # Enqueuing the penalty\n",
    "            penaltyQueue.enqueue({'team':teamType, \n",
    "                                  'penaltyStart': penaltyStart, \n",
    "                                  'penaltyEnd':penaltyEnd, \n",
    "                                  'penaltyLength': \n",
    "                                  row['penaltyMinutes']})\n",
    "            \n",
    "    # Adding in the event if it is a goal or assist (doing it here in since the context will be updated below)\n",
    "    if (row['eventTypeID'] == 'ASSIST'):\n",
    "        sequences.append([row['gameID'],  \n",
    "                          context['goalDiff'],\n",
    "                          context['manpowerDiff'],\n",
    "                          context['periodNum'],\n",
    "                          sequenceNum, \n",
    "                          eventNum, \n",
    "                          row['eventTypeID'],  # action type\n",
    "                          teamType,  # Home/Away\n",
    "                          row['secondsElapsed'],\n",
    "                          row['xCoordinate'],\n",
    "                          row['yCoordinate'],\n",
    "                          row['playerID']]) #Neutral/Offensive/Defensive/NULL\n",
    "\n",
    "           \n",
    "    # If the event type is a goal\n",
    "    if row['eventTypeID'] == 'GOAL':\n",
    "\n",
    "        # Injecting the shot before the goal# Adding in the next sequency\n",
    "        sequences.append([row['gameID'],  \n",
    "                  context['goalDiff'],\n",
    "                  context['manpowerDiff'],\n",
    "                  context['periodNum'],\n",
    "                  sequenceNum, \n",
    "                  eventNum, \n",
    "                  'SHOT',  # action type\n",
    "                  teamType,  # Home/Away\n",
    "#                       row['zone']\n",
    "                  row['secondsElapsed'],\n",
    "                      row['xCoordinate'],\n",
    "                      row['yCoordinate'],\n",
    "                  row['playerID']]) #Neutral/Offensive/Defensive/NULL\n",
    "        # Incrementing the event number\n",
    "        eventNum += 1\n",
    "        \n",
    "        # Adding in the goal\n",
    "        sequences.append([row['gameID'],  \n",
    "                      context['goalDiff'],\n",
    "                      context['manpowerDiff'],\n",
    "                      context['periodNum'],\n",
    "                      sequenceNum, \n",
    "                      eventNum, \n",
    "                      row['eventTypeID'],  # action type\n",
    "                      teamType,  # Home/Away\n",
    "                      row['secondsElapsed'],\n",
    "                      row['xCoordinate'],\n",
    "                      row['yCoordinate'],\n",
    "                      row['playerID']]) #Neutral/Offensive/Defensive/NULL\n",
    "\n",
    "        # Updating the context\n",
    "        if teamType == 'HOME':\n",
    "            context['goalDiff'] -= 1\n",
    "        else:\n",
    "            context['goalDiff'] += 1\n",
    "\n",
    "        # Defining home/away flags to only pop off the minimum number of penalties\n",
    "        FLAGS = {'HOME':True, 'AWAY':True}\n",
    "\n",
    "        # Determining the time of the action\n",
    "        actionTime = elapsed_seconds(row['periodNum'],row['periodTime'])\n",
    "\n",
    "        # If there currently is a penalty in the penalty queue\n",
    "        if penaltyQueue.size() > 0:\n",
    "\n",
    "            # Iterating through all  the penalties in the queue from oldest to newest\n",
    "            for penalty in reversed(penaltyQueue.get_queue()):\n",
    "\n",
    "                # If the penalty is a 5 minute major, the player must serve the full 5 minutes (no change needed)\n",
    "                # If the penalty is over it would have been popped in the above if statement\n",
    "                if penalty['penaltyLength'] == 5:\n",
    "                    continue\n",
    "                else:\n",
    "\n",
    "                    # Making sure its not a shorthanded goal and we haven't already popped a penalty for this goal/team\n",
    "                    if (penalty['team'] != teamType) & (FLAGS[penalty['team']]):\n",
    "\n",
    "                        # Creating the updated penalty\n",
    "                        newPenalty = penalty\n",
    "                        newPenalty['penaltyStart'] = actionTime\n",
    "                        newPenalty['penaltyLength'] += -120\n",
    "                        newPenalty['penaltyEnd'] = newPenalty['penaltyStart'] + newPenalty['penaltyLength']\n",
    "\n",
    "                        if penalty['penaltyLength'] <= 0:\n",
    "\n",
    "                            # Popping the penalty off\n",
    "                            penaltyQueue.remove(penalty)\n",
    "\n",
    "                            # Updating the context\n",
    "                            if penalty['team'] == 'HOME':\n",
    "                                context['manpowerDiff'] -= 1\n",
    "                            else:\n",
    "                                context['manpowerDiff'] -= -1\n",
    "                        else:\n",
    "\n",
    "                            # replacing the old penalty info with the new one\n",
    "                            penaltyQueue.exchange(penalty, newPenalty)\n",
    "\n",
    "                        FLAGS[penalty['team']] = False \n",
    "                            \n",
    "#     # Updating the context if needed\n",
    "#     if row['periodNum'] != context['periodNum']:\n",
    "#         context['periodNum'] = row['periodNum']\n",
    "    \n",
    "    # Adding in the next sequency\n",
    "    if (((row['eventTypeID'] not in startEndEvents) | \n",
    "         (row['eventTypeID'] == 'PENALTY')) & \n",
    "        (row['eventTypeID'] != 'GOAL') & \n",
    "        (row['eventTypeID'] != 'ASSIST')):\n",
    "        sequences.append([row['gameID'],  \n",
    "                          context['goalDiff'],\n",
    "                          context['manpowerDiff'],\n",
    "                          context['periodNum'],\n",
    "                          sequenceNum, \n",
    "                          eventNum, \n",
    "                          row['eventTypeID'],  # action type\n",
    "                          teamType,  # Home/Away\n",
    "                          row['secondsElapsed'],\n",
    "                          row['xCoordinate'],\n",
    "                          row['yCoordinate'],\n",
    "                          row['playerID']]) #Neutral/Offensive/Defensive/NULL\n",
    "    if row['eventTypeID'] in actionEvents:\n",
    "        eventNum += 1\n",
    "    else:\n",
    "        sequenceNum += 1\n",
    "        eventNum = 0\n",
    "#     break\n",
    "sequenceData = pd.DataFrame(sequences, \n",
    "                            columns=['gameID', \n",
    "                                     'goalDiff', \n",
    "                                     'manpowerDiff',\n",
    "                                     'periodNum', \n",
    "                                     'sequenceNum',\n",
    "                                     'eventNum',\n",
    "                                     'event', \n",
    "                                     'team',\n",
    "                                     'secondsElapsed',\n",
    "                                     'xCoord',\n",
    "                                     'yCoord',\n",
    "                                     'playerID'])"
   ]
  },
  {
   "cell_type": "code",
   "execution_count": 73,
   "metadata": {
    "pycharm": {
     "is_executing": true
    }
   },
   "outputs": [],
   "source": [
    "# Removing any rows that contain a null value\n",
    "sequenceData = sequenceData[~sequenceData['sequenceNum'].isin(sequenceData[sequenceData.isnull().any(axis=1)]['sequenceNum'].values)]"
   ]
  },
  {
   "cell_type": "code",
   "execution_count": 74,
   "metadata": {
    "pycharm": {
     "is_executing": true
    }
   },
   "outputs": [],
   "source": [
    "# Vectorizing the events\n",
    "eventVectorizer = CountVectorizer()\n",
    "eventVectorizer.fit(sequenceData['event'])\n",
    "vectorizedEvents = eventVectorizer.transform(sequenceData['event']).toarray()\n",
    "\n",
    "# List of actions in the correct order according to its position on the vectorized array\n",
    "actions = [action[0] for action in sorted(eventVectorizer.vocabulary_.items())]"
   ]
  },
  {
   "cell_type": "code",
   "execution_count": 75,
   "metadata": {
    "pycharm": {
     "is_executing": true
    }
   },
   "outputs": [],
   "source": [
    "# Adding in the vectorized columns\n",
    "for action in range(0,len(actions)):\n",
    "    sequenceData.insert(column=actions[action], value=vectorizedEvents[:,action], loc=len(sequenceData.columns))"
   ]
  },
  {
   "cell_type": "code",
   "execution_count": 76,
   "metadata": {
    "pycharm": {
     "is_executing": true
    }
   },
   "outputs": [],
   "source": [
    "# # List of actions in the correct order according to its position on the vectorized array\n",
    "# actions = [action[0] for action in sorted(eventVectorizer.vocabulary_.items())]\n",
    "\n",
    "# # Adding the vectorized events onto the sequence data\n",
    "# sequenceData = pd.concat([sequenceData,\n",
    "#                           pd.DataFrame(data=vectorizedEvents,\n",
    "#                                        columns=actions)],axis=1)\n",
    "\n",
    "# Dropping event as it is no longer needed\n",
    "sequenceData = sequenceData.drop(['event'],axis=1)"
   ]
  },
  {
   "cell_type": "code",
   "execution_count": 77,
   "metadata": {
    "pycharm": {
     "is_executing": true
    }
   },
   "outputs": [],
   "source": [
    "# Filling NAs\n",
    "sequenceData['team'] = sequenceData['team'].fillna(value='neither')"
   ]
  },
  {
   "cell_type": "code",
   "execution_count": 78,
   "metadata": {
    "pycharm": {
     "is_executing": true
    }
   },
   "outputs": [],
   "source": [
    "# Vectorizing the teams\n",
    "teamVectorizer = CountVectorizer()\n",
    "teamVectorizer.fit(sequenceData['team'])\n",
    "vectorizedTeams = teamVectorizer.transform(sequenceData['team']).toarray()\n",
    "\n",
    "# List of teams in the correct order according to its position on the vectorized array\n",
    "teams = [action[0] for action in sorted(teamVectorizer.vocabulary_.items())]\n"
   ]
  },
  {
   "cell_type": "code",
   "execution_count": 79,
   "metadata": {
    "pycharm": {
     "is_executing": true
    }
   },
   "outputs": [],
   "source": [
    "# Adding in the vectorized columns\n",
    "for team in range(0,len(teams)):\n",
    "    sequenceData.insert(column=teams[team], value=vectorizedTeams[:,team], loc=len(sequenceData.columns))"
   ]
  },
  {
   "cell_type": "code",
   "execution_count": 80,
   "metadata": {
    "pycharm": {
     "is_executing": true
    }
   },
   "outputs": [],
   "source": [
    "# # List of teams in the correct order according to its position on the vectorized array\n",
    "# teams = [action[0] for action in sorted(teamVectorizer.vocabulary_.items())]\n",
    "\n",
    "# Adding the vectorized events onto the sequence data\n",
    "# sequenceData = pd.concat([sequenceData,\n",
    "#                           pd.DataFrame(data=vectorizedTeams,\n",
    "#                                        columns=teams)],axis=1)\n",
    "\n",
    "# Dropping event as it is no longer needed\n",
    "sequenceData = sequenceData.drop(['team'],axis=1)"
   ]
  },
  {
   "cell_type": "code",
   "execution_count": 81,
   "metadata": {
    "pycharm": {
     "is_executing": true
    }
   },
   "outputs": [],
   "source": [
    "colsTransformed = ['goalDiff', \n",
    "              'manpowerDiff',\n",
    "          'periodNum',\n",
    "          'secondsElapsed', \n",
    "          'xCoord', \n",
    "          'yCoord']"
   ]
  },
  {
   "cell_type": "code",
   "execution_count": 82,
   "metadata": {
    "pycharm": {
     "is_executing": true
    }
   },
   "outputs": [],
   "source": [
    "scaler = preprocessing.StandardScaler().fit(sequenceData[colsTransformed].values)"
   ]
  },
  {
   "cell_type": "code",
   "execution_count": 83,
   "metadata": {
    "pycharm": {
     "is_executing": true
    }
   },
   "outputs": [],
   "source": [
    "scaledData = scaler.transform(sequenceData[colsTransformed].values)"
   ]
  },
  {
   "cell_type": "code",
   "execution_count": 84,
   "metadata": {
    "pycharm": {
     "is_executing": true
    }
   },
   "outputs": [],
   "source": [
    "for i in range(0,len(colsTransformed)):\n",
    "    sequenceData[colsTransformed[i]] = scaledData[:,i]"
   ]
  },
  {
   "cell_type": "code",
   "execution_count": 85,
   "metadata": {
    "pycharm": {
     "is_executing": true
    }
   },
   "outputs": [],
   "source": [
    "# Defining a sequence data object\n",
    "sequenceDataTMinusOne = sequenceData.drop(['goalDiff', 'manpowerDiff', 'periodNum'],axis=1).copy(deep=True)\n",
    "\n",
    "# Incrementing the eventnumber to use to join below\n",
    "sequenceDataTMinusOne['eventNum'] -= 1"
   ]
  },
  {
   "cell_type": "code",
   "execution_count": 86,
   "metadata": {
    "pycharm": {
     "is_executing": true
    }
   },
   "outputs": [],
   "source": [
    "# Merging the time t and t+1 datasets\n",
    "sequenceDataComplete = pd.merge(left=sequenceData, \n",
    "         right=sequenceDataTMinusOne, \n",
    "         how='left',\n",
    "         left_on=['gameID', 'sequenceNum', 'eventNum'],\n",
    "         right_on=['gameID', 'sequenceNum', 'eventNum'],\n",
    "        suffixes=('','_TMinusOne'))"
   ]
  },
  {
   "cell_type": "code",
   "execution_count": 87,
   "metadata": {
    "pycharm": {
     "is_executing": true
    }
   },
   "outputs": [],
   "source": [
    "columns = ['gameID', \n",
    "          'sequenceNum',\n",
    "          'eventNum', \n",
    "          'goalDiff', \n",
    "          'manpowerDiff',\n",
    "          'periodNum',\n",
    "          'secondsElapsed', \n",
    "          'xCoord', \n",
    "          'yCoord', \n",
    "          'blocked_shot',\n",
    "          'faceoff', \n",
    "          'giveaway', \n",
    "          'goal', \n",
    "          'assist',\n",
    "          'hit',\n",
    "          'missed_shot',\n",
    "          'penalty', \n",
    "          'shot',\n",
    "          'takeaway',\n",
    "          'away', \n",
    "          'home',\n",
    "          'playerID',\n",
    "          'secondsElapsed_TMinusOne',\n",
    "          'xCoord_TMinusOne',\n",
    "          'yCoord_TMinusOne', \n",
    "          'blocked_shot_TMinusOne',\n",
    "          'faceoff_TMinusOne', \n",
    "          'giveaway_TMinusOne', \n",
    "          'goal_TMinusOne',\n",
    "          'assist_TMinusOne',\n",
    "          'hit_TMinusOne', \n",
    "          'missed_shot_TMinusOne',\n",
    "          'penalty_TMinusOne',\n",
    "          'shot_TMinusOne', \n",
    "          'takeaway_TMinusOne', \n",
    "          'away_TMinusOne',\n",
    "          'home_TMinusOne']"
   ]
  },
  {
   "cell_type": "code",
   "execution_count": 88,
   "metadata": {
    "pycharm": {
     "is_executing": true
    }
   },
   "outputs": [],
   "source": [
    "# Adding in any missing columns (setting them to be 0)\n",
    "for col in columns:\n",
    "    if col not in sequenceDataComplete.columns:\n",
    "        sequenceDataComplete[col] = np.zeros((len(sequenceDataComplete)))"
   ]
  },
  {
   "cell_type": "code",
   "execution_count": 89,
   "metadata": {
    "pycharm": {
     "is_executing": true
    }
   },
   "outputs": [],
   "source": [
    "# Re-ordering columns\n",
    "sequenceDataComplete = sequenceDataComplete[columns]"
   ]
  },
  {
   "cell_type": "code",
   "execution_count": 90,
   "metadata": {
    "pycharm": {
     "is_executing": true
    }
   },
   "outputs": [
    {
     "data": {
      "text/plain": [
       "Index(['gameID', 'sequenceNum', 'eventNum', 'goalDiff', 'manpowerDiff',\n",
       "       'periodNum', 'secondsElapsed', 'xCoord', 'yCoord', 'blocked_shot',\n",
       "       'faceoff', 'giveaway', 'goal', 'assist', 'hit', 'missed_shot',\n",
       "       'penalty', 'shot', 'takeaway', 'away', 'home', 'playerID',\n",
       "       'secondsElapsed_TMinusOne', 'xCoord_TMinusOne', 'yCoord_TMinusOne',\n",
       "       'blocked_shot_TMinusOne', 'faceoff_TMinusOne', 'giveaway_TMinusOne',\n",
       "       'goal_TMinusOne', 'assist_TMinusOne', 'hit_TMinusOne',\n",
       "       'missed_shot_TMinusOne', 'penalty_TMinusOne', 'shot_TMinusOne',\n",
       "       'takeaway_TMinusOne', 'away_TMinusOne', 'home_TMinusOne'],\n",
       "      dtype='object')"
      ]
     },
     "execution_count": 90,
     "metadata": {},
     "output_type": "execute_result"
    }
   ],
   "source": [
    "sequenceDataComplete.columns"
   ]
  },
  {
   "cell_type": "markdown",
   "metadata": {},
   "source": [
    "# Model Creation\n",
    "## Model Definition"
   ]
  },
  {
   "cell_type": "code",
   "execution_count": 91,
   "metadata": {
    "pycharm": {
     "is_executing": true
    }
   },
   "outputs": [],
   "source": [
    "# determine the supported device\n",
    "def get_device():\n",
    "    if torch.cuda.is_available():\n",
    "        device = torch.device('cuda:0')\n",
    "    else:\n",
    "        device = torch.device('cpu') # don't have GPU \n",
    "    return device\n",
    "\n",
    "# convert a df to tensor to be used in pytorch\n",
    "def df_to_tensor(df):\n",
    "    device = get_device()\n",
    "    data = torch.from_numpy(df.values)\n",
    "    data = data.type(torch.float64)\n",
    "    data = data.to(device)\n",
    "    return data\n",
    "\n",
    "def custom_loss(modelInput, model, i):\n",
    "    t = modelInput[0:i+1,:,3:21]\n",
    "    tPlusOne = modelInput[0:i+1,:,[3,4,5,22,23,24,25,26,27,28,29,30,31,32,33,34,35,36]]\n",
    "    \n",
    "    # If goal scored by home team (if event is a goal, and team is home)\n",
    "    if (modelInput[i,:,[12]] == 1) & (modelInput[i,:,[20]] == 1):\n",
    "        R = torch.tensor([1,0,0]).to(get_device())\n",
    "        \n",
    "    # If goal scored by away team (if event is a goal, and team is away) \n",
    "    elif (modelInput[i,:,[12]] == 1) & (modelInput[i,:,[19]] == 1):\n",
    "        R = torch.tensor([0,1,0]).to(get_device())\n",
    "        \n",
    "    # No one scored\n",
    "    else:\n",
    "        R = torch.tensor([0,0,1]).to(get_device())\n",
    "    \n",
    "    # If there was no previous action\n",
    "#     if torch.sum(torch.isnan(tPlusOne)) > 0:\n",
    "#         loss = R + model(t)\n",
    "#     else: \n",
    "#         loss = R + model(tPlusOne) - model(t) \n",
    "        \n",
    "    if torch.sum(torch.isnan(tPlusOne)) > 0:\n",
    "        loss = R - model(t)\n",
    "    else: \n",
    "        loss = R + model(tPlusOne) - model(t) \n",
    "    \n",
    "    \n",
    "    return torch.mean(torch.square(loss))"
   ]
  },
  {
   "cell_type": "code",
   "execution_count": 92,
   "metadata": {
    "pycharm": {
     "is_executing": true
    }
   },
   "outputs": [],
   "source": [
    "class DQN(nn.Module):\n",
    "    def __init__(self):\n",
    "        super().__init__()\n",
    "        self.inputSize = 18\n",
    "        self.numLSTMNodes = 1000\n",
    "        self.numLSTMLayers = 1\n",
    "        \n",
    "        self.lstmLayer = nn.LSTM(input_size=self.inputSize, \n",
    "                                  hidden_size=self.numLSTMNodes,\n",
    "                                  num_layers=self.numLSTMLayers, \n",
    "                                  bias=True, \n",
    "                                  dropout=0, \n",
    "                                  batch_first=True).double()\n",
    "        self.hidden1 = nn.Linear(in_features=self.numLSTMNodes, out_features=1000).double()   \n",
    "        self.hidden2 = nn.Linear(in_features=1000, out_features=1000).double()   \n",
    "        self.hidden3 = nn.Linear(in_features=1000, out_features=1000).double()   \n",
    "        self.hidden4 = nn.Linear(in_features=1000, out_features=1000).double()\n",
    "        self.output = nn.Linear(in_features=1000, out_features=3).double()\n",
    "        \n",
    "    def forward(self, modelInput):\n",
    "        hidden = (\n",
    "                    torch.cuda.FloatTensor(self.numLSTMLayers , 1, self.numLSTMNodes).normal_().double() ,\n",
    "                    torch.cuda.FloatTensor(self.numLSTMLayers , 1, self.numLSTMNodes).normal_().double() \n",
    "                  )\n",
    "        for sequence in modelInput:\n",
    "            out, hidden = self.lstmLayer(sequence.view(1,1,-1), hidden)\n",
    "        t = F.relu(out)\n",
    "        t = F.relu(self.hidden1(t))\n",
    "        t = F.relu(self.hidden2(t))\n",
    "        t = F.relu(self.hidden3(t))\n",
    "        t = F.relu(self.hidden4(t))\n",
    "        t = F.softmax(self.output(t),dim=2)\n",
    "        return t   "
   ]
  },
  {
   "cell_type": "code",
   "execution_count": 93,
   "metadata": {
    "pycharm": {
     "is_executing": true
    }
   },
   "outputs": [],
   "source": [
    "# convert a df to tensor to be used in pytorch\n",
    "def df_to_tensor(df):\n",
    "    device = get_device()\n",
    "    data = torch.from_numpy(df.values)\n",
    "    data = data.type(torch.float64)\n",
    "    data = data.to(device)\n",
    "    return data"
   ]
  },
  {
   "cell_type": "code",
   "execution_count": 94,
   "metadata": {
    "pycharm": {
     "is_executing": true
    }
   },
   "outputs": [],
   "source": [
    "# Moving the df to GPU\n",
    "dfGPU = df_to_tensor(sequenceDataComplete)"
   ]
  },
  {
   "cell_type": "code",
   "execution_count": 95,
   "metadata": {
    "pycharm": {
     "is_executing": true
    }
   },
   "outputs": [],
   "source": [
    "# Reshaping\n",
    "# (batch size, sequence length, num features)\n",
    "dfGPU = dfGPU.reshape((-1,1,37))"
   ]
  },
  {
   "cell_type": "markdown",
   "metadata": {},
   "source": [
    "## Model Training"
   ]
  },
  {
   "cell_type": "code",
   "execution_count": null,
   "metadata": {
    "pycharm": {
     "is_executing": true
    }
   },
   "outputs": [],
   "source": [
    "# network = DQN()\n",
    "# device = get_device()\n",
    "# network.to(device)\n",
    "\n",
    "# network = network.type(torch.float64)\n",
    "\n",
    "# optimizer = optim.Adam(network.parameters(), lr=0.0001)\n",
    "    \n",
    "# # Each Episode\n",
    "# for gameID in sequenceDataComplete['gameID'].unique():\n",
    "#     print(gameID)\n",
    "#     gameDataGPU = dfGPU[dfGPU[:,:,0][:,0] == gameID,:,:]\n",
    "#     gameData = sequenceDataComplete[sequenceDataComplete['gameID'] == gameID]\n",
    "#     for sequenceNum in gameData['sequenceNum'].unique():\n",
    "\n",
    "       \n",
    "#         modelInput = gameDataGPU[gameDataGPU[:,:,1][:,0] == sequenceNum,:,:]\n",
    "            \n",
    "#         i = 0\n",
    "#         while i <  modelInput.shape[0]:\n",
    "#             # calculate the loss\n",
    "#             loss = custom_loss(modelInput, network, i)\n",
    "        \n",
    "#             i += 1\n",
    "\n",
    "# #             if sequenceNum > 0:\n",
    "# #                 break\n",
    "# #             print('**********************')\n",
    "\n",
    "\n",
    "#             # zero gradients\n",
    "#             optimizer.zero_grad()\n",
    "\n",
    "#             # perform backprop and update weights\n",
    "#             loss.backward()\n",
    "#             optimizer.step()\n",
    "\n",
    "        \n",
    "\n",
    "        "
   ]
  },
  {
   "cell_type": "code",
   "execution_count": 97,
   "metadata": {},
   "outputs": [
    {
     "data": {
      "text/plain": [
       "DQN(\n",
       "  (lstmLayer): LSTM(18, 1000, batch_first=True)\n",
       "  (hidden1): Linear(in_features=1000, out_features=1000, bias=True)\n",
       "  (hidden2): Linear(in_features=1000, out_features=1000, bias=True)\n",
       "  (hidden3): Linear(in_features=1000, out_features=1000, bias=True)\n",
       "  (hidden4): Linear(in_features=1000, out_features=1000, bias=True)\n",
       "  (output): Linear(in_features=1000, out_features=3, bias=True)\n",
       ")"
      ]
     },
     "execution_count": 97,
     "metadata": {},
     "output_type": "execute_result"
    }
   ],
   "source": [
    "# Loading model\n",
    "network = DQN()\n",
    "network.load_state_dict(torch.load('gim_model.pt'))\n",
    "network.eval()\n",
    "network.to(get_device())"
   ]
  },
  {
   "cell_type": "markdown",
   "metadata": {},
   "source": [
    "## Compiling Results"
   ]
  },
  {
   "cell_type": "code",
   "execution_count": 111,
   "metadata": {
    "pycharm": {
     "is_executing": true
    }
   },
   "outputs": [
    {
     "name": "stdout",
     "output_type": "stream",
     "text": [
      "2020020634\n",
      "torch.Size([1, 1, 37]) 0\n",
      "Sequence Num: 0.0 Event Num 0.0\n",
      "**********************\n",
      "torch.Size([9, 1, 37]) 0\n",
      "Sequence Num: 4.0 Event Num 0.0\n",
      "**********************\n",
      "torch.Size([9, 1, 37]) 1\n",
      "Sequence Num: 4.0 Event Num 1.0\n",
      "**********************\n",
      "torch.Size([9, 1, 37]) 2\n",
      "Sequence Num: 4.0 Event Num 2.0\n",
      "**********************\n",
      "torch.Size([9, 1, 37]) 3\n",
      "Sequence Num: 4.0 Event Num 3.0\n",
      "**********************\n",
      "torch.Size([9, 1, 37]) 4\n",
      "Sequence Num: 4.0 Event Num 4.0\n",
      "**********************\n",
      "torch.Size([9, 1, 37]) 5\n",
      "Sequence Num: 4.0 Event Num 5.0\n",
      "**********************\n",
      "torch.Size([9, 1, 37]) 6\n",
      "Sequence Num: 4.0 Event Num 6.0\n",
      "**********************\n",
      "torch.Size([9, 1, 37]) 7\n",
      "Sequence Num: 4.0 Event Num 7.0\n",
      "**********************\n",
      "torch.Size([9, 1, 37]) 8\n",
      "Sequence Num: 4.0 Event Num 8.0\n",
      "**********************\n",
      "torch.Size([5, 1, 37]) 0\n",
      "Sequence Num: 5.0 Event Num 0.0\n",
      "**********************\n",
      "torch.Size([5, 1, 37]) 1\n",
      "Sequence Num: 5.0 Event Num 1.0\n",
      "**********************\n",
      "torch.Size([5, 1, 37]) 2\n",
      "Sequence Num: 5.0 Event Num 2.0\n",
      "**********************\n",
      "torch.Size([5, 1, 37]) 3\n",
      "Sequence Num: 5.0 Event Num 3.0\n",
      "**********************\n",
      "torch.Size([5, 1, 37]) 4\n",
      "Sequence Num: 5.0 Event Num 4.0\n",
      "**********************\n",
      "torch.Size([5, 1, 37]) 0\n",
      "Sequence Num: 6.0 Event Num 0.0\n",
      "**********************\n",
      "torch.Size([5, 1, 37]) 1\n",
      "Sequence Num: 6.0 Event Num 1.0\n",
      "**********************\n",
      "torch.Size([5, 1, 37]) 2\n",
      "Sequence Num: 6.0 Event Num 2.0\n",
      "**********************\n",
      "torch.Size([5, 1, 37]) 3\n",
      "Sequence Num: 6.0 Event Num 3.0\n",
      "**********************\n",
      "torch.Size([5, 1, 37]) 4\n",
      "Sequence Num: 6.0 Event Num 4.0\n",
      "**********************\n",
      "torch.Size([12, 1, 37]) 0\n",
      "Sequence Num: 8.0 Event Num 0.0\n",
      "**********************\n",
      "torch.Size([12, 1, 37]) 1\n",
      "Sequence Num: 8.0 Event Num 1.0\n",
      "**********************\n",
      "torch.Size([12, 1, 37]) 2\n",
      "Sequence Num: 8.0 Event Num 2.0\n",
      "**********************\n",
      "torch.Size([12, 1, 37]) 3\n",
      "Sequence Num: 8.0 Event Num 3.0\n",
      "**********************\n",
      "torch.Size([12, 1, 37]) 4\n",
      "Sequence Num: 8.0 Event Num 4.0\n",
      "**********************\n",
      "torch.Size([12, 1, 37]) 5\n",
      "Sequence Num: 8.0 Event Num 5.0\n",
      "**********************\n",
      "torch.Size([12, 1, 37]) 6\n",
      "Sequence Num: 8.0 Event Num 6.0\n",
      "**********************\n",
      "torch.Size([12, 1, 37]) 7\n",
      "Sequence Num: 8.0 Event Num 7.0\n",
      "**********************\n",
      "torch.Size([12, 1, 37]) 8\n",
      "Sequence Num: 8.0 Event Num 8.0\n",
      "**********************\n",
      "torch.Size([12, 1, 37]) 9\n",
      "Sequence Num: 8.0 Event Num 9.0\n",
      "**********************\n",
      "torch.Size([12, 1, 37]) 10\n",
      "Sequence Num: 8.0 Event Num 10.0\n",
      "**********************\n",
      "torch.Size([12, 1, 37]) 11\n",
      "Sequence Num: 8.0 Event Num 11.0\n",
      "**********************\n",
      "torch.Size([1, 1, 37]) 0\n",
      "Sequence Num: 9.0 Event Num 0.0\n",
      "**********************\n",
      "torch.Size([5, 1, 37]) 0\n",
      "Sequence Num: 10.0 Event Num 0.0\n",
      "**********************\n",
      "torch.Size([5, 1, 37]) 1\n",
      "Sequence Num: 10.0 Event Num 1.0\n",
      "**********************\n",
      "torch.Size([5, 1, 37]) 2\n",
      "Sequence Num: 10.0 Event Num 2.0\n",
      "**********************\n",
      "torch.Size([5, 1, 37]) 3\n",
      "Sequence Num: 10.0 Event Num 3.0\n",
      "**********************\n",
      "torch.Size([5, 1, 37]) 4\n",
      "Sequence Num: 10.0 Event Num 4.0\n",
      "**********************\n",
      "torch.Size([5, 1, 37]) 0\n",
      "Sequence Num: 14.0 Event Num 0.0\n",
      "**********************\n",
      "torch.Size([5, 1, 37]) 1\n",
      "Sequence Num: 14.0 Event Num 1.0\n",
      "**********************\n",
      "torch.Size([5, 1, 37]) 2\n",
      "Sequence Num: 14.0 Event Num 2.0\n",
      "**********************\n",
      "torch.Size([5, 1, 37]) 3\n",
      "Sequence Num: 14.0 Event Num 3.0\n",
      "**********************\n",
      "torch.Size([5, 1, 37]) 4\n",
      "Sequence Num: 14.0 Event Num 4.0\n",
      "**********************\n",
      "torch.Size([4, 1, 37]) 0\n",
      "Sequence Num: 15.0 Event Num 0.0\n",
      "**********************\n",
      "torch.Size([4, 1, 37]) 1\n",
      "Sequence Num: 15.0 Event Num 1.0\n",
      "**********************\n",
      "torch.Size([4, 1, 37]) 2\n",
      "Sequence Num: 15.0 Event Num 2.0\n",
      "**********************\n",
      "torch.Size([4, 1, 37]) 3\n",
      "Sequence Num: 15.0 Event Num 3.0\n",
      "**********************\n",
      "torch.Size([1, 1, 37]) 0\n",
      "Sequence Num: 17.0 Event Num 0.0\n",
      "**********************\n",
      "torch.Size([8, 1, 37]) 0\n",
      "Sequence Num: 20.0 Event Num 0.0\n",
      "**********************\n",
      "torch.Size([8, 1, 37]) 1\n",
      "Sequence Num: 20.0 Event Num 1.0\n",
      "**********************\n",
      "torch.Size([8, 1, 37]) 2\n",
      "Sequence Num: 20.0 Event Num 2.0\n",
      "**********************\n",
      "torch.Size([8, 1, 37]) 3\n",
      "Sequence Num: 20.0 Event Num 3.0\n",
      "**********************\n",
      "torch.Size([8, 1, 37]) 4\n",
      "Sequence Num: 20.0 Event Num 4.0\n",
      "**********************\n",
      "torch.Size([8, 1, 37]) 5\n",
      "Sequence Num: 20.0 Event Num 5.0\n",
      "**********************\n",
      "torch.Size([8, 1, 37]) 6\n",
      "Sequence Num: 20.0 Event Num 6.0\n",
      "**********************\n",
      "torch.Size([8, 1, 37]) 7\n",
      "Sequence Num: 20.0 Event Num 7.0\n",
      "**********************\n",
      "torch.Size([15, 1, 37]) 0\n",
      "Sequence Num: 21.0 Event Num 0.0\n",
      "**********************\n",
      "torch.Size([15, 1, 37]) 1\n",
      "Sequence Num: 21.0 Event Num 1.0\n",
      "**********************\n",
      "torch.Size([15, 1, 37]) 2\n",
      "Sequence Num: 21.0 Event Num 2.0\n",
      "**********************\n",
      "torch.Size([15, 1, 37]) 3\n",
      "Sequence Num: 21.0 Event Num 3.0\n",
      "**********************\n",
      "torch.Size([15, 1, 37]) 4\n",
      "Sequence Num: 21.0 Event Num 4.0\n",
      "**********************\n",
      "torch.Size([15, 1, 37]) 5\n",
      "Sequence Num: 21.0 Event Num 5.0\n",
      "**********************\n",
      "torch.Size([15, 1, 37]) 6\n",
      "Sequence Num: 21.0 Event Num 6.0\n",
      "**********************\n",
      "torch.Size([15, 1, 37]) 7\n",
      "Sequence Num: 21.0 Event Num 7.0\n",
      "**********************\n",
      "torch.Size([15, 1, 37]) 8\n",
      "Sequence Num: 21.0 Event Num 8.0\n",
      "**********************\n",
      "torch.Size([15, 1, 37]) 9\n",
      "Sequence Num: 21.0 Event Num 9.0\n",
      "**********************\n",
      "torch.Size([15, 1, 37]) 10\n",
      "Sequence Num: 21.0 Event Num 10.0\n",
      "**********************\n",
      "torch.Size([15, 1, 37]) 11\n",
      "Sequence Num: 21.0 Event Num 11.0\n",
      "**********************\n",
      "torch.Size([15, 1, 37]) 12\n",
      "Sequence Num: 21.0 Event Num 12.0\n",
      "**********************\n",
      "torch.Size([15, 1, 37]) 13\n",
      "Sequence Num: 21.0 Event Num 13.0\n",
      "**********************\n",
      "torch.Size([15, 1, 37]) 14\n",
      "Sequence Num: 21.0 Event Num 14.0\n",
      "**********************\n",
      "torch.Size([2, 1, 37]) 0\n",
      "Sequence Num: 22.0 Event Num 0.0\n",
      "**********************\n",
      "torch.Size([2, 1, 37]) 1\n",
      "Sequence Num: 22.0 Event Num 1.0\n",
      "**********************\n",
      "torch.Size([2, 1, 37]) 0\n",
      "Sequence Num: 23.0 Event Num 0.0\n",
      "**********************\n",
      "torch.Size([2, 1, 37]) 1\n",
      "Sequence Num: 23.0 Event Num 1.0\n",
      "**********************\n",
      "torch.Size([2, 1, 37]) 0\n",
      "Sequence Num: 25.0 Event Num 0.0\n",
      "**********************\n",
      "torch.Size([2, 1, 37]) 1\n",
      "Sequence Num: 25.0 Event Num 1.0\n",
      "**********************\n",
      "torch.Size([2, 1, 37]) 0\n",
      "Sequence Num: 26.0 Event Num 0.0\n",
      "**********************\n",
      "torch.Size([2, 1, 37]) 1\n",
      "Sequence Num: 26.0 Event Num 1.0\n",
      "**********************\n",
      "torch.Size([1, 1, 37]) 0\n",
      "Sequence Num: 27.0 Event Num 0.0\n",
      "**********************\n",
      "torch.Size([3, 1, 37]) 0\n",
      "Sequence Num: 28.0 Event Num 0.0\n",
      "**********************\n",
      "torch.Size([3, 1, 37]) 1\n",
      "Sequence Num: 28.0 Event Num 1.0\n",
      "**********************\n",
      "torch.Size([3, 1, 37]) 2\n",
      "Sequence Num: 28.0 Event Num 2.0\n",
      "**********************\n",
      "torch.Size([2, 1, 37]) 0\n",
      "Sequence Num: 29.0 Event Num 0.0\n",
      "**********************\n",
      "torch.Size([2, 1, 37]) 1\n",
      "Sequence Num: 29.0 Event Num 1.0\n",
      "**********************\n",
      "torch.Size([1, 1, 37]) 0\n",
      "Sequence Num: 30.0 Event Num 0.0\n",
      "**********************\n",
      "torch.Size([1, 1, 37]) 0\n",
      "Sequence Num: 31.0 Event Num 0.0\n",
      "**********************\n",
      "torch.Size([2, 1, 37]) 0\n",
      "Sequence Num: 32.0 Event Num 0.0\n",
      "**********************\n",
      "torch.Size([2, 1, 37]) 1\n",
      "Sequence Num: 32.0 Event Num 1.0\n",
      "**********************\n",
      "torch.Size([4, 1, 37]) 0\n",
      "Sequence Num: 33.0 Event Num 0.0\n",
      "**********************\n",
      "torch.Size([4, 1, 37]) 1\n",
      "Sequence Num: 33.0 Event Num 1.0\n",
      "**********************\n",
      "torch.Size([4, 1, 37]) 2\n",
      "Sequence Num: 33.0 Event Num 2.0\n",
      "**********************\n",
      "torch.Size([4, 1, 37]) 3\n",
      "Sequence Num: 33.0 Event Num 3.0\n",
      "**********************\n",
      "torch.Size([4, 1, 37]) 0\n",
      "Sequence Num: 34.0 Event Num 0.0\n",
      "**********************\n",
      "torch.Size([4, 1, 37]) 1\n",
      "Sequence Num: 34.0 Event Num 1.0\n",
      "**********************\n",
      "torch.Size([4, 1, 37]) 2\n",
      "Sequence Num: 34.0 Event Num 2.0\n",
      "**********************\n",
      "torch.Size([4, 1, 37]) 3\n",
      "Sequence Num: 34.0 Event Num 3.0\n",
      "**********************\n",
      "torch.Size([2, 1, 37]) 0\n",
      "Sequence Num: 35.0 Event Num 0.0\n",
      "**********************\n",
      "torch.Size([2, 1, 37]) 1\n",
      "Sequence Num: 35.0 Event Num 1.0\n",
      "**********************\n",
      "torch.Size([3, 1, 37]) 0\n",
      "Sequence Num: 36.0 Event Num 0.0\n",
      "**********************\n",
      "torch.Size([3, 1, 37]) 1\n",
      "Sequence Num: 36.0 Event Num 1.0\n",
      "**********************\n",
      "torch.Size([3, 1, 37]) 2\n",
      "Sequence Num: 36.0 Event Num 2.0\n",
      "**********************\n",
      "torch.Size([4, 1, 37]) 0\n",
      "Sequence Num: 37.0 Event Num 0.0\n",
      "**********************\n",
      "torch.Size([4, 1, 37]) 1\n",
      "Sequence Num: 37.0 Event Num 1.0\n",
      "**********************\n",
      "torch.Size([4, 1, 37]) 2\n",
      "Sequence Num: 37.0 Event Num 2.0\n",
      "**********************\n",
      "torch.Size([4, 1, 37]) 3\n",
      "Sequence Num: 37.0 Event Num 3.0\n",
      "**********************\n",
      "torch.Size([2, 1, 37]) 0\n",
      "Sequence Num: 38.0 Event Num 0.0\n",
      "**********************\n",
      "torch.Size([2, 1, 37]) 1\n",
      "Sequence Num: 38.0 Event Num 1.0\n",
      "**********************\n",
      "torch.Size([2, 1, 37]) 0\n",
      "Sequence Num: 39.0 Event Num 0.0\n",
      "**********************\n",
      "torch.Size([2, 1, 37]) 1\n",
      "Sequence Num: 39.0 Event Num 1.0\n",
      "**********************\n",
      "torch.Size([2, 1, 37]) 0\n",
      "Sequence Num: 41.0 Event Num 0.0\n",
      "**********************\n",
      "torch.Size([2, 1, 37]) 1\n",
      "Sequence Num: 41.0 Event Num 1.0\n",
      "**********************\n",
      "torch.Size([1, 1, 37]) 0\n",
      "Sequence Num: 42.0 Event Num 0.0\n",
      "**********************\n",
      "torch.Size([5, 1, 37]) 0\n",
      "Sequence Num: 43.0 Event Num 0.0\n",
      "**********************\n",
      "torch.Size([5, 1, 37]) 1\n",
      "Sequence Num: 43.0 Event Num 1.0\n",
      "**********************\n",
      "torch.Size([5, 1, 37]) 2\n",
      "Sequence Num: 43.0 Event Num 2.0\n",
      "**********************\n",
      "torch.Size([5, 1, 37]) 3\n",
      "Sequence Num: 43.0 Event Num 3.0\n",
      "**********************\n",
      "torch.Size([5, 1, 37]) 4\n",
      "Sequence Num: 43.0 Event Num 4.0\n",
      "**********************\n",
      "torch.Size([2, 1, 37]) 0\n",
      "Sequence Num: 45.0 Event Num 0.0\n",
      "**********************\n",
      "torch.Size([2, 1, 37]) 1\n",
      "Sequence Num: 45.0 Event Num 1.0\n",
      "**********************\n",
      "torch.Size([2, 1, 37]) 0\n",
      "Sequence Num: 48.0 Event Num 0.0\n",
      "**********************\n",
      "torch.Size([2, 1, 37]) 1\n",
      "Sequence Num: 48.0 Event Num 1.0\n",
      "**********************\n",
      "torch.Size([5, 1, 37]) 0\n",
      "Sequence Num: 49.0 Event Num 0.0\n",
      "**********************\n",
      "torch.Size([5, 1, 37]) 1\n",
      "Sequence Num: 49.0 Event Num 1.0\n",
      "**********************\n",
      "torch.Size([5, 1, 37]) 2\n",
      "Sequence Num: 49.0 Event Num 2.0\n",
      "**********************\n",
      "torch.Size([5, 1, 37]) 3\n",
      "Sequence Num: 49.0 Event Num 3.0\n",
      "**********************\n",
      "torch.Size([5, 1, 37]) 4\n",
      "Sequence Num: 49.0 Event Num 4.0\n",
      "**********************\n",
      "torch.Size([4, 1, 37]) 0\n",
      "Sequence Num: 52.0 Event Num 0.0\n",
      "**********************\n",
      "torch.Size([4, 1, 37]) 1\n",
      "Sequence Num: 52.0 Event Num 1.0\n",
      "**********************\n",
      "torch.Size([4, 1, 37]) 2\n",
      "Sequence Num: 52.0 Event Num 2.0\n",
      "**********************\n",
      "torch.Size([4, 1, 37]) 3\n",
      "Sequence Num: 52.0 Event Num 3.0\n",
      "**********************\n",
      "torch.Size([2, 1, 37]) 0\n",
      "Sequence Num: 54.0 Event Num 0.0\n",
      "**********************\n",
      "torch.Size([2, 1, 37]) 1\n",
      "Sequence Num: 54.0 Event Num 1.0\n",
      "**********************\n",
      "torch.Size([3, 1, 37]) 0\n",
      "Sequence Num: 55.0 Event Num 0.0\n",
      "**********************\n",
      "torch.Size([3, 1, 37]) 1\n",
      "Sequence Num: 55.0 Event Num 1.0\n",
      "**********************\n",
      "torch.Size([3, 1, 37]) 2\n",
      "Sequence Num: 55.0 Event Num 2.0\n",
      "**********************\n",
      "torch.Size([2, 1, 37]) 0\n",
      "Sequence Num: 57.0 Event Num 0.0\n",
      "**********************\n",
      "torch.Size([2, 1, 37]) 1\n",
      "Sequence Num: 57.0 Event Num 1.0\n",
      "**********************\n"
     ]
    }
   ],
   "source": [
    "GIM = []\n",
    "# Each Episode\n",
    "for gameID in sequenceDataComplete['gameID'].unique():\n",
    "    print(gameID)\n",
    "    gameDataGPU = dfGPU[dfGPU[:,:,0][:,0] == gameID,:,:]\n",
    "    gameData = sequenceDataComplete[sequenceDataComplete['gameID'] == gameID]\n",
    "    for sequenceNum in gameData['sequenceNum'].unique():\n",
    "        modelInput = gameDataGPU[gameDataGPU[:,:,1][:,0] == sequenceNum,:,:]\n",
    "        i = 0\n",
    "        while i <  modelInput.shape[0]:\n",
    "            if  i == 0:\n",
    "                Q_t = network(modelInput[0:i+1,:,3:21])\n",
    "                gim_t = Q_t\n",
    "#                 print(modelInput[0:i+1,:,3:20])\n",
    "#                 print(Q_t)\n",
    "            else:\n",
    "                Q_tMinusOne = Q_t\n",
    "                Q_t = network(modelInput[0:i+1,:,3:21])\n",
    "#                 gim_t = Q_t - Q_tMinusOne\n",
    "                gim_t = Q_t\n",
    "            GIM.append([int(modelInput[i,0,0].item()),# GameID\n",
    "                        int(modelInput[i,0,1].item()),# sequenceNumber\n",
    "                        int(modelInput[i,0,2].item()),# eventNumber\n",
    "                        modelInput[-1,0,21].item(), #PlayerID\n",
    "                        modelInput[-1,0,19].item(), # Away\n",
    "                        modelInput[-1,0,20].item(), # Home\n",
    "                        gim_t[0,0,0].item(), # Home Probability\n",
    "                        gim_t[0,0,1].item(), # Away Probability\n",
    "                        gim_t[0,0,2].item()]) # Neither Probability\n",
    "            i += 1\n",
    "            \n",
    "#             break\n",
    "#         break\n",
    "#     break\n",
    "\n",
    "       \n",
    "results = pd.DataFrame(GIM, columns=['gameID', \n",
    "                                     'sequenceNum',\n",
    "                                     'eventNum',\n",
    "                                     'playerID', \n",
    "                                     'awayTeam',\n",
    "                                     'homeTeam', \n",
    "                                     'homeProbability',\n",
    "                                     'awayProbability',\n",
    "                                     'neitherProbability'])"
   ]
  },
  {
   "cell_type": "code",
   "execution_count": null,
   "metadata": {
    "pycharm": {
     "is_executing": true
    }
   },
   "outputs": [],
   "source": [
    "torch.save(network.state_dict(),'model_all_games.pt')"
   ]
  },
  {
   "cell_type": "code",
   "execution_count": null,
   "metadata": {
    "pycharm": {
     "is_executing": true
    }
   },
   "outputs": [],
   "source": [
    "results['value'] = np.where(results['awayTeam'] == 1, results['awayProbability'], results['homeProbability'])"
   ]
  },
  {
   "cell_type": "code",
   "execution_count": null,
   "metadata": {
    "pycharm": {
     "is_executing": true
    }
   },
   "outputs": [],
   "source": [
    "results.to_csv('deep_rl_results_all_games.csv')"
   ]
  },
  {
   "cell_type": "code",
   "execution_count": null,
   "metadata": {
    "pycharm": {
     "is_executing": true
    }
   },
   "outputs": [],
   "source": [
    "resultsComplete = pd.merge(results, seasons[['seasonID','gameID']], left_on=['gameID'],right_on=['gameID'])"
   ]
  },
  {
   "cell_type": "code",
   "execution_count": null,
   "metadata": {
    "pycharm": {
     "is_executing": true
    }
   },
   "outputs": [],
   "source": [
    "resultsComplete = resultsComplete[['seasonID','playerID','value']].groupby(['seasonID','playerID']).sum('value').reset_index().sort_values('value',ascending=False)"
   ]
  },
  {
   "cell_type": "code",
   "execution_count": null,
   "metadata": {
    "pycharm": {
     "is_executing": true
    }
   },
   "outputs": [],
   "source": [
    "players = pd.read_sql_query(\"select playerID, firstName, lastName from players\", connection)"
   ]
  },
  {
   "cell_type": "code",
   "execution_count": null,
   "metadata": {
    "pycharm": {
     "is_executing": true
    }
   },
   "outputs": [],
   "source": [
    "pd.merge(resultsComplete, players,on='playerID').sort_values('value',ascending=False).to_csv('deep_rl_results_all_games_aggregated.csv')"
   ]
  },
  {
   "cell_type": "code",
   "execution_count": null,
   "metadata": {
    "pycharm": {
     "is_executing": true
    }
   },
   "outputs": [],
   "source": []
  },
  {
   "cell_type": "code",
   "execution_count": null,
   "metadata": {
    "pycharm": {
     "is_executing": true
    }
   },
   "outputs": [],
   "source": []
  },
  {
   "cell_type": "code",
   "execution_count": null,
   "metadata": {
    "pycharm": {
     "is_executing": true
    }
   },
   "outputs": [],
   "source": []
  }
 ],
 "metadata": {
  "kernelspec": {
   "display_name": "Python 3",
   "language": "python",
   "name": "python3"
  },
  "language_info": {
   "codemirror_mode": {
    "name": "ipython",
    "version": 3
   },
   "file_extension": ".py",
   "mimetype": "text/x-python",
   "name": "python",
   "nbconvert_exporter": "python",
   "pygments_lexer": "ipython3",
   "version": "3.8.5"
  }
 },
 "nbformat": 4,
 "nbformat_minor": 1
}