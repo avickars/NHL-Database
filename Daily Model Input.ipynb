{
 "cells": [
  {
   "cell_type": "code",
   "execution_count": 9,
   "id": "cellular-integral",
   "metadata": {
    "pycharm": {
     "is_executing": true
    }
   },
   "outputs": [],
   "source": [
    "import pandas as pd\n",
    "from SQLCode import DatabaseConnection\n",
    "from SQLCode import DatabaseCredentials as DBC\n",
    "import numpy as np\n",
    "import datetime\n",
    "from datetime import date"
   ]
  },
  {
   "cell_type": "code",
   "execution_count": 10,
   "id": "residential-canberra",
   "metadata": {
    "pycharm": {
     "is_executing": true
    }
   },
   "outputs": [],
   "source": [
    "# Opening connection\n",
    "creds = DBC.DataBaseCredentials()\n",
    "conn = DatabaseConnection.sql_connection(creds.server, creds.database, creds.user, creds.password)\n",
    "connection = conn.open()\n",
    "cursor = connection.cursor()"
   ]
  },
  {
   "cell_type": "code",
   "execution_count": 11,
   "id": "transparent-pollution",
   "metadata": {
    "pycharm": {
     "is_executing": true
    }
   },
   "outputs": [
    {
     "name": "stderr",
     "output_type": "stream",
     "text": [
      "<ipython-input-11-1d07a1a27696>:14: DeprecationWarning: parsing timezone aware datetimes is deprecated; this will raise an error in the future\n",
      "  mostRecentRun = (mostRecentRun['date'].values[0] - np.datetime64('1970-01-01T00:00:00Z')) / np.timedelta64(1, 's')\n"
     ]
    }
   ],
   "source": [
    "# Getting the most recent run\n",
    "mostRecentRun = pd.read_sql_query(\"select date from script_execution where script = 'get_new_consolidated_gims' order by date desc limit 1\",\n",
    "                                  connection)\n",
    "\n",
    "# If we've never run it before, we start from the beginning\n",
    "if len(mostRecentRun) == 0:\n",
    "    date_time_str = '2000-10-04 01:55:19'\n",
    "    mostRecentRun = datetime.datetime.strptime(date_time_str, \"%Y-%m-%d %H:%M:%S\")\n",
    "    mostRecentRun = mostRecentRun.date()\n",
    "else:\n",
    "    # Otherwise just converting it into sql form\n",
    "    # Converting it from np.datetime64 to datetime\n",
    "    # CITATION: https://stackoverflow.com/questions/13703720/converting-between-datetime-timestamp-and-datetime64\n",
    "    mostRecentRun = (mostRecentRun['date'].values[0] - np.datetime64('1970-01-01T00:00:00Z')) / np.timedelta64(1, 's')\n",
    "    mostRecentRun = datetime.datetime.utcfromtimestamp(mostRecentRun)  # Adding one day on since we already ran it\n",
    "    mostRecentRun = mostRecentRun.date()"
   ]
  },
  {
   "cell_type": "code",
   "execution_count": 12,
   "id": "spiritual-queens",
   "metadata": {
    "pycharm": {
     "is_executing": true
    }
   },
   "outputs": [
    {
     "data": {
      "text/plain": [
       "datetime.date(2021, 7, 8)"
      ]
     },
     "execution_count": 12,
     "metadata": {},
     "output_type": "execute_result"
    }
   ],
   "source": [
    "mostRecentRun"
   ]
  },
  {
   "cell_type": "code",
   "execution_count": 13,
   "id": "racial-fever",
   "metadata": {
    "pycharm": {
     "is_executing": true
    }
   },
   "outputs": [],
   "source": [
    "# Getting all the games we need to get the live data for (i.e. everything from our last run up to games played yesterday)\n",
    "minGameID = pd.read_sql_query(f\"select min(gameID) from schedules where gameDate >= '{mostRecentRun}' and gameDate <'{date.today()}'\", connection).values[0][0]"
   ]
  },
  {
   "cell_type": "code",
   "execution_count": 14,
   "id": "immediate-angel",
   "metadata": {
    "pycharm": {
     "is_executing": true
    }
   },
   "outputs": [],
   "source": [
    "# Getting the season mapping\n",
    "SEASON_MAPPING = pd.read_sql_query(\"\"\"\n",
    "select * from season_to_next_season_mapping\n",
    "\"\"\", connection)"
   ]
  },
  {
   "cell_type": "code",
   "execution_count": 15,
   "id": "color-coating",
   "metadata": {
    "pycharm": {
     "is_executing": true
    }
   },
   "outputs": [],
   "source": [
    "# Getting the current season\n",
    "cursor.execute(\"select max(seasonID) from seasons\")\n",
    "CURRENT_SEASON = cursor.fetchall()[0][0]"
   ]
  },
  {
   "cell_type": "code",
   "execution_count": 16,
   "id": "spectacular-catalyst",
   "metadata": {
    "pycharm": {
     "is_executing": true
    }
   },
   "outputs": [
    {
     "ename": "IndexError",
     "evalue": "index 0 is out of bounds for axis 0 with size 0",
     "output_type": "error",
     "traceback": [
      "\u001b[1;31m---------------------------------------------------------------------------\u001b[0m",
      "\u001b[1;31mIndexError\u001b[0m                                Traceback (most recent call last)",
      "\u001b[1;32m<ipython-input-16-705997c72b05>\u001b[0m in \u001b[0;36m<module>\u001b[1;34m\u001b[0m\n\u001b[0;32m      1\u001b[0m \u001b[1;31m# Getting the previous_Season\u001b[0m\u001b[1;33m\u001b[0m\u001b[1;33m\u001b[0m\u001b[1;33m\u001b[0m\u001b[0m\n\u001b[1;32m----> 2\u001b[1;33m \u001b[0mPREVIOUS_SEASON\u001b[0m \u001b[1;33m=\u001b[0m \u001b[0mSEASON_MAPPING\u001b[0m\u001b[1;33m[\u001b[0m\u001b[0mSEASON_MAPPING\u001b[0m\u001b[1;33m[\u001b[0m\u001b[1;34m'seasonID'\u001b[0m\u001b[1;33m]\u001b[0m \u001b[1;33m==\u001b[0m \u001b[0mCURRENT_SEASON\u001b[0m\u001b[1;33m]\u001b[0m\u001b[1;33m[\u001b[0m\u001b[1;34m'previousSeasonID'\u001b[0m\u001b[1;33m]\u001b[0m\u001b[1;33m.\u001b[0m\u001b[0mvalues\u001b[0m\u001b[1;33m[\u001b[0m\u001b[1;36m0\u001b[0m\u001b[1;33m]\u001b[0m\u001b[1;33m\u001b[0m\u001b[1;33m\u001b[0m\u001b[0m\n\u001b[0m",
      "\u001b[1;31mIndexError\u001b[0m: index 0 is out of bounds for axis 0 with size 0"
     ]
    }
   ],
   "source": [
    "# Getting the previous_Season\n",
    "PREVIOUS_SEASON = SEASON_MAPPING[SEASON_MAPPING['seasonID'] == CURRENT_SEASON]['previousSeasonID'].values[0]"
   ]
  },
  {
   "cell_type": "code",
   "execution_count": 18,
   "id": "postal-selection",
   "metadata": {},
   "outputs": [
    {
     "data": {
      "text/plain": [
       "20212022"
      ]
     },
     "execution_count": 18,
     "metadata": {},
     "output_type": "execute_result"
    }
   ],
   "source": [
    "CURRENT_SEASON"
   ]
  },
  {
   "cell_type": "code",
   "execution_count": 17,
   "id": "tamil-cheat",
   "metadata": {},
   "outputs": [
    {
     "data": {
      "text/html": [
       "<div>\n",
       "<style scoped>\n",
       "    .dataframe tbody tr th:only-of-type {\n",
       "        vertical-align: middle;\n",
       "    }\n",
       "\n",
       "    .dataframe tbody tr th {\n",
       "        vertical-align: top;\n",
       "    }\n",
       "\n",
       "    .dataframe thead th {\n",
       "        text-align: right;\n",
       "    }\n",
       "</style>\n",
       "<table border=\"1\" class=\"dataframe\">\n",
       "  <thead>\n",
       "    <tr style=\"text-align: right;\">\n",
       "      <th></th>\n",
       "      <th>seasonID</th>\n",
       "      <th>previousSeasonID</th>\n",
       "    </tr>\n",
       "  </thead>\n",
       "  <tbody>\n",
       "    <tr>\n",
       "      <th>0</th>\n",
       "      <td>20112012</td>\n",
       "      <td>20102011</td>\n",
       "    </tr>\n",
       "    <tr>\n",
       "      <th>1</th>\n",
       "      <td>20122013</td>\n",
       "      <td>20112012</td>\n",
       "    </tr>\n",
       "    <tr>\n",
       "      <th>2</th>\n",
       "      <td>20132014</td>\n",
       "      <td>20122013</td>\n",
       "    </tr>\n",
       "    <tr>\n",
       "      <th>3</th>\n",
       "      <td>20142015</td>\n",
       "      <td>20132014</td>\n",
       "    </tr>\n",
       "    <tr>\n",
       "      <th>4</th>\n",
       "      <td>20152016</td>\n",
       "      <td>20142015</td>\n",
       "    </tr>\n",
       "    <tr>\n",
       "      <th>5</th>\n",
       "      <td>20162017</td>\n",
       "      <td>20152016</td>\n",
       "    </tr>\n",
       "    <tr>\n",
       "      <th>6</th>\n",
       "      <td>20172018</td>\n",
       "      <td>20162017</td>\n",
       "    </tr>\n",
       "    <tr>\n",
       "      <th>7</th>\n",
       "      <td>20182019</td>\n",
       "      <td>20172018</td>\n",
       "    </tr>\n",
       "    <tr>\n",
       "      <th>8</th>\n",
       "      <td>20192020</td>\n",
       "      <td>20182019</td>\n",
       "    </tr>\n",
       "    <tr>\n",
       "      <th>9</th>\n",
       "      <td>20202021</td>\n",
       "      <td>20192020</td>\n",
       "    </tr>\n",
       "  </tbody>\n",
       "</table>\n",
       "</div>"
      ],
      "text/plain": [
       "   seasonID  previousSeasonID\n",
       "0  20112012          20102011\n",
       "1  20122013          20112012\n",
       "2  20132014          20122013\n",
       "3  20142015          20132014\n",
       "4  20152016          20142015\n",
       "5  20162017          20152016\n",
       "6  20172018          20162017\n",
       "7  20182019          20172018\n",
       "8  20192020          20182019\n",
       "9  20202021          20192020"
      ]
     },
     "execution_count": 17,
     "metadata": {},
     "output_type": "execute_result"
    }
   ],
   "source": [
    "SEASON_MAPPING"
   ]
  },
  {
   "cell_type": "code",
   "execution_count": null,
   "id": "orange-emphasis",
   "metadata": {
    "pycharm": {
     "is_executing": true
    }
   },
   "outputs": [],
   "source": [
    "GIM_VALUES = pd.read_sql_query(f\"\"\"\n",
    "select *\n",
    "from (\n",
    "         select GAMES.seasonID,\n",
    "                GAMES.gameID,\n",
    "                GAMES.gameType,\n",
    "                GAMES.teamID,\n",
    "                GAMES.playerID,\n",
    "                IF(GIM.value is null, 0, GIM.value)                                                                               as 'gimForIndvGame',\n",
    "                ROW_NUMBER() over (partition by GAMES.seasonID, GAMES.playerID order by GAMES.gameID)                             as 'gameNumber',\n",
    "                SUM(IF(GIM.value is null, 0, GIM.value)) over (partition by GAMES.seasonID, GAMES.playerID order by GAMES.gameID) as 'gimCumTotal',\n",
    "                AVG(IF(GIM.value is null, 0, GIM.value)) over (partition by GAMES.seasonID, GAMES.playerID order by GAMES.gameID) as 'gimMean'\n",
    "         from (\n",
    "                  select s.seasonID,\n",
    "                         bs.gameID,\n",
    "                         bs.playerID,\n",
    "                         bs.teamID,\n",
    "                         s.gameType\n",
    "                  from box_scores bs\n",
    "                           inner join schedules s on bs.gameID = s.gameID\n",
    "                  where scratched = 0\n",
    "                    and seasonID >= 20102011\n",
    "                    and timeOnIce is not null\n",
    "                    and s.gameType in ('R', 'P')\n",
    "              ) GAMES\n",
    "                  left join\n",
    "              (\n",
    "                  select gim.gameID,\n",
    "                         playerID,\n",
    "                         sum(if(awayTeam = 1, awayProbability, homeProbability)) as 'value'\n",
    "                  from stage_hockey.gim_values gim\n",
    "                  group by gim.gameID, playerID\n",
    "              ) GIM ON GAMES.gameID = GIM.gameID and GAMES.playerID = GIM.playerID\n",
    "         where GAMES.seasonID >= {CURRENT_SEASON}\n",
    "         order by gameID, playerID\n",
    "     ) p \n",
    "     where gameID >= {minGameID}\n",
    "\"\"\", connection)"
   ]
  },
  {
   "cell_type": "code",
   "execution_count": null,
   "id": "authorized-bennett",
   "metadata": {
    "pycharm": {
     "is_executing": true
    }
   },
   "outputs": [],
   "source": [
    "POSITIONS = pd.read_sql_query(\"\"\"\n",
    "select playerID,\n",
    "             primaryPositionCode,\n",
    "             row_number() over (partition by playerID order by date desc ) as 'ROW_NUM'\n",
    "      from plays_position\n",
    "      where primaryPositionCode is not null\n",
    "\"\"\", connection)"
   ]
  },
  {
   "cell_type": "code",
   "execution_count": null,
   "id": "complimentary-extra",
   "metadata": {
    "pycharm": {
     "is_executing": true
    }
   },
   "outputs": [],
   "source": [
    "POSITIONS = POSITIONS[POSITIONS['ROW_NUM'] == 1].drop(['ROW_NUM'],axis=1)"
   ]
  },
  {
   "cell_type": "code",
   "execution_count": null,
   "id": "separate-tower",
   "metadata": {
    "pycharm": {
     "is_executing": true
    }
   },
   "outputs": [],
   "source": [
    "POSITIONS_AVERAGES = pd.read_sql_query(f\"\"\"\n",
    "select * from stage_hockey.gim_position_averages_per_season where seasonID = {PREVIOUS_SEASON}\n",
    "\"\"\", connection)"
   ]
  },
  {
   "cell_type": "code",
   "execution_count": null,
   "id": "first-background",
   "metadata": {
    "pycharm": {
     "is_executing": true
    }
   },
   "outputs": [],
   "source": [
    "pastGIMValues = pd.read_sql_query(f\"\"\"\n",
    "select * from stage_hockey.gim_by_player_by_season where seasonID = {PREVIOUS_SEASON}\n",
    "\"\"\", connection)"
   ]
  },
  {
   "cell_type": "code",
   "execution_count": null,
   "id": "miniature-kennedy",
   "metadata": {
    "pycharm": {
     "is_executing": true
    }
   },
   "outputs": [],
   "source": [
    "gimValuesAdjusted = pd.merge(GIM_VALUES,\n",
    "         SEASON_MAPPING,\n",
    "         how='inner',on=['seasonID'])"
   ]
  },
  {
   "cell_type": "code",
   "execution_count": null,
   "id": "micro-blond",
   "metadata": {
    "pycharm": {
     "is_executing": true
    }
   },
   "outputs": [],
   "source": [
    "gimValuesAdjusted = pd.merge(gimValuesAdjusted,\n",
    "         pastGIMValues,\n",
    "         how='left', \n",
    "         left_on=['previousSeasonID','playerID'],\n",
    "         right_on=['seasonID','playerID'],\n",
    "         suffixes=('', '_previous')).drop(['seasonID_previous'],axis=1)"
   ]
  },
  {
   "cell_type": "code",
   "execution_count": null,
   "id": "naked-acoustic",
   "metadata": {
    "pycharm": {
     "is_executing": true
    }
   },
   "outputs": [],
   "source": [
    "gimValuesAdjusted = pd.merge(gimValuesAdjusted,POSITIONS,how='inner')"
   ]
  },
  {
   "cell_type": "code",
   "execution_count": null,
   "id": "minute-conservation",
   "metadata": {
    "pycharm": {
     "is_executing": true
    }
   },
   "outputs": [],
   "source": [
    "gimValuesAdjusted = pd.merge(gimValuesAdjusted,POSITIONS_AVERAGES,how='inner',  \n",
    "         left_on=['previousSeasonID','primaryPositionCode'],\n",
    "                         right_on = ['seasonID','primaryPositionCode'],\n",
    "                         suffixes=('', '_positionalMean')).drop(['primaryPositionCode'],axis=1)"
   ]
  },
  {
   "cell_type": "code",
   "execution_count": null,
   "id": "frank-exhibit",
   "metadata": {
    "pycharm": {
     "is_executing": true
    }
   },
   "outputs": [],
   "source": [
    "gimValuesAdjusted"
   ]
  },
  {
   "cell_type": "code",
   "execution_count": null,
   "id": "geological-forum",
   "metadata": {
    "pycharm": {
     "is_executing": true
    }
   },
   "outputs": [],
   "source": [
    "gimValuesAdjusted['gimMeanAdjusted'] = np.where(gimValuesAdjusted['gameNumber'] >= 20, \n",
    "         gimValuesAdjusted['gimMean'],\n",
    "         np.where(gimValuesAdjusted['gimValueAdjusted'].isna(),\n",
    "                 (gimValuesAdjusted['gameNumber']/20)*gimValuesAdjusted['gimMean'] + (1-gimValuesAdjusted['gameNumber']/20)*gimValuesAdjusted['gimMean_positionalMean'],                 \n",
    "                  (gimValuesAdjusted['gameNumber']/20)*gimValuesAdjusted['gimMean'] + (1-gimValuesAdjusted['gameNumber']/20)*gimValuesAdjusted['gimValueAdjusted']))"
   ]
  },
  {
   "cell_type": "code",
   "execution_count": null,
   "id": "adult-version",
   "metadata": {
    "pycharm": {
     "is_executing": true
    }
   },
   "outputs": [],
   "source": [
    "gimValuesAdjusted = gimValuesAdjusted.drop(['previousSeasonID', \n",
    "                        'gimValueAdjusted', \n",
    "                        'seasonID_positionalMean',\n",
    "                        'gimMean_positionalMean'],axis=1)"
   ]
  },
  {
   "cell_type": "code",
   "execution_count": null,
   "id": "reasonable-lesson",
   "metadata": {
    "pycharm": {
     "is_executing": true
    }
   },
   "outputs": [],
   "source": [
    "for index, row in gimValuesAdjusted.iterrows():\n",
    "    query = f\"insert into stage_hockey.gim_values_consolidated values({row['seasonID']},{row['gameID']},\\'{row['gameType']}\\',{row['teamID']},{row['playerID']},{row['gimForIndvGame']},{row['gameNumber']},{row['gimCumTotal']},{row['gimMean']},{row['gimMeanAdjusted']})\"\n",
    "    cursor.execute(query)\n",
    "    connection.commit()"
   ]
  },
  {
   "cell_type": "code",
   "execution_count": null,
   "id": "collaborative-rhythm",
   "metadata": {
    "pycharm": {
     "is_executing": true
    }
   },
   "outputs": [],
   "source": []
  },
  {
   "cell_type": "code",
   "execution_count": null,
   "id": "treated-proposition",
   "metadata": {
    "pycharm": {
     "is_executing": true
    }
   },
   "outputs": [],
   "source": []
  },
  {
   "cell_type": "code",
   "execution_count": null,
   "id": "bizarre-northeast",
   "metadata": {
    "pycharm": {
     "is_executing": true
    }
   },
   "outputs": [],
   "source": []
  },
  {
   "cell_type": "code",
   "execution_count": null,
   "id": "christian-checklist",
   "metadata": {
    "pycharm": {
     "is_executing": true
    }
   },
   "outputs": [],
   "source": [
    "conn.close()"
   ]
  },
  {
   "cell_type": "code",
   "execution_count": null,
   "id": "planned-perception",
   "metadata": {
    "pycharm": {
     "is_executing": true
    }
   },
   "outputs": [],
   "source": []
  }
 ],
 "metadata": {
  "kernelspec": {
   "display_name": "Python 3",
   "language": "python",
   "name": "python3"
  },
  "language_info": {
   "codemirror_mode": {
    "name": "ipython",
    "version": 3
   },
   "file_extension": ".py",
   "mimetype": "text/x-python",
   "name": "python",
   "nbconvert_exporter": "python",
   "pygments_lexer": "ipython3",
   "version": "3.8.5"
  }
 },
 "nbformat": 4,
 "nbformat_minor": 5
}
