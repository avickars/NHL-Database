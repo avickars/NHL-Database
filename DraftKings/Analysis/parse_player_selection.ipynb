{
 "cells": [
  {
   "cell_type": "markdown",
   "id": "f7733ffd",
   "metadata": {},
   "source": [
    "# About\n",
    "\n",
    "This notebook parses the player selections into a tidy format"
   ]
  },
  {
   "cell_type": "code",
   "execution_count": 1,
   "id": "006c6b3a",
   "metadata": {},
   "outputs": [],
   "source": [
    "import pandas as pd"
   ]
  },
  {
   "cell_type": "code",
   "execution_count": 2,
   "id": "e3dee6eb",
   "metadata": {},
   "outputs": [],
   "source": [
    "import re"
   ]
  },
  {
   "cell_type": "code",
   "execution_count": 3,
   "id": "593a9c00",
   "metadata": {},
   "outputs": [],
   "source": [
    "# Reading in the raw data\n",
    "selections_raw = pd.read_csv('data/player_selections.csv',index_col=0)"
   ]
  },
  {
   "cell_type": "code",
   "execution_count": 4,
   "id": "3bf72fe2",
   "metadata": {},
   "outputs": [],
   "source": [
    "# Compiling the regex\n",
    "regex = re.compile('\\s(C|C|W|UTIL|D|G|CPT|FLEX)\\s')\n",
    "startRegex = re.compile('^(C|C|W|UTIL|D|G|CPT|FLEX)\\s')"
   ]
  },
  {
   "cell_type": "code",
   "execution_count": null,
   "id": "132b2c2b",
   "metadata": {},
   "outputs": [],
   "source": [
    "# Creating a list to hold the raw data\n",
    "parsedsSelections = []\n",
    "\n",
    "for index, values in selections_raw.iterrows():\n",
    "    selections = {}\n",
    "    selections['contestID'] = values['contestID']\n",
    "    selections['entryID'] = values['entryID']\n",
    "    selections['entryName'] = values['entryName']\n",
    "    \n",
    "    selectionString = values['lineup']\n",
    "    \n",
    "    selectionString = selections_raw.iloc[1613]['lineup']\n",
    "    \n",
    "#     print(index, selectionString)\n",
    "#     print('**********************************')\n",
    "    \n",
    "    matchIndexes = [match_span.span() for match_span in regex.finditer(selectionString)]\n",
    "    \n",
    "    selection = []\n",
    "    \n",
    "    firstMatchIndexes = startRegex.match(selectionString).span()\n",
    "           \n",
    "    # First Player  \n",
    "    selection.append({'position':selectionString[0:firstMatchIndexes[1]-1], \n",
    "                      'player':selectionString[firstMatchIndexes[1]:matchIndexes[0][0]]})\n",
    "    \n",
    "    for i in range(0, len(matchIndexes)):\n",
    "        if i < len(matchIndexes) - 1:\n",
    "            # Player 2 to n-1\n",
    "            \n",
    "            selection.append(\n",
    "                {\n",
    "                    'position':selectionString[matchIndexes[i][0]+1:matchIndexes[i][1]-1], \n",
    "                    'player':selectionString[matchIndexes[i][1]:matchIndexes[i+1][0]]\n",
    "                }\n",
    "            )\n",
    "        else:\n",
    "            # Player n\n",
    "            \n",
    "            selection.append(\n",
    "                {\n",
    "                    'position':selectionString[matchIndexes[i][0]+1:matchIndexes[i][1]-1], \n",
    "                    'player':selectionString[matchIndexes[i][1]:]\n",
    "                }\n",
    "            )\n",
    "                \n",
    "    selections['selection'] = selection\n",
    "    \n",
    "    parsedsSelections.append(selections)\n",
    "            \n",
    "#     break\n",
    "\n",
    "parsedsSelectionsDF = pd.DataFrame(parsedsSelections)"
   ]
  },
  {
   "cell_type": "code",
   "execution_count": null,
   "id": "291cd0d4",
   "metadata": {},
   "outputs": [],
   "source": [
    "# Exploding the selections into individual rows\n",
    "parsedsSelectionsDF = parsedsSelectionsDF.explode('selection')"
   ]
  },
  {
   "cell_type": "code",
   "execution_count": null,
   "id": "8a2eae88",
   "metadata": {},
   "outputs": [],
   "source": [
    "# Expanding the selection column into 2 columns\n",
    "parsedsSelectionsDF = pd.concat(\n",
    "    [\n",
    "        parsedsSelectionsDF.reset_index(drop=True),\n",
    "        pd.json_normalize(parsedsSelectionsDF['selection'])\n",
    "    ],\n",
    "    axis=1)"
   ]
  },
  {
   "cell_type": "code",
   "execution_count": null,
   "id": "5bb1dc84",
   "metadata": {},
   "outputs": [],
   "source": [
    "# Dropping unneccessary column\n",
    "playerSelections = parsedsSelectionsDF.drop('selection',axis=1)"
   ]
  },
  {
   "cell_type": "code",
   "execution_count": null,
   "id": "0c473576",
   "metadata": {},
   "outputs": [],
   "source": [
    "playerSelections.to_csv('transformed_data/playerSelections.csv')"
   ]
  },
  {
   "cell_type": "code",
   "execution_count": null,
   "id": "f09edd18",
   "metadata": {},
   "outputs": [],
   "source": []
  },
  {
   "cell_type": "code",
   "execution_count": null,
   "id": "ebb3af3a",
   "metadata": {},
   "outputs": [],
   "source": []
  },
  {
   "cell_type": "code",
   "execution_count": null,
   "id": "6b16385e",
   "metadata": {},
   "outputs": [],
   "source": []
  }
 ],
 "metadata": {
  "kernelspec": {
   "display_name": "Python 3 (ipykernel)",
   "language": "python",
   "name": "python3"
  },
  "language_info": {
   "codemirror_mode": {
    "name": "ipython",
    "version": 3
   },
   "file_extension": ".py",
   "mimetype": "text/x-python",
   "name": "python",
   "nbconvert_exporter": "python",
   "pygments_lexer": "ipython3",
   "version": "3.8.12"
  }
 },
 "nbformat": 4,
 "nbformat_minor": 5
}
