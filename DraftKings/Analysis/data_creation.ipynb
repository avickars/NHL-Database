{
 "cells": [
  {
   "cell_type": "code",
   "execution_count": 1,
   "metadata": {},
   "outputs": [],
   "source": [
    "from SQLCode import DatabaseConnection\n",
    "from SQLCode import DatabaseCredentials as DBC\n",
    "import pandas as pd"
   ]
  },
  {
   "cell_type": "code",
   "execution_count": 2,
   "metadata": {},
   "outputs": [],
   "source": [
    "# Opening connection\n",
    "creds = DBC.DataBaseCredentials()\n",
    "conn = DatabaseConnection.sql_connection(creds.server, 'draft_kings', creds.user, creds.password)\n",
    "connection = conn.open()\n",
    "cursor = connection.cursor()"
   ]
  },
  {
   "cell_type": "code",
   "execution_count": 11,
   "metadata": {},
   "outputs": [],
   "source": [
    "ot_plays = pd.read_sql_query(\"\"\"select *\n",
    "from hockey.live_feed\n",
    "where gameID in (select gameID\n",
    "from hockey.schedules where seasonID = 20212022 and gameType = 'R') and periodNum > 3\n",
    "order by eventID, eventSubID\"\"\",\n",
    "    connection)\n",
    "\n",
    "ot_plays.to_csv('data/ot_plays.csv')"
   ]
  },
  {
   "cell_type": "code",
   "execution_count": 12,
   "metadata": {},
   "outputs": [],
   "source": [
    "points_legend = pd.read_sql_query(\"\"\"select *\n",
    "from points_legend\n",
    "where contestID in (select CD.contestID\n",
    "from contest_details CD\n",
    "inner join (select distinct contestID from contest_player_selections) CPS on CD.contestID = CPS.contestID\n",
    "where entryFee < 15\n",
    "order by contestStartTime desc)\"\"\",\n",
    "    connection)\n",
    "\n",
    "points_legend.to_csv('data/points_legend.csv')"
   ]
  },
  {
   "cell_type": "code",
   "execution_count": 13,
   "metadata": {},
   "outputs": [],
   "source": [
    "contest_details = pd.read_sql_query(\"\"\"select CD.*\n",
    "from contest_details CD\n",
    "inner join (select distinct contestID from contest_player_selections) CPS on CD.contestID = CPS.contestID\n",
    "where entryFee < 15\n",
    "order by contestStartTime desc\"\"\",\n",
    "    connection)\n",
    "contest_details.to_csv('data/contest_details.csv')"
   ]
  },
  {
   "cell_type": "code",
   "execution_count": 14,
   "metadata": {},
   "outputs": [],
   "source": [
    "contest_payouts = pd.read_sql_query(\"\"\"select *\n",
    "from contest_payouts where contestID in (\n",
    "    select CD.contestID\n",
    "from contest_details CD\n",
    "inner join (select distinct contestID from contest_player_selections) CPS on CD.contestID = CPS.contestID\n",
    "where entryFee < 15\n",
    "order by contestStartTime desc\n",
    "    )\"\"\",\n",
    "    connection)\n",
    "contest_payouts.to_csv('data/contest_payouts.csv')"
   ]
  },
  {
   "cell_type": "code",
   "execution_count": 15,
   "metadata": {},
   "outputs": [],
   "source": [
    "contest_rules = pd.read_sql_query(\"select * from contest_rules\",\n",
    "    connection)\n",
    "contest_rules.to_csv('data/contest_rules.csv')"
   ]
  },
  {
   "cell_type": "code",
   "execution_count": 16,
   "metadata": {},
   "outputs": [],
   "source": [
    "players = pd.read_sql_query(\"\"\"select *\n",
    "from draft_groups_players_webdriver\n",
    "where contestID in (select CD.contestID\n",
    "from contest_details CD\n",
    "inner join (select distinct contestID from contest_player_selections) CPS on CD.contestID = CPS.contestID\n",
    "where entryFee < 15\n",
    "order by contestStartTime desc)\"\"\",\n",
    "    connection)\n",
    "players.to_csv('data/players.csv')"
   ]
  },
  {
   "cell_type": "code",
   "execution_count": 3,
   "metadata": {},
   "outputs": [],
   "source": [
    "player_selections = pd.read_sql_query(\"\"\"select *\n",
    "from contest_player_selections\n",
    "where contestID in (select CD.contestID\n",
    "from contest_details CD\n",
    "inner join (select distinct contestID from contest_player_selections) CPS on CD.contestID = CPS.contestID\n",
    "where entryFee < 15\n",
    "order by contestStartTime desc)\"\"\",\n",
    "    connection)\n",
    "player_selections.to_csv('data/player_selections.csv')"
   ]
  },
  {
   "cell_type": "code",
   "execution_count": 4,
   "metadata": {},
   "outputs": [],
   "source": [
    "conn.close()"
   ]
  }
 ],
 "metadata": {
  "kernelspec": {
   "display_name": "Python 3 (ipykernel)",
   "language": "python",
   "name": "python3"
  },
  "language_info": {
   "codemirror_mode": {
    "name": "ipython",
    "version": 3
   },
   "file_extension": ".py",
   "mimetype": "text/x-python",
   "name": "python",
   "nbconvert_exporter": "python",
   "pygments_lexer": "ipython3",
   "version": "3.8.12"
  }
 },
 "nbformat": 4,
 "nbformat_minor": 1
}
