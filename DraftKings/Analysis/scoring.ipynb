{
 "cells": [
  {
   "cell_type": "code",
   "execution_count": 1,
   "id": "1645704f",
   "metadata": {},
   "outputs": [],
   "source": [
    "import pandas as pd\n",
    "from SQLCode import DatabaseConnection\n",
    "from SQLCode import DatabaseCredentials as DBC\n",
    "import re\n",
    "import dateutil.parser as dparser\n",
    "from multiprocessing import  Pool\n",
    "import numpy as np"
   ]
  },
  {
   "cell_type": "markdown",
   "id": "5c0e3f51",
   "metadata": {},
   "source": [
    "## Querying Data"
   ]
  },
  {
   "cell_type": "code",
   "execution_count": null,
   "id": "1bb23fbf",
   "metadata": {},
   "outputs": [],
   "source": [
    "# Opening connection\n",
    "creds = DBC.DataBaseCredentials()\n",
    "conn = DatabaseConnection.sql_connection(creds.server, 'draft_kings', creds.user, creds.password)\n",
    "connection = conn.open()\n",
    "cursor = connection.cursor()"
   ]
  },
  {
   "cell_type": "code",
   "execution_count": null,
   "id": "1f6f3b0d",
   "metadata": {},
   "outputs": [],
   "source": [
    "contests = pd.read_sql_query(\"\"\"select contestID from contest_details where entryFee <= 10 and contestID in (select id from contests where IsWinnerTakeAll is null)\n",
    "\"\"\",\n",
    "    connection)\n",
    "\n",
    "contests.to_csv('data/contests.csv')"
   ]
  },
  {
   "cell_type": "code",
   "execution_count": null,
   "id": "dde5cefe",
   "metadata": {},
   "outputs": [],
   "source": [
    "playerOptions = pd.read_sql_query(\"\"\"select * from draft_groups_players_webdriver where contestID in (select contestID from contest_details where entryFee <= 10 and contestID in (select id from contests where IsWinnerTakeAll is null))\n",
    "\"\"\",\n",
    "    connection)\n",
    "\n",
    "playerOptions.to_csv('data/playerOptionsWebDriver.csv')"
   ]
  },
  {
   "cell_type": "code",
   "execution_count": null,
   "id": "16edf470",
   "metadata": {},
   "outputs": [],
   "source": [
    "otGames = pd.read_sql_query(\"\"\"\n",
    "select distinct gameID\n",
    "from hockey.live_feed\n",
    "where gameID in (select gameID from hockey.schedules where seasonID=20212022 and gameType='R') and periodNum >= 4\n",
    "\"\"\",\n",
    "    connection)\n",
    "\n",
    "otGames.to_csv('data/otGames.csv')"
   ]
  },
  {
   "cell_type": "code",
   "execution_count": null,
   "id": "7c7a7501",
   "metadata": {},
   "outputs": [],
   "source": [
    "gameInfo = pd.read_sql_query(\"\"\"\n",
    "select gameID,\n",
    "       away.abbreviation as awayTeam,\n",
    "       awayTeamID,\n",
    "       home.abbreviation as homeTeam,\n",
    "       homeTeamID,\n",
    "       date_add(gameDate, interval -4 hour ) as newGameDate\n",
    "from hockey.schedules\n",
    "inner join hockey.teams away on schedules.awayTeamID = away.teamID\n",
    "inner join hockey.teams home on schedules.homeTeamID = home.teamID\n",
    "where seasonID=20212022 and gameType='R'\n",
    "\n",
    "\"\"\",\n",
    "    connection)\n",
    "\n",
    "gameInfo.to_csv('data/gameInfo.csv')"
   ]
  },
  {
   "cell_type": "code",
   "execution_count": null,
   "id": "f53239ec",
   "metadata": {},
   "outputs": [],
   "source": [
    "shootoutGoals = pd.read_sql_query(\"\"\"\n",
    "select gameID, playerID\n",
    "from hockey.live_feed\n",
    "where gameID in (select gameID from hockey.schedules where seasonID=20212022 and gameType='R') and\n",
    "      periodNum =5 and\n",
    "      playerType = 'Scorer'\n",
    "\n",
    "\"\"\",\n",
    "    connection)\n",
    "\n",
    "shootoutGoals.to_csv('data/shootoutGoals.csv')"
   ]
  },
  {
   "cell_type": "code",
   "execution_count": null,
   "id": "a50c1b2d",
   "metadata": {},
   "outputs": [],
   "source": [
    "conn.close()"
   ]
  },
  {
   "cell_type": "markdown",
   "id": "82bdc29d",
   "metadata": {},
   "source": [
    "## Loading Data"
   ]
  },
  {
   "cell_type": "code",
   "execution_count": 2,
   "id": "52a9315f",
   "metadata": {},
   "outputs": [],
   "source": [
    "shootoutGoals = pd.read_csv('data/shootoutGoals.csv',index_col=0)"
   ]
  },
  {
   "cell_type": "code",
   "execution_count": 3,
   "id": "93fdd6dc",
   "metadata": {},
   "outputs": [],
   "source": [
    "playerOptionsWebDriver = pd.read_csv('data/playerOptionsWebDriver.csv', index_col=0)"
   ]
  },
  {
   "cell_type": "code",
   "execution_count": 4,
   "id": "7919320d",
   "metadata": {},
   "outputs": [],
   "source": [
    "contests = pd.read_csv('data/contests.csv',index_col=0)"
   ]
  },
  {
   "cell_type": "code",
   "execution_count": 5,
   "id": "a626df30",
   "metadata": {},
   "outputs": [],
   "source": [
    "playerSelections = pd.read_csv('transformed_data/playerSelections.csv',index_col=0)\n",
    "playerSelections = playerSelections[playerSelections['contestID'].isin(contests['contestID'])]"
   ]
  },
  {
   "cell_type": "code",
   "execution_count": 6,
   "id": "2d667ea3",
   "metadata": {},
   "outputs": [],
   "source": [
    "goalieBoxscores = pd.read_csv('data/goalies_boxscores.csv', index_col=0)"
   ]
  },
  {
   "cell_type": "code",
   "execution_count": 7,
   "id": "fdec9e40",
   "metadata": {},
   "outputs": [],
   "source": [
    "skaterBoxscores = pd.read_csv('data/skaters_boxscores.csv', index_col=0)"
   ]
  },
  {
   "cell_type": "code",
   "execution_count": 8,
   "id": "2e8631fc",
   "metadata": {},
   "outputs": [],
   "source": [
    "otGames = pd.read_csv('data/otGames.csv', index_col=0)"
   ]
  },
  {
   "cell_type": "code",
   "execution_count": 9,
   "id": "9693675f",
   "metadata": {},
   "outputs": [],
   "source": [
    "gameInfo = pd.read_csv('data/gameInfo.csv',index_col=0)"
   ]
  },
  {
   "cell_type": "markdown",
   "id": "8a2415bd",
   "metadata": {},
   "source": [
    "## Prepping Hockey DB Data"
   ]
  },
  {
   "cell_type": "code",
   "execution_count": 10,
   "id": "ef67289f",
   "metadata": {},
   "outputs": [],
   "source": [
    "# Extracting just the date\n",
    "gameInfo['newGameDate'] = gameInfo['newGameDate'].apply(lambda x: x[0:10])"
   ]
  },
  {
   "cell_type": "code",
   "execution_count": 11,
   "id": "04f7cfc6",
   "metadata": {},
   "outputs": [],
   "source": [
    "# Adding on if the game went to OT\n",
    "otGames['OT'] = 1\n",
    "\n",
    "goalieBoxscores = pd.merge(goalieBoxscores, otGames, how='left', on=['gameID'])\n",
    "\n",
    "goalieBoxscores.loc[goalieBoxscores['OT'].isna(), 'OT'] = 0"
   ]
  },
  {
   "cell_type": "code",
   "execution_count": 12,
   "id": "0898f1c2",
   "metadata": {},
   "outputs": [],
   "source": [
    "# Getting the number of shootout goals in case a player went twice\n",
    "shootoutGoals = shootoutGoals.groupby(['gameID', 'playerID']).size().reset_index().rename({0:'numShootOutGoals'}, axis=1)"
   ]
  },
  {
   "cell_type": "code",
   "execution_count": 13,
   "id": "17962710",
   "metadata": {},
   "outputs": [],
   "source": [
    "# Adding on the number of shootout goals\n",
    "skaterBoxscores = pd.merge(skaterBoxscores, shootoutGoals, how='left')\n",
    "\n",
    "skaterBoxscores.loc[skaterBoxscores['numShootOutGoals'].isna(),'numShootOutGoals'] = 0"
   ]
  },
  {
   "cell_type": "code",
   "execution_count": 14,
   "id": "516821ae",
   "metadata": {},
   "outputs": [],
   "source": [
    "# Computing Skater Points\n",
    "\n",
    "allPoints = []\n",
    "for index, player in skaterBoxscores.iterrows():\n",
    "    \n",
    "    points = 1.3*player['blocked'] + \\\n",
    "                5*player['assists'] + \\\n",
    "                8.5*player['goals'] + \\\n",
    "                2*(player['shortHandedGoals'] + player['shortHandedAssists']) + \\\n",
    "                1.5*player['shots'] + \\\n",
    "                1.5*player['numShootOutGoals']\n",
    "    \n",
    "    if player['blocked'] >= 3:\n",
    "        points += 3\n",
    "        \n",
    "    if player['assists'] + player['goals'] >= 3:\n",
    "        points += 3\n",
    "        \n",
    "    if player['shots'] >= 5:\n",
    "        points += 3\n",
    "        \n",
    "    if player['goals'] >= 3:\n",
    "        points += 3\n",
    "        \n",
    "    allPoints.append(points)\n",
    "        \n",
    "skaterBoxscores['points'] = allPoints\n",
    "\n",
    "skaterBoxscores = skaterBoxscores[['gameID','teamID','playerID','playerName','points']]"
   ]
  },
  {
   "cell_type": "code",
   "execution_count": 15,
   "id": "cbb704b4",
   "metadata": {},
   "outputs": [],
   "source": [
    "# Computing Goalie Points\n",
    "\n",
    "allPoints = []\n",
    "\n",
    "for index, goalie in goalieBoxscores.iterrows():\n",
    "    points = -3.5*(goalie['shots']-goalie['saves']) + \\\n",
    "                0.7*goalie['shots']\n",
    "    \n",
    "    if goalie['shots'] == goalie['saves']:\n",
    "        points += 4\n",
    "        \n",
    "    if goalie['shots'] >= 35:\n",
    "        points += 3\n",
    "        \n",
    "    if (goalie['decision'] == 'L') & (goalie['OT'] == 1):\n",
    "        points += 2\n",
    "        \n",
    "    if goalie['decision'] == 'W':\n",
    "        points += 6\n",
    "        \n",
    "    allPoints.append(points)\n",
    "\n",
    "goalieBoxscores['points'] = allPoints\n",
    "\n",
    "goalieBoxscores = goalieBoxscores[['gameID','teamID','playerID','playerName','points']]"
   ]
  },
  {
   "cell_type": "markdown",
   "id": "ae0a48f0",
   "metadata": {},
   "source": [
    "## Prepping Draft King Data"
   ]
  },
  {
   "cell_type": "code",
   "execution_count": 31,
   "id": "e9ae6e28",
   "metadata": {},
   "outputs": [],
   "source": [
    "playerSelections = pd.merge(playerSelections.drop('entryID', axis=1), \n",
    "         playerOptionsWebDriver[['name', 'gameInfo', 'TeamAbbrev','contestID']], \n",
    "         left_on = ['contestID', 'player'],\n",
    "         right_on = ['contestID', 'name'])"
   ]
  },
  {
   "cell_type": "code",
   "execution_count": 46,
   "id": "a6e1b971",
   "metadata": {},
   "outputs": [],
   "source": [
    "mapping = [['PHI'], \n",
    "           ['DET'], \n",
    "           ['CLS'], \n",
    "           ['BUF'], \n",
    "           ['EDM'], \n",
    "           ['TOR'], \n",
    "           ['CGY'], \n",
    "           ['NJ'], \n",
    "           ['OTT'],\n",
    "           ['CHI'], \n",
    "           ['MIN'],\n",
    "           ['SJ'], \n",
    "           ['ANH'],\n",
    "           ['WAS'], \n",
    "           ['BOS'], \n",
    "           ['COL'], \n",
    "           ['PIT'], \n",
    "           ['LA'], \n",
    "           ['DAL'],\n",
    "           ['VGK'], \n",
    "           ['NSH'], \n",
    "           ['SEA'], \n",
    "           ['CAR'], \n",
    "           ['STL'], \n",
    "           ['ARI'], \n",
    "           ['VAN'], \n",
    "           ['MON'], \n",
    "           ['NYR'],\n",
    "           ['WPG'], \n",
    "           ['TB'],\n",
    "           ['FLA'],\n",
    "           ['NYI']]\n",
    "\n",
    "mapping = pd.DataFrame(mapping, columns=['draftKings'])\n",
    "\n",
    "mapping['hockeyDB'] = mapping['draftKings']\n",
    "\n",
    "mapping.iloc[7,1] = 'NJD'\n",
    "mapping.iloc[11,1] = 'SJS'\n",
    "mapping.iloc[17,1] = 'LAK'\n",
    "mapping.iloc[29,1] = 'TBL'\n",
    "mapping.iloc[2,1] = 'CBJ'\n",
    "mapping.iloc[12,1] = 'ANA'\n",
    "mapping.iloc[13,1] = 'WSH'\n",
    "mapping.iloc[26,1] = 'MTL'"
   ]
  },
  {
   "cell_type": "code",
   "execution_count": 47,
   "id": "839780ca",
   "metadata": {},
   "outputs": [],
   "source": [
    "playerSelections = pd.merge(playerSelections, mapping, left_on=['TeamAbbrev'], right_on='draftKings')"
   ]
  },
  {
   "cell_type": "code",
   "execution_count": 48,
   "id": "ca25263c",
   "metadata": {},
   "outputs": [],
   "source": [
    "playerSelections = playerSelections.drop(\n",
    "    ['draftKings','TeamAbbrev','name'],\n",
    "    axis=1\n",
    ").rename(\n",
    "    {'hockeyDB':'teamAbbrev'}, \n",
    "    axis=1\n",
    ")"
   ]
  },
  {
   "cell_type": "code",
   "execution_count": 49,
   "id": "a61333d4",
   "metadata": {},
   "outputs": [],
   "source": [
    "# playerSelections = playerSelections[~(playerSelections['gameInfo'] == 'Postponed')]"
   ]
  },
  {
   "cell_type": "code",
   "execution_count": 50,
   "id": "0bb02173",
   "metadata": {},
   "outputs": [],
   "source": [
    "def extract_date(df):\n",
    "    dates = []\n",
    "    for index, row in df.iterrows():\n",
    "        try:\n",
    "            date = dparser.parse(row['gameInfo'], fuzzy=True).strftime(\"%Y-%m-%d\")\n",
    "        except dparser.ParserError:\n",
    "            date = None\n",
    "    \n",
    "    \n",
    "        dates.append(date)\n",
    "    \n",
    "    df['gameDate'] = dates\n",
    "    return df"
   ]
  },
  {
   "cell_type": "code",
   "execution_count": 51,
   "id": "f19ff96e",
   "metadata": {},
   "outputs": [],
   "source": [
    "def parallelize_dataframe(df, func, n_cores=4):\n",
    "    df_split = np.array_split(df, n_cores)\n",
    "    pool = Pool(n_cores)\n",
    "    df = pd.concat(pool.map(func, df_split))\n",
    "    pool.close()\n",
    "    pool.join()\n",
    "    return df"
   ]
  },
  {
   "cell_type": "code",
   "execution_count": 52,
   "id": "dd27d26c",
   "metadata": {},
   "outputs": [
    {
     "name": "stderr",
     "output_type": "stream",
     "text": [
      "/home/aidan/Programs/anaconda3/envs/hockey/lib/python3.9/site-packages/dateutil/parser/_parser.py:1207: UnknownTimezoneWarning: tzname ET identified but not understood.  Pass `tzinfos` argument in order to correctly return a timezone-aware datetime.  In a future version, this will raise an exception.\n",
      "  warnings.warn(\"tzname {tzname} identified but not understood.  \"\n",
      "/home/aidan/Programs/anaconda3/envs/hockey/lib/python3.9/site-packages/dateutil/parser/_parser.py:1207: UnknownTimezoneWarning: tzname ET identified but not understood.  Pass `tzinfos` argument in order to correctly return a timezone-aware datetime.  In a future version, this will raise an exception.\n",
      "  warnings.warn(\"tzname {tzname} identified but not understood.  \"\n",
      "/home/aidan/Programs/anaconda3/envs/hockey/lib/python3.9/site-packages/dateutil/parser/_parser.py:1207: UnknownTimezoneWarning: tzname ET identified but not understood.  Pass `tzinfos` argument in order to correctly return a timezone-aware datetime.  In a future version, this will raise an exception.\n",
      "  warnings.warn(\"tzname {tzname} identified but not understood.  \"\n",
      "/home/aidan/Programs/anaconda3/envs/hockey/lib/python3.9/site-packages/dateutil/parser/_parser.py:1207: UnknownTimezoneWarning: tzname ET identified but not understood.  Pass `tzinfos` argument in order to correctly return a timezone-aware datetime.  In a future version, this will raise an exception.\n",
      "  warnings.warn(\"tzname {tzname} identified but not understood.  \"\n",
      "/home/aidan/Programs/anaconda3/envs/hockey/lib/python3.9/site-packages/dateutil/parser/_parser.py:1207: UnknownTimezoneWarning: tzname ET identified but not understood.  Pass `tzinfos` argument in order to correctly return a timezone-aware datetime.  In a future version, this will raise an exception.\n",
      "  warnings.warn(\"tzname {tzname} identified but not understood.  \"\n",
      "/home/aidan/Programs/anaconda3/envs/hockey/lib/python3.9/site-packages/dateutil/parser/_parser.py:1207: UnknownTimezoneWarning: tzname ET identified but not understood.  Pass `tzinfos` argument in order to correctly return a timezone-aware datetime.  In a future version, this will raise an exception.\n",
      "  warnings.warn(\"tzname {tzname} identified but not understood.  \"\n",
      "/home/aidan/Programs/anaconda3/envs/hockey/lib/python3.9/site-packages/dateutil/parser/_parser.py:1207: UnknownTimezoneWarning: tzname ET identified but not understood.  Pass `tzinfos` argument in order to correctly return a timezone-aware datetime.  In a future version, this will raise an exception.\n",
      "  warnings.warn(\"tzname {tzname} identified but not understood.  \"\n",
      "/home/aidan/Programs/anaconda3/envs/hockey/lib/python3.9/site-packages/dateutil/parser/_parser.py:1207: UnknownTimezoneWarning: tzname ET identified but not understood.  Pass `tzinfos` argument in order to correctly return a timezone-aware datetime.  In a future version, this will raise an exception.\n",
      "  warnings.warn(\"tzname {tzname} identified but not understood.  \"\n",
      "/home/aidan/Programs/anaconda3/envs/hockey/lib/python3.9/site-packages/dateutil/parser/_parser.py:1207: UnknownTimezoneWarning: tzname ET identified but not understood.  Pass `tzinfos` argument in order to correctly return a timezone-aware datetime.  In a future version, this will raise an exception.\n",
      "  warnings.warn(\"tzname {tzname} identified but not understood.  \"\n",
      "/home/aidan/Programs/anaconda3/envs/hockey/lib/python3.9/site-packages/dateutil/parser/_parser.py:1207: UnknownTimezoneWarning: tzname ET identified but not understood.  Pass `tzinfos` argument in order to correctly return a timezone-aware datetime.  In a future version, this will raise an exception.\n",
      "  warnings.warn(\"tzname {tzname} identified but not understood.  \"\n",
      "/home/aidan/Programs/anaconda3/envs/hockey/lib/python3.9/site-packages/dateutil/parser/_parser.py:1207: UnknownTimezoneWarning: tzname ET identified but not understood.  Pass `tzinfos` argument in order to correctly return a timezone-aware datetime.  In a future version, this will raise an exception.\n",
      "  warnings.warn(\"tzname {tzname} identified but not understood.  \"\n",
      "/home/aidan/Programs/anaconda3/envs/hockey/lib/python3.9/site-packages/dateutil/parser/_parser.py:1207: UnknownTimezoneWarning: tzname ET identified but not understood.  Pass `tzinfos` argument in order to correctly return a timezone-aware datetime.  In a future version, this will raise an exception.\n",
      "  warnings.warn(\"tzname {tzname} identified but not understood.  \"\n",
      "/home/aidan/Programs/anaconda3/envs/hockey/lib/python3.9/site-packages/dateutil/parser/_parser.py:1207: UnknownTimezoneWarning: tzname ET identified but not understood.  Pass `tzinfos` argument in order to correctly return a timezone-aware datetime.  In a future version, this will raise an exception.\n",
      "  warnings.warn(\"tzname {tzname} identified but not understood.  \"\n",
      "/home/aidan/Programs/anaconda3/envs/hockey/lib/python3.9/site-packages/dateutil/parser/_parser.py:1207: UnknownTimezoneWarning: tzname ET identified but not understood.  Pass `tzinfos` argument in order to correctly return a timezone-aware datetime.  In a future version, this will raise an exception.\n",
      "  warnings.warn(\"tzname {tzname} identified but not understood.  \"\n"
     ]
    }
   ],
   "source": [
    "playerSelections = parallelize_dataframe(playerSelections, extract_date, 14)"
   ]
  },
  {
   "cell_type": "code",
   "execution_count": 54,
   "id": "5df1e20c",
   "metadata": {},
   "outputs": [],
   "source": [
    "# playerSelections.to_csv('transformed_data/playerSelectionsParsed.csv')"
   ]
  },
  {
   "cell_type": "code",
   "execution_count": 16,
   "id": "728defc6",
   "metadata": {},
   "outputs": [],
   "source": [
    "playerSelections = pd.read_csv('transformed_data/playerSelectionsParsed.csv',index_col=0)"
   ]
  },
  {
   "cell_type": "code",
   "execution_count": 17,
   "id": "c4e29bba",
   "metadata": {},
   "outputs": [
    {
     "data": {
      "text/html": [
       "<div>\n",
       "<style scoped>\n",
       "    .dataframe tbody tr th:only-of-type {\n",
       "        vertical-align: middle;\n",
       "    }\n",
       "\n",
       "    .dataframe tbody tr th {\n",
       "        vertical-align: top;\n",
       "    }\n",
       "\n",
       "    .dataframe thead th {\n",
       "        text-align: right;\n",
       "    }\n",
       "</style>\n",
       "<table border=\"1\" class=\"dataframe\">\n",
       "  <thead>\n",
       "    <tr style=\"text-align: right;\">\n",
       "      <th></th>\n",
       "      <th>contestID</th>\n",
       "      <th>entryName</th>\n",
       "      <th>position</th>\n",
       "      <th>player</th>\n",
       "      <th>gameInfo</th>\n",
       "      <th>teamAbbrev</th>\n",
       "      <th>gameDate</th>\n",
       "    </tr>\n",
       "  </thead>\n",
       "  <tbody>\n",
       "    <tr>\n",
       "      <th>0</th>\n",
       "      <td>114760201</td>\n",
       "      <td>zarnold</td>\n",
       "      <td>C</td>\n",
       "      <td>Sean Couturier</td>\n",
       "      <td>BOS@PHI 10/04/2021 07:00PM ET</td>\n",
       "      <td>PHI</td>\n",
       "      <td>2021-10-04</td>\n",
       "    </tr>\n",
       "    <tr>\n",
       "      <th>1</th>\n",
       "      <td>114760201</td>\n",
       "      <td>gggg76</td>\n",
       "      <td>C</td>\n",
       "      <td>Sean Couturier</td>\n",
       "      <td>BOS@PHI 10/04/2021 07:00PM ET</td>\n",
       "      <td>PHI</td>\n",
       "      <td>2021-10-04</td>\n",
       "    </tr>\n",
       "    <tr>\n",
       "      <th>2</th>\n",
       "      <td>114760201</td>\n",
       "      <td>RiccardoG (1/2)</td>\n",
       "      <td>C</td>\n",
       "      <td>Sean Couturier</td>\n",
       "      <td>BOS@PHI 10/04/2021 07:00PM ET</td>\n",
       "      <td>PHI</td>\n",
       "      <td>2021-10-04</td>\n",
       "    </tr>\n",
       "    <tr>\n",
       "      <th>3</th>\n",
       "      <td>114760201</td>\n",
       "      <td>SmallT19</td>\n",
       "      <td>C</td>\n",
       "      <td>Sean Couturier</td>\n",
       "      <td>BOS@PHI 10/04/2021 07:00PM ET</td>\n",
       "      <td>PHI</td>\n",
       "      <td>2021-10-04</td>\n",
       "    </tr>\n",
       "    <tr>\n",
       "      <th>4</th>\n",
       "      <td>114760201</td>\n",
       "      <td>coys3380 (3/6)</td>\n",
       "      <td>C</td>\n",
       "      <td>Sean Couturier</td>\n",
       "      <td>BOS@PHI 10/04/2021 07:00PM ET</td>\n",
       "      <td>PHI</td>\n",
       "      <td>2021-10-04</td>\n",
       "    </tr>\n",
       "    <tr>\n",
       "      <th>...</th>\n",
       "      <td>...</td>\n",
       "      <td>...</td>\n",
       "      <td>...</td>\n",
       "      <td>...</td>\n",
       "      <td>...</td>\n",
       "      <td>...</td>\n",
       "      <td>...</td>\n",
       "    </tr>\n",
       "    <tr>\n",
       "      <th>16445607</th>\n",
       "      <td>123158389</td>\n",
       "      <td>kj4261</td>\n",
       "      <td>W</td>\n",
       "      <td>Anders Lee</td>\n",
       "      <td>PHI@NYI 01/25/2022 07:30PM ET</td>\n",
       "      <td>NYI</td>\n",
       "      <td>2022-01-25</td>\n",
       "    </tr>\n",
       "    <tr>\n",
       "      <th>16445608</th>\n",
       "      <td>123158389</td>\n",
       "      <td>Joevega842</td>\n",
       "      <td>W</td>\n",
       "      <td>Anders Lee</td>\n",
       "      <td>PHI@NYI 01/25/2022 07:30PM ET</td>\n",
       "      <td>NYI</td>\n",
       "      <td>2022-01-25</td>\n",
       "    </tr>\n",
       "    <tr>\n",
       "      <th>16445609</th>\n",
       "      <td>123158389</td>\n",
       "      <td>ericdaoust</td>\n",
       "      <td>D</td>\n",
       "      <td>Scott Mayfield</td>\n",
       "      <td>PHI@NYI 01/25/2022 07:30PM ET</td>\n",
       "      <td>NYI</td>\n",
       "      <td>2022-01-25</td>\n",
       "    </tr>\n",
       "    <tr>\n",
       "      <th>16445610</th>\n",
       "      <td>123158389</td>\n",
       "      <td>besco</td>\n",
       "      <td>D</td>\n",
       "      <td>Scott Mayfield</td>\n",
       "      <td>PHI@NYI 01/25/2022 07:30PM ET</td>\n",
       "      <td>NYI</td>\n",
       "      <td>2022-01-25</td>\n",
       "    </tr>\n",
       "    <tr>\n",
       "      <th>16445611</th>\n",
       "      <td>123158389</td>\n",
       "      <td>Joevega842</td>\n",
       "      <td>D</td>\n",
       "      <td>Scott Mayfield</td>\n",
       "      <td>PHI@NYI 01/25/2022 07:30PM ET</td>\n",
       "      <td>NYI</td>\n",
       "      <td>2022-01-25</td>\n",
       "    </tr>\n",
       "  </tbody>\n",
       "</table>\n",
       "<p>16445612 rows × 7 columns</p>\n",
       "</div>"
      ],
      "text/plain": [
       "          contestID        entryName position          player  \\\n",
       "0         114760201          zarnold        C  Sean Couturier   \n",
       "1         114760201           gggg76        C  Sean Couturier   \n",
       "2         114760201  RiccardoG (1/2)        C  Sean Couturier   \n",
       "3         114760201         SmallT19        C  Sean Couturier   \n",
       "4         114760201   coys3380 (3/6)        C  Sean Couturier   \n",
       "...             ...              ...      ...             ...   \n",
       "16445607  123158389           kj4261        W      Anders Lee   \n",
       "16445608  123158389       Joevega842        W      Anders Lee   \n",
       "16445609  123158389       ericdaoust        D  Scott Mayfield   \n",
       "16445610  123158389            besco        D  Scott Mayfield   \n",
       "16445611  123158389       Joevega842        D  Scott Mayfield   \n",
       "\n",
       "                               gameInfo teamAbbrev    gameDate  \n",
       "0         BOS@PHI 10/04/2021 07:00PM ET        PHI  2021-10-04  \n",
       "1         BOS@PHI 10/04/2021 07:00PM ET        PHI  2021-10-04  \n",
       "2         BOS@PHI 10/04/2021 07:00PM ET        PHI  2021-10-04  \n",
       "3         BOS@PHI 10/04/2021 07:00PM ET        PHI  2021-10-04  \n",
       "4         BOS@PHI 10/04/2021 07:00PM ET        PHI  2021-10-04  \n",
       "...                                 ...        ...         ...  \n",
       "16445607  PHI@NYI 01/25/2022 07:30PM ET        NYI  2022-01-25  \n",
       "16445608  PHI@NYI 01/25/2022 07:30PM ET        NYI  2022-01-25  \n",
       "16445609  PHI@NYI 01/25/2022 07:30PM ET        NYI  2022-01-25  \n",
       "16445610  PHI@NYI 01/25/2022 07:30PM ET        NYI  2022-01-25  \n",
       "16445611  PHI@NYI 01/25/2022 07:30PM ET        NYI  2022-01-25  \n",
       "\n",
       "[16445612 rows x 7 columns]"
      ]
     },
     "execution_count": 17,
     "metadata": {},
     "output_type": "execute_result"
    }
   ],
   "source": [
    "playerSelections"
   ]
  },
  {
   "cell_type": "code",
   "execution_count": 23,
   "id": "28fab4aa",
   "metadata": {},
   "outputs": [
    {
     "data": {
      "text/html": [
       "<div>\n",
       "<style scoped>\n",
       "    .dataframe tbody tr th:only-of-type {\n",
       "        vertical-align: middle;\n",
       "    }\n",
       "\n",
       "    .dataframe tbody tr th {\n",
       "        vertical-align: top;\n",
       "    }\n",
       "\n",
       "    .dataframe thead th {\n",
       "        text-align: right;\n",
       "    }\n",
       "</style>\n",
       "<table border=\"1\" class=\"dataframe\">\n",
       "  <thead>\n",
       "    <tr style=\"text-align: right;\">\n",
       "      <th></th>\n",
       "      <th>contestID</th>\n",
       "      <th>entryName</th>\n",
       "      <th>position</th>\n",
       "      <th>player</th>\n",
       "      <th>gameInfo</th>\n",
       "      <th>teamAbbrev</th>\n",
       "      <th>gameDate</th>\n",
       "    </tr>\n",
       "  </thead>\n",
       "  <tbody>\n",
       "    <tr>\n",
       "      <th>444027</th>\n",
       "      <td>122329530</td>\n",
       "      <td>mkifer55</td>\n",
       "      <td>W</td>\n",
       "      <td>James van Riemsdyk</td>\n",
       "      <td>Postponed</td>\n",
       "      <td>PHI</td>\n",
       "      <td>NaN</td>\n",
       "    </tr>\n",
       "    <tr>\n",
       "      <th>444028</th>\n",
       "      <td>122331987</td>\n",
       "      <td>Purple1purple</td>\n",
       "      <td>G</td>\n",
       "      <td>Martin Jones</td>\n",
       "      <td>Postponed</td>\n",
       "      <td>PHI</td>\n",
       "      <td>NaN</td>\n",
       "    </tr>\n",
       "    <tr>\n",
       "      <th>444029</th>\n",
       "      <td>122331988</td>\n",
       "      <td>l4efs35</td>\n",
       "      <td>C</td>\n",
       "      <td>Kevin Hayes</td>\n",
       "      <td>Postponed</td>\n",
       "      <td>PHI</td>\n",
       "      <td>NaN</td>\n",
       "    </tr>\n",
       "    <tr>\n",
       "      <th>444030</th>\n",
       "      <td>122331992</td>\n",
       "      <td>Purple1purple</td>\n",
       "      <td>G</td>\n",
       "      <td>Martin Jones</td>\n",
       "      <td>Postponed</td>\n",
       "      <td>PHI</td>\n",
       "      <td>NaN</td>\n",
       "    </tr>\n",
       "    <tr>\n",
       "      <th>444031</th>\n",
       "      <td>122332067</td>\n",
       "      <td>Purple1purple</td>\n",
       "      <td>G</td>\n",
       "      <td>Martin Jones</td>\n",
       "      <td>Postponed</td>\n",
       "      <td>PHI</td>\n",
       "      <td>NaN</td>\n",
       "    </tr>\n",
       "    <tr>\n",
       "      <th>...</th>\n",
       "      <td>...</td>\n",
       "      <td>...</td>\n",
       "      <td>...</td>\n",
       "      <td>...</td>\n",
       "      <td>...</td>\n",
       "      <td>...</td>\n",
       "      <td>...</td>\n",
       "    </tr>\n",
       "    <tr>\n",
       "      <th>12896478</th>\n",
       "      <td>117544201</td>\n",
       "      <td>JTroop</td>\n",
       "      <td>CPT</td>\n",
       "      <td>Scott Wedgewood</td>\n",
       "      <td>-</td>\n",
       "      <td>ARI</td>\n",
       "      <td>NaN</td>\n",
       "    </tr>\n",
       "    <tr>\n",
       "      <th>12896479</th>\n",
       "      <td>117544205</td>\n",
       "      <td>Buttstains</td>\n",
       "      <td>CPT</td>\n",
       "      <td>Scott Wedgewood</td>\n",
       "      <td>-</td>\n",
       "      <td>ARI</td>\n",
       "      <td>NaN</td>\n",
       "    </tr>\n",
       "    <tr>\n",
       "      <th>12896480</th>\n",
       "      <td>117544205</td>\n",
       "      <td>Buttstains</td>\n",
       "      <td>CPT</td>\n",
       "      <td>Scott Wedgewood</td>\n",
       "      <td>-</td>\n",
       "      <td>ARI</td>\n",
       "      <td>NaN</td>\n",
       "    </tr>\n",
       "    <tr>\n",
       "      <th>12898317</th>\n",
       "      <td>117604694</td>\n",
       "      <td>jrsr411</td>\n",
       "      <td>CPT</td>\n",
       "      <td>Scott Wedgewood</td>\n",
       "      <td>-</td>\n",
       "      <td>ARI</td>\n",
       "      <td>NaN</td>\n",
       "    </tr>\n",
       "    <tr>\n",
       "      <th>12898318</th>\n",
       "      <td>117604694</td>\n",
       "      <td>jrsr411</td>\n",
       "      <td>CPT</td>\n",
       "      <td>Scott Wedgewood</td>\n",
       "      <td>-</td>\n",
       "      <td>ARI</td>\n",
       "      <td>NaN</td>\n",
       "    </tr>\n",
       "  </tbody>\n",
       "</table>\n",
       "<p>242 rows × 7 columns</p>\n",
       "</div>"
      ],
      "text/plain": [
       "          contestID      entryName position              player   gameInfo  \\\n",
       "444027    122329530       mkifer55        W  James van Riemsdyk  Postponed   \n",
       "444028    122331987  Purple1purple        G        Martin Jones  Postponed   \n",
       "444029    122331988        l4efs35        C         Kevin Hayes  Postponed   \n",
       "444030    122331992  Purple1purple        G        Martin Jones  Postponed   \n",
       "444031    122332067  Purple1purple        G        Martin Jones  Postponed   \n",
       "...             ...            ...      ...                 ...        ...   \n",
       "12896478  117544201         JTroop      CPT     Scott Wedgewood          -   \n",
       "12896479  117544205     Buttstains      CPT     Scott Wedgewood          -   \n",
       "12896480  117544205     Buttstains      CPT     Scott Wedgewood          -   \n",
       "12898317  117604694        jrsr411      CPT     Scott Wedgewood          -   \n",
       "12898318  117604694        jrsr411      CPT     Scott Wedgewood          -   \n",
       "\n",
       "         teamAbbrev gameDate  \n",
       "444027          PHI      NaN  \n",
       "444028          PHI      NaN  \n",
       "444029          PHI      NaN  \n",
       "444030          PHI      NaN  \n",
       "444031          PHI      NaN  \n",
       "...             ...      ...  \n",
       "12896478        ARI      NaN  \n",
       "12896479        ARI      NaN  \n",
       "12896480        ARI      NaN  \n",
       "12898317        ARI      NaN  \n",
       "12898318        ARI      NaN  \n",
       "\n",
       "[242 rows x 7 columns]"
      ]
     },
     "execution_count": 23,
     "metadata": {},
     "output_type": "execute_result"
    }
   ],
   "source": [
    "playerSelections[playerSelections['gameDate'].isnull()]"
   ]
  },
  {
   "cell_type": "markdown",
   "id": "535eb63d",
   "metadata": {},
   "source": [
    "## Merging PlaySelections with Hockey DB Games"
   ]
  },
  {
   "cell_type": "code",
   "execution_count": 18,
   "id": "8939545b",
   "metadata": {},
   "outputs": [],
   "source": [
    "selectionsAndGamesAway = pd.merge(\n",
    "    gameInfo, \n",
    "    playerSelections, \n",
    "    left_on=['newGameDate', 'awayTeam'],\n",
    "    right_on=['gameDate', 'teamAbbrev']\n",
    ")"
   ]
  },
  {
   "cell_type": "code",
   "execution_count": 19,
   "id": "a19a645e",
   "metadata": {},
   "outputs": [],
   "source": [
    "selectionsAndGamesHome = pd.merge(\n",
    "    gameInfo, \n",
    "    playerSelections, \n",
    "    left_on=['newGameDate', 'homeTeam'],\n",
    "    right_on=['gameDate', 'teamAbbrev']\n",
    ")"
   ]
  },
  {
   "cell_type": "code",
   "execution_count": 20,
   "id": "4b3a4342",
   "metadata": {},
   "outputs": [],
   "source": [
    "selectionsAndGames = pd.concat([selectionsAndGamesAway, selectionsAndGamesHome])"
   ]
  },
  {
   "cell_type": "code",
   "execution_count": 22,
   "id": "cb6df71e",
   "metadata": {},
   "outputs": [],
   "source": [
    "ds1 = set(map(tuple, selectionsAndGames[playerSelections.columns].values))\n",
    "ds2 = set(map(tuple, playerSelections.values))"
   ]
  },
  {
   "cell_type": "code",
   "execution_count": 23,
   "id": "33fceca8",
   "metadata": {},
   "outputs": [],
   "source": [
    "x = ds2.difference(ds1)"
   ]
  },
  {
   "cell_type": "code",
   "execution_count": 24,
   "id": "a5d17852",
   "metadata": {},
   "outputs": [],
   "source": [
    "z = pd.DataFrame(list(x))"
   ]
  },
  {
   "cell_type": "code",
   "execution_count": 25,
   "id": "01b7cbfb",
   "metadata": {},
   "outputs": [],
   "source": [
    "# Removing contests that had bad games (i.e. rescheduled etc)\n",
    "selectionsAndGames = selectionsAndGames[~selectionsAndGames['contestID'].isin(z[0].drop_duplicates().values)]"
   ]
  },
  {
   "cell_type": "code",
   "execution_count": 34,
   "id": "66ef3793",
   "metadata": {},
   "outputs": [],
   "source": [
    "scoresSkaters = pd.merge(selectionsAndGames, \n",
    "         skaterBoxscores, \n",
    "         left_on=['gameID', 'player'], \n",
    "         right_on=['gameID','playerName'], \n",
    "         how='inner')"
   ]
  },
  {
   "cell_type": "code",
   "execution_count": 35,
   "id": "a55fd126",
   "metadata": {},
   "outputs": [],
   "source": [
    "scoresGoalies = pd.merge(selectionsAndGames, \n",
    "         goalieBoxscores, \n",
    "         left_on=['gameID', 'player'], \n",
    "         right_on=['gameID','playerName'], \n",
    "         how='inner')\n",
    "\n"
   ]
  },
  {
   "cell_type": "code",
   "execution_count": 63,
   "id": "0471640c",
   "metadata": {},
   "outputs": [],
   "source": [
    "scores = pd.concat([scoresSkaters, scoresGoalies])"
   ]
  },
  {
   "cell_type": "code",
   "execution_count": 67,
   "id": "3a5c3d7f",
   "metadata": {},
   "outputs": [],
   "source": [
    "scores['points'] = np.where(scores['position'] == 'CPT', scores['points'] * 1.5, scores['points'])"
   ]
  },
  {
   "cell_type": "code",
   "execution_count": 68,
   "id": "7d140a25",
   "metadata": {},
   "outputs": [],
   "source": [
    "scores = scores[['contestID', 'entryName','points']].groupby(\n",
    "    ['contestID', 'entryName']\n",
    ").sum('points').sort_values('points',ascending=False).reset_index()"
   ]
  },
  {
   "cell_type": "code",
   "execution_count": 69,
   "id": "3aa332d5",
   "metadata": {},
   "outputs": [
    {
     "data": {
      "text/html": [
       "<div>\n",
       "<style scoped>\n",
       "    .dataframe tbody tr th:only-of-type {\n",
       "        vertical-align: middle;\n",
       "    }\n",
       "\n",
       "    .dataframe tbody tr th {\n",
       "        vertical-align: top;\n",
       "    }\n",
       "\n",
       "    .dataframe thead th {\n",
       "        text-align: right;\n",
       "    }\n",
       "</style>\n",
       "<table border=\"1\" class=\"dataframe\">\n",
       "  <thead>\n",
       "    <tr style=\"text-align: right;\">\n",
       "      <th></th>\n",
       "      <th>contestID</th>\n",
       "      <th>entryName</th>\n",
       "      <th>points</th>\n",
       "    </tr>\n",
       "  </thead>\n",
       "  <tbody>\n",
       "    <tr>\n",
       "      <th>58366</th>\n",
       "      <td>123666691</td>\n",
       "      <td>damoney8888</td>\n",
       "      <td>184.1</td>\n",
       "    </tr>\n",
       "    <tr>\n",
       "      <th>70434</th>\n",
       "      <td>123666691</td>\n",
       "      <td>94expos4ever</td>\n",
       "      <td>178.1</td>\n",
       "    </tr>\n",
       "    <tr>\n",
       "      <th>70435</th>\n",
       "      <td>123666691</td>\n",
       "      <td>aylsg</td>\n",
       "      <td>178.1</td>\n",
       "    </tr>\n",
       "    <tr>\n",
       "      <th>70567</th>\n",
       "      <td>123666691</td>\n",
       "      <td>madstoper</td>\n",
       "      <td>178.1</td>\n",
       "    </tr>\n",
       "    <tr>\n",
       "      <th>70586</th>\n",
       "      <td>123666691</td>\n",
       "      <td>mrnorrad</td>\n",
       "      <td>178.1</td>\n",
       "    </tr>\n",
       "    <tr>\n",
       "      <th>...</th>\n",
       "      <td>...</td>\n",
       "      <td>...</td>\n",
       "      <td>...</td>\n",
       "    </tr>\n",
       "    <tr>\n",
       "      <th>1641022</th>\n",
       "      <td>115146218</td>\n",
       "      <td>cw1tt (12/20)</td>\n",
       "      <td>29.4</td>\n",
       "    </tr>\n",
       "    <tr>\n",
       "      <th>1641026</th>\n",
       "      <td>115146218</td>\n",
       "      <td>cw1tt (3/20)</td>\n",
       "      <td>29.4</td>\n",
       "    </tr>\n",
       "    <tr>\n",
       "      <th>1641027</th>\n",
       "      <td>115146218</td>\n",
       "      <td>cw1tt (20/20)</td>\n",
       "      <td>29.4</td>\n",
       "    </tr>\n",
       "    <tr>\n",
       "      <th>1641029</th>\n",
       "      <td>115146218</td>\n",
       "      <td>cw1tt (19/20)</td>\n",
       "      <td>29.4</td>\n",
       "    </tr>\n",
       "    <tr>\n",
       "      <th>1641032</th>\n",
       "      <td>115146218</td>\n",
       "      <td>cw1tt (18/20)</td>\n",
       "      <td>29.4</td>\n",
       "    </tr>\n",
       "  </tbody>\n",
       "</table>\n",
       "<p>1642535 rows × 3 columns</p>\n",
       "</div>"
      ],
      "text/plain": [
       "         contestID      entryName  points\n",
       "58366    123666691    damoney8888   184.1\n",
       "70434    123666691   94expos4ever   178.1\n",
       "70435    123666691          aylsg   178.1\n",
       "70567    123666691      madstoper   178.1\n",
       "70586    123666691       mrnorrad   178.1\n",
       "...            ...            ...     ...\n",
       "1641022  115146218  cw1tt (12/20)    29.4\n",
       "1641026  115146218   cw1tt (3/20)    29.4\n",
       "1641027  115146218  cw1tt (20/20)    29.4\n",
       "1641029  115146218  cw1tt (19/20)    29.4\n",
       "1641032  115146218  cw1tt (18/20)    29.4\n",
       "\n",
       "[1642535 rows x 3 columns]"
      ]
     },
     "execution_count": 69,
     "metadata": {},
     "output_type": "execute_result"
    }
   ],
   "source": [
    "scores.sort_values(['contestID','points'],ascending=False)"
   ]
  },
  {
   "cell_type": "code",
   "execution_count": 52,
   "id": "0a5515b3",
   "metadata": {},
   "outputs": [],
   "source": [
    "scoreSizes = scores.groupby(['contestID']).size().reset_index()"
   ]
  },
  {
   "cell_type": "code",
   "execution_count": null,
   "id": "66f98490",
   "metadata": {},
   "outputs": [],
   "source": []
  },
  {
   "cell_type": "code",
   "execution_count": null,
   "id": "87bd9c6f",
   "metadata": {},
   "outputs": [],
   "source": []
  }
 ],
 "metadata": {
  "kernelspec": {
   "display_name": "Python 3 (ipykernel)",
   "language": "python",
   "name": "python3"
  },
  "language_info": {
   "codemirror_mode": {
    "name": "ipython",
    "version": 3
   },
   "file_extension": ".py",
   "mimetype": "text/x-python",
   "name": "python",
   "nbconvert_exporter": "python",
   "pygments_lexer": "ipython3",
   "version": "3.9.12"
  }
 },
 "nbformat": 4,
 "nbformat_minor": 5
}
