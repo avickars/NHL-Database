{
 "cells": [
  {
   "cell_type": "code",
   "execution_count": 1,
   "id": "26391470",
   "metadata": {},
   "outputs": [],
   "source": [
    "import pandas as pd\n",
    "import numpy as np"
   ]
  },
  {
   "cell_type": "markdown",
   "id": "c49d549a",
   "metadata": {},
   "source": [
    "# OT Data Manipulation"
   ]
  },
  {
   "cell_type": "code",
   "execution_count": 2,
   "id": "bce7d13d",
   "metadata": {},
   "outputs": [],
   "source": [
    "ot_data = pd.read_csv('data/ot_plays.csv',index_col=0)"
   ]
  },
  {
   "cell_type": "markdown",
   "id": "d1fe47ad",
   "metadata": {},
   "source": [
    "# Player BoxScore Manipulation"
   ]
  },
  {
   "cell_type": "code",
   "execution_count": 3,
   "id": "5e5aa27e",
   "metadata": {},
   "outputs": [],
   "source": [
    "player_boxscore = pd.read_csv('data/players_boxscores.csv', index_col=0)"
   ]
  },
  {
   "cell_type": "code",
   "execution_count": 4,
   "id": "a118034c",
   "metadata": {},
   "outputs": [],
   "source": [
    "# Computing the if 3 or more blocked shots\n",
    "player_boxscore['3plusBlockedShots'] = np.where(player_boxscore['blocked'] >= 3, True, False)"
   ]
  },
  {
   "cell_type": "code",
   "execution_count": 5,
   "id": "470af84d",
   "metadata": {},
   "outputs": [],
   "source": [
    "# Computing the if 5 or more shots\n",
    "player_boxscore['5plusShots'] = np.where(player_boxscore['shots'] >= 5, True, False)"
   ]
  },
  {
   "cell_type": "code",
   "execution_count": 6,
   "id": "311218ad",
   "metadata": {},
   "outputs": [],
   "source": [
    "# Computing if has short handed points\n",
    "player_boxscore['shortHandedPoints'] = player_boxscore['shortHandedAssists'] + player_boxscore['shortHandedGoals']"
   ]
  },
  {
   "cell_type": "code",
   "execution_count": 7,
   "id": "a65bd137",
   "metadata": {},
   "outputs": [],
   "source": [
    "# Dropping unneccessary columns\n",
    "player_boxscore = player_boxscore.drop(\n",
    "    ['timeOnIce', \n",
    "     'shortHandedAssists',\n",
    "     'shortHandedGoals',\n",
    "     'powerPlayGoals', \n",
    "     'powerPlayAssists', \n",
    "     'penaltyMinutes', \n",
    "     'faceOffPct',\n",
    "     'faceOffWins', \n",
    "     'faceoffTaken',\n",
    "     'takeaways', \n",
    "     'giveaways',\n",
    "     'hits',\n",
    "     'plusMinus',\n",
    "     'evenTimeOnIce',\n",
    "     'powerPlayTimeOnIce',\n",
    "     'shortHandedTimeOnIce'\n",
    "    ],\n",
    "    axis=1\n",
    ")"
   ]
  },
  {
   "cell_type": "code",
   "execution_count": 8,
   "id": "9ae7d32c",
   "metadata": {},
   "outputs": [],
   "source": [
    "# Computing if 3 plus points\n",
    "player_boxscore['3plusPoints'] = np.where(player_boxscore['assists'] + player_boxscore['goals'] >= 3, True, False)"
   ]
  },
  {
   "cell_type": "code",
   "execution_count": 9,
   "id": "19c10bba",
   "metadata": {},
   "outputs": [],
   "source": [
    "# Computing the if hat trick\n",
    "player_boxscore['hatTrick'] = np.where(player_boxscore['goals'] >= 3, True, False)"
   ]
  },
  {
   "cell_type": "code",
   "execution_count": 10,
   "id": "787c2c7d",
   "metadata": {},
   "outputs": [],
   "source": [
    "# Computing if the player scored a shootout goal\n",
    "player_boxscore = pd.merge(\n",
    "    left = player_boxscore, \n",
    "    right = ot_data[\n",
    "        (ot_data['periodNum'] == 5) & \n",
    "        (ot_data['playerType'] == 'Scorer')\n",
    "    ][\n",
    "        ['gameID','playerID']\n",
    "    ].rename(\n",
    "        {'playerID':'playerID_ot'}, \n",
    "        axis=1\n",
    "    ),\n",
    "    left_on=['gameID','playerID'], \n",
    "    right_on=['gameID','playerID_ot'],\n",
    "    how='left')\n",
    "\n",
    "player_boxscore['shootoutGoal'] = ~pd.isna(player_boxscore['playerID_ot'])\n",
    "\n",
    "player_boxscore = player_boxscore.drop('playerID_ot', axis=1)"
   ]
  },
  {
   "cell_type": "code",
   "execution_count": 13,
   "id": "a98668b8",
   "metadata": {},
   "outputs": [
    {
     "data": {
      "text/html": [
       "<div>\n",
       "<style scoped>\n",
       "    .dataframe tbody tr th:only-of-type {\n",
       "        vertical-align: middle;\n",
       "    }\n",
       "\n",
       "    .dataframe tbody tr th {\n",
       "        vertical-align: top;\n",
       "    }\n",
       "\n",
       "    .dataframe thead th {\n",
       "        text-align: right;\n",
       "    }\n",
       "</style>\n",
       "<table border=\"1\" class=\"dataframe\">\n",
       "  <thead>\n",
       "    <tr style=\"text-align: right;\">\n",
       "      <th></th>\n",
       "      <th>playerID</th>\n",
       "      <th>gameID</th>\n",
       "      <th>assists</th>\n",
       "      <th>goals</th>\n",
       "      <th>shots</th>\n",
       "      <th>blocked</th>\n",
       "      <th>3plusBlockedShots</th>\n",
       "      <th>5plusShots</th>\n",
       "      <th>shortHandedPoints</th>\n",
       "      <th>3plusPoints</th>\n",
       "      <th>hatTrick</th>\n",
       "      <th>shootoutGoal</th>\n",
       "    </tr>\n",
       "  </thead>\n",
       "  <tbody>\n",
       "    <tr>\n",
       "      <th>0</th>\n",
       "      <td>8470604</td>\n",
       "      <td>2021020001</td>\n",
       "      <td>1.0</td>\n",
       "      <td>0.0</td>\n",
       "      <td>1.0</td>\n",
       "      <td>0.0</td>\n",
       "      <td>False</td>\n",
       "      <td>False</td>\n",
       "      <td>0.0</td>\n",
       "      <td>False</td>\n",
       "      <td>False</td>\n",
       "      <td>False</td>\n",
       "    </tr>\n",
       "    <tr>\n",
       "      <th>1</th>\n",
       "      <td>8471724</td>\n",
       "      <td>2021020001</td>\n",
       "      <td>2.0</td>\n",
       "      <td>0.0</td>\n",
       "      <td>1.0</td>\n",
       "      <td>1.0</td>\n",
       "      <td>False</td>\n",
       "      <td>False</td>\n",
       "      <td>0.0</td>\n",
       "      <td>False</td>\n",
       "      <td>False</td>\n",
       "      <td>False</td>\n",
       "    </tr>\n",
       "    <tr>\n",
       "      <th>2</th>\n",
       "      <td>8470619</td>\n",
       "      <td>2021020001</td>\n",
       "      <td>0.0</td>\n",
       "      <td>1.0</td>\n",
       "      <td>2.0</td>\n",
       "      <td>2.0</td>\n",
       "      <td>False</td>\n",
       "      <td>False</td>\n",
       "      <td>0.0</td>\n",
       "      <td>False</td>\n",
       "      <td>False</td>\n",
       "      <td>False</td>\n",
       "    </tr>\n",
       "    <tr>\n",
       "      <th>3</th>\n",
       "      <td>8476927</td>\n",
       "      <td>2021020001</td>\n",
       "      <td>0.0</td>\n",
       "      <td>1.0</td>\n",
       "      <td>3.0</td>\n",
       "      <td>0.0</td>\n",
       "      <td>False</td>\n",
       "      <td>False</td>\n",
       "      <td>0.0</td>\n",
       "      <td>False</td>\n",
       "      <td>False</td>\n",
       "      <td>False</td>\n",
       "    </tr>\n",
       "    <tr>\n",
       "      <th>4</th>\n",
       "      <td>8482055</td>\n",
       "      <td>2021020001</td>\n",
       "      <td>1.0</td>\n",
       "      <td>0.0</td>\n",
       "      <td>2.0</td>\n",
       "      <td>2.0</td>\n",
       "      <td>False</td>\n",
       "      <td>False</td>\n",
       "      <td>0.0</td>\n",
       "      <td>False</td>\n",
       "      <td>False</td>\n",
       "      <td>False</td>\n",
       "    </tr>\n",
       "    <tr>\n",
       "      <th>...</th>\n",
       "      <td>...</td>\n",
       "      <td>...</td>\n",
       "      <td>...</td>\n",
       "      <td>...</td>\n",
       "      <td>...</td>\n",
       "      <td>...</td>\n",
       "      <td>...</td>\n",
       "      <td>...</td>\n",
       "      <td>...</td>\n",
       "      <td>...</td>\n",
       "      <td>...</td>\n",
       "      <td>...</td>\n",
       "    </tr>\n",
       "    <tr>\n",
       "      <th>26370</th>\n",
       "      <td>8478463</td>\n",
       "      <td>2021021211</td>\n",
       "      <td>0.0</td>\n",
       "      <td>0.0</td>\n",
       "      <td>2.0</td>\n",
       "      <td>0.0</td>\n",
       "      <td>False</td>\n",
       "      <td>False</td>\n",
       "      <td>0.0</td>\n",
       "      <td>False</td>\n",
       "      <td>False</td>\n",
       "      <td>False</td>\n",
       "    </tr>\n",
       "    <tr>\n",
       "      <th>26371</th>\n",
       "      <td>8479356</td>\n",
       "      <td>2021021211</td>\n",
       "      <td>0.0</td>\n",
       "      <td>0.0</td>\n",
       "      <td>3.0</td>\n",
       "      <td>0.0</td>\n",
       "      <td>False</td>\n",
       "      <td>False</td>\n",
       "      <td>0.0</td>\n",
       "      <td>False</td>\n",
       "      <td>False</td>\n",
       "      <td>False</td>\n",
       "    </tr>\n",
       "    <tr>\n",
       "      <th>26372</th>\n",
       "      <td>8475231</td>\n",
       "      <td>2021021211</td>\n",
       "      <td>0.0</td>\n",
       "      <td>0.0</td>\n",
       "      <td>0.0</td>\n",
       "      <td>3.0</td>\n",
       "      <td>True</td>\n",
       "      <td>False</td>\n",
       "      <td>0.0</td>\n",
       "      <td>False</td>\n",
       "      <td>False</td>\n",
       "      <td>False</td>\n",
       "    </tr>\n",
       "    <tr>\n",
       "      <th>26373</th>\n",
       "      <td>8480222</td>\n",
       "      <td>2021021211</td>\n",
       "      <td>NaN</td>\n",
       "      <td>NaN</td>\n",
       "      <td>NaN</td>\n",
       "      <td>NaN</td>\n",
       "      <td>False</td>\n",
       "      <td>False</td>\n",
       "      <td>NaN</td>\n",
       "      <td>False</td>\n",
       "      <td>False</td>\n",
       "      <td>False</td>\n",
       "    </tr>\n",
       "    <tr>\n",
       "      <th>26374</th>\n",
       "      <td>8465009</td>\n",
       "      <td>2021021211</td>\n",
       "      <td>0.0</td>\n",
       "      <td>0.0</td>\n",
       "      <td>2.0</td>\n",
       "      <td>1.0</td>\n",
       "      <td>False</td>\n",
       "      <td>False</td>\n",
       "      <td>0.0</td>\n",
       "      <td>False</td>\n",
       "      <td>False</td>\n",
       "      <td>False</td>\n",
       "    </tr>\n",
       "  </tbody>\n",
       "</table>\n",
       "<p>26375 rows × 12 columns</p>\n",
       "</div>"
      ],
      "text/plain": [
       "       playerID      gameID  assists  goals  shots  blocked  \\\n",
       "0       8470604  2021020001      1.0    0.0    1.0      0.0   \n",
       "1       8471724  2021020001      2.0    0.0    1.0      1.0   \n",
       "2       8470619  2021020001      0.0    1.0    2.0      2.0   \n",
       "3       8476927  2021020001      0.0    1.0    3.0      0.0   \n",
       "4       8482055  2021020001      1.0    0.0    2.0      2.0   \n",
       "...         ...         ...      ...    ...    ...      ...   \n",
       "26370   8478463  2021021211      0.0    0.0    2.0      0.0   \n",
       "26371   8479356  2021021211      0.0    0.0    3.0      0.0   \n",
       "26372   8475231  2021021211      0.0    0.0    0.0      3.0   \n",
       "26373   8480222  2021021211      NaN    NaN    NaN      NaN   \n",
       "26374   8465009  2021021211      0.0    0.0    2.0      1.0   \n",
       "\n",
       "       3plusBlockedShots  5plusShots  shortHandedPoints  3plusPoints  \\\n",
       "0                  False       False                0.0        False   \n",
       "1                  False       False                0.0        False   \n",
       "2                  False       False                0.0        False   \n",
       "3                  False       False                0.0        False   \n",
       "4                  False       False                0.0        False   \n",
       "...                  ...         ...                ...          ...   \n",
       "26370              False       False                0.0        False   \n",
       "26371              False       False                0.0        False   \n",
       "26372               True       False                0.0        False   \n",
       "26373              False       False                NaN        False   \n",
       "26374              False       False                0.0        False   \n",
       "\n",
       "       hatTrick  shootoutGoal  \n",
       "0         False         False  \n",
       "1         False         False  \n",
       "2         False         False  \n",
       "3         False         False  \n",
       "4         False         False  \n",
       "...         ...           ...  \n",
       "26370     False         False  \n",
       "26371     False         False  \n",
       "26372     False         False  \n",
       "26373     False         False  \n",
       "26374     False         False  \n",
       "\n",
       "[26375 rows x 12 columns]"
      ]
     },
     "execution_count": 13,
     "metadata": {},
     "output_type": "execute_result"
    }
   ],
   "source": [
    "player_boxscore.to_csv('transformed_data/player_points.csv')"
   ]
  },
  {
   "cell_type": "markdown",
   "id": "3adb8bca",
   "metadata": {},
   "source": [
    "# Goalie BoxScore Manipulation"
   ]
  },
  {
   "cell_type": "code",
   "execution_count": null,
   "id": "493c025d",
   "metadata": {},
   "outputs": [],
   "source": [
    "def atleast_sixty(time):\n",
    "    position = time.find(':')\n",
    "    if position != -1:\n",
    "        time = int(time[0:position])\n",
    "        if time  >= 60:\n",
    "            return True\n",
    "    return False"
   ]
  },
  {
   "cell_type": "code",
   "execution_count": null,
   "id": "aaa874b0",
   "metadata": {},
   "outputs": [],
   "source": [
    "goalie_boxscore = pd.read_csv('data/goalies_boxscores.csv', index_col=0)"
   ]
  },
  {
   "cell_type": "code",
   "execution_count": null,
   "id": "7730ece4",
   "metadata": {},
   "outputs": [],
   "source": [
    "# Computing the goals against\n",
    "goalie_boxscore['goalsAgainst'] = goalie_boxscore['shots'] - goalie_boxscore['saves']"
   ]
  },
  {
   "cell_type": "code",
   "execution_count": null,
   "id": "9cb43f9a",
   "metadata": {},
   "outputs": [],
   "source": [
    "goalie_boxscore['playedEntireGame'] = goalie_boxscore['timeOnIce'].apply(lambda row: atleast_sixty(row))"
   ]
  },
  {
   "cell_type": "code",
   "execution_count": null,
   "id": "4d8b7252",
   "metadata": {},
   "outputs": [],
   "source": [
    "goalie_boxscore['shutout'] = np.where(\n",
    "    (goalie_boxscore['goalsAgainst'] == 0) & (goalie_boxscore['playedEntireGame'] == True),\n",
    "    True, \n",
    "    False\n",
    ")"
   ]
  },
  {
   "cell_type": "code",
   "execution_count": null,
   "id": "5c5f1e6a",
   "metadata": {},
   "outputs": [],
   "source": [
    "# Dropping unneccessary columns\n",
    "goalie_boxscore = goalie_boxscore.drop(\n",
    "    [\n",
    "        'timeOnIce',\n",
    "        'assists', \n",
    "        'pim',\n",
    "        'shots',\n",
    "        'powerPlaySaves',\n",
    "        'shortHandedSaves',\n",
    "        'evenSaves',\n",
    "        'shortHandedShotsAgainst',\n",
    "        'evenShotsAgainst',\n",
    "        'powerPlayShotsAgainst',\n",
    "        'savePercentage',\n",
    "        'evenStrengthSavePercentage',\n",
    "        'powerPlaySavePercentage',\n",
    "        'playedEntireGame'\n",
    "    ], axis=1)"
   ]
  },
  {
   "cell_type": "code",
   "execution_count": null,
   "id": "84ce4ac0",
   "metadata": {},
   "outputs": [],
   "source": [
    "# Getting the 35+ save indicator\n",
    "goalie_boxscore['35plusSaves'] = np.where(goalie_boxscore['saves'] > 35, True,False)"
   ]
  },
  {
   "cell_type": "code",
   "execution_count": null,
   "id": "26fac1c4",
   "metadata": {},
   "outputs": [],
   "source": [
    "# Getting column to indicate if game went into OT\n",
    "goalie_boxscore = pd.merge(left=goalie_boxscore, \n",
    "                           right=ot_data[['gameID']].drop_duplicates().rename({'gameID':'isOT'},axis=1),\n",
    "                           how='left', \n",
    "                           left_on='gameID',\n",
    "                           right_on='isOT')"
   ]
  },
  {
   "cell_type": "code",
   "execution_count": null,
   "id": "5dc1305d",
   "metadata": {},
   "outputs": [],
   "source": [
    "# Computing if column is overtime loss\n",
    "goalie_boxscore['overtimeLoss'] = np.where(\n",
    "    (goalie_boxscore['decision'] == 'L') & ~(pd.isna(goalie_boxscore['isOT'])),\n",
    "    True,\n",
    "    False\n",
    ")\n",
    "\n",
    "# Dropping unneccessary column\n",
    "goalie_boxscore = goalie_boxscore.drop(['isOT'],axis=1)"
   ]
  },
  {
   "cell_type": "code",
   "execution_count": null,
   "id": "19f0178e",
   "metadata": {},
   "outputs": [],
   "source": [
    "Dropping.to_csv('transformed_data/player_points.csv')"
   ]
  },
  {
   "cell_type": "code",
   "execution_count": null,
   "id": "f07df66f",
   "metadata": {},
   "outputs": [],
   "source": []
  },
  {
   "cell_type": "code",
   "execution_count": null,
   "id": "bcddbb94",
   "metadata": {},
   "outputs": [],
   "source": []
  },
  {
   "cell_type": "code",
   "execution_count": null,
   "id": "eea5edfa",
   "metadata": {},
   "outputs": [],
   "source": []
  }
 ],
 "metadata": {
  "kernelspec": {
   "display_name": "Python 3 (ipykernel)",
   "language": "python",
   "name": "python3"
  },
  "language_info": {
   "codemirror_mode": {
    "name": "ipython",
    "version": 3
   },
   "file_extension": ".py",
   "mimetype": "text/x-python",
   "name": "python",
   "nbconvert_exporter": "python",
   "pygments_lexer": "ipython3",
   "version": "3.8.12"
  }
 },
 "nbformat": 4,
 "nbformat_minor": 5
}
